{
 "cells": [
  {
   "cell_type": "code",
   "execution_count": 2,
   "id": "07782046",
   "metadata": {},
   "outputs": [],
   "source": [
    "import re"
   ]
  },
  {
   "cell_type": "markdown",
   "id": "63c6976a",
   "metadata": {},
   "source": [
    "## Part 1"
   ]
  },
  {
   "cell_type": "code",
   "execution_count": 1,
   "id": "be666a0a",
   "metadata": {},
   "outputs": [],
   "source": [
    "text = open(\"../advent_of_code_input/2023/day_1.txt\", \"r\").readlines()"
   ]
  },
  {
   "cell_type": "code",
   "execution_count": 3,
   "id": "8512cc6c",
   "metadata": {},
   "outputs": [],
   "source": [
    "text = [i.split(\"\\n\")[0] for i in text]"
   ]
  },
  {
   "cell_type": "code",
   "execution_count": 4,
   "id": "006d8f34",
   "metadata": {},
   "outputs": [],
   "source": [
    "numbers = [re.sub(\"[^0-9]\", \"\", i) for i in text]"
   ]
  },
  {
   "cell_type": "code",
   "execution_count": 5,
   "id": "801bf950",
   "metadata": {},
   "outputs": [],
   "source": [
    "final = []\n",
    "\n",
    "for i in numbers:\n",
    "    \n",
    "    final.append(i[0]+i[-1])\n"
   ]
  },
  {
   "cell_type": "code",
   "execution_count": 6,
   "id": "d5ed06d6",
   "metadata": {},
   "outputs": [],
   "source": [
    "final_2 = [int(i) for i in final]"
   ]
  },
  {
   "cell_type": "code",
   "execution_count": 7,
   "id": "d445087b",
   "metadata": {},
   "outputs": [
    {
     "data": {
      "text/plain": [
       "56506"
      ]
     },
     "execution_count": 7,
     "metadata": {},
     "output_type": "execute_result"
    }
   ],
   "source": [
    "sum(final_2)"
   ]
  },
  {
   "cell_type": "markdown",
   "id": "ab3aa6cc",
   "metadata": {},
   "source": [
    "## Part 2"
   ]
  },
  {
   "cell_type": "code",
   "execution_count": 10,
   "id": "08d749e6",
   "metadata": {},
   "outputs": [],
   "source": [
    "text = open(\"../advent_of_code_input/2023/day_1.txt\", \"r\").readlines()\n",
    "text = [i.split(\"\\n\")[0] for i in text]"
   ]
  },
  {
   "cell_type": "code",
   "execution_count": 11,
   "id": "9b7ce92e",
   "metadata": {},
   "outputs": [],
   "source": [
    "_map = {\"one\":\"1\",\n",
    "     \"two\":\"2\",\n",
    "     \"three\":\"3\",\n",
    "     \"four\":\"4\",\n",
    "     \"five\":\"5\",\n",
    "     \"six\":\"6\",\n",
    "     \"seven\":\"7\",\n",
    "     \"eight\":\"8\",\n",
    "     \"nine\":\"9\"}"
   ]
  },
  {
   "cell_type": "code",
   "execution_count": 12,
   "id": "89b4e664",
   "metadata": {},
   "outputs": [],
   "source": [
    "test = [\"two1nine\",\n",
    "\"eightwothree\",\n",
    "\"abcone2threexyz\",\n",
    "\"xtwone3four\",\n",
    "\"4nineeightseven2\",\n",
    "\"zoneight234\",\n",
    "\"7pqrstsixteen\"]"
   ]
  },
  {
   "cell_type": "code",
   "execution_count": 13,
   "id": "7733d584",
   "metadata": {},
   "outputs": [],
   "source": [
    "def find_digits(s):\n",
    "    ans = []\n",
    "    l,r = 0, 1\n",
    "    \n",
    "    for l in range(len(s)):\n",
    "\n",
    "        r = l + 1\n",
    "        if s[l].isdigit():\n",
    "            ans.append(s[l])\n",
    "            continue\n",
    "\n",
    "        while r <= len(s):\n",
    "\n",
    "            if s[l:r] in _map.keys():\n",
    "                ans.append(_map[s[l:r]])\n",
    "                break\n",
    "\n",
    "            r += 1\n",
    "\n",
    "        l += 1\n",
    "        \n",
    "    return \"\".join(ans)"
   ]
  },
  {
   "cell_type": "code",
   "execution_count": 14,
   "id": "77c09cce",
   "metadata": {},
   "outputs": [],
   "source": [
    "test2 = [find_digits(i) for i in test]"
   ]
  },
  {
   "cell_type": "code",
   "execution_count": 15,
   "id": "93374fe0",
   "metadata": {},
   "outputs": [],
   "source": [
    "test3 = []\n",
    "\n",
    "for i in test2:\n",
    "    \n",
    "    test3.append(int(i[0]+i[-1]))"
   ]
  },
  {
   "cell_type": "code",
   "execution_count": 16,
   "id": "ee4488dd",
   "metadata": {},
   "outputs": [
    {
     "data": {
      "text/plain": [
       "281"
      ]
     },
     "execution_count": 16,
     "metadata": {},
     "output_type": "execute_result"
    }
   ],
   "source": [
    "sum(test3)"
   ]
  },
  {
   "cell_type": "code",
   "execution_count": 18,
   "id": "f13f19cf",
   "metadata": {},
   "outputs": [],
   "source": [
    "text2 = [find_digits(i) for i in text]\n",
    "\n",
    "text3 = []\n",
    "\n",
    "for i in text2:\n",
    "    \n",
    "    text3.append(int(i[0]+i[-1]))\n",
    "    \n",
    "result = sum(text3)"
   ]
  },
  {
   "cell_type": "code",
   "execution_count": 19,
   "id": "16d8cddb",
   "metadata": {},
   "outputs": [
    {
     "data": {
      "text/plain": [
       "56017"
      ]
     },
     "execution_count": 19,
     "metadata": {},
     "output_type": "execute_result"
    }
   ],
   "source": [
    "result"
   ]
  }
 ],
 "metadata": {
  "kernelspec": {
   "display_name": "Python 3 (ipykernel)",
   "language": "python",
   "name": "python3"
  },
  "language_info": {
   "codemirror_mode": {
    "name": "ipython",
    "version": 3
   },
   "file_extension": ".py",
   "mimetype": "text/x-python",
   "name": "python",
   "nbconvert_exporter": "python",
   "pygments_lexer": "ipython3",
   "version": "3.11.5"
  }
 },
 "nbformat": 4,
 "nbformat_minor": 5
}
