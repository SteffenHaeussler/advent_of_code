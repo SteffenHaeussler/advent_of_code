{
 "cells": [
  {
   "cell_type": "code",
   "execution_count": 1,
   "id": "5519a013",
   "metadata": {},
   "outputs": [],
   "source": [
    "from functools import cache\n",
    "\n",
    "from tqdm.auto import tqdm"
   ]
  },
  {
   "cell_type": "markdown",
   "id": "3a9d1a3a",
   "metadata": {},
   "source": [
    "## Part 1"
   ]
  },
  {
   "cell_type": "code",
   "execution_count": 2,
   "id": "3c922775",
   "metadata": {},
   "outputs": [],
   "source": [
    "test = [\n",
    "\"???.### 1,1,3\",\n",
    "\".??..??...?##. 1,1,3\",\n",
    "\"?#?#?#?#?#?#?#? 1,3,1,6\",\n",
    "\"????.#...#... 4,1,1\",\n",
    "\"????.######..#####. 1,6,5\",\n",
    "\"?###???????? 3,2,1\"\n",
    "]"
   ]
  },
  {
   "cell_type": "code",
   "execution_count": 3,
   "id": "efbfb3db",
   "metadata": {},
   "outputs": [],
   "source": [
    "def parse_input(data, multiply=0):\n",
    "    springs, arrangements = [], []\n",
    "\n",
    "    for row in data:\n",
    "        spring, arrangement = row.split()\n",
    "        arrangement = [int(i) for i in arrangement.split(\",\")]\n",
    "        \n",
    "        if multiply:\n",
    "            spring = \"?\".join([spring]*multiply)\n",
    "            arrangement = arrangement*multiply\n",
    "\n",
    "        springs.append(spring)\n",
    "        arrangements.append(arrangement)\n",
    "\n",
    "    return springs, arrangements"
   ]
  },
  {
   "cell_type": "code",
   "execution_count": 4,
   "id": "bc2bc31a",
   "metadata": {},
   "outputs": [],
   "source": [
    "def get_arrangement(spring):\n",
    "    \n",
    "    arr = []\n",
    "    prev = None\n",
    "    cnt = 0\n",
    "\n",
    "    for i in spring:\n",
    "\n",
    "        if i == \"#\":\n",
    "            cnt += 1\n",
    "        else:\n",
    "            if cnt:\n",
    "                arr.append(cnt)\n",
    "                cnt = 0\n",
    "\n",
    "    if cnt:\n",
    "        arr.append(cnt)\n",
    "        \n",
    "    return arr\n",
    "\n",
    "\n",
    "def get_combinations(spring):\n",
    "\n",
    "    res = []\n",
    "\n",
    "    mapping = {\"?\": \".#\",\n",
    "               \"#\": \"#\",\n",
    "               \".\": \".\"}\n",
    "\n",
    "    def backtrack(i, current):\n",
    "\n",
    "        if len(current) == len(spring):\n",
    "            res.append(current)\n",
    "            return None\n",
    "\n",
    "        for c in mapping[spring[i]]:\n",
    "            backtrack(i + 1, current + c)\n",
    "\n",
    "    if spring:\n",
    "        backtrack(0, \"\")\n",
    "\n",
    "    return res"
   ]
  },
  {
   "cell_type": "code",
   "execution_count": 5,
   "id": "7efd8744",
   "metadata": {},
   "outputs": [],
   "source": [
    "results = []\n",
    "springs, arrangements = parse_input(test)"
   ]
  },
  {
   "cell_type": "code",
   "execution_count": 6,
   "id": "b7724663",
   "metadata": {},
   "outputs": [],
   "source": [
    "for spring, arrangement in zip(springs, arrangements):\n",
    "    \n",
    "    result = 0\n",
    "    \n",
    "    candidates = get_combinations(spring)\n",
    "    \n",
    "    for candidate in candidates:\n",
    "        \n",
    "        arr = get_arrangement(candidate)\n",
    "        \n",
    "        if arr == arrangement:\n",
    "            result += 1\n",
    "            \n",
    "    results.append(result)"
   ]
  },
  {
   "cell_type": "code",
   "execution_count": 7,
   "id": "d709a2ff",
   "metadata": {},
   "outputs": [],
   "source": [
    "assert sum(results) == 21"
   ]
  },
  {
   "cell_type": "code",
   "execution_count": 8,
   "id": "3fd0ab88",
   "metadata": {},
   "outputs": [],
   "source": [
    "text = open(\"../advent_of_code_input/2023/day_12.txt\", \"r\").readlines()\n",
    "text = [i.split(\"\\n\")[0] for i in text]"
   ]
  },
  {
   "cell_type": "code",
   "execution_count": 9,
   "id": "8029dc3b",
   "metadata": {},
   "outputs": [],
   "source": [
    "results = []\n",
    "springs, arrangements = parse_input(text)"
   ]
  },
  {
   "cell_type": "code",
   "execution_count": 10,
   "id": "ef260b43",
   "metadata": {},
   "outputs": [
    {
     "data": {
      "application/vnd.jupyter.widget-view+json": {
       "model_id": "3c3822ef0f2a4492b8ee340f0d303b3c",
       "version_major": 2,
       "version_minor": 0
      },
      "text/plain": [
       "0it [00:00, ?it/s]"
      ]
     },
     "metadata": {},
     "output_type": "display_data"
    }
   ],
   "source": [
    "for spring, arrangement in tqdm(zip(springs, arrangements)):\n",
    "    \n",
    "    result = 0\n",
    "    \n",
    "    candidates = get_combinations(spring)\n",
    "    \n",
    "    for candidate in candidates:\n",
    "        \n",
    "        arr = get_arrangement(candidate)\n",
    "        \n",
    "        if arr == arrangement:\n",
    "            result += 1\n",
    "            \n",
    "    results.append(result)"
   ]
  },
  {
   "cell_type": "code",
   "execution_count": 11,
   "id": "8d7591b0",
   "metadata": {},
   "outputs": [
    {
     "data": {
      "text/plain": [
       "7541"
      ]
     },
     "execution_count": 11,
     "metadata": {},
     "output_type": "execute_result"
    }
   ],
   "source": [
    "sum(results)"
   ]
  },
  {
   "cell_type": "markdown",
   "id": "36268033",
   "metadata": {},
   "source": [
    "## Part 2"
   ]
  },
  {
   "cell_type": "markdown",
   "id": "7baf5a83",
   "metadata": {},
   "source": [
    "Thanks to everyone, who shared their solution on reddit. I wasn't able to solve this problem in a sufficient time, so I took a gaze on other implementations before I went to sleep. Special thanks to [AlbertVeli](https://www.reddit.com/r/adventofcode/comments/18ge41g/comment/kd2iub0/?utm_source=share&utm_medium=web2x&context=3). I used his solution for orientation. "
   ]
  },
  {
   "cell_type": "code",
   "execution_count": 12,
   "id": "cb6e7b82",
   "metadata": {},
   "outputs": [],
   "source": [
    "test = [\n",
    "\"???.### 1,1,3\",\n",
    "\".??..??...?##. 1,1,3\",\n",
    "\"?#?#?#?#?#?#?#? 1,3,1,6\",\n",
    "\"????.#...#... 4,1,1\",\n",
    "\"????.######..#####. 1,6,5\",\n",
    "\"?###???????? 3,2,1\"\n",
    "]"
   ]
  },
  {
   "cell_type": "code",
   "execution_count": 13,
   "id": "b3ed168d",
   "metadata": {},
   "outputs": [],
   "source": [
    "@cache\n",
    "def validate_arrangement(spring, arrangement, cnt):\n",
    "    \n",
    "    #base case\n",
    "    if len(spring)==0:\n",
    "        \n",
    "        if len(arrangement) ==0 and cnt == 0:\n",
    "            return 1\n",
    "        \n",
    "        elif len(arrangement) == 1 and cnt == arrangement[0]:\n",
    "            return 1\n",
    "        else:\n",
    "            return 0\n",
    "    \n",
    "    # general exit conditions\n",
    "    if len(arrangement) == 1 and cnt > arrangement[0]:\n",
    "        return 0\n",
    "    if len(arrangement) == 0 and cnt > 0:\n",
    "        return 0\n",
    "    \n",
    "    n = 0\n",
    "    start = spring[0]\n",
    "    \n",
    "    # conditions for different characters\n",
    "    if start == \"#\" or start == \"?\":\n",
    "        \n",
    "        n += validate_arrangement(spring[1:],arrangement, cnt + 1)\n",
    "        \n",
    "    # another if, so both cases for a ? can be used\n",
    "    if start == \".\" or start == \"?\":\n",
    "        \n",
    "        if cnt == 0:\n",
    "            n += validate_arrangement(spring[1:],arrangement,0)\n",
    "            \n",
    "        elif arrangement and arrangement[0] == cnt:\n",
    "        \n",
    "            n += validate_arrangement(spring[1:],arrangement[1:],0)\n",
    "\n",
    "    return n"
   ]
  },
  {
   "cell_type": "code",
   "execution_count": 14,
   "id": "ab275022",
   "metadata": {},
   "outputs": [],
   "source": [
    "results = []\n",
    "springs, arrangements = parse_input(test, 5)"
   ]
  },
  {
   "cell_type": "code",
   "execution_count": 15,
   "id": "e4921459",
   "metadata": {},
   "outputs": [],
   "source": [
    "for spring, arrangement in zip(springs, arrangements):\n",
    "    \n",
    "    result = validate_arrangement(spring, tuple(arrangement),0)\n",
    "    results.append(result)"
   ]
  },
  {
   "cell_type": "code",
   "execution_count": 16,
   "id": "2b865002",
   "metadata": {},
   "outputs": [],
   "source": [
    "assert sum(results) == 525152"
   ]
  },
  {
   "cell_type": "code",
   "execution_count": 17,
   "id": "272e60b5",
   "metadata": {},
   "outputs": [],
   "source": [
    "text = open(\"../advent_of_code_input/2023/day_12.txt\", \"r\").readlines()\n",
    "text = [i.split(\"\\n\")[0] for i in text]"
   ]
  },
  {
   "cell_type": "code",
   "execution_count": 18,
   "id": "dc858dfa",
   "metadata": {},
   "outputs": [],
   "source": [
    "results = []\n",
    "springs, arrangements = parse_input(text, 5)"
   ]
  },
  {
   "cell_type": "code",
   "execution_count": 19,
   "id": "b2b04033",
   "metadata": {},
   "outputs": [
    {
     "data": {
      "application/vnd.jupyter.widget-view+json": {
       "model_id": "77670f6e11f3479e9558383433a5db7d",
       "version_major": 2,
       "version_minor": 0
      },
      "text/plain": [
       "0it [00:00, ?it/s]"
      ]
     },
     "metadata": {},
     "output_type": "display_data"
    }
   ],
   "source": [
    "for spring, arrangement in tqdm(zip(springs, arrangements)):\n",
    "    \n",
    "    result = validate_arrangement(spring, tuple(arrangement),0)\n",
    "    results.append(result)"
   ]
  },
  {
   "cell_type": "code",
   "execution_count": 20,
   "id": "e165c455",
   "metadata": {},
   "outputs": [
    {
     "data": {
      "text/plain": [
       "17485169859432"
      ]
     },
     "execution_count": 20,
     "metadata": {},
     "output_type": "execute_result"
    }
   ],
   "source": [
    "sum(results)"
   ]
  },
  {
   "cell_type": "code",
   "execution_count": null,
   "id": "0539d29c",
   "metadata": {},
   "outputs": [],
   "source": []
  }
 ],
 "metadata": {
  "kernelspec": {
   "display_name": "Python 3 (ipykernel)",
   "language": "python",
   "name": "python3"
  },
  "language_info": {
   "codemirror_mode": {
    "name": "ipython",
    "version": 3
   },
   "file_extension": ".py",
   "mimetype": "text/x-python",
   "name": "python",
   "nbconvert_exporter": "python",
   "pygments_lexer": "ipython3",
   "version": "3.11.5"
  }
 },
 "nbformat": 4,
 "nbformat_minor": 5
}
