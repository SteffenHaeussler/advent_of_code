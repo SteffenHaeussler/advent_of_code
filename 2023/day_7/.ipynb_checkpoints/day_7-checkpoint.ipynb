{
 "cells": [
  {
   "cell_type": "markdown",
   "id": "3a9d1a3a",
   "metadata": {},
   "source": [
    "## Part 1"
   ]
  },
  {
   "cell_type": "code",
   "execution_count": 1,
   "id": "3c922775",
   "metadata": {},
   "outputs": [],
   "source": [
    "test = [\n",
    "\"32T3K 765\",\n",
    "\"T55J5 684\",\n",
    "\"KK677 28\",\n",
    "\"KTJJT 220\",\n",
    "\"QQQJA 483\",\n",
    "]"
   ]
  },
  {
   "cell_type": "code",
   "execution_count": 2,
   "id": "95914cf0",
   "metadata": {},
   "outputs": [
    {
     "data": {
      "text/plain": [
       "['32T3K 765', 'T55J5 684', 'KK677 28', 'KTJJT 220', 'QQQJA 483']"
      ]
     },
     "execution_count": 2,
     "metadata": {},
     "output_type": "execute_result"
    }
   ],
   "source": [
    "test"
   ]
  },
  {
   "cell_type": "code",
   "execution_count": 3,
   "id": "b51df541",
   "metadata": {},
   "outputs": [],
   "source": [
    "card_vals = {str(i):i for i in range(1, 10)} | {\"T\": 10, 'J': 11, 'Q': 12, 'K': 13, 'A': 14}\n",
    "\n",
    "\n",
    "def counter(cards):\n",
    "    cnt = {}\n",
    "    for card in cards:\n",
    "        cnt[card] = cnt.get(card,0)+1\n",
    "    return cnt\n",
    "\n",
    "\n",
    "def card_type(cards):\n",
    "    \n",
    "    hand_type = 0\n",
    "    \n",
    "    cnt = counter(cards)\n",
    "    \n",
    "    # five of a kind\n",
    "    if len(cnt) == 1: \n",
    "        hand_type = 6\n",
    "    # four of a kind\n",
    "    elif len(cnt) == 2 and 4 in cnt.values():\n",
    "        hand_type = 5\n",
    "    # full house\n",
    "    elif len(cnt) == 2 and 3 in cnt.values():\n",
    "        hand_type = 4\n",
    "    # three of a kind\n",
    "    elif len(cnt) == 3 and 3 in cnt.values():\n",
    "        hand_type = 3\n",
    "    # two pair\n",
    "    elif len(cnt) == 3 and 2 in cnt.values():\n",
    "        hand_type = 2\n",
    "    # one piar\n",
    "    elif len(cnt) == 4:\n",
    "        hand_type = 1\n",
    "    \n",
    "    return hand_type\n",
    "\n",
    "\n",
    "def compare_cards(cards):\n",
    "    \n",
    "    return [[card_vals[card] for card in cards]]"
   ]
  },
  {
   "cell_type": "code",
   "execution_count": 4,
   "id": "9056e435",
   "metadata": {},
   "outputs": [],
   "source": [
    "cards = []\n",
    "\n",
    "for i in test:\n",
    "    card, bid = i.split()\n",
    "    hand_type = card_type(card)\n",
    "    cards.append([card, bid, hand_type])"
   ]
  },
  {
   "cell_type": "code",
   "execution_count": 5,
   "id": "4176af38",
   "metadata": {},
   "outputs": [],
   "source": [
    "cards = sorted(cards, key=lambda x: (x[2], compare_cards(x[0])))\n",
    "answer = 0\n",
    "\n",
    "for i, (_, bid, _) in enumerate(cards,1):\n",
    "    \n",
    "    answer += i*int(bid)    \n"
   ]
  },
  {
   "cell_type": "code",
   "execution_count": 6,
   "id": "885f3f90",
   "metadata": {},
   "outputs": [],
   "source": [
    "assert answer == 6440"
   ]
  },
  {
   "cell_type": "code",
   "execution_count": 7,
   "id": "3fd0ab88",
   "metadata": {},
   "outputs": [],
   "source": [
    "text = open(\"../advent_of_code_input/2023/day_7.txt\", \"r\").readlines()\n",
    "text = [i.split(\"\\n\")[0] for i in text]"
   ]
  },
  {
   "cell_type": "code",
   "execution_count": 8,
   "id": "f13187cd",
   "metadata": {},
   "outputs": [],
   "source": [
    "cards = []\n",
    "\n",
    "for i in text:\n",
    "    card, bid = i.split()\n",
    "    hand_type = card_type(card)\n",
    "    cards.append([card, bid, hand_type])"
   ]
  },
  {
   "cell_type": "code",
   "execution_count": 9,
   "id": "060ab9bd",
   "metadata": {},
   "outputs": [],
   "source": [
    "cards = sorted(cards, key=lambda x: (x[2], compare_cards(x[0])))\n",
    "answer = 0\n",
    "\n",
    "for i, (_, bid, _) in enumerate(cards,1):\n",
    "    \n",
    "    answer += i*int(bid)    "
   ]
  },
  {
   "cell_type": "code",
   "execution_count": 10,
   "id": "89244dda",
   "metadata": {},
   "outputs": [
    {
     "data": {
      "text/plain": [
       "250946742"
      ]
     },
     "execution_count": 10,
     "metadata": {},
     "output_type": "execute_result"
    }
   ],
   "source": [
    "answer"
   ]
  },
  {
   "cell_type": "markdown",
   "id": "9848e764",
   "metadata": {},
   "source": [
    "## Part 2"
   ]
  },
  {
   "cell_type": "code",
   "execution_count": 11,
   "id": "716765f0",
   "metadata": {},
   "outputs": [],
   "source": [
    "test = [\n",
    "\"32T3K 765\",\n",
    "\"T55J5 684\",\n",
    "\"KK677 28\",\n",
    "\"KTJJT 220\",\n",
    "\"QQQJA 483\",\n",
    "]"
   ]
  },
  {
   "cell_type": "code",
   "execution_count": 12,
   "id": "bd54f5d6",
   "metadata": {},
   "outputs": [],
   "source": [
    "card_vals = {str(i):i for i in range(1, 10)} | {\"T\": 10, 'J': 1, 'Q': 12, 'K': 13, 'A': 14}\n",
    "\n",
    "\n",
    "def counter(cards):\n",
    "    cnt = {}\n",
    "    for card in cards:\n",
    "        cnt[card] = cnt.get(card,0)+1\n",
    "    return cnt\n",
    "\n",
    "\n",
    "def card_type(cards):\n",
    "    \n",
    "    hand_type = 0\n",
    "    \n",
    "    cnt = counter(cards)\n",
    "    \n",
    "    cnt = update_jokers(cnt)\n",
    "    \n",
    "    # five of a kind\n",
    "    if len(cnt) == 1: \n",
    "        hand_type = 6\n",
    "    # four of a kind\n",
    "    elif len(cnt) == 2 and 4 in cnt.values():\n",
    "        hand_type = 5\n",
    "    # full house\n",
    "    elif len(cnt) == 2 and 3 in cnt.values():\n",
    "        hand_type = 4\n",
    "    # three of a kind\n",
    "    elif len(cnt) == 3 and 3 in cnt.values():\n",
    "        hand_type = 3\n",
    "    # two pair\n",
    "    elif len(cnt) == 3 and 2 in cnt.values():\n",
    "        hand_type = 2\n",
    "    # one piar\n",
    "    elif len(cnt) == 4:\n",
    "        hand_type = 1\n",
    "    \n",
    "    return hand_type\n",
    "\n",
    "\n",
    "def compare_cards(cards):\n",
    "    \n",
    "    return [[card_vals[card] for card in cards]]\n",
    "\n",
    "\n",
    "def update_jokers(cnt):\n",
    "    \n",
    "    if \"J\" not in cnt:\n",
    "        return cnt\n",
    "    \n",
    "    val = cnt.pop(\"J\")\n",
    "    if val == 5:\n",
    "        max_type, _ = max(card_vals.items(), key=lambda x: x[1]) \n",
    "    else:\n",
    "        max_type, _ = max(cnt.items(), key=lambda x: (x[1], compare_cards(x[0])))\n",
    "        \n",
    "    cnt[max_type] = cnt.get(max_type,0) + val\n",
    "        \n",
    "    return cnt"
   ]
  },
  {
   "cell_type": "code",
   "execution_count": 13,
   "id": "77824029",
   "metadata": {},
   "outputs": [],
   "source": [
    "cards = []\n",
    "\n",
    "for i in test:\n",
    "    card, bid = i.split()\n",
    "    hand_type = card_type(card)\n",
    "    cards.append([card, bid, hand_type])"
   ]
  },
  {
   "cell_type": "code",
   "execution_count": 14,
   "id": "1106e41a",
   "metadata": {},
   "outputs": [],
   "source": [
    "cards = sorted(cards, key=lambda x: (x[2], compare_cards(x[0])))\n",
    "answer = 0\n",
    "\n",
    "for i, (_, bid, _) in enumerate(cards,1):\n",
    "    \n",
    "    answer += i*int(bid)    "
   ]
  },
  {
   "cell_type": "code",
   "execution_count": 15,
   "id": "28cb7d69",
   "metadata": {},
   "outputs": [],
   "source": [
    "assert answer == 5905"
   ]
  },
  {
   "cell_type": "code",
   "execution_count": 16,
   "id": "8512cc6c",
   "metadata": {},
   "outputs": [],
   "source": [
    "text = open(\"../advent_of_code_input/2023/day_7.txt\", \"r\").readlines()\n",
    "text = [i.split(\"\\n\")[0] for i in text]"
   ]
  },
  {
   "cell_type": "code",
   "execution_count": 17,
   "id": "9ab4df2a",
   "metadata": {},
   "outputs": [],
   "source": [
    "cards = []\n",
    "\n",
    "for i in text:\n",
    "    card, bid = i.split()\n",
    "    hand_type = card_type(card)\n",
    "    cards.append([card, bid, hand_type])"
   ]
  },
  {
   "cell_type": "code",
   "execution_count": 18,
   "id": "07449e1a",
   "metadata": {},
   "outputs": [],
   "source": [
    "cards = sorted(cards, key=lambda x: (x[2], compare_cards(x[0])))\n",
    "answer = 0\n",
    "\n",
    "for i, (_, bid, _) in enumerate(cards,1):\n",
    "    \n",
    "    answer += i*int(bid)    "
   ]
  },
  {
   "cell_type": "code",
   "execution_count": 19,
   "id": "89712b75",
   "metadata": {},
   "outputs": [
    {
     "data": {
      "text/plain": [
       "251824095"
      ]
     },
     "execution_count": 19,
     "metadata": {},
     "output_type": "execute_result"
    }
   ],
   "source": [
    "answer"
   ]
  },
  {
   "cell_type": "code",
   "execution_count": null,
   "id": "c758a26a",
   "metadata": {},
   "outputs": [],
   "source": []
  }
 ],
 "metadata": {
  "kernelspec": {
   "display_name": "Python 3 (ipykernel)",
   "language": "python",
   "name": "python3"
  },
  "language_info": {
   "codemirror_mode": {
    "name": "ipython",
    "version": 3
   },
   "file_extension": ".py",
   "mimetype": "text/x-python",
   "name": "python",
   "nbconvert_exporter": "python",
   "pygments_lexer": "ipython3",
   "version": "3.11.5"
  }
 },
 "nbformat": 4,
 "nbformat_minor": 5
}
