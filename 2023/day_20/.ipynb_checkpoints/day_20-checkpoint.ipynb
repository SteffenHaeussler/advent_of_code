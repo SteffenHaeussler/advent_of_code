{
 "cells": [
  {
   "cell_type": "code",
   "execution_count": 1,
   "id": "73ec1bcd",
   "metadata": {},
   "outputs": [],
   "source": [
    "from collections import deque\n",
    "from itertools import count\n",
    "from math import lcm"
   ]
  },
  {
   "cell_type": "markdown",
   "id": "3a9d1a3a",
   "metadata": {},
   "source": [
    "## Part 1"
   ]
  },
  {
   "cell_type": "code",
   "execution_count": 2,
   "id": "3c922775",
   "metadata": {},
   "outputs": [],
   "source": [
    "test = [\n",
    "\"broadcaster -> a, b, c\",\n",
    "\"%a -> b\",\n",
    "\"%b -> c\",\n",
    "\"%c -> inv\",\n",
    "\"&inv -> a\",]\n",
    "\n",
    "test2 = [\n",
    "    \"broadcaster -> a\",\n",
    "\"%a -> inv, con\",\n",
    "\"&inv -> b\",\n",
    "\"%b -> con\",\n",
    "\"&con -> output\"\n",
    "        ]"
   ]
  },
  {
   "cell_type": "code",
   "execution_count": 3,
   "id": "96070e22",
   "metadata": {},
   "outputs": [],
   "source": [
    "def prepare_data(text):\n",
    "    _map = {}\n",
    "    conjunctions = {}\n",
    "    flops = {}\n",
    "\n",
    "    for row in text:\n",
    "        module_name, dests = row.replace(\" \",\"\").split(\"->\")\n",
    "        dests = dests.split(\",\")\n",
    "\n",
    "        if module_name[0] in \"%\":\n",
    "            prefix, module_name = module_name[0], module_name[1:]\n",
    "            flops[module_name] = False\n",
    "        elif module_name[0] in \"&\":\n",
    "            prefix, module_name = module_name[0], module_name[1:]\n",
    "            conjunctions[module_name]= {}\n",
    "            \n",
    "        _map[module_name] = dests\n",
    "                    \n",
    "    for module_name, dests in _map.items():\n",
    "        for dest in dests:\n",
    "            if dest in conjunctions:\n",
    "                conjunctions[dest][module_name] = False\n",
    "            \n",
    "    return _map, conjunctions, flops"
   ]
  },
  {
   "cell_type": "code",
   "execution_count": 4,
   "id": "ea39e9c2",
   "metadata": {},
   "outputs": [],
   "source": [
    "def run_cycle(counts, _map):\n",
    "    q = deque([[\"broadcaster\", False]])\n",
    "\n",
    "    while q:\n",
    "\n",
    "        module, beam = q.popleft()\n",
    "        counts[beam] = counts.get(beam,0) + 1\n",
    "\n",
    "        dests, prefix, state = _map[module]\n",
    "\n",
    "        if prefix is None:\n",
    "            for dest in dests:\n",
    "                q.append([dest, beam])\n",
    "\n",
    "        if prefix == \"%\":\n",
    "            if not beam:\n",
    "                state = not state\n",
    "                beam = state\n",
    "\n",
    "                for dest in dests:\n",
    "                    q.append([dest, beam])\n",
    "\n",
    "        elif prefix == \"&\":\n",
    "            _map[module] = ([dest], prefix, beam)\n",
    "\n",
    "            beam = not all([_map[name][2] for name in conjunction])\n",
    "\n",
    "            for dest in dests:\n",
    "                q.append([dest, beam])\n",
    "\n",
    "    return counts, _map"
   ]
  },
  {
   "cell_type": "code",
   "execution_count": 5,
   "id": "ba809a05",
   "metadata": {},
   "outputs": [],
   "source": [
    "def run_cycle(_map, conjunctions, flops, counts):\n",
    "    q = deque([('button', 'broadcaster', False)])\n",
    "\n",
    "    while q:\n",
    "        module_src, module_dst, beam = q.popleft()\n",
    "        counts[beam] = counts.get(beam,0) + 1\n",
    "        \n",
    "        if module_dst in flops:\n",
    "            if beam:\n",
    "                continue\n",
    "            next_beam = flops[module_dst] = not flops[module_dst]\n",
    "\n",
    "        elif module_dst in conjunctions:\n",
    "            conjunctions[module_dst][module_src] = beam\n",
    "            next_beam = not all(conjunctions[module_dst].values())\n",
    "    \n",
    "        elif module_dst in _map:\n",
    "            next_beam = beam\n",
    "\n",
    "        else:\n",
    "            continue\n",
    "\n",
    "        for next_dst in _map[module_dst]:\n",
    "            q.append([module_dst, next_dst, next_beam])\n",
    "\n",
    "    return counts\n"
   ]
  },
  {
   "cell_type": "code",
   "execution_count": 6,
   "id": "d16d9e7e",
   "metadata": {},
   "outputs": [],
   "source": [
    "counts = {}\n",
    "_map, conjunctions, flops = prepare_data(test)\n",
    "\n",
    "for _ in range(1000):\n",
    "    counts = run_cycle(_map, conjunctions, flops, counts)\n",
    "    \n",
    "result = counts[False]*counts[True]\n",
    "assert result == 32000000"
   ]
  },
  {
   "cell_type": "code",
   "execution_count": 7,
   "id": "52bd1695",
   "metadata": {},
   "outputs": [],
   "source": [
    "counts = {}\n",
    "_map, conjunctions, flops = prepare_data(test2)\n",
    "\n",
    "for _ in range(1000):\n",
    "    counts = run_cycle(_map, conjunctions, flops, counts)\n",
    "    \n",
    "result = counts[False]*counts[True]\n",
    "assert result == 11687500"
   ]
  },
  {
   "cell_type": "code",
   "execution_count": 8,
   "id": "72b24808",
   "metadata": {},
   "outputs": [],
   "source": [
    "text = open(\"../advent_of_code_input/2023/day_20.txt\", \"r\").readlines()\n",
    "text = [i.split(\"\\n\")[0] for i in text]"
   ]
  },
  {
   "cell_type": "code",
   "execution_count": 9,
   "id": "63264be2",
   "metadata": {},
   "outputs": [
    {
     "data": {
      "text/plain": [
       "1020211150"
      ]
     },
     "execution_count": 9,
     "metadata": {},
     "output_type": "execute_result"
    }
   ],
   "source": [
    "counts = {}\n",
    "_map, conjunctions, flops = prepare_data(text)\n",
    "\n",
    "for _ in range(1000):\n",
    "    counts = run_cycle(_map, conjunctions, flops, counts)\n",
    "    \n",
    "result = counts[False]*counts[True]\n",
    "result"
   ]
  },
  {
   "cell_type": "markdown",
   "id": "fa67fe8b",
   "metadata": {},
   "source": [
    "## Part 2"
   ]
  },
  {
   "cell_type": "markdown",
   "id": "dc07905d",
   "metadata": {},
   "source": [
    "shameless copy from [reddit](https://www.reddit.com/r/adventofcode/comments/18mmfxb/comment/ke5f13d/?utm_source=share&utm_medium=web2x&context=3)"
   ]
  },
  {
   "cell_type": "code",
   "execution_count": 10,
   "id": "9dce2f8f",
   "metadata": {},
   "outputs": [],
   "source": [
    "def find_cycle(_map, conjunctions, flops):\n",
    "    \n",
    "    useful = set()\n",
    "    \n",
    "    for module_src_rx, module_dst in _map.items():\n",
    "        if module_dst == ['rx']:\n",
    "            assert module_src_rx in conjunctions\n",
    "            break\n",
    "\n",
    "    for module_src, module_dst in _map.items():\n",
    "        if module_src_rx in module_dst:\n",
    "            assert module_src in conjunctions\n",
    "            useful.add(module_src)\n",
    "\n",
    "    for iteration in count(1):\n",
    "        q = deque([('button', 'broadcaster', False)])\n",
    "\n",
    "        while q:\n",
    "            module_src, module_dst, beam = q.popleft()\n",
    "            \n",
    "            if not beam:\n",
    "                if module_dst in useful:\n",
    "                    yield iteration\n",
    "\n",
    "                    useful.discard(module_dst)\n",
    "                    if not useful:\n",
    "                        return\n",
    "\n",
    "            if module_dst in flops:\n",
    "                if beam:\n",
    "                    continue\n",
    "                next_beam = flops[module_dst] = not flops[module_dst]\n",
    "\n",
    "            elif module_dst in conjunctions:\n",
    "                conjunctions[module_dst][module_src] = beam\n",
    "                next_beam = not all(conjunctions[module_dst].values())\n",
    "\n",
    "            elif module_dst in _map:\n",
    "                next_beam = beam\n",
    "\n",
    "            else:\n",
    "                continue\n",
    "\n",
    "            for next_dst in _map[module_dst]:\n",
    "                q.append([module_dst, next_dst, next_beam])"
   ]
  },
  {
   "cell_type": "code",
   "execution_count": 11,
   "id": "ec59ddcb",
   "metadata": {},
   "outputs": [
    {
     "data": {
      "text/plain": [
       "238815727638557"
      ]
     },
     "execution_count": 11,
     "metadata": {},
     "output_type": "execute_result"
    }
   ],
   "source": [
    "_map, conjunctions, flops = prepare_data(text)\n",
    "cycles = list(find_cycle(_map, conjunctions, flops))\n",
    "result = lcm(*cycles)\n",
    "result"
   ]
  }
 ],
 "metadata": {
  "kernelspec": {
   "display_name": "Python 3 (ipykernel)",
   "language": "python",
   "name": "python3"
  },
  "language_info": {
   "codemirror_mode": {
    "name": "ipython",
    "version": 3
   },
   "file_extension": ".py",
   "mimetype": "text/x-python",
   "name": "python",
   "nbconvert_exporter": "python",
   "pygments_lexer": "ipython3",
   "version": "3.11.5"
  }
 },
 "nbformat": 4,
 "nbformat_minor": 5
}
