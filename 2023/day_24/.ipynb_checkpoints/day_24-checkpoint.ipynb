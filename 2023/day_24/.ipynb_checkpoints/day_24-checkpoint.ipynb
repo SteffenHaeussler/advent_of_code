{
 "cells": [
  {
   "cell_type": "markdown",
   "id": "3a9d1a3a",
   "metadata": {},
   "source": [
    "## Part 1"
   ]
  },
  {
   "cell_type": "code",
   "execution_count": 1,
   "id": "3c922775",
   "metadata": {},
   "outputs": [],
   "source": [
    "test = [\n",
    "\"19, 13, 30 @ -2,  1, -2\",\n",
    "\"18, 19, 22 @ -1, -1, -2\",\n",
    "\"20, 25, 34 @ -2, -2, -4\",\n",
    "\"12, 31, 28 @ -1, -2, -1\",\n",
    "\"20, 19, 15 @  1, -5, -3\",\n",
    "]"
   ]
  },
  {
   "cell_type": "code",
   "execution_count": 2,
   "id": "a11e8ba8-478d-4669-ae4c-3178b91c7e1d",
   "metadata": {},
   "outputs": [],
   "source": [
    "def get_points(text):\n",
    "    points= []\n",
    "    \n",
    "    for row in text:\n",
    "        coords, velocity = row.split(\"@\")\n",
    "    \n",
    "        coords = [int(coord) for coord in coords.split(\",\")]\n",
    "        velocity = [int(v) for v in velocity.split(\",\")]\n",
    "    \n",
    "        points.append(coords+velocity)\n",
    "\n",
    "    return points"
   ]
  },
  {
   "cell_type": "code",
   "execution_count": 3,
   "id": "a2dc458b-5e5a-439e-9b34-db8926aabb5c",
   "metadata": {},
   "outputs": [],
   "source": [
    "def det(x1,y1,x2,y2):\n",
    "\n",
    "    return x1*y2-x2*y1"
   ]
  },
  {
   "cell_type": "code",
   "execution_count": 4,
   "id": "69218bfa-1d24-4221-b0fd-3f96c6c42a8d",
   "metadata": {},
   "outputs": [],
   "source": [
    "def get_intersection(p1, p2):\n",
    "\n",
    "    x1, y1, _, x1_diff, y1_diff, _ = p1\n",
    "    x2, y2, _, x2_diff, y2_diff, _ = p2\n",
    "\n",
    "    div = det(x1_diff,y1_diff,x2_diff,y2_diff)\n",
    "\n",
    "    if div == 0:\n",
    "        return [None, None]\n",
    "\n",
    "    d = (det(x1,y1,x1-x1_diff,y1-y1_diff), det(x2,y2,x2-x2_diff,y2-y2_diff))\n",
    "\n",
    "    x = det(*d, x1_diff, x2_diff) / div\n",
    "    y = det(*d, y1_diff, y2_diff) / div\n",
    "\n",
    "    return [x,y]"
   ]
  },
  {
   "cell_type": "code",
   "execution_count": 5,
   "id": "21fa5e80-9461-4d2b-ae2a-99d65d0878e9",
   "metadata": {},
   "outputs": [],
   "source": [
    "def time_distance(p1, p2):\n",
    "\n",
    "    x1, y1, _, x1_diff, y1_diff, _ = p1\n",
    "    x2, y2 = p2\n",
    "\n",
    "    return [(x2-x1)/x1_diff, (y2-y1)/y1_diff]"
   ]
  },
  {
   "cell_type": "code",
   "execution_count": 9,
   "id": "09e61dd8-1370-4cd1-b792-177636e05bf8",
   "metadata": {},
   "outputs": [],
   "source": [
    "def get_intersections(points):\n",
    "    \n",
    "    intersections = []\n",
    "\n",
    "    for i in range(len(points)-1):\n",
    "        for j in range(i+1,len(points)):\n",
    "            intersection = get_intersection(points[i],points[j])\n",
    "    \n",
    "            if intersection[0] is None:\n",
    "                intersections.append([None])\n",
    "                continue\n",
    "                \n",
    "            time_1 = time_distance(points[i], intersection)\n",
    "            time_2 = time_distance(points[j], intersection)\n",
    "    \n",
    "            intersections.append([intersection, time_1, time_2])\n",
    "\n",
    "    return intersections"
   ]
  },
  {
   "cell_type": "code",
   "execution_count": 10,
   "id": "51f2facb-649f-4b8b-a3cd-b073540744fd",
   "metadata": {},
   "outputs": [],
   "source": [
    "def check_intersections(intersections, test_area):\n",
    "    \n",
    "    inside_area = []\n",
    "\n",
    "    for i in intersections:\n",
    "        if not i[0]:\n",
    "            continue\n",
    "        \n",
    "        intersection, time_p1, time_p2 = i\n",
    "        \n",
    "        if not all(i>=0 for i in time_p1):\n",
    "            continue\n",
    "            \n",
    "        if not all(i>=0 for i in time_p2):\n",
    "            continue\n",
    "    \n",
    "        if (test_area[0] <= intersection[0] <= test_area[2]) and (test_area[1] <= intersection[1] <= test_area[3]):\n",
    "            inside_area.append(intersection)\n",
    "\n",
    "    return inside_area"
   ]
  },
  {
   "cell_type": "code",
   "execution_count": 11,
   "id": "93b4e38d-b659-4b18-b187-4eaec97e68da",
   "metadata": {},
   "outputs": [],
   "source": [
    "test_area = [7,7,27,27]\n",
    "points = get_points(test)\n",
    "intersections = get_intersections(points)\n",
    "inside_area = check_intersections(intersections, test_area)"
   ]
  },
  {
   "cell_type": "code",
   "execution_count": 12,
   "id": "cac7b338-e598-431f-96da-c6cd04a5d8f9",
   "metadata": {},
   "outputs": [],
   "source": [
    "assert len(inside_area) == 2"
   ]
  },
  {
   "cell_type": "code",
   "execution_count": 13,
   "id": "a77321b4",
   "metadata": {},
   "outputs": [],
   "source": [
    "text = open(\"../advent_of_code_input/2023/day_24.txt\", \"r\").readlines()\n",
    "text = [i.split(\"\\n\")[0] for i in text]"
   ]
  },
  {
   "cell_type": "code",
   "execution_count": 16,
   "id": "620697ec",
   "metadata": {},
   "outputs": [],
   "source": [
    "test_area = [200000000000000, 200000000000000, 400000000000000, 400000000000000]\n",
    "points = get_points(text)\n",
    "intersections = get_intersections(points)\n",
    "inside_area = check_intersections(intersections, test_area)"
   ]
  },
  {
   "cell_type": "code",
   "execution_count": 17,
   "id": "6f0399c5-0b02-44d2-800a-de71b056c4b9",
   "metadata": {},
   "outputs": [
    {
     "data": {
      "text/plain": [
       "20963"
      ]
     },
     "execution_count": 17,
     "metadata": {},
     "output_type": "execute_result"
    }
   ],
   "source": [
    "len(inside_area)"
   ]
  },
  {
   "cell_type": "markdown",
   "id": "7f1f0839-1408-454f-bb25-67e4f32d8413",
   "metadata": {},
   "source": [
    "## Part 2"
   ]
  },
  {
   "cell_type": "code",
   "execution_count": 128,
   "id": "8d16a802-6561-425b-9098-19e76cd3e091",
   "metadata": {},
   "outputs": [],
   "source": [
    "points = get_points(test)\n"
   ]
  },
  {
   "cell_type": "code",
   "execution_count": 129,
   "id": "55078b48-7aae-4c48-97d3-3df9dcb30fb7",
   "metadata": {},
   "outputs": [
    {
     "data": {
      "text/plain": [
       "[[19, 13, 30, -2, 1, -2],\n",
       " [18, 19, 22, -1, -1, -2],\n",
       " [20, 25, 34, -2, -2, -4],\n",
       " [12, 31, 28, -1, -2, -1],\n",
       " [20, 19, 15, 1, -5, -3]]"
      ]
     },
     "execution_count": 129,
     "metadata": {},
     "output_type": "execute_result"
    }
   ],
   "source": [
    "points"
   ]
  },
  {
   "cell_type": "code",
   "execution_count": null,
   "id": "3e6c48cf-59e5-4822-bb94-9f861126b3de",
   "metadata": {},
   "outputs": [],
   "source": []
  }
 ],
 "metadata": {
  "kernelspec": {
   "display_name": "Python 3 (ipykernel)",
   "language": "python",
   "name": "python3"
  },
  "language_info": {
   "codemirror_mode": {
    "name": "ipython",
    "version": 3
   },
   "file_extension": ".py",
   "mimetype": "text/x-python",
   "name": "python",
   "nbconvert_exporter": "python",
   "pygments_lexer": "ipython3",
   "version": "3.11.5"
  }
 },
 "nbformat": 4,
 "nbformat_minor": 5
}
