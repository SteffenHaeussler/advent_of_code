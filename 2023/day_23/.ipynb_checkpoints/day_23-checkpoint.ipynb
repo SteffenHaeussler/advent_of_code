{
 "cells": [
  {
   "cell_type": "code",
   "execution_count": 1,
   "id": "4a720827-e3d8-424f-a5b1-1dce3d635959",
   "metadata": {},
   "outputs": [],
   "source": [
    "from collections import deque, defaultdict"
   ]
  },
  {
   "cell_type": "markdown",
   "id": "3a9d1a3a",
   "metadata": {},
   "source": [
    "## Part 1"
   ]
  },
  {
   "cell_type": "code",
   "execution_count": 2,
   "id": "3c922775",
   "metadata": {},
   "outputs": [],
   "source": [
    "test = [\n",
    "\"#.#####################\",\n",
    "\"#.......#########...###\",\n",
    "\"#######.#########.#.###\",\n",
    "\"###.....#.>.>.###.#.###\",\n",
    "\"###v#####.#v#.###.#.###\",\n",
    "\"###.>...#.#.#.....#...#\",\n",
    "\"###v###.#.#.#########.#\",\n",
    "\"###...#.#.#.......#...#\",\n",
    "\"#####.#.#.#######.#.###\",\n",
    "\"#.....#.#.#.......#...#\",\n",
    "\"#.#####.#.#.#########v#\",\n",
    "\"#.#...#...#...###...>.#\",\n",
    "\"#.#.#v#######v###.###v#\",\n",
    "\"#...#.>.#...>.>.#.###.#\",\n",
    "\"#####v#.#.###v#.#.###.#\",\n",
    "\"#.....#...#...#.#.#...#\",\n",
    "\"#.#########.###.#.#.###\",\n",
    "\"#...###...#...#...#.###\",\n",
    "\"###.###.#.###v#####v###\",\n",
    "\"#...#...#.#.>.>.#.>.###\",\n",
    "\"#.###.###.#.###.#.#v###\",\n",
    "\"#.....###...###...#...#\",\n",
    "\"#####################.#\",\n",
    "]"
   ]
  },
  {
   "cell_type": "code",
   "execution_count": 3,
   "id": "f974aade-5749-41fb-a9c9-84394de93aa4",
   "metadata": {},
   "outputs": [],
   "source": [
    "def create_paths(grid):\n",
    "    \n",
    "    paths = defaultdict(set)\n",
    "\n",
    "    n_row, n_col = len(grid), len(grid[0])\n",
    "    \n",
    "    for r, row in enumerate(grid):\n",
    "        for c, v in enumerate(row):\n",
    "            if v == \".\":\n",
    "                for d_row, d_col in [(1,0),(0,1),(-1,0),(0,-1)]:\n",
    "                    next_row, next_col = r + d_row, c + d_col\n",
    "                    \n",
    "                    if (min(next_row, next_col) < 0\n",
    "                       or next_row >= n_row\n",
    "                       or next_col >= n_col):\n",
    "                        continue\n",
    "\n",
    "                    if grid[next_row][next_col] == \".\":\n",
    "                        paths[(r, c)].add((next_row, next_col))\n",
    "                        paths[(next_row, next_col)].add((r, c))\n",
    "                        \n",
    "            if v == \">\":\n",
    "                paths[(r, c)].add((r, c + 1))\n",
    "                paths[(r, c - 1)].add((r, c))\n",
    "            \n",
    "            if v == \"v\":\n",
    "                paths[(r, c)].add((r + 1, c))\n",
    "                paths[(r - 1, c)].add((r, c))\n",
    "\n",
    "    return paths"
   ]
  },
  {
   "cell_type": "code",
   "execution_count": 4,
   "id": "6633303d-5885-4135-9b36-c41c85d36e35",
   "metadata": {},
   "outputs": [],
   "source": [
    "def get_path_lengths(grid, paths, start, end):\n",
    "\n",
    "    n, m = len(grid), len(grid[0])\n",
    "    steps = 0\n",
    "    \n",
    "    q = [(start, steps)]\n",
    "    visited = set()\n",
    "    results = []\n",
    "    \n",
    "    while q:\n",
    "        (row, col), steps = q.pop()\n",
    "        \n",
    "        if steps == -1:\n",
    "            visited.remove((row, col))\n",
    "            continue\n",
    "            \n",
    "        if (row, col) == end:\n",
    "            results.append(steps)\n",
    "            continue\n",
    "            \n",
    "        if (row, col) in visited:\n",
    "            continue\n",
    "            \n",
    "        visited.add((row, col))\n",
    "        q.append(((row, col), -1))\n",
    "        \n",
    "        for next_row, next_col in paths[(row, col)]:\n",
    "            q.append(((next_row, next_col), steps + 1))\n",
    "    \n",
    "    return results"
   ]
  },
  {
   "cell_type": "code",
   "execution_count": 5,
   "id": "8b0c1b3a-44cc-4a39-bdac-6954ac520f8c",
   "metadata": {},
   "outputs": [],
   "source": [
    "start = (0,1)\n",
    "end = (len(test)-1,len(test[0])-2)\n",
    "\n",
    "paths = create_paths(test)\n",
    "results = get_path_lengths(test, paths, start, end)\n",
    "assert max(results) == 94"
   ]
  },
  {
   "cell_type": "code",
   "execution_count": 6,
   "id": "a77321b4",
   "metadata": {},
   "outputs": [],
   "source": [
    "text = open(\"../advent_of_code_input/2023/day_23.txt\", \"r\").readlines()\n",
    "text = [i.split(\"\\n\")[0] for i in text]"
   ]
  },
  {
   "cell_type": "code",
   "execution_count": 7,
   "id": "620697ec",
   "metadata": {},
   "outputs": [
    {
     "data": {
      "text/plain": [
       "2190"
      ]
     },
     "execution_count": 7,
     "metadata": {},
     "output_type": "execute_result"
    }
   ],
   "source": [
    "start = (0,1)\n",
    "end = (len(text)-1,len(text[0])-2)\n",
    "\n",
    "paths = create_paths(text)\n",
    "results = get_path_lengths(text, paths, start, end)\n",
    "max(results)"
   ]
  },
  {
   "cell_type": "markdown",
   "id": "7f1f0839-1408-454f-bb25-67e4f32d8413",
   "metadata": {},
   "source": [
    "## Part 2"
   ]
  },
  {
   "cell_type": "markdown",
   "id": "e406195a-7d61-4885-b46c-b6fc48d57063",
   "metadata": {},
   "source": [
    "Following this [approach](https://www.reddit.com/r/adventofcode/comments/18oy4pc/comment/kekhj7f/?utm_source=share&utm_medium=web2x&context=3)"
   ]
  },
  {
   "cell_type": "code",
   "execution_count": 8,
   "id": "8d16a802-6561-425b-9098-19e76cd3e091",
   "metadata": {},
   "outputs": [],
   "source": [
    "def create_paths(grid):\n",
    "    \n",
    "    paths = defaultdict(set)\n",
    "\n",
    "    n_row, n_col = len(grid), len(grid[0])\n",
    "    steps = 1\n",
    "\n",
    "    for r, row in enumerate(grid):\n",
    "        for c, v in enumerate(row):\n",
    "            if v in \".>v\":\n",
    "                for d_row, d_col in [(1,0),(0,1),(-1,0),(0,-1)]:\n",
    "                    next_row, next_col = r + d_row, c + d_col\n",
    "                    \n",
    "                    if (min(next_row, next_col) < 0\n",
    "                       or next_row >= n_row\n",
    "                       or next_col >= n_col):\n",
    "                        continue\n",
    "\n",
    "                    if grid[next_row][next_col] in \".>v\":\n",
    "                        paths[(r, c)].add((next_row, next_col,1))\n",
    "                        paths[(next_row, next_col)].add((r, c,1))\n",
    "                        \n",
    "    return paths"
   ]
  },
  {
   "cell_type": "code",
   "execution_count": 9,
   "id": "22f2a8db-1d57-4640-a6e6-2f301228365e",
   "metadata": {},
   "outputs": [],
   "source": [
    "def contract_paths(paths):\n",
    "\n",
    "    while True:\n",
    "\n",
    "        for node, edge in paths.items():\n",
    "\n",
    "            if len(edge) == 2:\n",
    "                edge_1, edge_2 = edge\n",
    "\n",
    "                paths[edge_1[:2]].remove(node + (edge_1[2],))\n",
    "                paths[edge_2[:2]].remove(node + (edge_2[2],))\n",
    "\n",
    "                paths[edge_1[:2]].add((edge_2[0],edge_2[1],edge_1[2]+edge_2[2]))\n",
    "                paths[edge_2[:2]].add((edge_1[0],edge_1[1],edge_1[2]+edge_2[2]))\n",
    "                del paths[node]\n",
    "                break\n",
    "\n",
    "        else:\n",
    "            break\n",
    "    \n",
    "    return paths"
   ]
  },
  {
   "cell_type": "code",
   "execution_count": 10,
   "id": "09de535f-fb8c-434d-9f70-0048e79e6fc3",
   "metadata": {},
   "outputs": [],
   "source": [
    "def get_path_lengths(grid, paths, start, end):\n",
    "\n",
    "    n, m = len(grid), len(grid[0])\n",
    "    steps = 0\n",
    "    \n",
    "    q = [(start, steps)]\n",
    "    visited = set()\n",
    "    results = []\n",
    "    \n",
    "    while q:\n",
    "        (row, col), steps = q.pop()\n",
    "        \n",
    "        if steps == -1:\n",
    "            visited.remove((row, col))\n",
    "            continue\n",
    "            \n",
    "        if (row, col) == end:\n",
    "            results.append(steps)\n",
    "            continue\n",
    "            \n",
    "        if (row, col) in visited:\n",
    "            continue\n",
    "            \n",
    "        visited.add((row, col))\n",
    "        q.append(((row, col), -1))\n",
    "        \n",
    "        for next_row, next_col,n_steps in paths[(row, col)]:\n",
    "            q.append(((next_row, next_col), steps + n_steps))\n",
    "    \n",
    "    return results"
   ]
  },
  {
   "cell_type": "code",
   "execution_count": 11,
   "id": "5ebe2f14-6347-490b-9709-31e9defa13ab",
   "metadata": {},
   "outputs": [],
   "source": [
    "start = (0,1)\n",
    "end = (len(test)-1,len(test[0])-2)\n",
    "\n",
    "paths = create_paths(test)\n",
    "paths = contract_paths(paths)\n",
    "results = get_path_lengths(test, paths, start, end)\n",
    "\n",
    "assert max(results) == 154"
   ]
  },
  {
   "cell_type": "code",
   "execution_count": 12,
   "id": "9f68493a-78c3-4a4e-a161-85fc22eb9632",
   "metadata": {},
   "outputs": [
    {
     "data": {
      "text/plain": [
       "6258"
      ]
     },
     "execution_count": 12,
     "metadata": {},
     "output_type": "execute_result"
    }
   ],
   "source": [
    "start = (0,1)\n",
    "end = (len(text)-1,len(text[0])-2)\n",
    "\n",
    "paths = create_paths(text)\n",
    "paths = contract_paths(paths)\n",
    "results = get_path_lengths(text, paths, start, end)\n",
    "max(results)"
   ]
  }
 ],
 "metadata": {
  "kernelspec": {
   "display_name": "Python 3 (ipykernel)",
   "language": "python",
   "name": "python3"
  },
  "language_info": {
   "codemirror_mode": {
    "name": "ipython",
    "version": 3
   },
   "file_extension": ".py",
   "mimetype": "text/x-python",
   "name": "python",
   "nbconvert_exporter": "python",
   "pygments_lexer": "ipython3",
   "version": "3.11.5"
  }
 },
 "nbformat": 4,
 "nbformat_minor": 5
}
