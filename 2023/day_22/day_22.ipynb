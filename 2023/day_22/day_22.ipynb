{
 "cells": [
  {
   "cell_type": "markdown",
   "id": "0696c342-594c-4d58-8592-1b3c9cdaee13",
   "metadata": {},
   "source": [
    "Following [solution](https://github.com/davearussell/advent2023/blob/master/day22/solve.py)"
   ]
  },
  {
   "cell_type": "markdown",
   "id": "3a9d1a3a",
   "metadata": {},
   "source": [
    "## Part 1"
   ]
  },
  {
   "cell_type": "code",
   "execution_count": 1,
   "id": "3c922775",
   "metadata": {},
   "outputs": [],
   "source": [
    "test = [\n",
    "\"1,0,1~1,2,1\",\n",
    "\"0,0,2~2,0,2\",\n",
    "\"0,2,3~2,2,3\",\n",
    "\"0,0,4~0,2,4\",\n",
    "\"2,0,5~2,2,5\",\n",
    "\"0,1,6~2,1,6\",\n",
    "\"1,1,8~1,1,9\"\n",
    "]"
   ]
  },
  {
   "cell_type": "code",
   "execution_count": 2,
   "id": "0e4403cd",
   "metadata": {},
   "outputs": [],
   "source": [
    "def get_bricks(text):\n",
    "    \n",
    "    bricks = []\n",
    "\n",
    "    for row in text:\n",
    "        temp = []\n",
    "        for coords in row.split(\"~\"):\n",
    "            for coord in coords.split(\",\"):\n",
    "                temp.append(int(coord))\n",
    "        bricks.append(temp)\n",
    "\n",
    "    bricks.sort(key=lambda x: x[2])\n",
    "    return bricks"
   ]
  },
  {
   "cell_type": "code",
   "execution_count": 3,
   "id": "26aab8cb-3a20-4c16-b993-50125026e40d",
   "metadata": {},
   "outputs": [],
   "source": [
    "def drop_bricks(bricks, update=False, ignore_brick=None):\n",
    "    \n",
    "    n_drop = 0\n",
    "    heights = {}\n",
    "\n",
    "    for brick in bricks:\n",
    "        \n",
    "        if brick == ignore_brick:\n",
    "            continue\n",
    "            \n",
    "        x1, y1, z1, x2, y2, z2 = brick\n",
    "        \n",
    "        layers = [(x, y) for x in range(x1, x2 + 1) for y in range(y1, y2 + 1)]\n",
    "        \n",
    "        height = max(heights.get(layer, 0) for layer in layers)\n",
    "        drop = z1 - height - 1\n",
    "\n",
    "        if drop:\n",
    "            n_drop += 1\n",
    "            z2 -= drop\n",
    "\n",
    "            if update:\n",
    "                brick[2] -= drop\n",
    "                brick[5] -= drop\n",
    "\n",
    "        for layer in layers:\n",
    "            heights[layer] = z2\n",
    "            \n",
    "    return n_drop"
   ]
  },
  {
   "cell_type": "code",
   "execution_count": 4,
   "id": "9575a1b4",
   "metadata": {},
   "outputs": [],
   "source": [
    "bricks = get_bricks(test)\n",
    "_ = drop_bricks(bricks, update=True)\n",
    "n_drops = [drop_bricks(bricks, ignore_brick=brick) for brick in bricks]\n",
    "result = n_drops.count(0)\n",
    "assert result == 5"
   ]
  },
  {
   "cell_type": "code",
   "execution_count": 5,
   "id": "72b24808",
   "metadata": {},
   "outputs": [],
   "source": [
    "text = open(\"../advent_of_code_input/2023/day_22.txt\", \"r\").readlines()\n",
    "text = [i.split(\"\\n\")[0] for i in text]"
   ]
  },
  {
   "cell_type": "code",
   "execution_count": 6,
   "id": "63264be2",
   "metadata": {},
   "outputs": [
    {
     "data": {
      "text/plain": [
       "375"
      ]
     },
     "execution_count": 6,
     "metadata": {},
     "output_type": "execute_result"
    }
   ],
   "source": [
    "bricks = get_bricks(text)\n",
    "_ = drop_bricks(bricks, update=True)\n",
    "n_drops = [drop_bricks(bricks, ignore_brick=brick) for brick in bricks]\n",
    "result = n_drops.count(0)\n",
    "result"
   ]
  },
  {
   "cell_type": "markdown",
   "id": "9dafa3f6-820d-4808-ac1b-d7bc30885e63",
   "metadata": {},
   "source": [
    "## Part 2"
   ]
  },
  {
   "cell_type": "code",
   "execution_count": 7,
   "id": "eed665fd",
   "metadata": {},
   "outputs": [],
   "source": [
    "bricks = get_bricks(test)\n",
    "_ = drop_bricks(bricks, update=True)\n",
    "n_drops = [drop_bricks(bricks, ignore_brick=brick) for brick in bricks]\n",
    "result = sum(n_drops)\n",
    "assert result == 7"
   ]
  },
  {
   "cell_type": "code",
   "execution_count": 8,
   "id": "a77321b4",
   "metadata": {},
   "outputs": [
    {
     "data": {
      "text/plain": [
       "72352"
      ]
     },
     "execution_count": 8,
     "metadata": {},
     "output_type": "execute_result"
    }
   ],
   "source": [
    "bricks = get_bricks(text)\n",
    "_ = drop_bricks(bricks, update=True)\n",
    "n_drops = [drop_bricks(bricks, ignore_brick=brick) for brick in bricks]\n",
    "result = sum(n_drops)\n",
    "result"
   ]
  }
 ],
 "metadata": {
  "kernelspec": {
   "display_name": "Python 3 (ipykernel)",
   "language": "python",
   "name": "python3"
  },
  "language_info": {
   "codemirror_mode": {
    "name": "ipython",
    "version": 3
   },
   "file_extension": ".py",
   "mimetype": "text/x-python",
   "name": "python",
   "nbconvert_exporter": "python",
   "pygments_lexer": "ipython3",
   "version": "3.11.5"
  }
 },
 "nbformat": 4,
 "nbformat_minor": 5
}
