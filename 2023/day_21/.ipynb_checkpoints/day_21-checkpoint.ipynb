{
 "cells": [
  {
   "cell_type": "code",
   "execution_count": null,
   "id": "73ec1bcd",
   "metadata": {},
   "outputs": [],
   "source": [
    "from collections import deque\n",
    "from functools import cache\n",
    "\n",
    "import numpy as np\n",
    "from tqdm.auto import tqdm"
   ]
  },
  {
   "cell_type": "markdown",
   "id": "3a9d1a3a",
   "metadata": {},
   "source": [
    "## Part 1"
   ]
  },
  {
   "cell_type": "code",
   "execution_count": 2,
   "id": "3c922775",
   "metadata": {},
   "outputs": [],
   "source": [
    "test = [\n",
    "\"...........\",\n",
    "\".....###.#.\",\n",
    "\".###.##..#.\",\n",
    "\"..#.#...#..\",\n",
    "\"....#.#....\",\n",
    "\".##..S####.\",\n",
    "\".##..#...#.\",\n",
    "\".......##..\",\n",
    "\".##.#.####.\",\n",
    "\".##..##.##.\",\n",
    "\"...........\"  \n",
    "]"
   ]
  },
  {
   "cell_type": "code",
   "execution_count": 3,
   "id": "0e4403cd",
   "metadata": {},
   "outputs": [],
   "source": [
    "def get_start(text):\n",
    "    \n",
    "    start = None\n",
    "    \n",
    "    for n, row in enumerate(text):\n",
    "        if \"S\" in row:\n",
    "            start = (n, row.index(\"S\"))\n",
    "            break\n",
    "    \n",
    "    return start"
   ]
  },
  {
   "cell_type": "code",
   "execution_count": 4,
   "id": "487d25ef",
   "metadata": {},
   "outputs": [],
   "source": [
    "def get_positions(grid, start, max_steps):\n",
    "    \n",
    "    steps = 0\n",
    "    q = deque([start])\n",
    "\n",
    "    while steps < max_steps:\n",
    "        temp = set()\n",
    "        \n",
    "        for _ in range(len(q)):\n",
    "\n",
    "            row, col = q.popleft()\n",
    "\n",
    "            for dr, dc in [(1,0),(0,1),(-1,0),(0,-1)]:\n",
    "\n",
    "                next_row, next_col = row+dr, col+dc\n",
    "\n",
    "                if (min(next_row,next_col) < 0 or\n",
    "                    next_row >= len(grid) or\n",
    "                    next_col >= len(grid[0])\n",
    "                   or grid[next_row][next_col]==\"#\"):\n",
    "                    continue\n",
    "\n",
    "                temp.add((next_row, next_col))\n",
    "\n",
    "        for pos in temp:\n",
    "            q.append(pos)\n",
    "\n",
    "        steps += 1\n",
    "        \n",
    "    return q"
   ]
  },
  {
   "cell_type": "code",
   "execution_count": 5,
   "id": "f4b8524f",
   "metadata": {},
   "outputs": [],
   "source": [
    "max_steps = 6\n",
    "\n",
    "start = get_start(test)\n",
    "q = get_positions(test,start, max_steps)\n",
    "result = len(set(q))\n",
    "\n",
    "assert result == 16"
   ]
  },
  {
   "cell_type": "code",
   "execution_count": 6,
   "id": "72b24808",
   "metadata": {},
   "outputs": [],
   "source": [
    "text = open(\"../advent_of_code_input/2023/day_21.txt\", \"r\").readlines()\n",
    "text = [i.split(\"\\n\")[0] for i in text]"
   ]
  },
  {
   "cell_type": "code",
   "execution_count": 7,
   "id": "63264be2",
   "metadata": {},
   "outputs": [
    {
     "data": {
      "text/plain": [
       "3615"
      ]
     },
     "execution_count": 7,
     "metadata": {},
     "output_type": "execute_result"
    }
   ],
   "source": [
    "max_steps = 64\n",
    "\n",
    "start = get_start(text)\n",
    "q = get_positions(text,start, max_steps)\n",
    "result = len(set(q))\n",
    "result"
   ]
  },
  {
   "cell_type": "markdown",
   "id": "fa67fe8b",
   "metadata": {},
   "source": [
    "## Part 2"
   ]
  },
  {
   "cell_type": "markdown",
   "id": "73951da4",
   "metadata": {},
   "source": [
    "I follow the solution from [MediocreSoftwareEng\n",
    "](https://www.reddit.com/r/adventofcode/comments/18nevo3/comment/kebm6ak/?utm_source=share&utm_medium=web2x&context=3)"
   ]
  },
  {
   "cell_type": "code",
   "execution_count": 8,
   "id": "eed665fd",
   "metadata": {},
   "outputs": [],
   "source": [
    "def fit_function(points):\n",
    "    coefficients = np.polyfit(*zip(*points), 2)\n",
    "\n",
    "    \n",
    "    return coefficients\n",
    "\n",
    "\n",
    "def predict(coefficients, steps):\n",
    "    \n",
    "    result = np.polyval(coefficients, steps)\n",
    "    return round(result)"
   ]
  },
  {
   "cell_type": "code",
   "execution_count": 9,
   "id": "a77321b4",
   "metadata": {},
   "outputs": [],
   "source": [
    "text = open(\"day_21.txt\", \"r\").readlines()\n",
    "text = [i.split(\"\\n\")[0] for i in text]"
   ]
  },
  {
   "cell_type": "code",
   "execution_count": 10,
   "id": "620697ec",
   "metadata": {},
   "outputs": [],
   "source": [
    "grid = text*21\n",
    "grid = [row*21 for row in grid]\n",
    "\n",
    "start = [len(grid)//2, len(grid[0])//2]"
   ]
  },
  {
   "cell_type": "code",
   "execution_count": 11,
   "id": "08da9c81",
   "metadata": {},
   "outputs": [
    {
     "data": {
      "application/vnd.jupyter.widget-view+json": {
       "model_id": "01da35c4c583486c918643365dca11e5",
       "version_major": 2,
       "version_minor": 0
      },
      "text/plain": [
       "  0%|          | 0/4 [00:00<?, ?it/s]"
      ]
     },
     "metadata": {},
     "output_type": "display_data"
    },
    {
     "data": {
      "text/plain": [
       "602259568764234"
      ]
     },
     "execution_count": 11,
     "metadata": {},
     "output_type": "execute_result"
    }
   ],
   "source": [
    "points = []\n",
    "n = 202300\n",
    "\n",
    "for i in tqdm(range(1,5)):\n",
    "    max_steps = i*131+65\n",
    "\n",
    "    q = get_positions(grid, start, max_steps)\n",
    "    result = len(set(q))\n",
    "    points.append((i,result))\n",
    "    \n",
    "coefficients = fit_function(points)\n",
    "result = predict(coefficients, n)\n",
    "result"
   ]
  }
 ],
 "metadata": {
  "kernelspec": {
   "display_name": "Python 3 (ipykernel)",
   "language": "python",
   "name": "python3"
  },
  "language_info": {
   "codemirror_mode": {
    "name": "ipython",
    "version": 3
   },
   "file_extension": ".py",
   "mimetype": "text/x-python",
   "name": "python",
   "nbconvert_exporter": "python",
   "pygments_lexer": "ipython3",
   "version": "3.11.5"
  }
 },
 "nbformat": 4,
 "nbformat_minor": 5
}
