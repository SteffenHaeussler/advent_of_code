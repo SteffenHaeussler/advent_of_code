{
 "cells": [
  {
   "cell_type": "code",
   "execution_count": 1,
   "id": "e39ecc34",
   "metadata": {},
   "outputs": [],
   "source": [
    "import heapq"
   ]
  },
  {
   "cell_type": "markdown",
   "id": "3a9d1a3a",
   "metadata": {},
   "source": [
    "## Part 1"
   ]
  },
  {
   "cell_type": "code",
   "execution_count": 2,
   "id": "3c922775",
   "metadata": {},
   "outputs": [],
   "source": [
    "test = [\n",
    "\"2413432311323\",\n",
    "\"3215453535623\",\n",
    "\"3255245654254\",\n",
    "\"3446585845452\",\n",
    "\"4546657867536\",\n",
    "\"1438598798454\",\n",
    "\"4457876987766\",\n",
    "\"3637877979653\",\n",
    "\"4654967986887\",\n",
    "\"4564679986453\",\n",
    "\"1224686865563\",\n",
    "\"2546548887735\",\n",
    "\"4322674655533\",\n",
    "]"
   ]
  },
  {
   "cell_type": "code",
   "execution_count": 3,
   "id": "3acf9f76",
   "metadata": {},
   "outputs": [],
   "source": [
    "def get_graph(text):\n",
    "    \n",
    "    G = {(n,m): int(col) for n, row in enumerate(text) for m, col in enumerate(row)}\n",
    "        \n",
    "    return G"
   ]
  },
  {
   "cell_type": "code",
   "execution_count": 4,
   "id": "e4b8cf89",
   "metadata": {},
   "outputs": [],
   "source": [
    "def dijkstra(start,end, min_steps, max_steps):\n",
    "\n",
    "    q = [(0, start, (-1, -1))]\n",
    "    visited = set()\n",
    "    G_weight = {}\n",
    "\n",
    "    while q:\n",
    "\n",
    "        weight, position, direction = heapq.heappop(q)\n",
    "        \n",
    "        if position == end: \n",
    "            return weight\n",
    "\n",
    "        if (position, direction) in visited:\n",
    "            continue\n",
    "        visited.add((position, direction))\n",
    "    \n",
    "        for new_direction in [(-1,0),(0,-1),(1,0),(0,1)]:\n",
    "            \n",
    "            weight_change = 0\n",
    "\n",
    "            if ((direction[0] == new_direction[0] and direction[1] == new_direction[1]) or \n",
    "               (direction[0] == -new_direction[0] and direction[1] == -new_direction[-1])):\n",
    "                continue\n",
    "    \n",
    "            for distance in range(1, max_steps + 1):\n",
    "    \n",
    "                new_row = position[0] + new_direction[0] * distance\n",
    "                new_col = position[1] + new_direction[1] * distance\n",
    "\n",
    "                new_position = (new_row, new_col)\n",
    "    \n",
    "                if new_position in G:\n",
    "    \n",
    "                    weight_change += G[new_position]\n",
    "                \n",
    "                    if distance < min_steps:\n",
    "                        continue\n",
    "\n",
    "                    new_weight = weight + weight_change\n",
    "\n",
    "                    if G_weight.get((new_position, new_direction), float(\"inf\")) <= new_weight:\n",
    "                        continue\n",
    "    \n",
    "                    G_weight[(new_position, new_direction)] = new_weight\n",
    "                    heapq.heappush(q, (new_weight, new_position, new_direction))\n"
   ]
  },
  {
   "cell_type": "code",
   "execution_count": 6,
   "id": "b7c3c986",
   "metadata": {},
   "outputs": [],
   "source": [
    "G = get_graph(test)\n",
    "end = list(G.keys())[-1]\n",
    "\n",
    "start = (0,0)\n",
    "min_steps = 1\n",
    "max_steps = 3\n",
    "\n",
    "result = dijkstra(start, end, min_steps, max_steps)"
   ]
  },
  {
   "cell_type": "code",
   "execution_count": 7,
   "id": "b35cc353",
   "metadata": {},
   "outputs": [],
   "source": [
    "assert result == 102"
   ]
  },
  {
   "cell_type": "code",
   "execution_count": 8,
   "id": "5b397ad6",
   "metadata": {},
   "outputs": [],
   "source": [
    "text = open(\"../advent_of_code_input/2023/day_17.txt\", \"r\").readlines()\n",
    "text = [i.split(\"\\n\")[0] for i in text]"
   ]
  },
  {
   "cell_type": "code",
   "execution_count": 9,
   "id": "f166fa43",
   "metadata": {},
   "outputs": [],
   "source": [
    "G = get_graph(text)\n",
    "end = list(G.keys())[-1]\n",
    "\n",
    "start = (0,0)\n",
    "min_steps = 1\n",
    "max_steps = 3\n",
    "\n",
    "result = dijkstra(start, end, min_steps, max_steps)"
   ]
  },
  {
   "cell_type": "code",
   "execution_count": 10,
   "id": "1a96fc7d",
   "metadata": {},
   "outputs": [
    {
     "data": {
      "text/plain": [
       "942"
      ]
     },
     "execution_count": 10,
     "metadata": {},
     "output_type": "execute_result"
    }
   ],
   "source": [
    "result"
   ]
  },
  {
   "cell_type": "markdown",
   "id": "fa67fe8b",
   "metadata": {},
   "source": [
    "## Part 2"
   ]
  },
  {
   "cell_type": "code",
   "execution_count": 11,
   "id": "37cdbda4",
   "metadata": {},
   "outputs": [],
   "source": [
    "test = [\n",
    "\"2413432311323\",\n",
    "\"3215453535623\",\n",
    "\"3255245654254\",\n",
    "\"3446585845452\",\n",
    "\"4546657867536\",\n",
    "\"1438598798454\",\n",
    "\"4457876987766\",\n",
    "\"3637877979653\",\n",
    "\"4654967986887\",\n",
    "\"4564679986453\",\n",
    "\"1224686865563\",\n",
    "\"2546548887735\",\n",
    "\"4322674655533\",\n",
    "]"
   ]
  },
  {
   "cell_type": "code",
   "execution_count": 12,
   "id": "045f7dfc",
   "metadata": {},
   "outputs": [],
   "source": [
    "G = get_graph(test)\n",
    "end = list(G.keys())[-1]\n",
    "\n",
    "start = (0,0)\n",
    "min_steps = 4\n",
    "max_steps = 10\n",
    "\n",
    "result = dijkstra(start, end, min_steps, max_steps)"
   ]
  },
  {
   "cell_type": "code",
   "execution_count": 13,
   "id": "e6faa2e9",
   "metadata": {},
   "outputs": [],
   "source": [
    "assert result == 94"
   ]
  },
  {
   "cell_type": "code",
   "execution_count": 14,
   "id": "1e2bc254",
   "metadata": {},
   "outputs": [],
   "source": [
    "text = open(\"../advent_of_code_input/2023/day_17.txt\", \"r\").readlines()\n",
    "text = [i.split(\"\\n\")[0] for i in text]"
   ]
  },
  {
   "cell_type": "code",
   "execution_count": 17,
   "id": "e4f33650",
   "metadata": {},
   "outputs": [],
   "source": [
    "G = get_graph(text)\n",
    "end = list(G.keys())[-1]\n",
    "\n",
    "start = (0,0)\n",
    "min_steps = 4\n",
    "max_steps = 10\n",
    "\n",
    "result = dijkstra(start, end, min_steps, max_steps)"
   ]
  },
  {
   "cell_type": "code",
   "execution_count": 18,
   "id": "29c33b48",
   "metadata": {},
   "outputs": [
    {
     "data": {
      "text/plain": [
       "1082"
      ]
     },
     "execution_count": 18,
     "metadata": {},
     "output_type": "execute_result"
    }
   ],
   "source": [
    "result"
   ]
  }
 ],
 "metadata": {
  "kernelspec": {
   "display_name": "Python 3 (ipykernel)",
   "language": "python",
   "name": "python3"
  },
  "language_info": {
   "codemirror_mode": {
    "name": "ipython",
    "version": 3
   },
   "file_extension": ".py",
   "mimetype": "text/x-python",
   "name": "python",
   "nbconvert_exporter": "python",
   "pygments_lexer": "ipython3",
   "version": "3.11.5"
  }
 },
 "nbformat": 4,
 "nbformat_minor": 5
}
