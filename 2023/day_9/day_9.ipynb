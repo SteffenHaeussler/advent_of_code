{
 "cells": [
  {
   "cell_type": "markdown",
   "id": "3a9d1a3a",
   "metadata": {},
   "source": [
    "## Part 1"
   ]
  },
  {
   "cell_type": "code",
   "execution_count": 1,
   "id": "3c922775",
   "metadata": {},
   "outputs": [],
   "source": [
    "test = [\n",
    "\"0 3 6 9 12 15\",\n",
    "\"1 3 6 10 15 21\",\n",
    "\"10 13 16 21 30 45\",\n",
    "]"
   ]
  },
  {
   "cell_type": "code",
   "execution_count": 2,
   "id": "213dd33d",
   "metadata": {},
   "outputs": [],
   "source": [
    "test = [[int(j) for j in i.split()]  for i in test]"
   ]
  },
  {
   "cell_type": "code",
   "execution_count": 3,
   "id": "01a7a850",
   "metadata": {},
   "outputs": [
    {
     "data": {
      "text/plain": [
       "[[0, 3, 6, 9, 12, 15], [1, 3, 6, 10, 15, 21], [10, 13, 16, 21, 30, 45]]"
      ]
     },
     "execution_count": 3,
     "metadata": {},
     "output_type": "execute_result"
    }
   ],
   "source": [
    "test"
   ]
  },
  {
   "cell_type": "code",
   "execution_count": 4,
   "id": "d69aa397",
   "metadata": {},
   "outputs": [],
   "source": [
    "result = []\n",
    "\n",
    "for lst in test:\n",
    "    \n",
    "    ans = lst[-1]\n",
    "    equal = len(set(lst)) == 1 \n",
    "    \n",
    "    while not equal:\n",
    "        lst = [lst[i]-lst[i-1] for i in range(1, len(lst))]\n",
    "        ans += lst[-1]\n",
    "        \n",
    "        equal = len(set(lst)) == 1 \n",
    "        \n",
    "    result.append(ans)"
   ]
  },
  {
   "cell_type": "code",
   "execution_count": 5,
   "id": "8e48064c",
   "metadata": {},
   "outputs": [],
   "source": [
    "assert sum(result) == 114"
   ]
  },
  {
   "cell_type": "code",
   "execution_count": 6,
   "id": "3fd0ab88",
   "metadata": {},
   "outputs": [],
   "source": [
    "text = open(\"../advent_of_code_input/2023/day_9.txt\", \"r\").readlines()\n",
    "text = [i.split(\"\\n\")[0] for i in text]"
   ]
  },
  {
   "cell_type": "code",
   "execution_count": 7,
   "id": "8029dc3b",
   "metadata": {},
   "outputs": [],
   "source": [
    "text = [[int(j) for j in i.split()]  for i in text]"
   ]
  },
  {
   "cell_type": "code",
   "execution_count": 8,
   "id": "f13187cd",
   "metadata": {},
   "outputs": [],
   "source": [
    "result = []\n",
    "\n",
    "for lst in text:\n",
    "    \n",
    "    ans = lst[-1]\n",
    "    equal = len(set(lst)) == 1 \n",
    "    \n",
    "    while not equal:\n",
    "        lst = [lst[i]-lst[i-1] for i in range(1, len(lst))]\n",
    "        ans += lst[-1]\n",
    "        \n",
    "        equal = len(set(lst)) == 1 \n",
    "        \n",
    "    result.append(ans)"
   ]
  },
  {
   "cell_type": "code",
   "execution_count": 9,
   "id": "060ab9bd",
   "metadata": {},
   "outputs": [
    {
     "data": {
      "text/plain": [
       "1853145119"
      ]
     },
     "execution_count": 9,
     "metadata": {},
     "output_type": "execute_result"
    }
   ],
   "source": [
    "sum(result)"
   ]
  },
  {
   "cell_type": "markdown",
   "id": "9848e764",
   "metadata": {},
   "source": [
    "## Part 2"
   ]
  },
  {
   "cell_type": "code",
   "execution_count": 10,
   "id": "716765f0",
   "metadata": {},
   "outputs": [],
   "source": [
    "test = [\n",
    "\"0 3 6 9 12 15\",\n",
    "\"1 3 6 10 15 21\",\n",
    "\"10 13 16 21 30 45\",\n",
    "]"
   ]
  },
  {
   "cell_type": "code",
   "execution_count": 11,
   "id": "bd54f5d6",
   "metadata": {},
   "outputs": [],
   "source": [
    "test = [[int(j) for j in i.split()]  for i in test]"
   ]
  },
  {
   "cell_type": "code",
   "execution_count": 12,
   "id": "77824029",
   "metadata": {},
   "outputs": [],
   "source": [
    "result = []\n",
    "\n",
    "for lst in test:\n",
    "    \n",
    "    ans = [lst[0]]\n",
    "    equal = len(set(lst)) == 1 \n",
    "    \n",
    "    while not equal:\n",
    "        lst = [lst[i]-lst[i-1] for i in range(1, len(lst))]\n",
    "        ans.append(lst[0])\n",
    "        \n",
    "        equal = len(set(lst)) == 1 \n",
    "        \n",
    "    res = 0\n",
    "\n",
    "    for i in ans[::-1]:\n",
    "        res = i-res\n",
    "\n",
    "    result.append(res)"
   ]
  },
  {
   "cell_type": "code",
   "execution_count": 13,
   "id": "ee08dcfe",
   "metadata": {},
   "outputs": [],
   "source": [
    "assert sum(result) == 2"
   ]
  },
  {
   "cell_type": "code",
   "execution_count": 14,
   "id": "8512cc6c",
   "metadata": {},
   "outputs": [],
   "source": [
    "text = open(\"../advent_of_code_input/2023/day_9.txt\", \"r\").readlines()\n",
    "text = [i.split(\"\\n\")[0] for i in text]"
   ]
  },
  {
   "cell_type": "code",
   "execution_count": 15,
   "id": "0151d438",
   "metadata": {},
   "outputs": [],
   "source": [
    "text = [[int(j) for j in i.split()]  for i in text]"
   ]
  },
  {
   "cell_type": "code",
   "execution_count": 16,
   "id": "9ab4df2a",
   "metadata": {},
   "outputs": [],
   "source": [
    "result = []\n",
    "\n",
    "for lst in text:\n",
    "    \n",
    "    ans = [lst[0]]\n",
    "    equal = len(set(lst)) == 1 \n",
    "    \n",
    "    while not equal:\n",
    "        lst = [lst[i]-lst[i-1] for i in range(1, len(lst))]\n",
    "        ans.append(lst[0])\n",
    "        \n",
    "        equal = len(set(lst)) == 1 \n",
    "        \n",
    "    res = 0\n",
    "\n",
    "    for i in ans[::-1]:\n",
    "        res = i-res\n",
    "\n",
    "    result.append(res)"
   ]
  },
  {
   "cell_type": "code",
   "execution_count": 17,
   "id": "07449e1a",
   "metadata": {},
   "outputs": [
    {
     "data": {
      "text/plain": [
       "923"
      ]
     },
     "execution_count": 17,
     "metadata": {},
     "output_type": "execute_result"
    }
   ],
   "source": [
    "sum(result)"
   ]
  }
 ],
 "metadata": {
  "kernelspec": {
   "display_name": "Python 3 (ipykernel)",
   "language": "python",
   "name": "python3"
  },
  "language_info": {
   "codemirror_mode": {
    "name": "ipython",
    "version": 3
   },
   "file_extension": ".py",
   "mimetype": "text/x-python",
   "name": "python",
   "nbconvert_exporter": "python",
   "pygments_lexer": "ipython3",
   "version": "3.11.5"
  }
 },
 "nbformat": 4,
 "nbformat_minor": 5
}
