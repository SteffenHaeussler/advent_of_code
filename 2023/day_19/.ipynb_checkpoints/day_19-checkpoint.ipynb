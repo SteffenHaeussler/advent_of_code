{
 "cells": [
  {
   "cell_type": "code",
   "execution_count": 1,
   "id": "afb32f36",
   "metadata": {},
   "outputs": [],
   "source": [
    "from collections import deque"
   ]
  },
  {
   "cell_type": "markdown",
   "id": "3a9d1a3a",
   "metadata": {},
   "source": [
    "## Part 1"
   ]
  },
  {
   "cell_type": "code",
   "execution_count": 2,
   "id": "3c922775",
   "metadata": {},
   "outputs": [],
   "source": [
    "test = [\n",
    "\"px{a<2006:qkq,m>2090:A,rfg}\",\n",
    "\"pv{a>1716:R,A}\",\n",
    "\"lnx{m>1548:A,A}\",\n",
    "\"rfg{s<537:gd,x>2440:R,A}\",\n",
    "\"qs{s>3448:A,lnx}\",\n",
    "\"qkq{x<1416:A,crn}\",\n",
    "\"crn{x>2662:A,R}\",\n",
    "\"in{s<1351:px,qqz}\",\n",
    "\"qqz{s>2770:qs,m<1801:hdj,R}\",\n",
    "\"gd{a>3333:R,R}\",\n",
    "\"hdj{m>838:A,pv}\",\n",
    "\"\",\n",
    "\"{x=787,m=2655,a=1222,s=2876}\",\n",
    "\"{x=1679,m=44,a=2067,s=496}\",\n",
    "\"{x=2036,m=264,a=79,s=2244}\",\n",
    "\"{x=2461,m=1339,a=466,s=291}\",\n",
    "\"{x=2127,m=1623,a=2188,s=1013}\",\n",
    "]"
   ]
  },
  {
   "cell_type": "code",
   "execution_count": 3,
   "id": "82ff7ec6",
   "metadata": {},
   "outputs": [],
   "source": [
    "def parse_workflow(text):\n",
    "    \n",
    "    workflow = []\n",
    "\n",
    "    rule_name, rules = text[:-1].split(\"{\")\n",
    "    for rule in rules.split(\",\"):\n",
    "\n",
    "        if \":\" in rule:\n",
    "            rule = rule.split(\":\")\n",
    "\n",
    "            if \"<\" in rule[0]:\n",
    "                category, value = rule[0].split(\"<\")\n",
    "                sign = \"<\"\n",
    "            else:\n",
    "                category, value = rule[0].split(\">\")\n",
    "                sign = \">\"\n",
    "            \n",
    "            workflow.append([category, sign, int(value), rule[1]])\n",
    "        \n",
    "        else:\n",
    "            workflow.append(rule)\n",
    "        \n",
    "    return {rule_name: workflow}"
   ]
  },
  {
   "cell_type": "code",
   "execution_count": 4,
   "id": "bdf1123c",
   "metadata": {},
   "outputs": [],
   "source": [
    "def parse_text(text):\n",
    "    workflow =  {}\n",
    "    parts = []\n",
    "\n",
    "    is_workflow = True\n",
    "    for row in text:\n",
    "\n",
    "        if not row:\n",
    "            is_workflow=False\n",
    "            continue\n",
    "\n",
    "        if is_workflow:\n",
    "            workflow.update(parse_workflow(row))\n",
    "        else:\n",
    "            row = {i.split(\"=\")[0]: int(i.split(\"=\")[1]) for i in row[1:-1].split(\",\")}\n",
    "            parts.append(row)\n",
    "    \n",
    "    return workflow, parts"
   ]
  },
  {
   "cell_type": "code",
   "execution_count": 5,
   "id": "de9e22d7",
   "metadata": {},
   "outputs": [],
   "source": [
    "def update_workflow(workflow, items):\n",
    "    next_workflow = None\n",
    "    \n",
    "    \n",
    "    for part, operator, value, wf in workflow[:-1]:\n",
    "        \n",
    "        if part in items:\n",
    "\n",
    "            if operator == \"<\" and items[part] < value:\n",
    "                next_workflow = wf\n",
    "            elif operator == \">\" and items[part] > value:\n",
    "                next_workflow = wf\n",
    "\n",
    "        if next_workflow:\n",
    "            return next_workflow\n",
    "                            \n",
    "    return workflow[-1]"
   ]
  },
  {
   "cell_type": "code",
   "execution_count": 6,
   "id": "59bf29d9",
   "metadata": {},
   "outputs": [],
   "source": [
    "def follow_workflow(workflow, items):\n",
    "\n",
    "    q = [workflow['in']]\n",
    "\n",
    "    while q:\n",
    "        current = q.pop()\n",
    "        next_workflow = update_workflow(current, items)\n",
    "\n",
    "        if next_workflow == \"A\":\n",
    "            return sum(items.values())\n",
    "        elif next_workflow == \"R\":\n",
    "            return 0\n",
    "        else:\n",
    "            q.append(workflow[next_workflow])"
   ]
  },
  {
   "cell_type": "code",
   "execution_count": 7,
   "id": "57f2779e",
   "metadata": {},
   "outputs": [],
   "source": [
    "workflow, parts = parse_text(test)"
   ]
  },
  {
   "cell_type": "code",
   "execution_count": 8,
   "id": "fc3b7b35",
   "metadata": {},
   "outputs": [],
   "source": [
    "results = []\n",
    "\n",
    "for part in parts:\n",
    "    result = follow_workflow(workflow, part)\n",
    "    results.append(result)"
   ]
  },
  {
   "cell_type": "code",
   "execution_count": 9,
   "id": "058b68de",
   "metadata": {},
   "outputs": [],
   "source": [
    "assert sum(results) == 19114"
   ]
  },
  {
   "cell_type": "code",
   "execution_count": 10,
   "id": "5b397ad6",
   "metadata": {},
   "outputs": [],
   "source": [
    "text = open(\"../advent_of_code_input/2023/day_19.txt\", \"r\").readlines()\n",
    "text = [i.split(\"\\n\")[0] for i in text]"
   ]
  },
  {
   "cell_type": "code",
   "execution_count": 11,
   "id": "f166fa43",
   "metadata": {},
   "outputs": [],
   "source": [
    "workflow, parts = parse_text(text)"
   ]
  },
  {
   "cell_type": "code",
   "execution_count": 12,
   "id": "7c76bafd",
   "metadata": {},
   "outputs": [],
   "source": [
    "results = []\n",
    "\n",
    "for part in parts:\n",
    "    result = follow_workflow(workflow, part)\n",
    "    results.append(result)"
   ]
  },
  {
   "cell_type": "code",
   "execution_count": 13,
   "id": "1a96fc7d",
   "metadata": {},
   "outputs": [
    {
     "data": {
      "text/plain": [
       "480738"
      ]
     },
     "execution_count": 13,
     "metadata": {},
     "output_type": "execute_result"
    }
   ],
   "source": [
    "sum(results)"
   ]
  },
  {
   "cell_type": "markdown",
   "id": "fa67fe8b",
   "metadata": {},
   "source": [
    "## Part 2"
   ]
  },
  {
   "cell_type": "code",
   "execution_count": 14,
   "id": "37cdbda4",
   "metadata": {},
   "outputs": [],
   "source": [
    "workflow, parts = parse_text(test)"
   ]
  },
  {
   "cell_type": "code",
   "execution_count": 15,
   "id": "b852d3dc",
   "metadata": {},
   "outputs": [],
   "source": [
    "def split_interval(interval, operator, value):\n",
    "        \n",
    "    if operator == \"<\":\n",
    "        \n",
    "        if interval[0] < value and interval[1] > value:\n",
    "            \n",
    "            return [interval[0], value-1], [value, interval[1]]\n",
    "        \n",
    "        elif interval[1] < value:\n",
    "                \n",
    "                return [], interval\n",
    "            \n",
    "        else:\n",
    "            \n",
    "            return interval, []\n",
    "        \n",
    "    else:\n",
    "\n",
    "        if interval[0] < value and interval[1] > value:\n",
    "            \n",
    "            return [value+1, interval[1]], [interval[0], value]\n",
    "        \n",
    "        elif interval[1] < value:\n",
    "                \n",
    "                return [], interval\n",
    "        \n",
    "        else:\n",
    "            \n",
    "            return interval, []\n",
    "\n",
    "        \n",
    "def calculate_combinations(categories):\n",
    "    \n",
    "    results = 0\n",
    "    \n",
    "    for category in categories:\n",
    "        result = 1\n",
    "        for i,j in category.values():\n",
    "            result *= (j-i)+1\n",
    "\n",
    "        results += result\n",
    "\n",
    "    return results"
   ]
  },
  {
   "cell_type": "code",
   "execution_count": 16,
   "id": "9b928fe2",
   "metadata": {},
   "outputs": [],
   "source": [
    "def get_accepted_range(workflow):\n",
    "\n",
    "    results = []\n",
    "    categories = {\"x\": [1,4000], \"a\": [1,4000], \"s\": [1,4000], \"m\": [1,4000]}\n",
    "\n",
    "    q = deque([(workflow[\"in\"], categories)])\n",
    "\n",
    "    while q:\n",
    "\n",
    "        for _ in range(len(q)):\n",
    "\n",
    "            rules, categories = q.popleft()\n",
    "            \n",
    "            for var, op, val, rule_name in rules[:-1]:\n",
    "\n",
    "                category = categories[var]\n",
    "                interval_1, interval_2 = split_interval(category, op, val)\n",
    "\n",
    "                if interval_1 and interval_2:\n",
    "\n",
    "                    new_categories = categories.copy()\n",
    "                    new_categories[var] = interval_1\n",
    "\n",
    "                    if rule_name == \"A\":\n",
    "                        results.append(new_categories)\n",
    "                    elif rule_name == \"R\":\n",
    "                        pass\n",
    "                    else:\n",
    "                        q.append([workflow[rule_name], new_categories])\n",
    "\n",
    "                    categories[var] = interval_2\n",
    "\n",
    "            if rules[-1] == \"A\":\n",
    "                results.append(categories)\n",
    "            elif rules[-1] == \"R\":\n",
    "                continue\n",
    "            else:\n",
    "                q.append((workflow[rules[-1]], categories))\n",
    "\n",
    "    return results"
   ]
  },
  {
   "cell_type": "code",
   "execution_count": 17,
   "id": "c627e6a5",
   "metadata": {},
   "outputs": [],
   "source": [
    "\n",
    "workflow, parts = parse_text(test)\n",
    "results = get_accepted_range(workflow)\n",
    "results = calculate_combinations(results)"
   ]
  },
  {
   "cell_type": "code",
   "execution_count": 18,
   "id": "a0c153ee",
   "metadata": {},
   "outputs": [],
   "source": [
    "assert results == 167409079868000"
   ]
  },
  {
   "cell_type": "code",
   "execution_count": 19,
   "id": "72b24808",
   "metadata": {},
   "outputs": [],
   "source": [
    "text = open(\"../advent_of_code_input/2023/day_19.txt\", \"r\").readlines()\n",
    "text = [i.split(\"\\n\")[0] for i in text]"
   ]
  },
  {
   "cell_type": "code",
   "execution_count": 20,
   "id": "b67bda8d",
   "metadata": {},
   "outputs": [],
   "source": [
    "workflow, parts = parse_text(text)"
   ]
  },
  {
   "cell_type": "code",
   "execution_count": 21,
   "id": "003237e0",
   "metadata": {},
   "outputs": [],
   "source": [
    "\n",
    "workflow, parts = parse_text(text)\n",
    "results = get_accepted_range(workflow)\n",
    "results = calculate_combinations(results)"
   ]
  },
  {
   "cell_type": "code",
   "execution_count": 22,
   "id": "24b00fa9",
   "metadata": {},
   "outputs": [
    {
     "data": {
      "text/plain": [
       "131550418841958"
      ]
     },
     "execution_count": 22,
     "metadata": {},
     "output_type": "execute_result"
    }
   ],
   "source": [
    "results"
   ]
  }
 ],
 "metadata": {
  "kernelspec": {
   "display_name": "Python 3 (ipykernel)",
   "language": "python",
   "name": "python3"
  },
  "language_info": {
   "codemirror_mode": {
    "name": "ipython",
    "version": 3
   },
   "file_extension": ".py",
   "mimetype": "text/x-python",
   "name": "python",
   "nbconvert_exporter": "python",
   "pygments_lexer": "ipython3",
   "version": "3.11.5"
  }
 },
 "nbformat": 4,
 "nbformat_minor": 5
}
