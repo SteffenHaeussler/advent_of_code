{
 "cells": [
  {
   "cell_type": "markdown",
   "id": "3a9d1a3a",
   "metadata": {},
   "source": [
    "## Part 1"
   ]
  },
  {
   "cell_type": "code",
   "execution_count": 1,
   "id": "3c922775",
   "metadata": {},
   "outputs": [],
   "source": [
    "test = [\n",
    "\"...#......\",\n",
    "\".......#..\",\n",
    "\"#.........\",\n",
    "\"..........\",\n",
    "\"......#...\",\n",
    "\".#........\",\n",
    "\".........#\",\n",
    "\"..........\",\n",
    "\".......#..\",\n",
    "\"#...#.....\"\n",
    "]"
   ]
  },
  {
   "cell_type": "code",
   "execution_count": 2,
   "id": "fbc37a0d",
   "metadata": {},
   "outputs": [],
   "source": [
    "def get_coordinates(grid):\n",
    "    coords = []\n",
    "    set_rows = set()\n",
    "    set_cols = set()\n",
    "\n",
    "    for row in range(len(grid)):\n",
    "        for col in range(len(grid[0])):\n",
    "            if grid[row][col] == \"#\":\n",
    "                coords.append([row,col])\n",
    "                set_rows.add(row)\n",
    "                set_cols.add(col)\n",
    "                \n",
    "    return coords, set_rows, set_cols\n",
    "\n",
    "\n",
    "def get_empty_parts(grid, set_rows, set_cols):\n",
    "    \n",
    "    missing_rows = set(range(len(grid))) - set_rows\n",
    "    missing_cols = set(range(len(grid[0]))) - set_cols\n",
    "    \n",
    "    return missing_rows, missing_cols\n",
    "\n",
    "\n",
    "def update_coordinates(coords, missing_rows, missing_cols):\n",
    "\n",
    "    new_coords = []\n",
    "\n",
    "    for i in range(len(coords)):\n",
    "        row, col = coords[i]\n",
    "        add_row = sum([row > i for i  in missing_rows])\n",
    "        add_col = sum([col > i for i  in missing_cols])\n",
    "\n",
    "        new_coords.append([row + add_row, col + add_col])\n",
    "        \n",
    "    return new_coords\n",
    "\n",
    "\n",
    "def calculate_distances(coords):\n",
    "    \n",
    "    distances = []\n",
    "\n",
    "    for i in range(len(coords)-1):\n",
    "        galaxy_1 = coords[i]\n",
    "        for j in range(i+1, len(coords)):\n",
    "            galaxy_2 = coords[j]\n",
    "\n",
    "            distance = abs(galaxy_2[0]-galaxy_1[0]) + abs(galaxy_2[1]-galaxy_1[1])\n",
    "            distances.append(distance)\n",
    "            \n",
    "    return distances"
   ]
  },
  {
   "cell_type": "code",
   "execution_count": 3,
   "id": "a0069da5",
   "metadata": {},
   "outputs": [],
   "source": [
    "coords, set_rows, set_cols = get_coordinates(test)\n",
    "missing_rows, missing_cols = get_empty_parts(test, set_rows, set_cols)\n",
    "coords = update_coordinates(coords, missing_rows, missing_cols)\n",
    "distances = calculate_distances(coords)"
   ]
  },
  {
   "cell_type": "code",
   "execution_count": 4,
   "id": "d709a2ff",
   "metadata": {},
   "outputs": [],
   "source": [
    "assert sum(distances) == 374"
   ]
  },
  {
   "cell_type": "code",
   "execution_count": 5,
   "id": "3fd0ab88",
   "metadata": {},
   "outputs": [],
   "source": [
    "text = open(\"../advent_of_code_input/2023/day_11.txt\", \"r\").readlines()\n",
    "text = [i.split(\"\\n\")[0] for i in text]"
   ]
  },
  {
   "cell_type": "code",
   "execution_count": 6,
   "id": "8029dc3b",
   "metadata": {},
   "outputs": [],
   "source": [
    "coords, set_rows, set_cols = get_coordinates(text)\n",
    "missing_rows, missing_cols = get_empty_parts(text, set_rows, set_cols)\n",
    "coords = update_coordinates(coords, missing_rows, missing_cols)\n",
    "distances = calculate_distances(coords)"
   ]
  },
  {
   "cell_type": "code",
   "execution_count": 7,
   "id": "8d7591b0",
   "metadata": {},
   "outputs": [
    {
     "data": {
      "text/plain": [
       "9742154"
      ]
     },
     "execution_count": 7,
     "metadata": {},
     "output_type": "execute_result"
    }
   ],
   "source": [
    "sum(distances)"
   ]
  },
  {
   "cell_type": "markdown",
   "id": "9848e764",
   "metadata": {},
   "source": [
    "## Part 2"
   ]
  },
  {
   "cell_type": "code",
   "execution_count": 8,
   "id": "b36e99f3",
   "metadata": {},
   "outputs": [],
   "source": [
    "test = [\n",
    "\"...#......\",\n",
    "\".......#..\",\n",
    "\"#.........\",\n",
    "\"..........\",\n",
    "\"......#...\",\n",
    "\".#........\",\n",
    "\".........#\",\n",
    "\"..........\",\n",
    "\".......#..\",\n",
    "\"#...#.....\"\n",
    "]"
   ]
  },
  {
   "cell_type": "code",
   "execution_count": 9,
   "id": "94e3508a",
   "metadata": {},
   "outputs": [],
   "source": [
    "def update_coordinates(coords, missing_rows, missing_cols, galaxy_age=1):\n",
    "\n",
    "    new_coords = []\n",
    "\n",
    "    for i in range(len(coords)):\n",
    "        row, col = coords[i]\n",
    "        add_row = sum([row > i for i  in missing_rows]) * galaxy_age\n",
    "        add_col = sum([col > i for i  in missing_cols]) * galaxy_age\n",
    "\n",
    "        new_coords.append([row + add_row, col + add_col])\n",
    "        \n",
    "    return new_coords\n"
   ]
  },
  {
   "cell_type": "code",
   "execution_count": 10,
   "id": "98af46ee",
   "metadata": {},
   "outputs": [],
   "source": [
    "coords, set_rows, set_cols = get_coordinates(test)\n",
    "missing_rows, missing_cols = get_empty_parts(test, set_rows, set_cols)\n",
    "coords = update_coordinates(coords, missing_rows, missing_cols, 10-1)\n",
    "distances = calculate_distances(coords)"
   ]
  },
  {
   "cell_type": "code",
   "execution_count": 11,
   "id": "4d597f50",
   "metadata": {},
   "outputs": [],
   "source": [
    "assert sum(distances) == 1030"
   ]
  },
  {
   "cell_type": "code",
   "execution_count": 12,
   "id": "3d8d4eca",
   "metadata": {},
   "outputs": [],
   "source": [
    "coords, set_rows, set_cols = get_coordinates(test)\n",
    "missing_rows, missing_cols = get_empty_parts(test, set_rows, set_cols)\n",
    "coords = update_coordinates(coords, missing_rows, missing_cols, 100-1)\n",
    "distances = calculate_distances(coords)"
   ]
  },
  {
   "cell_type": "code",
   "execution_count": 13,
   "id": "9f975bec",
   "metadata": {},
   "outputs": [],
   "source": [
    "assert sum(distances) == 8410"
   ]
  },
  {
   "cell_type": "code",
   "execution_count": 14,
   "id": "4a9bf5a0",
   "metadata": {},
   "outputs": [],
   "source": [
    "text = open(\"../advent_of_code_input/2023/day_11.txt\", \"r\").readlines()\n",
    "text = [i.split(\"\\n\")[0] for i in text]"
   ]
  },
  {
   "cell_type": "code",
   "execution_count": 15,
   "id": "122d8d20",
   "metadata": {},
   "outputs": [],
   "source": [
    "coords, set_rows, set_cols = get_coordinates(text)\n",
    "missing_rows, missing_cols = get_empty_parts(text, set_rows, set_cols)\n",
    "coords = update_coordinates(coords, missing_rows, missing_cols, 1_000_000-1)\n",
    "distances = calculate_distances(coords)"
   ]
  },
  {
   "cell_type": "code",
   "execution_count": 16,
   "id": "134f65f2",
   "metadata": {},
   "outputs": [
    {
     "data": {
      "text/plain": [
       "411142919886"
      ]
     },
     "execution_count": 16,
     "metadata": {},
     "output_type": "execute_result"
    }
   ],
   "source": [
    "sum(distances)"
   ]
  }
 ],
 "metadata": {
  "kernelspec": {
   "display_name": "Python 3 (ipykernel)",
   "language": "python",
   "name": "python3"
  },
  "language_info": {
   "codemirror_mode": {
    "name": "ipython",
    "version": 3
   },
   "file_extension": ".py",
   "mimetype": "text/x-python",
   "name": "python",
   "nbconvert_exporter": "python",
   "pygments_lexer": "ipython3",
   "version": "3.11.5"
  }
 },
 "nbformat": 4,
 "nbformat_minor": 5
}
