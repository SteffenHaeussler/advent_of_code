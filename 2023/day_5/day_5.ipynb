{
 "cells": [
  {
   "cell_type": "code",
   "execution_count": 1,
   "id": "3c922775",
   "metadata": {},
   "outputs": [],
   "source": [
    "test = [\n",
    "\"seeds: 79 14 55 13\",\n",
    "\"\",\n",
    "\"seed-to-soil map:\",\n",
    "\"50 98 2\",\n",
    "\"52 50 48\",\n",
    "\"\",\n",
    "\"soil-to-fertilizer map:\",\n",
    "\"0 15 37\",\n",
    "\"37 52 2\",\n",
    "\"39 0 15\",\\\n",
    "\"\",\n",
    "\"fertilizer-to-water map:\",\n",
    "\"49 53 8\",\n",
    "\"0 11 42\",\n",
    "\"42 0 7\",\n",
    "\"57 7 4\",\n",
    "\"\",\n",
    "\"water-to-light map:\",\n",
    "\"88 18 7\",\n",
    "\"18 25 70\",\n",
    "\"\",\n",
    "\"light-to-temperature map:\",\n",
    "\"45 77 23\",\n",
    "\"81 45 19\",\n",
    "\"68 64 13\",\n",
    "\"\",\n",
    "\"temperature-to-humidity map:\",\n",
    "\"0 69 1\",\n",
    "\"1 0 69\",\n",
    "\"\",\n",
    "\"humidity-to-location map:\",\n",
    "\"60 56 37\",\n",
    "\"56 93 4\"\n",
    "]"
   ]
  },
  {
   "cell_type": "code",
   "execution_count": 2,
   "id": "95914cf0",
   "metadata": {},
   "outputs": [],
   "source": [
    "test"
   ]
  },
  {
   "cell_type": "code",
   "execution_count": 3,
   "id": "ed64c182",
   "metadata": {},
   "outputs": [],
   "source": [
    "pnt = 0\n",
    "_map = {}\n",
    "q = [\"sts\", \"stf\",\"ftw\",\"wtl\",\"ltt\",\"tth\",\"htl\"]\n",
    "\n",
    "for line in test:\n",
    "    \n",
    "    if not line:\n",
    "        continue\n",
    "        \n",
    "    if \"seeds\" in line:\n",
    "        line = line.split(\": \")[1]\n",
    "        seeds = line.split(\" \")\n",
    "        _map[\"seeds\"] = [int(i) for i in seeds]\n",
    "        continue\n",
    "        \n",
    "    if \"map\" in line:\n",
    "        \n",
    "        if pnt > 0:\n",
    "            _map[current] = temp\n",
    "\n",
    "        temp = []\n",
    "        current = q[pnt]\n",
    "        pnt += 1\n",
    "        continue\n",
    "        \n",
    "    line = line.split(\" \")\n",
    "    temp.append([int(i) for i in line])\n",
    "    \n",
    "_map[current] = temp"
   ]
  },
  {
   "cell_type": "code",
   "execution_count": 4,
   "id": "15074bf6",
   "metadata": {},
   "outputs": [],
   "source": [
    "_map"
   ]
  },
  {
   "cell_type": "code",
   "execution_count": 5,
   "id": "c084c3e9",
   "metadata": {},
   "outputs": [],
   "source": [
    "locations = []\n",
    "\n",
    "for loc in _map['seeds']:\n",
    "    \n",
    "    for k in q:\n",
    "        for val, start, _range in _map[k]: \n",
    "\n",
    "            if loc >= start and loc < (start+_range):\n",
    "                diff  = val - start\n",
    "                loc += diff\n",
    "                break\n",
    "\n",
    "        \n",
    "    locations.append(loc)"
   ]
  },
  {
   "cell_type": "code",
   "execution_count": 6,
   "id": "706f4561",
   "metadata": {},
   "outputs": [],
   "source": [
    "locations"
   ]
  },
  {
   "cell_type": "code",
   "execution_count": 7,
   "id": "6111ce86",
   "metadata": {},
   "outputs": [],
   "source": [
    "min(locations)==35"
   ]
  },
  {
   "cell_type": "markdown",
   "id": "3a9d1a3a",
   "metadata": {},
   "source": [
    "Part 1"
   ]
  },
  {
   "cell_type": "code",
   "execution_count": 8,
   "id": "3fd0ab88",
   "metadata": {},
   "outputs": [],
   "source": [
    "text = open(\"../advent_of_code_input/2023/day_5.txt\", \"r\").readlines()\n",
    "text = [i.split(\"\\n\")[0] for i in text]"
   ]
  },
  {
   "cell_type": "code",
   "execution_count": 9,
   "id": "f13187cd",
   "metadata": {},
   "outputs": [],
   "source": [
    "pnt = 0\n",
    "_map = {}\n",
    "q = [\"sts\", \"stf\",\"ftw\",\"wtl\",\"ltt\",\"tth\",\"htl\"]\n",
    "\n",
    "for line in text:\n",
    "    \n",
    "    if not line:\n",
    "        continue\n",
    "        \n",
    "    if \"seeds\" in line:\n",
    "        line = line.split(\": \")[1]\n",
    "        seeds = line.split(\" \")\n",
    "        _map[\"seeds\"] = [int(i) for i in seeds]\n",
    "        continue\n",
    "        \n",
    "    if \"map\" in line:\n",
    "        \n",
    "        if pnt > 0:\n",
    "            _map[current] = temp\n",
    "\n",
    "        temp = []\n",
    "        current = q[pnt]\n",
    "        pnt += 1\n",
    "        continue\n",
    "        \n",
    "    line = line.split(\" \")\n",
    "    temp.append([int(i) for i in line])\n",
    "    \n",
    "_map[current] = temp"
   ]
  },
  {
   "cell_type": "code",
   "execution_count": 10,
   "id": "060ab9bd",
   "metadata": {},
   "outputs": [],
   "source": [
    "locations = []\n",
    "\n",
    "for loc in _map['seeds']:\n",
    "    \n",
    "    for k in q:\n",
    "        for val, start, _range in _map[k]: \n",
    "\n",
    "            if loc >= start and loc < (start+_range):\n",
    "                diff  = val - start\n",
    "                loc += diff\n",
    "                break\n",
    "\n",
    "        \n",
    "    locations.append(loc)"
   ]
  },
  {
   "cell_type": "code",
   "execution_count": 11,
   "id": "89244dda",
   "metadata": {},
   "outputs": [
    {
     "data": {
      "text/plain": [
       "486613012"
      ]
     },
     "execution_count": 11,
     "metadata": {},
     "output_type": "execute_result"
    }
   ],
   "source": [
    "min(locations)"
   ]
  },
  {
   "cell_type": "markdown",
   "id": "9848e764",
   "metadata": {},
   "source": [
    "## Part 2"
   ]
  },
  {
   "cell_type": "code",
   "execution_count": 12,
   "id": "716765f0",
   "metadata": {},
   "outputs": [],
   "source": [
    "test = [\n",
    "\"seeds: 79 14 55 13\",\n",
    "\"\",\n",
    "\"seed-to-soil map:\",\n",
    "\"50 98 2\",\n",
    "\"52 50 48\",\n",
    "\"\",\n",
    "\"soil-to-fertilizer map:\",\n",
    "\"0 15 37\",\n",
    "\"37 52 2\",\n",
    "\"39 0 15\",\\\n",
    "\"\",\n",
    "\"fertilizer-to-water map:\",\n",
    "\"49 53 8\",\n",
    "\"0 11 42\",\n",
    "\"42 0 7\",\n",
    "\"57 7 4\",\n",
    "\"\",\n",
    "\"water-to-light map:\",\n",
    "\"88 18 7\",\n",
    "\"18 25 70\",\n",
    "\"\",\n",
    "\"light-to-temperature map:\",\n",
    "\"45 77 23\",\n",
    "\"81 45 19\",\n",
    "\"68 64 13\",\n",
    "\"\",\n",
    "\"temperature-to-humidity map:\",\n",
    "\"0 69 1\",\n",
    "\"1 0 69\",\n",
    "\"\",\n",
    "\"humidity-to-location map:\",\n",
    "\"60 56 37\",\n",
    "\"56 93 4\"\n",
    "]"
   ]
  },
  {
   "cell_type": "code",
   "execution_count": 13,
   "id": "4f9c7ab4",
   "metadata": {},
   "outputs": [
    {
     "data": {
      "text/plain": [
       "['seeds: 79 14 55 13',\n",
       " '',\n",
       " 'seed-to-soil map:',\n",
       " '50 98 2',\n",
       " '52 50 48',\n",
       " '',\n",
       " 'soil-to-fertilizer map:',\n",
       " '0 15 37',\n",
       " '37 52 2',\n",
       " '39 0 15',\n",
       " '',\n",
       " 'fertilizer-to-water map:',\n",
       " '49 53 8',\n",
       " '0 11 42',\n",
       " '42 0 7',\n",
       " '57 7 4',\n",
       " '',\n",
       " 'water-to-light map:',\n",
       " '88 18 7',\n",
       " '18 25 70',\n",
       " '',\n",
       " 'light-to-temperature map:',\n",
       " '45 77 23',\n",
       " '81 45 19',\n",
       " '68 64 13',\n",
       " '',\n",
       " 'temperature-to-humidity map:',\n",
       " '0 69 1',\n",
       " '1 0 69',\n",
       " '',\n",
       " 'humidity-to-location map:',\n",
       " '60 56 37',\n",
       " '56 93 4']"
      ]
     },
     "execution_count": 13,
     "metadata": {},
     "output_type": "execute_result"
    }
   ],
   "source": [
    "test"
   ]
  },
  {
   "cell_type": "code",
   "execution_count": 14,
   "id": "bd54f5d6",
   "metadata": {},
   "outputs": [],
   "source": [
    "pnt = 0\n",
    "_map = {}\n",
    "q = [\"sts\", \"stf\",\"ftw\",\"wtl\",\"ltt\",\"tth\",\"htl\"]\n",
    "\n",
    "for line in test:\n",
    "    \n",
    "    if not line:\n",
    "        continue\n",
    "        \n",
    "    if \"seeds\" in line:\n",
    "        temp = []\n",
    "        line = line.split(\": \")[1]\n",
    "        seeds = line.split(\" \")\n",
    "        seeds = [int(i) for i in seeds]\n",
    "        \n",
    "        for i in range(0,len(seeds),2):\n",
    "            temp.extend(list(range(seeds[i],seeds[i]+seeds[i+1])))\n",
    "        _map[\"seeds\"] = temp\n",
    "        continue\n",
    "        \n",
    "    if \"map\" in line:\n",
    "        \n",
    "        if pnt > 0:\n",
    "            _map[current] = temp\n",
    "\n",
    "        temp = []\n",
    "        current = q[pnt]\n",
    "        pnt += 1\n",
    "        continue\n",
    "        \n",
    "    line = line.split(\" \")\n",
    "    temp.append([int(i) for i in line])\n",
    "    \n",
    "_map[current] = temp"
   ]
  },
  {
   "cell_type": "code",
   "execution_count": 15,
   "id": "77824029",
   "metadata": {},
   "outputs": [
    {
     "data": {
      "text/plain": [
       "{'seeds': [79,\n",
       "  80,\n",
       "  81,\n",
       "  82,\n",
       "  83,\n",
       "  84,\n",
       "  85,\n",
       "  86,\n",
       "  87,\n",
       "  88,\n",
       "  89,\n",
       "  90,\n",
       "  91,\n",
       "  92,\n",
       "  55,\n",
       "  56,\n",
       "  57,\n",
       "  58,\n",
       "  59,\n",
       "  60,\n",
       "  61,\n",
       "  62,\n",
       "  63,\n",
       "  64,\n",
       "  65,\n",
       "  66,\n",
       "  67],\n",
       " 'sts': [[50, 98, 2], [52, 50, 48]],\n",
       " 'stf': [[0, 15, 37], [37, 52, 2], [39, 0, 15]],\n",
       " 'ftw': [[49, 53, 8], [0, 11, 42], [42, 0, 7], [57, 7, 4]],\n",
       " 'wtl': [[88, 18, 7], [18, 25, 70]],\n",
       " 'ltt': [[45, 77, 23], [81, 45, 19], [68, 64, 13]],\n",
       " 'tth': [[0, 69, 1], [1, 0, 69]],\n",
       " 'htl': [[60, 56, 37], [56, 93, 4]]}"
      ]
     },
     "execution_count": 15,
     "metadata": {},
     "output_type": "execute_result"
    }
   ],
   "source": [
    "_map"
   ]
  },
  {
   "cell_type": "code",
   "execution_count": 16,
   "id": "95555856",
   "metadata": {},
   "outputs": [],
   "source": [
    "locations = []\n",
    "\n",
    "for loc in _map['seeds']:\n",
    "    \n",
    "    for k in q:\n",
    "        for val, start, _range in _map[k]: \n",
    "\n",
    "            if loc >= start and loc < (start+_range):\n",
    "                diff  = val - start\n",
    "                loc += diff\n",
    "                break\n",
    "\n",
    "        \n",
    "    locations.append(loc)"
   ]
  },
  {
   "cell_type": "code",
   "execution_count": 17,
   "id": "6d7651e3",
   "metadata": {},
   "outputs": [
    {
     "data": {
      "text/plain": [
       "True"
      ]
     },
     "execution_count": 17,
     "metadata": {},
     "output_type": "execute_result"
    }
   ],
   "source": [
    "min(locations)==46"
   ]
  },
  {
   "cell_type": "code",
   "execution_count": 18,
   "id": "8512cc6c",
   "metadata": {},
   "outputs": [],
   "source": [
    "text = open(\"../advent_of_code_input/2023/day_5.txt\", \"r\").readlines()\n",
    "text = [i.split(\"\\n\")[0] for i in text]"
   ]
  },
  {
   "cell_type": "code",
   "execution_count": 19,
   "id": "9ab4df2a",
   "metadata": {},
   "outputs": [],
   "source": [
    "pnt = 0\n",
    "_map = {}\n",
    "q = [\"sts\", \"stf\",\"ftw\",\"wtl\",\"ltt\",\"tth\",\"htl\"]\n",
    "\n",
    "for line in text:\n",
    "    \n",
    "    if not line:\n",
    "        continue\n",
    "        \n",
    "    if \"seeds\" in line:\n",
    "        temp = []\n",
    "        line = line.split(\": \")[1]\n",
    "        seeds = line.split(\" \")\n",
    "        seeds = [int(i) for i in seeds]\n",
    "        \n",
    "        for i in range(0,len(seeds),2):\n",
    "            temp.extend(list(range(seeds[i],seeds[i]+seeds[i+1])))\n",
    "        _map[\"seeds\"] = temp\n",
    "        continue\n",
    "        \n",
    "    if \"map\" in line:\n",
    "        \n",
    "        if pnt > 0:\n",
    "            _map[current] = temp\n",
    "\n",
    "        temp = []\n",
    "        current = q[pnt]\n",
    "        pnt += 1\n",
    "        continue\n",
    "        \n",
    "    line = line.split(\" \")\n",
    "    temp.append([int(i) for i in line])\n",
    "    \n",
    "_map[current] = temp"
   ]
  },
  {
   "cell_type": "code",
   "execution_count": 20,
   "id": "5ae4effd",
   "metadata": {},
   "outputs": [],
   "source": [
    "from tqdm.auto import tqdm"
   ]
  },
  {
   "cell_type": "code",
   "execution_count": 21,
   "id": "f55df38a",
   "metadata": {},
   "outputs": [
    {
     "data": {
      "application/vnd.jupyter.widget-view+json": {
       "model_id": "360a3a1c7fb04b618bdf3abc742b28f7",
       "version_major": 2,
       "version_minor": 0
      },
      "text/plain": [
       "  0%|          | 0/1966850685 [00:00<?, ?it/s]"
      ]
     },
     "metadata": {},
     "output_type": "display_data"
    }
   ],
   "source": [
    "locations = []\n",
    "\n",
    "for loc in tqdm(_map['seeds']):\n",
    "    \n",
    "    for k in q:\n",
    "        for val, start, _range in _map[k]: \n",
    "\n",
    "            if loc >= start and loc < (start+_range):\n",
    "                diff  = val - start\n",
    "                loc += diff\n",
    "                break\n",
    "\n",
    "        \n",
    "    locations.append(loc)"
   ]
  },
  {
   "cell_type": "code",
   "execution_count": 22,
   "id": "c4ad060c",
   "metadata": {},
   "outputs": [
    {
     "data": {
      "text/plain": [
       "56931769"
      ]
     },
     "execution_count": 22,
     "metadata": {},
     "output_type": "execute_result"
    }
   ],
   "source": [
    "min(locations)"
   ]
  },
  {
   "cell_type": "code",
   "execution_count": 23,
   "id": "b4528900",
   "metadata": {},
   "outputs": [
    {
     "data": {
      "text/plain": [
       "2"
      ]
     },
     "execution_count": 23,
     "metadata": {},
     "output_type": "execute_result"
    }
   ],
   "source": [
    "1+1"
   ]
  },
  {
   "cell_type": "code",
   "execution_count": null,
   "id": "3cc37626",
   "metadata": {},
   "outputs": [],
   "source": []
  }
 ],
 "metadata": {
  "kernelspec": {
   "display_name": "Python 3 (ipykernel)",
   "language": "python",
   "name": "python3"
  },
  "language_info": {
   "codemirror_mode": {
    "name": "ipython",
    "version": 3
   },
   "file_extension": ".py",
   "mimetype": "text/x-python",
   "name": "python",
   "nbconvert_exporter": "python",
   "pygments_lexer": "ipython3",
   "version": "3.11.5"
  }
 },
 "nbformat": 4,
 "nbformat_minor": 5
}
