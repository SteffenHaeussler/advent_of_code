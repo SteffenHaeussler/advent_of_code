{
 "cells": [
  {
   "cell_type": "markdown",
   "id": "3a9d1a3a",
   "metadata": {},
   "source": [
    "## Part 1"
   ]
  },
  {
   "cell_type": "code",
   "execution_count": 1,
   "id": "3c922775",
   "metadata": {},
   "outputs": [],
   "source": [
    "test = [\n",
    "\"O....#....\",\n",
    "\"O.OO#....#\",\n",
    "\".....##...\",\n",
    "\"OO.#O....O\",\n",
    "\".O.....O#.\",\n",
    "\"O.#..O.#.#\",\n",
    "\"..O..#O..O\",\n",
    "\".......O..\",\n",
    "\"#....###..\",\n",
    "\"#OO..#....\"\n",
    "]"
   ]
  },
  {
   "cell_type": "code",
   "execution_count": 2,
   "id": "a83bd599",
   "metadata": {},
   "outputs": [],
   "source": [
    "def update_grid(grid):\n",
    "    \n",
    "    grid = [\"\".join(reversed(x)) for x in zip(*grid)]\n",
    "    grid = [[\"\".join(sorted(j)) for j in i.split(\"#\")] for i in grid]\n",
    "    grid = [\"#\".join(i) for i in grid]\n",
    "    \n",
    "    return grid"
   ]
  },
  {
   "cell_type": "code",
   "execution_count": 3,
   "id": "53f8055d",
   "metadata": {},
   "outputs": [],
   "source": [
    "def calculate_results(grid,adjust=False):\n",
    "    \n",
    "    # final rotation if needed\n",
    "    if adjust:\n",
    "        grid = [\"\".join(reversed(x)) for x in zip(*grid)]\n",
    "\n",
    "        \n",
    "    results = []\n",
    "\n",
    "    for row in grid:\n",
    "        result = [n for n,i in enumerate(row,1) if i == \"O\"]\n",
    "        results.append(sum(result))\n",
    "        \n",
    "    return results"
   ]
  },
  {
   "cell_type": "code",
   "execution_count": 4,
   "id": "c7bb1e10",
   "metadata": {},
   "outputs": [],
   "source": [
    "grid = update_grid(test)\n",
    "results = calculate_results(grid)"
   ]
  },
  {
   "cell_type": "code",
   "execution_count": 5,
   "id": "1c7877e4",
   "metadata": {},
   "outputs": [],
   "source": [
    "assert sum(results)== 136"
   ]
  },
  {
   "cell_type": "code",
   "execution_count": 6,
   "id": "3fd0ab88",
   "metadata": {},
   "outputs": [],
   "source": [
    "text = open(\"../advent_of_code_input/2023/day_14.txt\", \"r\").readlines()\n",
    "text = [i.split(\"\\n\")[0] for i in text]"
   ]
  },
  {
   "cell_type": "code",
   "execution_count": 7,
   "id": "8029dc3b",
   "metadata": {},
   "outputs": [],
   "source": [
    "grid = update_grid(text)\n",
    "results = calculate_results(grid)"
   ]
  },
  {
   "cell_type": "code",
   "execution_count": 8,
   "id": "ef260b43",
   "metadata": {},
   "outputs": [
    {
     "data": {
      "text/plain": [
       "110821"
      ]
     },
     "execution_count": 8,
     "metadata": {},
     "output_type": "execute_result"
    }
   ],
   "source": [
    "sum(results)"
   ]
  },
  {
   "cell_type": "markdown",
   "id": "fd2940fc",
   "metadata": {},
   "source": [
    "## Part 2"
   ]
  },
  {
   "cell_type": "code",
   "execution_count": 9,
   "id": "a573440a",
   "metadata": {},
   "outputs": [],
   "source": [
    "from functools import cache"
   ]
  },
  {
   "cell_type": "code",
   "execution_count": 10,
   "id": "6925a71e",
   "metadata": {},
   "outputs": [],
   "source": [
    "grid = [\n",
    "\"O....#....\",\n",
    "\"O.OO#....#\",\n",
    "\".....##...\",\n",
    "\"OO.#O....O\",\n",
    "\".O.....O#.\",\n",
    "\"O.#..O.#.#\",\n",
    "\"..O..#O..O\",\n",
    "\".......O..\",\n",
    "\"#....###..\",\n",
    "\"#OO..#....\"\n",
    "]"
   ]
  },
  {
   "cell_type": "code",
   "execution_count": 11,
   "id": "761f15c3",
   "metadata": {},
   "outputs": [],
   "source": [
    "n_cycles = 1000000000"
   ]
  },
  {
   "cell_type": "code",
   "execution_count": 12,
   "id": "5e8140fc",
   "metadata": {},
   "outputs": [],
   "source": [
    "@cache\n",
    "def cycle_grid(grid):\n",
    "\n",
    "    for _ in [\"north\", \"west\", \"south\", \"east\"]:\n",
    "\n",
    "        grid = update_grid(grid)\n",
    "        \n",
    "    return grid"
   ]
  },
  {
   "cell_type": "code",
   "execution_count": 13,
   "id": "c0350e9a",
   "metadata": {},
   "outputs": [],
   "source": [
    "def get_cycle(grids):\n",
    "    \n",
    "    for i in range(len(grids)-1):\n",
    "        for j in range(i+1, len(grids)):\n",
    "            if grids[i] == grids[j]:\n",
    "                return i,j\n",
    "            \n",
    "    return None"
   ]
  },
  {
   "cell_type": "code",
   "execution_count": 14,
   "id": "4aff9bf7",
   "metadata": {},
   "outputs": [],
   "source": [
    "store_cycle = []\n",
    "found_cycle = False\n",
    "\n",
    "while not found_cycle:\n",
    "        \n",
    "        grid = cycle_grid(tuple(grid))\n",
    "        \n",
    "        if grid in store_cycle:\n",
    "            found_cycle = True\n",
    "\n",
    "        store_cycle.append(grid)\n",
    "    "
   ]
  },
  {
   "cell_type": "code",
   "execution_count": 15,
   "id": "f80a8f47",
   "metadata": {},
   "outputs": [],
   "source": [
    "start,end = get_cycle(store_cycle)\n",
    "_, idx = divmod(n_cycles - start,end-start)\n",
    "assert sum(calculate_results(store_cycle[start + idx-1],True)) == 64"
   ]
  },
  {
   "cell_type": "code",
   "execution_count": 16,
   "id": "20db71e3",
   "metadata": {},
   "outputs": [],
   "source": [
    "text = open(\"../advent_of_code_input/2023/day_14.txt\", \"r\").readlines()\n",
    "grid = [i.split(\"\\n\")[0] for i in text]"
   ]
  },
  {
   "cell_type": "code",
   "execution_count": 17,
   "id": "cc1ee1a7",
   "metadata": {},
   "outputs": [],
   "source": [
    "store_cycle = []\n",
    "found_cycle = False\n",
    "\n",
    "while not found_cycle:\n",
    "        \n",
    "        grid = cycle_grid(tuple(grid))\n",
    "        \n",
    "        if grid in store_cycle:\n",
    "            found_cycle = True\n",
    "\n",
    "        store_cycle.append(grid)\n"
   ]
  },
  {
   "cell_type": "code",
   "execution_count": 18,
   "id": "be0c2e48",
   "metadata": {},
   "outputs": [
    {
     "data": {
      "text/plain": [
       "83516"
      ]
     },
     "execution_count": 18,
     "metadata": {},
     "output_type": "execute_result"
    }
   ],
   "source": [
    "start,end = get_cycle(store_cycle)\n",
    "_, idx = divmod(n_cycles - start,end-start)\n",
    "sum(calculate_results(store_cycle[start + idx-1],True))"
   ]
  }
 ],
 "metadata": {
  "kernelspec": {
   "display_name": "Python 3 (ipykernel)",
   "language": "python",
   "name": "python3"
  },
  "language_info": {
   "codemirror_mode": {
    "name": "ipython",
    "version": 3
   },
   "file_extension": ".py",
   "mimetype": "text/x-python",
   "name": "python",
   "nbconvert_exporter": "python",
   "pygments_lexer": "ipython3",
   "version": "3.11.5"
  }
 },
 "nbformat": 4,
 "nbformat_minor": 5
}
