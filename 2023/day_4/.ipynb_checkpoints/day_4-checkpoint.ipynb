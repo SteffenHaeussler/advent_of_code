{
 "cells": [
  {
   "cell_type": "code",
   "execution_count": 1,
   "id": "3c922775",
   "metadata": {},
   "outputs": [],
   "source": [
    "test = [\n",
    "    \"Card 1: 41 48 83 86 17 | 83 86  6 31 17  9 48 53\",\n",
    "    \"Card 2: 13 32 20 16 61 | 61 30 68 82 17 32 24 19\",\n",
    "    \"Card 3:  1 21 53 59 44 | 69 82 63 72 16 21 14  1\",\n",
    "    \"Card 4: 41 92 73 84 69 | 59 84 76 51 58  5 54 83\",\n",
    "    \"Card 5: 87 83 26 28 32 | 88 30 70 12 93 22 82 36\",\n",
    "    \"Card 6: 31 18 13 56 72 | 74 77 10 23 35 67 36 11\"\n",
    "       ]"
   ]
  },
  {
   "cell_type": "code",
   "execution_count": 2,
   "id": "95914cf0",
   "metadata": {},
   "outputs": [
    {
     "data": {
      "text/plain": [
       "['Card 1: 41 48 83 86 17 | 83 86  6 31 17  9 48 53',\n",
       " 'Card 2: 13 32 20 16 61 | 61 30 68 82 17 32 24 19',\n",
       " 'Card 3:  1 21 53 59 44 | 69 82 63 72 16 21 14  1',\n",
       " 'Card 4: 41 92 73 84 69 | 59 84 76 51 58  5 54 83',\n",
       " 'Card 5: 87 83 26 28 32 | 88 30 70 12 93 22 82 36',\n",
       " 'Card 6: 31 18 13 56 72 | 74 77 10 23 35 67 36 11']"
      ]
     },
     "execution_count": 2,
     "metadata": {},
     "output_type": "execute_result"
    }
   ],
   "source": [
    "test"
   ]
  },
  {
   "cell_type": "code",
   "execution_count": 43,
   "id": "bf3f1abb",
   "metadata": {},
   "outputs": [],
   "source": [
    "data = []\n",
    "\n",
    "for row in test:\n",
    "    clean = row.split(\": \")\n",
    "    winning, cards = clean[1].split(\"|\")\n",
    "    win = winning.strip().split()\n",
    "    cards = cards.strip().split()\n",
    "    \n",
    "    overlaps = len(set(win).intersection(set(cards)))\n",
    "    if overlaps > 1:\n",
    "        overlaps = 2**(overlaps-1)\n",
    "    data.append(overlaps)"
   ]
  },
  {
   "cell_type": "code",
   "execution_count": 44,
   "id": "8ed9d68b",
   "metadata": {},
   "outputs": [
    {
     "data": {
      "text/plain": [
       "13"
      ]
     },
     "execution_count": 44,
     "metadata": {},
     "output_type": "execute_result"
    }
   ],
   "source": [
    "sum(data)"
   ]
  },
  {
   "cell_type": "code",
   "execution_count": 45,
   "id": "b22225af",
   "metadata": {},
   "outputs": [
    {
     "data": {
      "text/plain": [
       "[8, 2, 2, 1, 0, 0]"
      ]
     },
     "execution_count": 45,
     "metadata": {},
     "output_type": "execute_result"
    }
   ],
   "source": [
    "data"
   ]
  },
  {
   "cell_type": "code",
   "execution_count": 46,
   "id": "3fd0ab88",
   "metadata": {},
   "outputs": [],
   "source": [
    "text = open(\"../advent_of_code_input/2023/day_4.txt\", \"r\").readlines()"
   ]
  },
  {
   "cell_type": "code",
   "execution_count": 47,
   "id": "8512cc6c",
   "metadata": {},
   "outputs": [],
   "source": [
    "text = [i.split(\"\\n\")[0] for i in text]"
   ]
  },
  {
   "cell_type": "code",
   "execution_count": 48,
   "id": "f13187cd",
   "metadata": {},
   "outputs": [],
   "source": [
    "data = []\n",
    "\n",
    "for row in text:\n",
    "    clean = row.split(\": \")\n",
    "    winning, cards = clean[1].split(\"|\")\n",
    "    win = winning.strip().split()\n",
    "    cards = cards.strip().split()\n",
    "    \n",
    "    overlaps = len(set(win).intersection(set(cards)))\n",
    "    if overlaps > 1:\n",
    "        overlaps = 2**(overlaps-1)\n",
    "    data.append(overlaps)"
   ]
  },
  {
   "cell_type": "code",
   "execution_count": 49,
   "id": "89244dda",
   "metadata": {},
   "outputs": [
    {
     "data": {
      "text/plain": [
       "25183"
      ]
     },
     "execution_count": 49,
     "metadata": {},
     "output_type": "execute_result"
    }
   ],
   "source": [
    "sum(data)"
   ]
  },
  {
   "cell_type": "markdown",
   "id": "9848e764",
   "metadata": {},
   "source": [
    "## Part 2"
   ]
  },
  {
   "cell_type": "code",
   "execution_count": 50,
   "id": "9ab4df2a",
   "metadata": {},
   "outputs": [],
   "source": [
    "test = [\n",
    "    \"Card 1: 41 48 83 86 17 | 83 86  6 31 17  9 48 53\",\n",
    "    \"Card 2: 13 32 20 16 61 | 61 30 68 82 17 32 24 19\",\n",
    "    \"Card 3:  1 21 53 59 44 | 69 82 63 72 16 21 14  1\",\n",
    "    \"Card 4: 41 92 73 84 69 | 59 84 76 51 58  5 54 83\",\n",
    "    \"Card 5: 87 83 26 28 32 | 88 30 70 12 93 22 82 36\",\n",
    "    \"Card 6: 31 18 13 56 72 | 74 77 10 23 35 67 36 11\"\n",
    "       ]"
   ]
  },
  {
   "cell_type": "code",
   "execution_count": 51,
   "id": "f55df38a",
   "metadata": {},
   "outputs": [
    {
     "data": {
      "text/plain": [
       "['Card 1: 41 48 83 86 17 | 83 86  6 31 17  9 48 53',\n",
       " 'Card 2: 13 32 20 16 61 | 61 30 68 82 17 32 24 19',\n",
       " 'Card 3:  1 21 53 59 44 | 69 82 63 72 16 21 14  1',\n",
       " 'Card 4: 41 92 73 84 69 | 59 84 76 51 58  5 54 83',\n",
       " 'Card 5: 87 83 26 28 32 | 88 30 70 12 93 22 82 36',\n",
       " 'Card 6: 31 18 13 56 72 | 74 77 10 23 35 67 36 11']"
      ]
     },
     "execution_count": 51,
     "metadata": {},
     "output_type": "execute_result"
    }
   ],
   "source": [
    "test"
   ]
  },
  {
   "cell_type": "code",
   "execution_count": 115,
   "id": "f46e7948",
   "metadata": {},
   "outputs": [],
   "source": [
    "data = [1]*len(test)\n",
    "\n",
    "for idx, row in enumerate(test):\n",
    "    clean = row.split(\": \")\n",
    "    winning, cards = clean[1].split(\"|\")\n",
    "    win = winning.strip().split()\n",
    "    cards = cards.strip().split()\n",
    "    \n",
    "    overlaps = len(set(win).intersection(set(cards)))\n",
    "        \n",
    "    options = data[idx]\n",
    "        \n",
    "    if overlaps:\n",
    "        \n",
    "        for i in range(idx+1, idx+1+overlaps):\n",
    "            \n",
    "            if i >= len(data):\n",
    "                continue\n",
    "                \n",
    "            data[i] += options  "
   ]
  },
  {
   "cell_type": "code",
   "execution_count": 116,
   "id": "8e3f5bef",
   "metadata": {},
   "outputs": [
    {
     "data": {
      "text/plain": [
       "30"
      ]
     },
     "execution_count": 116,
     "metadata": {},
     "output_type": "execute_result"
    }
   ],
   "source": [
    "sum(data)"
   ]
  },
  {
   "cell_type": "code",
   "execution_count": 118,
   "id": "bb1a3a07",
   "metadata": {},
   "outputs": [],
   "source": [
    "text = open(\"../advent_of_code_input/2023/day_4.txt\", \"r\").readlines()"
   ]
  },
  {
   "cell_type": "code",
   "execution_count": 119,
   "id": "4b9eb4c2",
   "metadata": {},
   "outputs": [],
   "source": [
    "text = [i.split(\"\\n\")[0] for i in text]"
   ]
  },
  {
   "cell_type": "code",
   "execution_count": 120,
   "id": "c9707f81",
   "metadata": {},
   "outputs": [],
   "source": [
    "data = [1]*len(text)\n",
    "\n",
    "for idx, row in enumerate(text):\n",
    "    clean = row.split(\": \")\n",
    "    winning, cards = clean[1].split(\"|\")\n",
    "    win = winning.strip().split()\n",
    "    cards = cards.strip().split()\n",
    "    \n",
    "    overlaps = len(set(win).intersection(set(cards)))\n",
    "        \n",
    "    options = data[idx]\n",
    "        \n",
    "    if overlaps:\n",
    "        \n",
    "        for i in range(idx+1, idx+1+overlaps):\n",
    "            \n",
    "            if i >= len(data):\n",
    "                continue\n",
    "                \n",
    "            data[i] += options  "
   ]
  },
  {
   "cell_type": "code",
   "execution_count": 121,
   "id": "5e73c26f",
   "metadata": {},
   "outputs": [
    {
     "data": {
      "text/plain": [
       "5667240"
      ]
     },
     "execution_count": 121,
     "metadata": {},
     "output_type": "execute_result"
    }
   ],
   "source": [
    "sum(data)"
   ]
  },
  {
   "cell_type": "code",
   "execution_count": null,
   "id": "7b64eaa3",
   "metadata": {},
   "outputs": [],
   "source": []
  }
 ],
 "metadata": {
  "kernelspec": {
   "display_name": "Python 3 (ipykernel)",
   "language": "python",
   "name": "python3"
  },
  "language_info": {
   "codemirror_mode": {
    "name": "ipython",
    "version": 3
   },
   "file_extension": ".py",
   "mimetype": "text/x-python",
   "name": "python",
   "nbconvert_exporter": "python",
   "pygments_lexer": "ipython3",
   "version": "3.11.5"
  }
 },
 "nbformat": 4,
 "nbformat_minor": 5
}
