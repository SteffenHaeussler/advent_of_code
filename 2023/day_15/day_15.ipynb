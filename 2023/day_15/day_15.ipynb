{
 "cells": [
  {
   "cell_type": "markdown",
   "id": "3a9d1a3a",
   "metadata": {},
   "source": [
    "## Part 1"
   ]
  },
  {
   "cell_type": "code",
   "execution_count": 19,
   "id": "3c922775",
   "metadata": {},
   "outputs": [],
   "source": [
    "test_1 = [\"HASH\"]\n",
    "test_2 = [\"rn=1,cm-,qp=3,cm=2,qp-,pc=4,ot=9,ab=5,pc-,pc=6,ot=7\"]"
   ]
  },
  {
   "cell_type": "code",
   "execution_count": 20,
   "id": "0ebd0676",
   "metadata": {},
   "outputs": [],
   "source": [
    "test_2 = test_2[0].split(\",\")"
   ]
  },
  {
   "cell_type": "code",
   "execution_count": 21,
   "id": "75ebccfd",
   "metadata": {},
   "outputs": [],
   "source": [
    "def get_hashes(sequences):\n",
    "\n",
    "    results = []\n",
    "\n",
    "    for seq in sequences:\n",
    "\n",
    "        current = 0\n",
    "        for s in seq:\n",
    "            current += ord(s)\n",
    "            current *= 17\n",
    "            _, current = divmod(current, 256)\n",
    "\n",
    "        results.append(current)\n",
    "\n",
    "    return results"
   ]
  },
  {
   "cell_type": "code",
   "execution_count": 22,
   "id": "a6826499",
   "metadata": {},
   "outputs": [],
   "source": [
    "results = get_hashes(test_1)\n",
    "assert sum(results) == 52"
   ]
  },
  {
   "cell_type": "code",
   "execution_count": 27,
   "id": "a1a8b655",
   "metadata": {},
   "outputs": [],
   "source": [
    "results = get_hashes(test_2)\n",
    "assert sum(results) == 1320"
   ]
  },
  {
   "cell_type": "code",
   "execution_count": 24,
   "id": "3fd0ab88",
   "metadata": {},
   "outputs": [],
   "source": [
    "text = open(\"../advent_of_code_input/2023/day_15.txt\", \"r\").readlines()\n",
    "text = [i.split(\"\\n\")[0] for i in text]\n",
    "text = text[0].split(\",\")"
   ]
  },
  {
   "cell_type": "code",
   "execution_count": 25,
   "id": "8029dc3b",
   "metadata": {},
   "outputs": [],
   "source": [
    "results = get_hashes(text)"
   ]
  },
  {
   "cell_type": "code",
   "execution_count": 26,
   "id": "ef260b43",
   "metadata": {},
   "outputs": [
    {
     "data": {
      "text/plain": [
       "519603"
      ]
     },
     "execution_count": 26,
     "metadata": {},
     "output_type": "execute_result"
    }
   ],
   "source": [
    "sum(results)"
   ]
  },
  {
   "cell_type": "markdown",
   "id": "fd2940fc",
   "metadata": {},
   "source": [
    "## Part 2"
   ]
  },
  {
   "cell_type": "code",
   "execution_count": 66,
   "id": "9525c6a9",
   "metadata": {},
   "outputs": [],
   "source": [
    "from collections import defaultdict"
   ]
  },
  {
   "cell_type": "code",
   "execution_count": 56,
   "id": "882c9209",
   "metadata": {},
   "outputs": [],
   "source": [
    "test_2 = [\"rn=1,cm-,qp=3,cm=2,qp-,pc=4,ot=9,ab=5,pc-,pc=6,ot=7\"]\n",
    "test_2 = test_2[0].split(\",\")"
   ]
  },
  {
   "cell_type": "code",
   "execution_count": 98,
   "id": "277402cc",
   "metadata": {},
   "outputs": [],
   "source": [
    "def fill_boxes(items):\n",
    "\n",
    "    boxes = defaultdict(dict)\n",
    "    \n",
    "    for label in items:\n",
    "\n",
    "        if \"=\" in label:\n",
    "\n",
    "            lens, focal = label.split(\"=\")\n",
    "            _hash = get_hashes([lens])[0]\n",
    "            boxes[_hash][lens] = int(focal)\n",
    "\n",
    "        else:\n",
    "\n",
    "            lens = label[:-1]\n",
    "            _hash = get_hashes([lens])[0]\n",
    "            if lens in boxes[_hash]:\n",
    "                del boxes[_hash][lens]\n",
    "                \n",
    "    return boxes"
   ]
  },
  {
   "cell_type": "code",
   "execution_count": 101,
   "id": "ba8d89ad",
   "metadata": {},
   "outputs": [],
   "source": [
    "def calculate_focal_power(boxes):\n",
    "    \n",
    "    results = []\n",
    "    \n",
    "    for box, lenses in boxes.items():\n",
    "        \n",
    "        result = 0\n",
    "        \n",
    "        for n, focal in enumerate(lenses.values(),1):\n",
    "            \n",
    "            result = (box+1)*n*focal\n",
    "            \n",
    "            results.append(result)\n",
    "    \n",
    "    return results "
   ]
  },
  {
   "cell_type": "code",
   "execution_count": 102,
   "id": "5bbff673",
   "metadata": {},
   "outputs": [],
   "source": [
    "boxes = fill_boxes(test_2)\n",
    "results = calculate_focal_power(boxes)"
   ]
  },
  {
   "cell_type": "code",
   "execution_count": 103,
   "id": "c458d9e6",
   "metadata": {},
   "outputs": [],
   "source": [
    "assert sum(results) == 145"
   ]
  },
  {
   "cell_type": "code",
   "execution_count": 104,
   "id": "20db71e3",
   "metadata": {},
   "outputs": [],
   "source": [
    "text = open(\"../advent_of_code_input/2023/day_15.txt\", \"r\").readlines()\n",
    "text = [i.split(\"\\n\")[0] for i in text]\n",
    "text = text[0].split(\",\")"
   ]
  },
  {
   "cell_type": "code",
   "execution_count": 105,
   "id": "cc1ee1a7",
   "metadata": {},
   "outputs": [],
   "source": [
    "boxes = fill_boxes(text)\n",
    "results = calculate_focal_power(boxes)"
   ]
  },
  {
   "cell_type": "code",
   "execution_count": 106,
   "id": "be0c2e48",
   "metadata": {},
   "outputs": [
    {
     "data": {
      "text/plain": [
       "244342"
      ]
     },
     "execution_count": 106,
     "metadata": {},
     "output_type": "execute_result"
    }
   ],
   "source": [
    "sum(results)"
   ]
  }
 ],
 "metadata": {
  "kernelspec": {
   "display_name": "Python 3 (ipykernel)",
   "language": "python",
   "name": "python3"
  },
  "language_info": {
   "codemirror_mode": {
    "name": "ipython",
    "version": 3
   },
   "file_extension": ".py",
   "mimetype": "text/x-python",
   "name": "python",
   "nbconvert_exporter": "python",
   "pygments_lexer": "ipython3",
   "version": "3.11.5"
  }
 },
 "nbformat": 4,
 "nbformat_minor": 5
}
