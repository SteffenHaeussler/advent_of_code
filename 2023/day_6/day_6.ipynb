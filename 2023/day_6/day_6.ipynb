{
 "cells": [
  {
   "cell_type": "code",
   "execution_count": 14,
   "id": "68aeb659",
   "metadata": {},
   "outputs": [],
   "source": [
    "import functools"
   ]
  },
  {
   "cell_type": "code",
   "execution_count": 20,
   "id": "3c922775",
   "metadata": {},
   "outputs": [],
   "source": [
    "test = [\n",
    "\"Time:      7  15   30\",\n",
    "\"Distance:  9  40  200\"\n",
    "]"
   ]
  },
  {
   "cell_type": "code",
   "execution_count": 21,
   "id": "95914cf0",
   "metadata": {},
   "outputs": [
    {
     "data": {
      "text/plain": [
       "['Time:      7  15   30', 'Distance:  9  40  200']"
      ]
     },
     "execution_count": 21,
     "metadata": {},
     "output_type": "execute_result"
    }
   ],
   "source": [
    "test"
   ]
  },
  {
   "cell_type": "code",
   "execution_count": 23,
   "id": "9056e435",
   "metadata": {},
   "outputs": [],
   "source": [
    "times=test[0].split(\":\")[1]\n",
    "distances=test[1].split(\":\")[1]\n",
    "\n",
    "times = [int(i) for i in times.split()]\n",
    "distances = [int(i) for i in distances.split()]"
   ]
  },
  {
   "cell_type": "code",
   "execution_count": 35,
   "id": "9762455a",
   "metadata": {},
   "outputs": [],
   "source": [
    "@functools.cache\n",
    "def hold_button(acc, time):\n",
    "    \n",
    "    if seconds == 0:\n",
    "        return 0\n",
    "    \n",
    "    return (time - acc)*acc"
   ]
  },
  {
   "cell_type": "code",
   "execution_count": 38,
   "id": "580961b8",
   "metadata": {},
   "outputs": [],
   "source": [
    "answers = []\n",
    "for t,s in zip(times,distances):\n",
    "    ans=0\n",
    "    for seconds in range(t):\n",
    "        out = hold_button(seconds, t)\n",
    "        if out > s:\n",
    "            ans+=1\n",
    "            \n",
    "    answers.append(ans)"
   ]
  },
  {
   "cell_type": "code",
   "execution_count": 40,
   "id": "9c483489",
   "metadata": {},
   "outputs": [
    {
     "name": "stdout",
     "output_type": "stream",
     "text": [
      "288\n"
     ]
    }
   ],
   "source": [
    "final= 1\n",
    "\n",
    "for i in answers:\n",
    "    final*= i\n",
    "    \n",
    "print(final)"
   ]
  },
  {
   "cell_type": "markdown",
   "id": "3a9d1a3a",
   "metadata": {},
   "source": [
    "Part 1"
   ]
  },
  {
   "cell_type": "code",
   "execution_count": 41,
   "id": "3fd0ab88",
   "metadata": {},
   "outputs": [],
   "source": [
    "text = open(\"../advent_of_code_input/2023/day_6.txt\", \"r\").readlines()\n",
    "text = [i.split(\"\\n\")[0] for i in text]"
   ]
  },
  {
   "cell_type": "code",
   "execution_count": 42,
   "id": "f13187cd",
   "metadata": {},
   "outputs": [],
   "source": [
    "times=text[0].split(\":\")[1]\n",
    "distances=text[1].split(\":\")[1]\n",
    "\n",
    "times = [int(i) for i in times.split()]\n",
    "distances = [int(i) for i in distances.split()]"
   ]
  },
  {
   "cell_type": "code",
   "execution_count": 43,
   "id": "060ab9bd",
   "metadata": {},
   "outputs": [],
   "source": [
    "answers = []\n",
    "for t,s in zip(times,distances):\n",
    "    ans=0\n",
    "    for seconds in range(t):\n",
    "        out = hold_button(seconds, t)\n",
    "        if out > s:\n",
    "            ans+=1\n",
    "            \n",
    "    answers.append(ans)"
   ]
  },
  {
   "cell_type": "code",
   "execution_count": 44,
   "id": "89244dda",
   "metadata": {},
   "outputs": [
    {
     "name": "stdout",
     "output_type": "stream",
     "text": [
      "5133600\n"
     ]
    }
   ],
   "source": [
    "final= 1\n",
    "\n",
    "for i in answers:\n",
    "    final*= i\n",
    "    \n",
    "print(final)"
   ]
  },
  {
   "cell_type": "markdown",
   "id": "9848e764",
   "metadata": {},
   "source": [
    "## Part 2"
   ]
  },
  {
   "cell_type": "code",
   "execution_count": 45,
   "id": "716765f0",
   "metadata": {},
   "outputs": [],
   "source": [
    "test = [\n",
    "\"Time:      71530\",\n",
    "\"Distance:  940200\"\n",
    "]"
   ]
  },
  {
   "cell_type": "code",
   "execution_count": 46,
   "id": "4f9c7ab4",
   "metadata": {},
   "outputs": [],
   "source": [
    "times=test[0].split(\":\")[1]\n",
    "distances=test[1].split(\":\")[1]\n",
    "\n",
    "times = [int(i) for i in times.split()]\n",
    "distances = [int(i) for i in distances.split()]"
   ]
  },
  {
   "cell_type": "code",
   "execution_count": 48,
   "id": "bd54f5d6",
   "metadata": {},
   "outputs": [],
   "source": [
    "answers = []\n",
    "\n",
    "for t,s in zip(times,distances):\n",
    "    ans=0\n",
    "    for seconds in range(t):\n",
    "        out = hold_button(seconds, t)\n",
    "        if out > s:\n",
    "            ans+=1\n",
    "            \n",
    "    answers.append(ans)"
   ]
  },
  {
   "cell_type": "code",
   "execution_count": 49,
   "id": "77824029",
   "metadata": {},
   "outputs": [
    {
     "data": {
      "text/plain": [
       "[71503]"
      ]
     },
     "execution_count": 49,
     "metadata": {},
     "output_type": "execute_result"
    }
   ],
   "source": [
    "answers"
   ]
  },
  {
   "cell_type": "code",
   "execution_count": 58,
   "id": "8512cc6c",
   "metadata": {},
   "outputs": [],
   "source": [
    "text = open(\"../advent_of_code_input/2023/day_6.txt\", \"r\").readlines()\n",
    "text = [i.split(\"\\n\")[0] for i in text]"
   ]
  },
  {
   "cell_type": "code",
   "execution_count": 68,
   "id": "9ab4df2a",
   "metadata": {},
   "outputs": [],
   "source": [
    "times=text[0].split(\":\")[1]\n",
    "distances=text[1].split(\":\")[1]\n",
    "\n",
    "times = int(\"\".join(times.split()))\n",
    "distances = int(\"\".join(distances.split()))"
   ]
  },
  {
   "cell_type": "code",
   "execution_count": 55,
   "id": "5ae4effd",
   "metadata": {},
   "outputs": [],
   "source": [
    "from tqdm.auto import tqdm"
   ]
  },
  {
   "cell_type": "code",
   "execution_count": 75,
   "id": "f55df38a",
   "metadata": {},
   "outputs": [
    {
     "data": {
      "application/vnd.jupyter.widget-view+json": {
       "model_id": "569d24dd23dd48dabab926908a4f532d",
       "version_major": 2,
       "version_minor": 0
      },
      "text/plain": [
       "  0%|          | 0/53897698 [00:00<?, ?it/s]"
      ]
     },
     "metadata": {},
     "output_type": "display_data"
    }
   ],
   "source": [
    "answers = []\n",
    "\n",
    "ans=0\n",
    "for seconds in tqdm(range(times)):\n",
    "    out = hold_button(seconds, times)\n",
    "    if out > distances:\n",
    "        ans+=1\n",
    "\n",
    "answers.append(ans)"
   ]
  },
  {
   "cell_type": "code",
   "execution_count": 76,
   "id": "3cc37626",
   "metadata": {},
   "outputs": [
    {
     "data": {
      "text/plain": [
       "[40651271]"
      ]
     },
     "execution_count": 76,
     "metadata": {},
     "output_type": "execute_result"
    }
   ],
   "source": [
    "answers"
   ]
  }
 ],
 "metadata": {
  "kernelspec": {
   "display_name": "Python 3 (ipykernel)",
   "language": "python",
   "name": "python3"
  },
  "language_info": {
   "codemirror_mode": {
    "name": "ipython",
    "version": 3
   },
   "file_extension": ".py",
   "mimetype": "text/x-python",
   "name": "python",
   "nbconvert_exporter": "python",
   "pygments_lexer": "ipython3",
   "version": "3.11.5"
  }
 },
 "nbformat": 4,
 "nbformat_minor": 5
}
