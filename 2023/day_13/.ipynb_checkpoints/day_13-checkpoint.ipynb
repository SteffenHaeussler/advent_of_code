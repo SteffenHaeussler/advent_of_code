{
 "cells": [
  {
   "cell_type": "markdown",
   "id": "3a9d1a3a",
   "metadata": {},
   "source": [
    "## Part 1"
   ]
  },
  {
   "cell_type": "code",
   "execution_count": 1,
   "id": "3c922775",
   "metadata": {},
   "outputs": [],
   "source": [
    "test = [\n",
    "\"#.##..##.\",\n",
    "\"..#.##.#.\",\n",
    "\"##......#\",\n",
    "\"##......#\",\n",
    "\"..#.##.#.\",\n",
    "\"..##..##.\",\n",
    "\"#.#.##.#.\",\n",
    "\"\",\n",
    "\"#...##..#\",\n",
    "\"#....#..#\",\n",
    "\"..##..###\",\n",
    "\"#####.##.\",\n",
    "\"#####.##.\",\n",
    "\"..##..###\",\n",
    "\"#....#..#\"\n",
    "]"
   ]
  },
  {
   "cell_type": "code",
   "execution_count": 2,
   "id": "69c14c79",
   "metadata": {},
   "outputs": [],
   "source": [
    "def prepare_grid(text):\n",
    "    temp = []\n",
    "    grid = []\n",
    "\n",
    "    for i in text:\n",
    "        if i:\n",
    "            temp.append(i)\n",
    "        else:\n",
    "            grid.append(temp)\n",
    "            temp=[]\n",
    "\n",
    "    grid.append(temp)    \n",
    "\n",
    "    return grid"
   ]
  },
  {
   "cell_type": "code",
   "execution_count": 3,
   "id": "6877affb",
   "metadata": {},
   "outputs": [],
   "source": [
    "def get_sets(grids):\n",
    "    \n",
    "    grid_set = []\n",
    "    \n",
    "    for grid in grids:\n",
    "        \n",
    "        cols = []\n",
    "        rows = []\n",
    "\n",
    "        for row in grid:\n",
    "\n",
    "            rows.append(set([n for n,i in enumerate(row) if i ==\"#\"]))\n",
    "        \n",
    "\n",
    "        for col in range(len(grid[0])):\n",
    "\n",
    "            cols.append(set([n for n,row in enumerate(grid) if row[col] ==\"#\"]))\n",
    "            \n",
    "        grid_set.append([rows,cols])\n",
    "        \n",
    "    return grid_set"
   ]
  },
  {
   "cell_type": "code",
   "execution_count": 4,
   "id": "bd052086",
   "metadata": {},
   "outputs": [],
   "source": [
    "grid = prepare_grid(test)\n",
    "\n",
    "grid_set = get_sets(grid)"
   ]
  },
  {
   "cell_type": "code",
   "execution_count": 5,
   "id": "bb494717",
   "metadata": {},
   "outputs": [],
   "source": [
    "def find_neighbors(rows):\n",
    "    \n",
    "    pairs = []\n",
    "    l, r = None, None\n",
    "    \n",
    "    for idx in range(1,len(rows)):\n",
    "        \n",
    "        if rows[idx]==rows[idx-1]:\n",
    "            \n",
    "            pairs.append([idx-1,idx])\n",
    "            \n",
    "        \n",
    "    return pairs\n",
    "\n",
    "\n",
    "def validate_neighbors(l, r, rows):\n",
    "\n",
    "    if l is None or r is None:\n",
    "        return False\n",
    "\n",
    "    found = True\n",
    "\n",
    "    while l >= 0 and r < len(rows):\n",
    "\n",
    "        if rows[l] == rows[r]:\n",
    "\n",
    "            l -= 1\n",
    "            r += 1\n",
    "\n",
    "        else:\n",
    "            found=False\n",
    "            break\n",
    "            \n",
    "    return found"
   ]
  },
  {
   "cell_type": "code",
   "execution_count": 6,
   "id": "2fa17dd4",
   "metadata": {},
   "outputs": [],
   "source": [
    "results = []\n",
    "\n",
    "for rows, cols in grid_set:\n",
    "    \n",
    "    pairs = find_neighbors(rows)\n",
    "    \n",
    "    for l, r in pairs:\n",
    "        valid = validate_neighbors(l,r,rows)\n",
    "    \n",
    "        if valid:\n",
    "            results.append((l+1)*100)\n",
    "            break\n",
    "\n",
    "    pairs = find_neighbors(cols)\n",
    "    for l, r in pairs:\n",
    "        valid = validate_neighbors(l,r,cols)\n",
    "    \n",
    "        if valid:\n",
    "            results.append(l+1)\n",
    "            break\n",
    "        else:\n",
    "            results.append(0)"
   ]
  },
  {
   "cell_type": "code",
   "execution_count": 7,
   "id": "20505c61",
   "metadata": {},
   "outputs": [],
   "source": [
    "assert sum(results) == 405"
   ]
  },
  {
   "cell_type": "code",
   "execution_count": 8,
   "id": "3fd0ab88",
   "metadata": {},
   "outputs": [],
   "source": [
    "text = open(\"../advent_of_code_input/2023/day_13.txt\", \"r\").readlines()\n",
    "text = [i.split(\"\\n\")[0] for i in text]"
   ]
  },
  {
   "cell_type": "code",
   "execution_count": 9,
   "id": "8029dc3b",
   "metadata": {},
   "outputs": [],
   "source": [
    "grids = prepare_grid(text)\n",
    "\n",
    "grid_set = get_sets(grids)"
   ]
  },
  {
   "cell_type": "code",
   "execution_count": 10,
   "id": "ef260b43",
   "metadata": {},
   "outputs": [],
   "source": [
    "results = []\n",
    "\n",
    "for rows, cols in grid_set:\n",
    "    \n",
    "    pairs = find_neighbors(rows)\n",
    "    \n",
    "    for l, r in pairs:\n",
    "        valid = validate_neighbors(l,r,rows)\n",
    "    \n",
    "        if valid:\n",
    "            results.append((l+1)*100)\n",
    "            break\n",
    "\n",
    "    pairs = find_neighbors(cols)\n",
    "    for l, r in pairs:\n",
    "        valid = validate_neighbors(l,r,cols)\n",
    "    \n",
    "        if valid:\n",
    "            results.append(l+1)\n",
    "            break\n",
    "        else:\n",
    "            results.append(0)"
   ]
  },
  {
   "cell_type": "code",
   "execution_count": 11,
   "id": "8d7591b0",
   "metadata": {},
   "outputs": [
    {
     "data": {
      "text/plain": [
       "33356"
      ]
     },
     "execution_count": 11,
     "metadata": {},
     "output_type": "execute_result"
    }
   ],
   "source": [
    "sum(results)"
   ]
  },
  {
   "cell_type": "markdown",
   "id": "fd2940fc",
   "metadata": {},
   "source": [
    "## Part 2"
   ]
  },
  {
   "cell_type": "code",
   "execution_count": 12,
   "id": "6925a71e",
   "metadata": {},
   "outputs": [],
   "source": [
    "test = [\n",
    "\"#.##..##.\",\n",
    "\"..#.##.#.\",\n",
    "\"##......#\",\n",
    "\"##......#\",\n",
    "\"..#.##.#.\",\n",
    "\"..##..##.\",\n",
    "\"#.#.##.#.\",\n",
    "\"\",\n",
    "\"#...##..#\",\n",
    "\"#....#..#\",\n",
    "\"..##..###\",\n",
    "\"#####.##.\",\n",
    "\"#####.##.\",\n",
    "\"..##..###\",\n",
    "\"#....#..#\"\n",
    "]"
   ]
  },
  {
   "cell_type": "code",
   "execution_count": 13,
   "id": "94347181",
   "metadata": {},
   "outputs": [],
   "source": [
    "def find_smudge(rows):\n",
    "    \n",
    "    pairs = []\n",
    "    l, r = None, None\n",
    "    \n",
    "    for idx in range(1,len(rows)):\n",
    "        \n",
    "        diff = len(rows[idx] - rows[idx-1]) + len(rows[idx-1] - rows[idx])\n",
    "        if diff <= 1:\n",
    "            \n",
    "            pairs.append([idx-1,idx])\n",
    "            \n",
    "        \n",
    "    return pairs"
   ]
  },
  {
   "cell_type": "code",
   "execution_count": 14,
   "id": "3c4499ee",
   "metadata": {},
   "outputs": [],
   "source": [
    "def validate_smudge(l, r, rows):\n",
    "\n",
    "    if l is None or r is None:\n",
    "        return False\n",
    "\n",
    "    smudge = 1\n",
    "\n",
    "    found = True\n",
    "\n",
    "    while l >= 0 and r < len(rows):\n",
    "\n",
    "        diff = len(rows[l] - rows[r]) + len(rows[r] - rows[l])\n",
    "        \n",
    "        if smudge - diff >=0:\n",
    "\n",
    "            l -= 1\n",
    "            r += 1\n",
    "            \n",
    "            smudge -= diff\n",
    "\n",
    "        else:\n",
    "            found=False\n",
    "            break\n",
    "            \n",
    "    if smudge > 0:\n",
    "        found = False\n",
    "                        \n",
    "    return found"
   ]
  },
  {
   "cell_type": "code",
   "execution_count": 15,
   "id": "0e86001b",
   "metadata": {},
   "outputs": [],
   "source": [
    "grid = prepare_grid(test)\n",
    "\n",
    "grid_set = get_sets(grid)"
   ]
  },
  {
   "cell_type": "code",
   "execution_count": 16,
   "id": "620eee70",
   "metadata": {},
   "outputs": [],
   "source": [
    "results = []\n",
    "\n",
    "for rows, cols in grid_set:\n",
    "    \n",
    "    update = False\n",
    "    pairs = find_smudge(rows)\n",
    "    \n",
    "    for l, r in pairs:\n",
    "        valid = validate_smudge(l,r,rows)\n",
    "    \n",
    "        if valid:\n",
    "            results.append((l+1)*100)\n",
    "            update=True\n",
    "            break\n",
    "\n",
    "    if update:\n",
    "        continue\n",
    "\n",
    "    pairs = find_smudge(cols)\n",
    "    for l, r in pairs:\n",
    "        valid = validate_smudge(l,r,cols)\n",
    "    \n",
    "        if valid:\n",
    "            results.append(l+1)\n",
    "            break\n",
    "        else:\n",
    "            results.append(0)"
   ]
  },
  {
   "cell_type": "code",
   "execution_count": 17,
   "id": "1450397c",
   "metadata": {},
   "outputs": [],
   "source": [
    "assert sum(results) == 400"
   ]
  },
  {
   "cell_type": "code",
   "execution_count": 18,
   "id": "20db71e3",
   "metadata": {},
   "outputs": [],
   "source": [
    "text = open(\"../advent_of_code_input/2023/day_13.txt\", \"r\").readlines()\n",
    "text = [i.split(\"\\n\")[0] for i in text]"
   ]
  },
  {
   "cell_type": "code",
   "execution_count": 19,
   "id": "cc1ee1a7",
   "metadata": {},
   "outputs": [],
   "source": [
    "grids = prepare_grid(text)\n",
    "\n",
    "grid_set = get_sets(grids)"
   ]
  },
  {
   "cell_type": "code",
   "execution_count": 20,
   "id": "61f53360",
   "metadata": {},
   "outputs": [],
   "source": [
    "results = []\n",
    "\n",
    "for rows, cols in grid_set:\n",
    "    \n",
    "    update = False\n",
    "    pairs = find_smudge(rows)\n",
    "    \n",
    "    for l, r in pairs:\n",
    "        valid = validate_smudge(l,r,rows)\n",
    "    \n",
    "        if valid:\n",
    "            results.append((l+1)*100)\n",
    "            update=True\n",
    "            break\n",
    "\n",
    "    if update:\n",
    "        continue\n",
    "\n",
    "    pairs = find_smudge(cols)\n",
    "    for l, r in pairs:\n",
    "        valid = validate_smudge(l,r,cols)\n",
    "    \n",
    "        if valid:\n",
    "            results.append(l+1)\n",
    "            break\n",
    "        else:\n",
    "            results.append(0)"
   ]
  },
  {
   "cell_type": "code",
   "execution_count": 21,
   "id": "50e04da2",
   "metadata": {},
   "outputs": [
    {
     "data": {
      "text/plain": [
       "28475"
      ]
     },
     "execution_count": 21,
     "metadata": {},
     "output_type": "execute_result"
    }
   ],
   "source": [
    "sum(results)"
   ]
  }
 ],
 "metadata": {
  "kernelspec": {
   "display_name": "Python 3 (ipykernel)",
   "language": "python",
   "name": "python3"
  },
  "language_info": {
   "codemirror_mode": {
    "name": "ipython",
    "version": 3
   },
   "file_extension": ".py",
   "mimetype": "text/x-python",
   "name": "python",
   "nbconvert_exporter": "python",
   "pygments_lexer": "ipython3",
   "version": "3.11.5"
  }
 },
 "nbformat": 4,
 "nbformat_minor": 5
}
