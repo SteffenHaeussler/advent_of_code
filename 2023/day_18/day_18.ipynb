{
 "cells": [
  {
   "cell_type": "markdown",
   "id": "f9820dac",
   "metadata": {},
   "source": [
    "Following the [shoelace formula](https://en.wikipedia.org/wiki/Shoelace_formula)"
   ]
  },
  {
   "cell_type": "markdown",
   "id": "3a9d1a3a",
   "metadata": {},
   "source": [
    "## Part 1"
   ]
  },
  {
   "cell_type": "code",
   "execution_count": 1,
   "id": "3c922775",
   "metadata": {},
   "outputs": [],
   "source": [
    "test = [\n",
    "\"R 6 (#70c710)\",\n",
    "\"D 5 (#0dc571)\",\n",
    "\"L 2 (#5713f0)\",\n",
    "\"D 2 (#d2c081)\",\n",
    "\"R 2 (#59c680)\",\n",
    "\"D 2 (#411b91)\",\n",
    "\"L 5 (#8ceee2)\",\n",
    "\"U 2 (#caa173)\",\n",
    "\"L 1 (#1b58a2)\",\n",
    "\"U 2 (#caa171)\",\n",
    "\"R 2 (#7807d2)\",\n",
    "\"U 3 (#a77fa3)\",\n",
    "\"L 2 (#015232)\",\n",
    "\"U 2 (#7a21e3)\",\n",
    "]"
   ]
  },
  {
   "cell_type": "code",
   "execution_count": 2,
   "id": "a27b6174",
   "metadata": {},
   "outputs": [],
   "source": [
    "_map = {\"R\": (0,1),\n",
    "        \"L\": (0,-1),\n",
    "        \"D\": (1,0),\n",
    "        \"U\": (-1,0)}"
   ]
  },
  {
   "cell_type": "code",
   "execution_count": 3,
   "id": "0652c0b7",
   "metadata": {},
   "outputs": [],
   "source": [
    "def get_instructions(text):\n",
    "\n",
    "    directions = []\n",
    "    colors = []\n",
    "\n",
    "    for row in text:\n",
    "        direction, length, color = row.split()\n",
    "\n",
    "        directions.append([direction, int(length)])\n",
    "        colors.append([int(color[-2]), int(color[2:-2],16)])\n",
    "        \n",
    "    return directions, colors"
   ]
  },
  {
   "cell_type": "code",
   "execution_count": 4,
   "id": "78c1afd2",
   "metadata": {},
   "outputs": [],
   "source": [
    "def calculate_area(grid):\n",
    "    perimeter, shoelace = 0, 0\n",
    "    row, col = 0, 0\n",
    "    path = [(row, col)]\n",
    "\n",
    "    for direction, n_steps in grid:\n",
    "        d_col, d_row = _map[direction]\n",
    "        row, col = row + d_row*n_steps, col + d_col*n_steps\n",
    "        path.append((row, col))\n",
    "        perimeter += n_steps\n",
    "\n",
    "    shoelace = sum((x_1 * y_2 - x_2 * y_1) for (x_1, y_1), (x_2, y_2) in zip(path, path[1:]))//2\n",
    "    return shoelace + perimeter//2 + 1\n"
   ]
  },
  {
   "cell_type": "code",
   "execution_count": 5,
   "id": "9cf378fd",
   "metadata": {},
   "outputs": [],
   "source": [
    "grid, colors = get_instructions(test)\n",
    "result = calculate_area(grid)\n",
    "assert result == 62"
   ]
  },
  {
   "cell_type": "code",
   "execution_count": 6,
   "id": "f9e7136d",
   "metadata": {},
   "outputs": [],
   "source": [
    "text = open(\"../advent_of_code_input/2023/day_18.txt\", \"r\").readlines()\n",
    "text = [i.split(\"\\n\")[0] for i in text]"
   ]
  },
  {
   "cell_type": "code",
   "execution_count": 7,
   "id": "0aaeeeb6",
   "metadata": {},
   "outputs": [
    {
     "data": {
      "text/plain": [
       "52231"
      ]
     },
     "execution_count": 7,
     "metadata": {},
     "output_type": "execute_result"
    }
   ],
   "source": [
    "grid, colors = get_instructions(text)\n",
    "result = calculate_area(grid)\n",
    "result"
   ]
  },
  {
   "cell_type": "markdown",
   "id": "d0d883f8",
   "metadata": {},
   "source": [
    "## Part 2"
   ]
  },
  {
   "cell_type": "code",
   "execution_count": 8,
   "id": "5bc83798",
   "metadata": {},
   "outputs": [],
   "source": [
    "_map = {0: (0,1),\n",
    "        2: (0,-1),\n",
    "        1: (1,0),\n",
    "        3: (-1,0)}"
   ]
  },
  {
   "cell_type": "code",
   "execution_count": 9,
   "id": "ebee0942",
   "metadata": {},
   "outputs": [],
   "source": [
    "grid, colors = get_instructions(test)\n",
    "result = calculate_area(colors)\n",
    "assert result == 952408144115"
   ]
  },
  {
   "cell_type": "code",
   "execution_count": 10,
   "id": "00b6e7b4",
   "metadata": {},
   "outputs": [],
   "source": [
    "text = open(\"../advent_of_code_input/2023/day_18.txt\", \"r\").readlines()\n",
    "text = [i.split(\"\\n\")[0] for i in text]"
   ]
  },
  {
   "cell_type": "code",
   "execution_count": 11,
   "id": "fbaa53d2",
   "metadata": {},
   "outputs": [
    {
     "data": {
      "text/plain": [
       "57196493937398"
      ]
     },
     "execution_count": 11,
     "metadata": {},
     "output_type": "execute_result"
    }
   ],
   "source": [
    "grid, colors = get_instructions(text)\n",
    "result = calculate_area(colors)\n",
    "result"
   ]
  }
 ],
 "metadata": {
  "kernelspec": {
   "display_name": "Python 3 (ipykernel)",
   "language": "python",
   "name": "python3"
  },
  "language_info": {
   "codemirror_mode": {
    "name": "ipython",
    "version": 3
   },
   "file_extension": ".py",
   "mimetype": "text/x-python",
   "name": "python",
   "nbconvert_exporter": "python",
   "pygments_lexer": "ipython3",
   "version": "3.11.5"
  }
 },
 "nbformat": 4,
 "nbformat_minor": 5
}
