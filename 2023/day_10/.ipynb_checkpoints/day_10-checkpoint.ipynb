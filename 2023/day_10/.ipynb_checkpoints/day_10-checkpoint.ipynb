{
 "cells": [
  {
   "cell_type": "code",
   "execution_count": 1,
   "id": "999a8a7f",
   "metadata": {},
   "outputs": [],
   "source": [
    "from collections import deque"
   ]
  },
  {
   "cell_type": "markdown",
   "id": "3a9d1a3a",
   "metadata": {},
   "source": [
    "## Part 1"
   ]
  },
  {
   "cell_type": "code",
   "execution_count": 2,
   "id": "8e48064c",
   "metadata": {},
   "outputs": [],
   "source": [
    "_map = {\"S\": [(1,0, [\"|\",\"L\",\"J\"]),(-1,0,[\"|\",\"F\",\"7\"]),(0,1,[\"-\",\"J\",\"7\"]),(0,-1,[\"-\",\"F\",\"L\"])],\n",
    "        \"|\": [(1,0, [\"|\",\"L\",\"J\"]),(-1,0,[\"|\",\"F\",\"7\"])],\n",
    "       \"-\": [(0,1,[\"-\",\"J\",\"7\"]),(0,-1,[\"-\",\"F\",\"L\"])],\n",
    "       \"L\": [(-1,0,[\"|\",\"F\",\"7\"]),(0,1, [\"-\",\"J\",\"7\"])],\n",
    "       \"J\": [(0,-1,[\"-\",\"F\",\"L\"]), (-1,0,[\"|\",\"F\",\"7\"])],\n",
    "       \"7\": [(1,0, [\"|\",\"L\",\"J\"]), (0,-1,[\"-\",\"F\",\"L\"])],\n",
    "       \"F\": [(0,1,[\"-\",\"J\",\"7\"]), (1,0, [\"|\",\"L\",\"J\"])]}"
   ]
  },
  {
   "cell_type": "code",
   "execution_count": 3,
   "id": "dcf4710a",
   "metadata": {},
   "outputs": [],
   "source": [
    "def get_start(grid, start=\"S\"):\n",
    "    \n",
    "    for i,row in enumerate(grid):\n",
    "        for j, col in enumerate(grid[0]):\n",
    "            if grid[i][j] == start:\n",
    "                return (i,j)"
   ]
  },
  {
   "cell_type": "code",
   "execution_count": 4,
   "id": "3c922775",
   "metadata": {},
   "outputs": [],
   "source": [
    "test = [\n",
    "\".....\",\n",
    "\".S-7.\",\n",
    "\".|.|.\",\n",
    "\".L-J.\",\n",
    "\".....\",\n",
    "]"
   ]
  },
  {
   "cell_type": "code",
   "execution_count": 5,
   "id": "9045e87b",
   "metadata": {},
   "outputs": [],
   "source": [
    "grid = [list(row) for row in test]\n",
    "current = get_start(grid)"
   ]
  },
  {
   "cell_type": "code",
   "execution_count": 6,
   "id": "04de2191",
   "metadata": {},
   "outputs": [],
   "source": [
    "step = 0\n",
    "\n",
    "visited = set()\n",
    "visited.add(current)\n",
    "\n",
    "q = deque([current])\n",
    "\n",
    "found_start = False\n",
    "\n",
    "while q and not found_start:\n",
    "    \n",
    "    for _ in range(len(q)):\n",
    "        \n",
    "        row, col = q.popleft()\n",
    "        visited.add((row, col))\n",
    "        \n",
    "        for dr, dc, options in _map[grid[row][col]]:\n",
    "            new_row, new_col = row + dr, col + dc\n",
    "            \n",
    "            if (new_row < 0\n",
    "               or new_col < 0 \n",
    "               or new_row >= len(grid)\n",
    "               or new_col >= len(grid[0])\n",
    "               or (new_row, new_col) in visited\n",
    "               or grid[new_row][new_col] not in  options):\n",
    "                \n",
    "                continue\n",
    "            \n",
    "            q.append((new_row, new_col))\n",
    "            \n",
    "            if grid[new_row][new_col] == \"S\":\n",
    "                found_start = True\n",
    "                step += 1\n",
    "                break\n",
    "            \n",
    "        step += 1"
   ]
  },
  {
   "cell_type": "code",
   "execution_count": 7,
   "id": "e9549f0d",
   "metadata": {},
   "outputs": [],
   "source": [
    "assert step//2 == 4"
   ]
  },
  {
   "cell_type": "code",
   "execution_count": 8,
   "id": "2ebf234d",
   "metadata": {},
   "outputs": [],
   "source": [
    "test = [\n",
    "\"..F7.\",\n",
    "\".FJ|.\",\n",
    "\"SJ.L7\",\n",
    "\"|F--J\",\n",
    "\"LJ...\",\n",
    "]"
   ]
  },
  {
   "cell_type": "code",
   "execution_count": 9,
   "id": "8e3228d9",
   "metadata": {},
   "outputs": [],
   "source": [
    "grid = [list(row) for row in test]\n",
    "current = get_start(grid)"
   ]
  },
  {
   "cell_type": "code",
   "execution_count": 10,
   "id": "74d4d4ad",
   "metadata": {},
   "outputs": [],
   "source": [
    "step = 0\n",
    "\n",
    "visited = set()\n",
    "visited.add(current)\n",
    "\n",
    "q = deque([current])\n",
    "\n",
    "found_start = False\n",
    "\n",
    "while q and not found_start:\n",
    "    \n",
    "    for _ in range(len(q)):\n",
    "        \n",
    "        row, col = q.popleft()\n",
    "        visited.add((row, col))\n",
    "        \n",
    "        for dr, dc, options in _map[grid[row][col]]:\n",
    "            new_row, new_col = row + dr, col + dc\n",
    "            \n",
    "            if (new_row < 0\n",
    "               or new_col < 0 \n",
    "               or new_row >= len(grid)\n",
    "               or new_col >= len(grid[0])\n",
    "               or (new_row, new_col) in visited\n",
    "               or grid[new_row][new_col] not in  options):\n",
    "                \n",
    "                continue\n",
    "            \n",
    "            q.append((new_row, new_col))\n",
    "            \n",
    "            if grid[new_row][new_col] == \"S\":\n",
    "                found_start = True\n",
    "                step += 1\n",
    "                break\n",
    "            \n",
    "        step += 1"
   ]
  },
  {
   "cell_type": "code",
   "execution_count": 11,
   "id": "b1d7290c",
   "metadata": {},
   "outputs": [],
   "source": [
    "assert step//2 == 8"
   ]
  },
  {
   "cell_type": "code",
   "execution_count": 12,
   "id": "3fd0ab88",
   "metadata": {},
   "outputs": [],
   "source": [
    "text = open(\"../advent_of_code_input/2023/day_10.txt\", \"r\").readlines()\n",
    "text = [i.split(\"\\n\")[0] for i in text]"
   ]
  },
  {
   "cell_type": "code",
   "execution_count": 13,
   "id": "8029dc3b",
   "metadata": {},
   "outputs": [],
   "source": [
    "grid = [list(row) for row in text]\n",
    "current = get_start(grid)"
   ]
  },
  {
   "cell_type": "code",
   "execution_count": 14,
   "id": "f13187cd",
   "metadata": {},
   "outputs": [],
   "source": [
    "step = 0\n",
    "\n",
    "visited = set()\n",
    "visited.add(current)\n",
    "\n",
    "q = deque([current])\n",
    "\n",
    "found_start = False\n",
    "\n",
    "while q and not found_start:\n",
    "    \n",
    "    for _ in range(len(q)):\n",
    "        \n",
    "        row, col = q.popleft()\n",
    "        visited.add((row, col))\n",
    "        \n",
    "        for dr, dc, options in _map[grid[row][col]]:\n",
    "            new_row, new_col = row + dr, col + dc\n",
    "            \n",
    "            if (new_row < 0\n",
    "               or new_col < 0 \n",
    "               or new_row >= len(grid)\n",
    "               or new_col >= len(grid[0])\n",
    "               or (new_row, new_col) in visited\n",
    "               or grid[new_row][new_col] not in options):\n",
    "                \n",
    "                continue\n",
    "            \n",
    "            q.append((new_row, new_col))\n",
    "            \n",
    "            if grid[new_row][new_col] == \"S\":\n",
    "                found_start = True\n",
    "                step += 1\n",
    "                break\n",
    "            \n",
    "        step += 1"
   ]
  },
  {
   "cell_type": "code",
   "execution_count": 15,
   "id": "ba6b1622",
   "metadata": {},
   "outputs": [
    {
     "data": {
      "text/plain": [
       "6846"
      ]
     },
     "execution_count": 15,
     "metadata": {},
     "output_type": "execute_result"
    }
   ],
   "source": [
    "step//2"
   ]
  },
  {
   "cell_type": "markdown",
   "id": "9848e764",
   "metadata": {},
   "source": [
    "## Part 2"
   ]
  },
  {
   "cell_type": "code",
   "execution_count": 16,
   "id": "716765f0",
   "metadata": {},
   "outputs": [],
   "source": [
    "test = [\n",
    "\"...........\",\n",
    "\".S-------7.\",\n",
    "\".|F-----7|.\",\n",
    "\".||.....||.\",\n",
    "\".||.....||.\",\n",
    "\".|L-7.F-J|.\",\n",
    "\".|..|.|..|.\",\n",
    "\".L--J.L--J.\",\n",
    "\"...........\"]"
   ]
  },
  {
   "cell_type": "code",
   "execution_count": 17,
   "id": "bd54f5d6",
   "metadata": {},
   "outputs": [],
   "source": [
    "grid = [list(row) for row in test]\n",
    "start = get_start(grid)\n",
    "\n",
    "min_row, min_col, max_row, max_col = len(grid), len(grid[0]), 0, 0\n",
    "\n",
    "path = [start]\n",
    "visited = set()\n",
    "visited.add(start)\n",
    "\n",
    "found = False\n",
    "\n",
    "while not found:\n",
    "\n",
    "    row, col = path[-1]\n",
    "\n",
    "    for dr, dc, options in _map[grid[row][col]]:\n",
    "        new_row, new_col = row + dr, col + dc\n",
    "\n",
    "        if grid[new_row][new_col] in options and (new_row, new_col) not in visited:\n",
    "            path.append((new_row, new_col))\n",
    "            visited.add((new_row, new_col))\n",
    "            \n",
    "            min_row = min(min_row, new_row)\n",
    "            min_col = min(min_col, new_col)\n",
    "            max_row = max(max_row, new_row)\n",
    "            max_col = max(max_col, new_col)\n",
    "            \n",
    "            break\n",
    "            \n",
    "    if grid[new_row][new_col] == \"S\":\n",
    "        path.append((new_row, new_col))\n",
    "        found = True"
   ]
  },
  {
   "cell_type": "code",
   "execution_count": 18,
   "id": "f9b22729",
   "metadata": {},
   "outputs": [],
   "source": [
    "# polygon_coordinate = set(path)"
   ]
  },
  {
   "cell_type": "code",
   "execution_count": 19,
   "id": "0fec290b",
   "metadata": {},
   "outputs": [],
   "source": [
    "def get_polygon(path):\n",
    "    coords = []\n",
    "    change_direction = False\n",
    "    prev_change = None\n",
    "\n",
    "    start = path[0]\n",
    "    for i, (x,y) in enumerate(path[1:], 1):\n",
    "\n",
    "        prev_x, prev_y = path[i-1]\n",
    "\n",
    "        if prev_x == x:\n",
    "\n",
    "            change = \"y\"\n",
    "\n",
    "        else:\n",
    "\n",
    "            change = \"x\"\n",
    "\n",
    "\n",
    "        if prev_change and prev_change != change:\n",
    "\n",
    "            if prev_x < start[0]:\n",
    "                \n",
    "                coords.append([(prev_x, prev_y), start])\n",
    "            else:\n",
    "                \n",
    "                coords.append([start,(prev_x, prev_y)])\n",
    "\n",
    "            if change == \"y\":\n",
    "                start = (x,prev_y)            \n",
    "            else:\n",
    "                start = (prev_x,y)\n",
    "\n",
    "        prev_change = change\n",
    "\n",
    "    if x < start[0]:\n",
    "\n",
    "        coords.append([(x, y), start])\n",
    "    else:\n",
    "\n",
    "        coords.append([start,(x, y)])\n",
    "    \n",
    "    return coords"
   ]
  },
  {
   "cell_type": "code",
   "execution_count": 20,
   "id": "96b66e0c",
   "metadata": {},
   "outputs": [],
   "source": [
    "def in_bbox(point, bbox):\n",
    "    return bbox[0] <= point[0] <= bbox[2] and bbox[1] <= point[1] <= bbox[3]"
   ]
  },
  {
   "cell_type": "code",
   "execution_count": 21,
   "id": "429fc9e7",
   "metadata": {},
   "outputs": [],
   "source": [
    "bbox = [min_row, min_col, max_row, max_col]\n",
    "poly_coords = get_polygon(path)"
   ]
  },
  {
   "cell_type": "code",
   "execution_count": 22,
   "id": "f75df0c5",
   "metadata": {},
   "outputs": [],
   "source": [
    "def in_polygon(point, coords, bbox):\n",
    "\n",
    "    is_inside = False\n",
    "    for (xi, yi), (xj, yj) in coords:\n",
    "\n",
    "        if xi > xj:\n",
    "            xi,xj = xj,xi\n",
    "        if yi > yj:\n",
    "            yi,yj = yj,yi\n",
    "\n",
    "        on_boundary = (\n",
    "            point[1] * (xi - xj) + yi * (xj - point[0]) + yj * (point[0] - xi) == 0\n",
    "            and ((xi - point[0]) * (xj - point[0]) <= 0)\n",
    "            and ((yi - point[1]) * (yj - point[1]) <= 0)\n",
    "        )\n",
    "\n",
    "        if on_boundary:\n",
    "            return False\n",
    "\n",
    "        intersect = ((yi > point[1]) != (yj > point[1])) and (\n",
    "        point[0] < (xj - xi) * (point[1] - yi) / (yj - yi) + xi\n",
    "    )\n",
    "        if intersect:\n",
    "            is_inside = not is_inside\n",
    "\n",
    "    return is_inside"
   ]
  },
  {
   "cell_type": "code",
   "execution_count": 23,
   "id": "2ba61563",
   "metadata": {},
   "outputs": [],
   "source": [
    "points = 0\n",
    "\n",
    "for x in range(len(grid)):\n",
    "    for y in range(len(grid[0])):\n",
    "\n",
    "        if in_polygon([x,y], poly_coords, bbox):\n",
    "            points += 1"
   ]
  },
  {
   "cell_type": "code",
   "execution_count": 24,
   "id": "ddc4b8d7",
   "metadata": {},
   "outputs": [],
   "source": [
    "assert points == 4"
   ]
  },
  {
   "cell_type": "code",
   "execution_count": 25,
   "id": "081dbe5f",
   "metadata": {},
   "outputs": [],
   "source": [
    "test = [\n",
    "\".F----7F7F7F7F-7....\",\n",
    "\".|F--7||||||||FJ....\",\n",
    "\".||.FJ||||||||L7....\",\n",
    "\"FJL7L7LJLJ||LJ.L-7..\",\n",
    "\"L--J.L7...LJS7F-7L7.\",\n",
    "\"....F-J..F7FJ|L7L7L7\",\n",
    "\"....L7.F7||L7|.L7L7|\",\n",
    "\".....|FJLJ|FJ|F7|.LJ\",\n",
    "\"....FJL-7.||.||||...\",\n",
    "\"....L---J.LJ.LJLJ...\",\n",
    "]"
   ]
  },
  {
   "cell_type": "code",
   "execution_count": 26,
   "id": "95992038",
   "metadata": {},
   "outputs": [],
   "source": [
    "grid = [list(row) for row in test]\n",
    "start = get_start(grid)\n",
    "\n",
    "min_row, min_col, max_row, max_col = len(grid), len(grid[0]), 0, 0\n",
    "\n",
    "path = [start]\n",
    "visited = set()\n",
    "visited.add(start)\n",
    "\n",
    "found = False\n",
    "\n",
    "while not found:\n",
    "\n",
    "    row, col = path[-1]\n",
    "\n",
    "    for dr, dc, options in _map[grid[row][col]]:\n",
    "        new_row, new_col = row + dr, col + dc\n",
    "\n",
    "        if grid[new_row][new_col] in options and (new_row, new_col) not in visited:\n",
    "            path.append((new_row, new_col))\n",
    "            visited.add((new_row, new_col))\n",
    "            \n",
    "            min_row = min(min_row, new_row)\n",
    "            min_col = min(min_col, new_col)\n",
    "            max_row = max(max_row, new_row)\n",
    "            max_col = max(max_col, new_col)\n",
    "            \n",
    "            break\n",
    "            \n",
    "    if grid[new_row][new_col] == \"S\":\n",
    "        path.append((new_row, new_col))\n",
    "        found = True"
   ]
  },
  {
   "cell_type": "code",
   "execution_count": 27,
   "id": "a79ddabf",
   "metadata": {},
   "outputs": [],
   "source": [
    "bbox = [min_row, min_col, max_row, max_col]\n",
    "poly_coords = get_polygon(path)"
   ]
  },
  {
   "cell_type": "code",
   "execution_count": 28,
   "id": "4c00dde5",
   "metadata": {},
   "outputs": [],
   "source": [
    "points = 0\n",
    "\n",
    "for x in range(len(grid)):\n",
    "    for y in range(len(grid[0])):\n",
    "\n",
    "        if in_polygon([x,y], poly_coords, bbox):\n",
    "            points += 1"
   ]
  },
  {
   "cell_type": "code",
   "execution_count": 29,
   "id": "f8b97b0a",
   "metadata": {},
   "outputs": [],
   "source": [
    "assert points == 8"
   ]
  },
  {
   "cell_type": "code",
   "execution_count": 30,
   "id": "4a9bf5a0",
   "metadata": {},
   "outputs": [],
   "source": [
    "text = open(\"../advent_of_code_input/2023/day_10.txt\", \"r\").readlines()\n",
    "text = [i.split(\"\\n\")[0] for i in text]"
   ]
  },
  {
   "cell_type": "code",
   "execution_count": 31,
   "id": "122d8d20",
   "metadata": {},
   "outputs": [],
   "source": [
    "grid = [list(row) for row in text]\n",
    "start = get_start(grid)\n",
    "\n",
    "min_row, min_col, max_row, max_col = len(grid), len(grid[0]), 0, 0\n",
    "\n",
    "path = [start]\n",
    "visited = set()\n",
    "visited.add(start)\n",
    "cnt = 0\n",
    "found = False\n",
    "\n",
    "while not found:\n",
    "\n",
    "    row, col = path[-1]\n",
    "\n",
    "    for dr, dc, options in _map[grid[row][col]]:\n",
    "        new_row, new_col = row + dr, col + dc\n",
    "        \n",
    "        if (new_row, new_col) == start:\n",
    "            \n",
    "            # ugly but i'm tired\n",
    "            cnt += 1\n",
    "            if cnt==2:\n",
    "                path.append((new_row, new_col))\n",
    "                found = True            \n",
    "\n",
    "        if grid[new_row][new_col] in options and (new_row, new_col) not in visited:\n",
    "            path.append((new_row, new_col))\n",
    "            visited.add((new_row, new_col))\n",
    "            \n",
    "            min_row = min(min_row, new_row)\n",
    "            min_col = min(min_col, new_col)\n",
    "            max_row = max(max_row, new_row)\n",
    "            max_col = max(max_col, new_col)\n",
    "            \n",
    "            break\n",
    "            "
   ]
  },
  {
   "cell_type": "code",
   "execution_count": 32,
   "id": "5b9ea008",
   "metadata": {},
   "outputs": [],
   "source": [
    "bbox = [min_row, min_col, max_row, max_col]\n",
    "poly_coords = get_polygon(path)"
   ]
  },
  {
   "cell_type": "code",
   "execution_count": 33,
   "id": "446b6d48",
   "metadata": {},
   "outputs": [],
   "source": [
    "from tqdm.auto import tqdm"
   ]
  },
  {
   "cell_type": "code",
   "execution_count": 34,
   "id": "c655c642",
   "metadata": {},
   "outputs": [
    {
     "data": {
      "application/vnd.jupyter.widget-view+json": {
       "model_id": "720c22944ff344b09567af26cc600ec8",
       "version_major": 2,
       "version_minor": 0
      },
      "text/plain": [
       "  0%|          | 0/140 [00:00<?, ?it/s]"
      ]
     },
     "metadata": {},
     "output_type": "display_data"
    }
   ],
   "source": [
    "points = 0\n",
    "\n",
    "for x in tqdm(range(len(grid))):\n",
    "    for y in range(len(grid[0])):\n",
    "\n",
    "        if in_polygon([x,y], poly_coords, bbox):\n",
    "            points += 1"
   ]
  },
  {
   "cell_type": "code",
   "execution_count": 35,
   "id": "8245b6ee",
   "metadata": {},
   "outputs": [
    {
     "data": {
      "text/plain": [
       "325"
      ]
     },
     "execution_count": 35,
     "metadata": {},
     "output_type": "execute_result"
    }
   ],
   "source": [
    "points"
   ]
  }
 ],
 "metadata": {
  "kernelspec": {
   "display_name": "Python 3 (ipykernel)",
   "language": "python",
   "name": "python3"
  },
  "language_info": {
   "codemirror_mode": {
    "name": "ipython",
    "version": 3
   },
   "file_extension": ".py",
   "mimetype": "text/x-python",
   "name": "python",
   "nbconvert_exporter": "python",
   "pygments_lexer": "ipython3",
   "version": "3.11.5"
  }
 },
 "nbformat": 4,
 "nbformat_minor": 5
}
