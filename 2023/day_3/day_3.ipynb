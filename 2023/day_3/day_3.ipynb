{
 "cells": [
  {
   "cell_type": "markdown",
   "id": "ec64e979",
   "metadata": {},
   "source": [
    "## Part 1"
   ]
  },
  {
   "cell_type": "code",
   "execution_count": 1,
   "id": "3c922775",
   "metadata": {},
   "outputs": [],
   "source": [
    "test = [\"467..114..\",\n",
    "        \"...*......\",\n",
    "        \"..35..633.\",\n",
    "        \"......#...\",\n",
    "        \"617*......\",\n",
    "        \".....+.58.\",\n",
    "        \"..592.....\",\n",
    "        \"......755.\",\n",
    "        \"...$.*....\",\n",
    "        \".664.598..\"\n",
    "       ]"
   ]
  },
  {
   "cell_type": "code",
   "execution_count": 2,
   "id": "95914cf0",
   "metadata": {},
   "outputs": [
    {
     "data": {
      "text/plain": [
       "['467..114..',\n",
       " '...*......',\n",
       " '..35..633.',\n",
       " '......#...',\n",
       " '617*......',\n",
       " '.....+.58.',\n",
       " '..592.....',\n",
       " '......755.',\n",
       " '...$.*....',\n",
       " '.664.598..']"
      ]
     },
     "execution_count": 2,
     "metadata": {},
     "output_type": "execute_result"
    }
   ],
   "source": [
    "test"
   ]
  },
  {
   "cell_type": "code",
   "execution_count": 3,
   "id": "bf3f1abb",
   "metadata": {},
   "outputs": [],
   "source": [
    "rows, cols = len(test), len(test[0])"
   ]
  },
  {
   "cell_type": "code",
   "execution_count": 4,
   "id": "88a3599c",
   "metadata": {},
   "outputs": [],
   "source": [
    "def get_index(row):\n",
    "    idx = []\n",
    "    l, r = 0, 0\n",
    "    while l < cols:\n",
    "\n",
    "        if row[l].isdigit():\n",
    "            start = l\n",
    "            while l < cols and row[l].isdigit():\n",
    "                l += 1\n",
    "\n",
    "            idx.append((start,l))\n",
    "        l += 1\n",
    "        \n",
    "    return idx"
   ]
  },
  {
   "cell_type": "code",
   "execution_count": 5,
   "id": "a3c2e0ea",
   "metadata": {},
   "outputs": [],
   "source": [
    "def dfs(grid, start, end):\n",
    "\n",
    "    found = False\n",
    "    for c in range(start,end):\n",
    "\n",
    "        if found:\n",
    "            return found\n",
    "\n",
    "        for dr, dc in [(-1,-1), (-1,0), (0,-1), (1,1), (1,0), (0,1), (-1,1), (1,-1)]:\n",
    "\n",
    "            x = c + dc\n",
    "            y = r + dr\n",
    "\n",
    "            if (x < 0 or y < 0 or x >= cols or y >= rows or grid[y][x] == \".\" or grid[y][x].isdigit()):\n",
    "                continue\n",
    "            found = True\n",
    "\n",
    "    return found"
   ]
  },
  {
   "cell_type": "code",
   "execution_count": 6,
   "id": "b270bfaf",
   "metadata": {},
   "outputs": [],
   "source": [
    "numbers = []\n",
    "\n",
    "for r in range(rows):\n",
    "    \n",
    "    indices = get_index(test[r])\n",
    "    \n",
    "    for start, end in indices:\n",
    "        \n",
    "        found = dfs(test, start, end)\n",
    "        if found:\n",
    "            numbers.append(int(test[r][start:end]))"
   ]
  },
  {
   "cell_type": "code",
   "execution_count": 7,
   "id": "d5d2122a",
   "metadata": {},
   "outputs": [
    {
     "data": {
      "text/plain": [
       "4361"
      ]
     },
     "execution_count": 7,
     "metadata": {},
     "output_type": "execute_result"
    }
   ],
   "source": [
    "sum(numbers)"
   ]
  },
  {
   "cell_type": "code",
   "execution_count": 8,
   "id": "3fd0ab88",
   "metadata": {},
   "outputs": [],
   "source": [
    "grid = open(\"../advent_of_code_input/2023/day_3.txt\", \"r\").readlines()"
   ]
  },
  {
   "cell_type": "code",
   "execution_count": 9,
   "id": "8512cc6c",
   "metadata": {},
   "outputs": [],
   "source": [
    "grid = [i.split(\"\\n\")[0] for i in grid]"
   ]
  },
  {
   "cell_type": "code",
   "execution_count": 10,
   "id": "e72f19fc",
   "metadata": {},
   "outputs": [],
   "source": [
    "rows,cols = len(grid), len(grid[0])"
   ]
  },
  {
   "cell_type": "code",
   "execution_count": 11,
   "id": "f13187cd",
   "metadata": {},
   "outputs": [],
   "source": [
    "ans = []\n",
    "\n",
    "for r in range(rows):\n",
    "    \n",
    "    indices = get_index(grid[r])\n",
    "    \n",
    "    for start, end in indices:\n",
    "        \n",
    "        found = dfs(grid, start, end)\n",
    "        if found:\n",
    "            ans.append(int(grid[r][start:end]))"
   ]
  },
  {
   "cell_type": "code",
   "execution_count": 12,
   "id": "15706ecd",
   "metadata": {},
   "outputs": [
    {
     "data": {
      "text/plain": [
       "559667"
      ]
     },
     "execution_count": 12,
     "metadata": {},
     "output_type": "execute_result"
    }
   ],
   "source": [
    "sum(ans)"
   ]
  },
  {
   "cell_type": "markdown",
   "id": "afe30f1e",
   "metadata": {},
   "source": [
    "## Part 2"
   ]
  },
  {
   "cell_type": "code",
   "execution_count": 1,
   "id": "6867c086",
   "metadata": {},
   "outputs": [],
   "source": [
    "test = [\"467..114..\",\n",
    "        \"...*......\",\n",
    "        \"..35..633.\",\n",
    "        \"......#...\",\n",
    "        \"617*......\",\n",
    "        \".....+.58.\",\n",
    "        \"..592.....\",\n",
    "        \"......755.\",\n",
    "        \"...$.*....\",\n",
    "        \".664.598..\"\n",
    "       ]"
   ]
  },
  {
   "cell_type": "code",
   "execution_count": 2,
   "id": "16a00366",
   "metadata": {},
   "outputs": [],
   "source": [
    "rows, cols = len(test), len(test[0])"
   ]
  },
  {
   "cell_type": "code",
   "execution_count": 3,
   "id": "f2c0944f",
   "metadata": {},
   "outputs": [],
   "source": [
    "candidates = []\n",
    "for r in range(rows):\n",
    "    for c in range(cols):\n",
    "        \n",
    "        if test[r][c] in \"*#$+\":\n",
    "            candidates.append((r,c, test[r][c]))"
   ]
  },
  {
   "cell_type": "code",
   "execution_count": 4,
   "id": "a9eb36c0",
   "metadata": {},
   "outputs": [
    {
     "data": {
      "text/plain": [
       "[(1, 3, '*'), (3, 6, '#'), (4, 3, '*'), (5, 5, '+'), (8, 3, '$'), (8, 5, '*')]"
      ]
     },
     "execution_count": 4,
     "metadata": {},
     "output_type": "execute_result"
    }
   ],
   "source": [
    "candidates"
   ]
  },
  {
   "cell_type": "code",
   "execution_count": 5,
   "id": "77bef7a6",
   "metadata": {},
   "outputs": [],
   "source": [
    "def dfs(grid, r, c):\n",
    "\n",
    "    numbers = []\n",
    "    visited = set()\n",
    "\n",
    "    for dr, dc in [(-1,-1), (-1,0), (0,-1), (1,1), (1,0), (0,1), (-1,1), (1,-1)]:\n",
    "\n",
    "        x = c + dc\n",
    "        y = r + dr\n",
    "\n",
    "        if ((y,x) in visited or \n",
    "            x < 0 or \n",
    "            y < 0 or \n",
    "            x >= cols or \n",
    "            y >= rows or \n",
    "            grid[y][x] == \".\" or \n",
    "            grid[y][x] in \"*#$+\"):\n",
    "            continue\n",
    "\n",
    "        start, end = x, x\n",
    "        while start >= 0 and grid[y][start].isdigit():\n",
    "            visited.add((y,start))\n",
    "            start -= 1\n",
    "        while end < rows and grid[y][end].isdigit():\n",
    "            visited.add((y,end))\n",
    "            end += 1\n",
    "        if not grid[y][start].isdigit():\n",
    "            start += 1\n",
    "        numbers.append(int(grid[y][start:end]))\n",
    "\n",
    "    return numbers"
   ]
  },
  {
   "cell_type": "code",
   "execution_count": 6,
   "id": "d8ff8176",
   "metadata": {},
   "outputs": [],
   "source": [
    "numbers = []\n",
    "\n",
    "for r,c, symbol in candidates:\n",
    "    out = dfs(test, r,c)\n",
    "    \n",
    "    if symbol == \"*\" and len(out)>=2:\n",
    "        n = 1\n",
    "        for i in out:\n",
    "            n *= i\n",
    "        numbers.append(n)"
   ]
  },
  {
   "cell_type": "code",
   "execution_count": 7,
   "id": "e7f6cc60",
   "metadata": {},
   "outputs": [
    {
     "data": {
      "text/plain": [
       "467835"
      ]
     },
     "execution_count": 7,
     "metadata": {},
     "output_type": "execute_result"
    }
   ],
   "source": [
    "sum(numbers)"
   ]
  },
  {
   "cell_type": "code",
   "execution_count": 8,
   "id": "f7f84c05",
   "metadata": {},
   "outputs": [],
   "source": [
    "grid = open(\"../advent_of_code_input/2023/day_3.txt\", \"r\").readlines()"
   ]
  },
  {
   "cell_type": "code",
   "execution_count": 9,
   "id": "8402ba4c",
   "metadata": {},
   "outputs": [],
   "source": [
    "grid = [i.split(\"\\n\")[0] for i in grid]"
   ]
  },
  {
   "cell_type": "code",
   "execution_count": 10,
   "id": "1c3c8f65",
   "metadata": {},
   "outputs": [],
   "source": [
    "rows,cols = len(grid), len(grid[0])"
   ]
  },
  {
   "cell_type": "code",
   "execution_count": 11,
   "id": "1e50ba08",
   "metadata": {},
   "outputs": [],
   "source": [
    "candidates = []\n",
    "for r in range(rows):\n",
    "    for c in range(cols):\n",
    "        \n",
    "        if grid[r][c] in \"*#$+\":\n",
    "            candidates.append((r,c, grid[r][c]))"
   ]
  },
  {
   "cell_type": "code",
   "execution_count": 12,
   "id": "4eeb1bdc",
   "metadata": {},
   "outputs": [],
   "source": [
    "numbers = []\n",
    "\n",
    "for r,c, symbol in candidates:\n",
    "    out = dfs(grid, r,c)\n",
    "    \n",
    "    if symbol == \"*\" and len(out)>=2:\n",
    "        n = 1\n",
    "        for i in out:\n",
    "            n *= i\n",
    "        numbers.append(n)"
   ]
  },
  {
   "cell_type": "code",
   "execution_count": 13,
   "id": "2e756644",
   "metadata": {},
   "outputs": [
    {
     "data": {
      "text/plain": [
       "86841457"
      ]
     },
     "execution_count": 13,
     "metadata": {},
     "output_type": "execute_result"
    }
   ],
   "source": [
    "sum(numbers)"
   ]
  },
  {
   "cell_type": "code",
   "execution_count": null,
   "id": "3db48081",
   "metadata": {},
   "outputs": [],
   "source": []
  }
 ],
 "metadata": {
  "kernelspec": {
   "display_name": "Python 3 (ipykernel)",
   "language": "python",
   "name": "python3"
  },
  "language_info": {
   "codemirror_mode": {
    "name": "ipython",
    "version": 3
   },
   "file_extension": ".py",
   "mimetype": "text/x-python",
   "name": "python",
   "nbconvert_exporter": "python",
   "pygments_lexer": "ipython3",
   "version": "3.11.5"
  }
 },
 "nbformat": 4,
 "nbformat_minor": 5
}
