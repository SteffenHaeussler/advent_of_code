{
 "cells": [
  {
   "cell_type": "code",
   "execution_count": 6,
   "id": "4a720827-e3d8-424f-a5b1-1dce3d635959",
   "metadata": {},
   "outputs": [],
   "source": [
    "import random\n",
    "import networkx as nx"
   ]
  },
  {
   "cell_type": "markdown",
   "id": "3a9d1a3a",
   "metadata": {},
   "source": [
    "## Part 1"
   ]
  },
  {
   "cell_type": "code",
   "execution_count": 7,
   "id": "3c922775",
   "metadata": {},
   "outputs": [],
   "source": [
    "test = [\n",
    "\"jqt: rhn xhk nvd\",\n",
    "\"rsh: frs pzl lsr\",\n",
    "\"xhk: hfx\",\n",
    "\"cmg: qnr nvd lhk bvb\",\n",
    "\"rhn: xhk bvb hfx\",\n",
    "\"bvb: xhk hfx\",\n",
    "\"pzl: lsr hfx nvd\",\n",
    "\"qnr: nvd\",\n",
    "\"ntq: jqt hfx bvb xhk\",\n",
    "\"nvd: lhk\",\n",
    "\"lsr: lhk\",\n",
    "\"rzs: qnr cmg lsr rsh\",\n",
    "\"frs: qnr lhk lsr\"\n",
    "]"
   ]
  },
  {
   "cell_type": "code",
   "execution_count": 8,
   "id": "2cd819fd-e751-4430-9427-fe83094f663f",
   "metadata": {},
   "outputs": [],
   "source": [
    "def get_graph(test):\n",
    "\n",
    "    G = nx.Graph()\n",
    "    \n",
    "    for row in test:\n",
    "        node, edges = row.split(\":\")\n",
    "\n",
    "        for edge in edges.strip().split(\" \"):\n",
    "    \n",
    "            G.add_edge(node, edge, capacity=1.)\n",
    "\n",
    "    return G"
   ]
  },
  {
   "cell_type": "code",
   "execution_count": 9,
   "id": "edcec058-271b-4594-a06e-ba0f8658cdf5",
   "metadata": {},
   "outputs": [],
   "source": [
    "G =get_graph(test)"
   ]
  },
  {
   "cell_type": "code",
   "execution_count": 10,
   "id": "f927bbb4-ca24-4565-871a-dc53befc4302",
   "metadata": {},
   "outputs": [],
   "source": [
    "cut_value = 100\n",
    "while cut_value > 3:\n",
    "    k1 = random.choice(list(G.nodes))\n",
    "    k2 = random.choice(list(G.nodes))\n",
    "\n",
    "    # bfs from k1 to k2\n",
    "    cut_value, partition = nx.minimum_cut(G, k1, k2)\n",
    "\n",
    "result = len(partition[0]) * len(partition[1])"
   ]
  },
  {
   "cell_type": "code",
   "execution_count": 11,
   "id": "0b5023bd-fb8e-4c2d-9323-f749f3bacf51",
   "metadata": {},
   "outputs": [],
   "source": [
    "assert result == 54"
   ]
  },
  {
   "cell_type": "code",
   "execution_count": 12,
   "id": "a77321b4",
   "metadata": {},
   "outputs": [],
   "source": [
    "text = open(\"../advent_of_code_input/2023/day_25.txt\", \"r\").readlines()\n",
    "text = [i.split(\"\\n\")[0] for i in text]"
   ]
  },
  {
   "cell_type": "code",
   "execution_count": 13,
   "id": "620697ec",
   "metadata": {},
   "outputs": [],
   "source": [
    "G = get_graph(text)"
   ]
  },
  {
   "cell_type": "code",
   "execution_count": 14,
   "id": "8cef0f43-be99-4b91-b3ef-9a86fbc8305f",
   "metadata": {},
   "outputs": [],
   "source": [
    "cut_value = 100\n",
    "while cut_value > 3:\n",
    "    k1 = random.choice(list(G.nodes))\n",
    "    k2 = random.choice(list(G.nodes))\n",
    "\n",
    "    # bfs from k1 to k2\n",
    "    cut_value, partition = nx.minimum_cut(G, k1, k2)\n",
    "\n",
    "result = len(partition[0]) * len(partition[1])"
   ]
  },
  {
   "cell_type": "code",
   "execution_count": 15,
   "id": "9b3ac88f-2c67-44bb-9438-32e349f4af89",
   "metadata": {},
   "outputs": [
    {
     "data": {
      "text/plain": [
       "601344"
      ]
     },
     "execution_count": 15,
     "metadata": {},
     "output_type": "execute_result"
    }
   ],
   "source": [
    "result"
   ]
  }
 ],
 "metadata": {
  "kernelspec": {
   "display_name": "Python 3 (ipykernel)",
   "language": "python",
   "name": "python3"
  },
  "language_info": {
   "codemirror_mode": {
    "name": "ipython",
    "version": 3
   },
   "file_extension": ".py",
   "mimetype": "text/x-python",
   "name": "python",
   "nbconvert_exporter": "python",
   "pygments_lexer": "ipython3",
   "version": "3.11.5"
  }
 },
 "nbformat": 4,
 "nbformat_minor": 5
}
