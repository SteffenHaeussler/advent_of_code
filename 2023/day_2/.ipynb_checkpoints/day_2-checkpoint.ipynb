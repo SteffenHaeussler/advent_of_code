{
 "cells": [
  {
   "cell_type": "markdown",
   "id": "0b928013",
   "metadata": {},
   "source": [
    "## Part 1"
   ]
  },
  {
   "cell_type": "code",
   "execution_count": 1,
   "id": "380c0910",
   "metadata": {},
   "outputs": [],
   "source": [
    "text = open(\"../advent_of_code_input/2023/day_2.txt\", \"r\").readlines()"
   ]
  },
  {
   "cell_type": "code",
   "execution_count": 2,
   "id": "d52532a2",
   "metadata": {},
   "outputs": [],
   "source": [
    "def game_count(s):\n",
    "\n",
    "    counter = {\"green\": 0,\n",
    "         \"blue\": 0,\n",
    "         \"red\": 0}\n",
    "\n",
    "    for game in s:\n",
    "        for sub in game.split(\",\"):\n",
    "\n",
    "            for color in counter.keys():\n",
    "\n",
    "                if color in sub:\n",
    "                    sub = sub.strip()\n",
    "                    n = sub.split(\" \")\n",
    "\n",
    "                    counter[color] = max(int(n[0]), counter[color])\n",
    "                    \n",
    "    return counter"
   ]
  },
  {
   "cell_type": "code",
   "execution_count": 3,
   "id": "5404e9ff",
   "metadata": {},
   "outputs": [],
   "source": [
    "_map = {}\n",
    "\n",
    "\n",
    "for idx, t in enumerate(text,1):\n",
    "    t = t.split(\": \")[1:]    \n",
    "    t = t[0].split(\"; \")\n",
    "    \n",
    "    cnt = game_count(t)\n",
    "    _map[idx] = cnt"
   ]
  },
  {
   "cell_type": "code",
   "execution_count": 4,
   "id": "e847dde9",
   "metadata": {},
   "outputs": [],
   "source": [
    "ans = []\n",
    "\n",
    "for k,v in _map.items():\n",
    "    \n",
    "    if (v['red'] <= 12) and (v['blue'] <= 14) and (v['green'] <= 13):\n",
    "        ans.append(k)\n",
    "    "
   ]
  },
  {
   "cell_type": "code",
   "execution_count": 5,
   "id": "6b3a022f",
   "metadata": {},
   "outputs": [
    {
     "data": {
      "text/plain": [
       "2377"
      ]
     },
     "execution_count": 5,
     "metadata": {},
     "output_type": "execute_result"
    }
   ],
   "source": [
    "sum(ans)"
   ]
  },
  {
   "cell_type": "code",
   "execution_count": 6,
   "id": "bb13af57",
   "metadata": {},
   "outputs": [],
   "source": [
    "ans = []\n",
    "\n",
    "for v in _map.values():\n",
    "    sub = 1\n",
    "    for n in v.values():\n",
    "        \n",
    "        if n == 0:\n",
    "            continue\n",
    "        sub *= n\n",
    "        \n",
    "    ans.append(sub)"
   ]
  },
  {
   "cell_type": "code",
   "execution_count": 7,
   "id": "2e01eab8",
   "metadata": {},
   "outputs": [
    {
     "data": {
      "text/plain": [
       "71220"
      ]
     },
     "execution_count": 7,
     "metadata": {},
     "output_type": "execute_result"
    }
   ],
   "source": [
    "sum(ans)"
   ]
  },
  {
   "cell_type": "code",
   "execution_count": 8,
   "id": "5aaeb54b",
   "metadata": {},
   "outputs": [
    {
     "data": {
      "text/plain": [
       "'Game 27: 3 red, 2 blue; 6 red, 8 green; 5 green, 13 red, 2 blue; 4 red, 1 blue, 8 green; 14 red, 1 blue, 3 green; 2 red, 1 green, 2 blue\\n'"
      ]
     },
     "execution_count": 8,
     "metadata": {},
     "output_type": "execute_result"
    }
   ],
   "source": [
    "text[26]"
   ]
  },
  {
   "cell_type": "markdown",
   "id": "3a3126f6",
   "metadata": {},
   "source": [
    "## Part 2"
   ]
  },
  {
   "cell_type": "code",
   "execution_count": 9,
   "id": "be666a0a",
   "metadata": {},
   "outputs": [],
   "source": [
    "text = open(\"../advent_of_code_input/2023/day_2.txt\", \"r\").readlines()"
   ]
  },
  {
   "cell_type": "code",
   "execution_count": 10,
   "id": "8512cc6c",
   "metadata": {},
   "outputs": [],
   "source": [
    "text = [i.split(\"\\n\")[0] for i in text]"
   ]
  },
  {
   "cell_type": "code",
   "execution_count": 13,
   "id": "19003062",
   "metadata": {},
   "outputs": [],
   "source": [
    "ans = []\n",
    "\n",
    "for k,v in _map.items():\n",
    "    \n",
    "    if (v['red'] <= 12) and (v['blue'] <= 13) and (v['green'] <= 14):\n",
    "        ans.append(k)\n",
    "    "
   ]
  },
  {
   "cell_type": "code",
   "execution_count": 14,
   "id": "cb3317fa",
   "metadata": {},
   "outputs": [
    {
     "data": {
      "text/plain": [
       "2305"
      ]
     },
     "execution_count": 14,
     "metadata": {},
     "output_type": "execute_result"
    }
   ],
   "source": [
    "sum(ans)"
   ]
  },
  {
   "cell_type": "code",
   "execution_count": 23,
   "id": "3d48f2b6",
   "metadata": {},
   "outputs": [],
   "source": [
    "ans = []\n",
    "\n",
    "for v in _map.values():\n",
    "    sub = 1\n",
    "    for n in v.values():\n",
    "        \n",
    "        if n == 0:\n",
    "            continue\n",
    "        sub *= n\n",
    "        \n",
    "    ans.append(sub)"
   ]
  },
  {
   "cell_type": "code",
   "execution_count": 25,
   "id": "301db70c",
   "metadata": {},
   "outputs": [
    {
     "data": {
      "text/plain": [
       "71220"
      ]
     },
     "execution_count": 25,
     "metadata": {},
     "output_type": "execute_result"
    }
   ],
   "source": [
    "sum(ans)"
   ]
  },
  {
   "cell_type": "code",
   "execution_count": null,
   "id": "37a4a839",
   "metadata": {},
   "outputs": [],
   "source": []
  }
 ],
 "metadata": {
  "kernelspec": {
   "display_name": "Python 3 (ipykernel)",
   "language": "python",
   "name": "python3"
  },
  "language_info": {
   "codemirror_mode": {
    "name": "ipython",
    "version": 3
   },
   "file_extension": ".py",
   "mimetype": "text/x-python",
   "name": "python",
   "nbconvert_exporter": "python",
   "pygments_lexer": "ipython3",
   "version": "3.11.5"
  }
 },
 "nbformat": 4,
 "nbformat_minor": 5
}
