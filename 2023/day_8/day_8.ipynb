{
 "cells": [
  {
   "cell_type": "code",
   "execution_count": 103,
   "id": "3072cde4",
   "metadata": {},
   "outputs": [],
   "source": [
    "from math import lcm"
   ]
  },
  {
   "cell_type": "markdown",
   "id": "3a9d1a3a",
   "metadata": {},
   "source": [
    "## Part 1"
   ]
  },
  {
   "cell_type": "code",
   "execution_count": 1,
   "id": "3c922775",
   "metadata": {},
   "outputs": [],
   "source": [
    "test = [\n",
    "\"RL\",\n",
    "\"\",\n",
    "\"AAA = (BBB, CCC)\",\n",
    "\"BBB = (DDD, EEE)\",\n",
    "\"CCC = (ZZZ, GGG)\",\n",
    "\"DDD = (DDD, DDD)\",\n",
    "\"EEE = (EEE, EEE)\",\n",
    "\"GGG = (GGG, GGG)\",\n",
    "\"ZZZ = (ZZZ, ZZZ)\"\n",
    "]"
   ]
  },
  {
   "cell_type": "code",
   "execution_count": 32,
   "id": "213dd33d",
   "metadata": {},
   "outputs": [],
   "source": [
    "def clean_string(s):\n",
    "    \n",
    "    cleaned = \"\"\n",
    "    \n",
    "    for c in s:\n",
    "        if c.isalnum():\n",
    "            cleaned += c\n",
    "            \n",
    "    return cleaned"
   ]
  },
  {
   "cell_type": "code",
   "execution_count": 40,
   "id": "1aacc4ef",
   "metadata": {},
   "outputs": [],
   "source": [
    "G = {}\n",
    "directions = [0 if i ==\"L\" else 1 for i in test[0]]\n",
    "\n",
    "for i in test[2:]:\n",
    "    node, direction = i.split(\"=\")\n",
    "    l, r = direction.split(\",\")\n",
    "    \n",
    "    l = clean_string(l)\n",
    "    r = clean_string(r)\n",
    "    \n",
    "    G[node.strip()] = (l,r)"
   ]
  },
  {
   "cell_type": "code",
   "execution_count": 41,
   "id": "d69aa397",
   "metadata": {},
   "outputs": [
    {
     "data": {
      "text/plain": [
       "{'AAA': ('BBB', 'CCC'),\n",
       " 'BBB': ('DDD', 'EEE'),\n",
       " 'CCC': ('ZZZ', 'GGG'),\n",
       " 'DDD': ('DDD', 'DDD'),\n",
       " 'EEE': ('EEE', 'EEE'),\n",
       " 'GGG': ('GGG', 'GGG'),\n",
       " 'ZZZ': ('ZZZ', 'ZZZ')}"
      ]
     },
     "execution_count": 41,
     "metadata": {},
     "output_type": "execute_result"
    }
   ],
   "source": [
    "G"
   ]
  },
  {
   "cell_type": "code",
   "execution_count": 45,
   "id": "37360a2b",
   "metadata": {},
   "outputs": [],
   "source": [
    "steps = 0\n",
    "position = \"AAA\"\n",
    "found = False\n",
    "\n",
    "while not found:\n",
    "    \n",
    "    for direction in directions:\n",
    "        \n",
    "        position = G[position][direction]\n",
    "        steps += 1\n",
    "        \n",
    "        if position == \"ZZZ\":\n",
    "            found = True\n",
    "            break\n"
   ]
  },
  {
   "cell_type": "code",
   "execution_count": 46,
   "id": "885f3f90",
   "metadata": {},
   "outputs": [],
   "source": [
    "assert steps  == 2"
   ]
  },
  {
   "cell_type": "code",
   "execution_count": 47,
   "id": "743f5845",
   "metadata": {},
   "outputs": [],
   "source": [
    "test = [\"LLR\",\n",
    "\"\",\n",
    "\"AAA = (BBB, BBB)\",\n",
    "\"BBB = (AAA, ZZZ)\",\n",
    "\"ZZZ = (ZZZ, ZZZ)\",]"
   ]
  },
  {
   "cell_type": "code",
   "execution_count": 48,
   "id": "88f4b502",
   "metadata": {},
   "outputs": [],
   "source": [
    "G = {}\n",
    "directions = [0 if i ==\"L\" else 1 for i in test[0]]\n",
    "\n",
    "for i in test[2:]:\n",
    "    node, direction = i.split(\"=\")\n",
    "    l, r = direction.split(\",\")\n",
    "    \n",
    "    l = clean_string(l)\n",
    "    r = clean_string(r)\n",
    "    \n",
    "    G[node.strip()] = (l,r)"
   ]
  },
  {
   "cell_type": "code",
   "execution_count": 49,
   "id": "770706de",
   "metadata": {},
   "outputs": [
    {
     "data": {
      "text/plain": [
       "{'AAA': ('BBB', 'BBB'), 'BBB': ('AAA', 'ZZZ'), 'ZZZ': ('ZZZ', 'ZZZ')}"
      ]
     },
     "execution_count": 49,
     "metadata": {},
     "output_type": "execute_result"
    }
   ],
   "source": [
    "G"
   ]
  },
  {
   "cell_type": "code",
   "execution_count": 50,
   "id": "c221fe25",
   "metadata": {},
   "outputs": [],
   "source": [
    "steps = 0\n",
    "position = \"AAA\"\n",
    "found = False\n",
    "\n",
    "while not found:\n",
    "    \n",
    "    for direction in directions:\n",
    "        \n",
    "        position = G[position][direction]\n",
    "        steps += 1\n",
    "        \n",
    "        if position == \"ZZZ\":\n",
    "            found = True\n",
    "            break\n"
   ]
  },
  {
   "cell_type": "code",
   "execution_count": 51,
   "id": "5398fd2a",
   "metadata": {},
   "outputs": [],
   "source": [
    "assert steps == 6"
   ]
  },
  {
   "cell_type": "code",
   "execution_count": 52,
   "id": "3fd0ab88",
   "metadata": {},
   "outputs": [],
   "source": [
    "text = open(\"../advent_of_code_input/2023/day_8.txt\", \"r\").readlines()\n",
    "text = [i.split(\"\\n\")[0] for i in text]"
   ]
  },
  {
   "cell_type": "code",
   "execution_count": 53,
   "id": "f13187cd",
   "metadata": {},
   "outputs": [],
   "source": [
    "G = {}\n",
    "directions = [0 if i ==\"L\" else 1 for i in text[0]]\n",
    "\n",
    "for i in text[2:]:\n",
    "    node, direction = i.split(\"=\")\n",
    "    l, r = direction.split(\",\")\n",
    "    \n",
    "    l = clean_string(l)\n",
    "    r = clean_string(r)\n",
    "    \n",
    "    G[node.strip()] = (l,r)"
   ]
  },
  {
   "cell_type": "code",
   "execution_count": 54,
   "id": "060ab9bd",
   "metadata": {},
   "outputs": [],
   "source": [
    "steps = 0\n",
    "position = \"AAA\"\n",
    "found = False\n",
    "\n",
    "while not found:\n",
    "    \n",
    "    for direction in directions:\n",
    "        \n",
    "        position = G[position][direction]\n",
    "        steps += 1\n",
    "        \n",
    "        if position == \"ZZZ\":\n",
    "            found = True\n",
    "            break"
   ]
  },
  {
   "cell_type": "code",
   "execution_count": 55,
   "id": "89244dda",
   "metadata": {},
   "outputs": [
    {
     "data": {
      "text/plain": [
       "11309"
      ]
     },
     "execution_count": 55,
     "metadata": {},
     "output_type": "execute_result"
    }
   ],
   "source": [
    "steps"
   ]
  },
  {
   "cell_type": "markdown",
   "id": "9848e764",
   "metadata": {},
   "source": [
    "## Part 2"
   ]
  },
  {
   "cell_type": "code",
   "execution_count": 89,
   "id": "716765f0",
   "metadata": {},
   "outputs": [],
   "source": [
    "test = [\n",
    "\"LR\",\n",
    "\"\",\n",
    "\"11A = (11B, XXX)\",\n",
    "\"11B = (XXX, 11Z)\",\n",
    "\"11Z = (11B, XXX)\",\n",
    "\"22A = (22B, XXX)\",\n",
    "\"22B = (22C, 22C)\",\n",
    "\"22C = (22Z, 22Z)\",\n",
    "\"22Z = (22B, 22B)\",\n",
    "\"XXX = (XXX, XXX)\",\n",
    "]"
   ]
  },
  {
   "cell_type": "code",
   "execution_count": 90,
   "id": "bd54f5d6",
   "metadata": {},
   "outputs": [],
   "source": [
    "G = {}\n",
    "directions = [0 if i ==\"L\" else 1 for i in test[0]]\n",
    "\n",
    "for i in test[2:]:\n",
    "    node, direction = i.split(\"=\")\n",
    "    l, r = direction.split(\",\")\n",
    "    \n",
    "    l = clean_string(l)\n",
    "    r = clean_string(r)\n",
    "    \n",
    "    G[node.strip()] = (l,r)"
   ]
  },
  {
   "cell_type": "code",
   "execution_count": 91,
   "id": "77824029",
   "metadata": {},
   "outputs": [
    {
     "data": {
      "text/plain": [
       "{'11A': ('11B', 'XXX'),\n",
       " '11B': ('XXX', '11Z'),\n",
       " '11Z': ('11B', 'XXX'),\n",
       " '22A': ('22B', 'XXX'),\n",
       " '22B': ('22C', '22C'),\n",
       " '22C': ('22Z', '22Z'),\n",
       " '22Z': ('22B', '22B'),\n",
       " 'XXX': ('XXX', 'XXX')}"
      ]
     },
     "execution_count": 91,
     "metadata": {},
     "output_type": "execute_result"
    }
   ],
   "source": [
    "G"
   ]
  },
  {
   "cell_type": "code",
   "execution_count": 92,
   "id": "d0ee703c",
   "metadata": {},
   "outputs": [],
   "source": [
    "def find_exit(position, G, directions):\n",
    "    steps = 0\n",
    "    found = False\n",
    "    \n",
    "    while not found:\n",
    "    \n",
    "        for direction in directions:\n",
    "\n",
    "\n",
    "            position = G[position][direction]\n",
    "            steps += 1\n",
    "\n",
    "            if position[-1]==\"Z\":\n",
    "                found = True\n",
    "                break\n",
    "                \n",
    "    return steps"
   ]
  },
  {
   "cell_type": "code",
   "execution_count": 105,
   "id": "e5303479",
   "metadata": {},
   "outputs": [],
   "source": [
    "positions = [node for node in G.keys() if node[-1]==\"A\"]\n",
    "\n",
    "cycles = [find_exit(position, G, directions) for position in positions]\n",
    "steps = lcm(*cycles)"
   ]
  },
  {
   "cell_type": "code",
   "execution_count": 106,
   "id": "b6291445",
   "metadata": {},
   "outputs": [],
   "source": [
    "assert steps == 6"
   ]
  },
  {
   "cell_type": "code",
   "execution_count": 107,
   "id": "8512cc6c",
   "metadata": {},
   "outputs": [],
   "source": [
    "text = open(\"../advent_of_code_input/2023/day_8.txt\", \"r\").readlines()\n",
    "text = [i.split(\"\\n\")[0] for i in text]"
   ]
  },
  {
   "cell_type": "code",
   "execution_count": 108,
   "id": "9ab4df2a",
   "metadata": {},
   "outputs": [],
   "source": [
    "G = {}\n",
    "directions = [0 if i ==\"L\" else 1 for i in text[0]]\n",
    "\n",
    "for i in text[2:]:\n",
    "    node, direction = i.split(\"=\")\n",
    "    l, r = direction.split(\",\")\n",
    "    \n",
    "    l = clean_string(l)\n",
    "    r = clean_string(r)\n",
    "    \n",
    "    G[node.strip()] = (l,r)"
   ]
  },
  {
   "cell_type": "code",
   "execution_count": 109,
   "id": "07449e1a",
   "metadata": {},
   "outputs": [],
   "source": [
    "positions = [node for node in G.keys() if node[-1]==\"A\"]\n",
    "\n",
    "cycles = [find_exit(position, G, directions) for position in positions]\n",
    "steps = lcm(*cycles)"
   ]
  },
  {
   "cell_type": "code",
   "execution_count": 110,
   "id": "f349c23b",
   "metadata": {},
   "outputs": [
    {
     "data": {
      "text/plain": [
       "13740108158591"
      ]
     },
     "execution_count": 110,
     "metadata": {},
     "output_type": "execute_result"
    }
   ],
   "source": [
    "steps"
   ]
  }
 ],
 "metadata": {
  "kernelspec": {
   "display_name": "Python 3 (ipykernel)",
   "language": "python",
   "name": "python3"
  },
  "language_info": {
   "codemirror_mode": {
    "name": "ipython",
    "version": 3
   },
   "file_extension": ".py",
   "mimetype": "text/x-python",
   "name": "python",
   "nbconvert_exporter": "python",
   "pygments_lexer": "ipython3",
   "version": "3.11.5"
  }
 },
 "nbformat": 4,
 "nbformat_minor": 5
}
