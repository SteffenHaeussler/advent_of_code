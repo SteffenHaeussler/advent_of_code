{
 "cells": [
  {
   "cell_type": "code",
   "execution_count": 1,
   "id": "e39ecc34",
   "metadata": {},
   "outputs": [],
   "source": [
    "from collections import deque"
   ]
  },
  {
   "cell_type": "markdown",
   "id": "3a9d1a3a",
   "metadata": {},
   "source": [
    "## Part 1"
   ]
  },
  {
   "cell_type": "code",
   "execution_count": 2,
   "id": "3c922775",
   "metadata": {},
   "outputs": [],
   "source": [
    "test = [\n",
    "r\".|...\\....\",\n",
    "r\"|.-.\\.....\",\n",
    "r\".....|-...\",\n",
    "r\"........|.\",\n",
    "r\"..........\",\n",
    "r\".........\\\\\",\n",
    "r\"..../.\\\\..\",\n",
    "r\".-.-/..|..\",\n",
    "r\".|....-|.\\\\\",\n",
    "r\"..//.|....\"\n",
    "]"
   ]
  },
  {
   "cell_type": "code",
   "execution_count": 3,
   "id": "3acf9f76",
   "metadata": {},
   "outputs": [],
   "source": [
    "def get_grid(text):\n",
    "    \n",
    "    grid = [list(row) for row in text]\n",
    "    \n",
    "    return grid"
   ]
  },
  {
   "cell_type": "code",
   "execution_count": 4,
   "id": "c507b371",
   "metadata": {},
   "outputs": [],
   "source": [
    "def update_direction(elem, direction):\n",
    "    \n",
    "        if elem == \".\":\n",
    "\n",
    "            new_direction = [direction]\n",
    "\n",
    "        elif elem == \"/\":\n",
    "\n",
    "            # left --> right: up \n",
    "            if direction == (0,1):\n",
    "                new_direction = [(-1,0)] \n",
    "            # right --> left: down \n",
    "            elif direction == (0,-1):\n",
    "                new_direction = [(1,0)] \n",
    "            # up --> down: left \n",
    "            elif direction == (1,0):\n",
    "                new_direction = [(0,-1)]\n",
    "            # down --> up: right\n",
    "            else:\n",
    "                new_direction = [(0,1)]          \n",
    "\n",
    "        elif elem == \"\\\\\":\n",
    "            \n",
    "            # left --> right: down \n",
    "            if direction == (0,1):\n",
    "                new_direction = [(1,0)]\n",
    "            # right --> left: up \n",
    "            elif direction == (0,-1):\n",
    "                new_direction = [(-1,0)] \n",
    "            # up --> down: right     \n",
    "            elif direction == (1,0):\n",
    "                new_direction = [(0,1)]\n",
    "            # down --> up: left\n",
    "            else:\n",
    "                new_direction = [(0,-1)]\n",
    "\n",
    "\n",
    "        elif elem == \"|\":\n",
    "\n",
    "            if direction[0] in [-1,1]:\n",
    "                new_direction = [direction]\n",
    "            else:\n",
    "                new_direction = [(-1,0), (1,0)]\n",
    "\n",
    "        elif elem == \"-\":\n",
    "\n",
    "            if direction[1] in [-1,1]:\n",
    "                new_direction = [direction]\n",
    "            else:\n",
    "                new_direction = [(0, -1),(0, 1)]\n",
    "    \n",
    "        return new_direction"
   ]
  },
  {
   "cell_type": "code",
   "execution_count": 5,
   "id": "9c072e21",
   "metadata": {},
   "outputs": [],
   "source": [
    "def follow_path(grid, position, direction):\n",
    "\n",
    "    n_rows = len(grid)\n",
    "    n_cols = len(grid[0])\n",
    "\n",
    "    q = deque([(position, direction)])\n",
    "    tiles = set()\n",
    "    visited = set()\n",
    "    \n",
    "    while q:\n",
    "        \n",
    "        position, direction = q.popleft()\n",
    "        visited.add((position, direction))\n",
    "        \n",
    "        new_position = (position[0] + direction[0], position[1] + direction[1])\n",
    "\n",
    "        if not (0 <= new_position[0] < n_rows and 0 <= new_position[1] < n_cols):\n",
    "            continue\n",
    "    \n",
    "        tiles.add(new_position)\n",
    "        elem = grid[new_position[0]][new_position[1]]\n",
    "\n",
    "        new_directions = update_direction(elem, direction)\n",
    "        \n",
    "        for new_direction in new_directions:\n",
    "            if (new_position, new_direction) not in visited:\n",
    "                q.append((new_position, new_direction))\n",
    "    return tiles"
   ]
  },
  {
   "cell_type": "code",
   "execution_count": 6,
   "id": "9e1d5d49",
   "metadata": {},
   "outputs": [],
   "source": [
    "test_grid = get_grid(test)\n",
    "_ = test_grid[-2].pop()\n",
    "_ = test_grid[-5].pop()\n",
    "\n",
    "start = (0, -1)\n",
    "direction = (0, 1)\n",
    "\n",
    "result = follow_path(test_grid, start, direction)"
   ]
  },
  {
   "cell_type": "code",
   "execution_count": 7,
   "id": "e6de8240",
   "metadata": {},
   "outputs": [],
   "source": [
    "assert len(result) == 46"
   ]
  },
  {
   "cell_type": "code",
   "execution_count": 8,
   "id": "3fd0ab88",
   "metadata": {},
   "outputs": [],
   "source": [
    "text = open(\"../advent_of_code_input/2023/day_16.txt\", \"r\").readlines()\n",
    "text = [i.split(\"\\n\")[0] for i in text]"
   ]
  },
  {
   "cell_type": "code",
   "execution_count": 9,
   "id": "cc1ee1a7",
   "metadata": {},
   "outputs": [],
   "source": [
    "grid = get_grid(text)\n",
    "\n",
    "start = (0, -1)\n",
    "direction = (0, 1)"
   ]
  },
  {
   "cell_type": "code",
   "execution_count": 10,
   "id": "0c35a515",
   "metadata": {},
   "outputs": [
    {
     "data": {
      "text/plain": [
       "6605"
      ]
     },
     "execution_count": 10,
     "metadata": {},
     "output_type": "execute_result"
    }
   ],
   "source": [
    "result = follow_path(grid, start, direction)\n",
    "len(result)"
   ]
  },
  {
   "cell_type": "markdown",
   "id": "fd2940fc",
   "metadata": {},
   "source": [
    "## Part 2"
   ]
  },
  {
   "cell_type": "code",
   "execution_count": 11,
   "id": "b0c2ec13",
   "metadata": {},
   "outputs": [],
   "source": [
    "def get_start_positions(grid):\n",
    "    \n",
    "    n_rows = len(grid)\n",
    "    n_cols = len(grid[0])\n",
    "\n",
    "\n",
    "    start_positions = []\n",
    "\n",
    "    for row in range(n_rows):\n",
    "\n",
    "        start_positions.append([(row,-1),(0,1)])\n",
    "        start_positions.append([(row,n_cols),(0,-1)])\n",
    "\n",
    "    for col in range(n_cols):\n",
    "\n",
    "        start_positions.append([(-1, col),(1,0)])\n",
    "        start_positions.append([(n_rows,col),(-1,0)])\n",
    "\n",
    "    return start_positions"
   ]
  },
  {
   "cell_type": "code",
   "execution_count": 12,
   "id": "9432930b",
   "metadata": {},
   "outputs": [],
   "source": [
    "def get_path_lengths(grid):\n",
    "    \n",
    "    results = []\n",
    "    start_positions = get_start_positions(grid)\n",
    "    \n",
    "\n",
    "    for start, direction in start_positions:\n",
    "\n",
    "        result = follow_path(grid, start, direction)\n",
    "        results.append(len(result))\n",
    "\n",
    "    return results"
   ]
  },
  {
   "cell_type": "code",
   "execution_count": 13,
   "id": "4e718ba1",
   "metadata": {},
   "outputs": [],
   "source": [
    "results = get_path_lengths(test_grid)"
   ]
  },
  {
   "cell_type": "code",
   "execution_count": 14,
   "id": "aae16242",
   "metadata": {},
   "outputs": [],
   "source": [
    "assert max(results) == 51"
   ]
  },
  {
   "cell_type": "code",
   "execution_count": 15,
   "id": "9a876e25",
   "metadata": {},
   "outputs": [],
   "source": [
    "text = open(\"../advent_of_code_input/2023/day_16.txt\", \"r\").readlines()\n",
    "text = [i.split(\"\\n\")[0] for i in text]"
   ]
  },
  {
   "cell_type": "code",
   "execution_count": 16,
   "id": "07458fc7",
   "metadata": {},
   "outputs": [],
   "source": [
    "grid = get_grid(text)\n",
    "results = get_path_lengths(grid)"
   ]
  },
  {
   "cell_type": "code",
   "execution_count": 17,
   "id": "34b5e024",
   "metadata": {},
   "outputs": [
    {
     "data": {
      "text/plain": [
       "6766"
      ]
     },
     "execution_count": 17,
     "metadata": {},
     "output_type": "execute_result"
    }
   ],
   "source": [
    "max(results)"
   ]
  }
 ],
 "metadata": {
  "kernelspec": {
   "display_name": "Python 3 (ipykernel)",
   "language": "python",
   "name": "python3"
  },
  "language_info": {
   "codemirror_mode": {
    "name": "ipython",
    "version": 3
   },
   "file_extension": ".py",
   "mimetype": "text/x-python",
   "name": "python",
   "nbconvert_exporter": "python",
   "pygments_lexer": "ipython3",
   "version": "3.11.5"
  }
 },
 "nbformat": 4,
 "nbformat_minor": 5
}
