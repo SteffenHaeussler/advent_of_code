{
 "cells": [
  {
   "cell_type": "markdown",
   "id": "471b2ae6-91d8-4d40-ad6e-7db9bc156f2d",
   "metadata": {},
   "source": [
    "## Day 22"
   ]
  },
  {
   "cell_type": "markdown",
   "id": "5b51460f-db5b-407e-86bd-3dd416a7c1a8",
   "metadata": {},
   "source": [
    "### Part 1"
   ]
  },
  {
   "cell_type": "markdown",
   "id": "6f4d44ad-18eb-4d23-9f8b-400646f87953",
   "metadata": {},
   "source": [
    "#### Test"
   ]
  },
  {
   "cell_type": "code",
   "execution_count": 1,
   "id": "f7cca613-139e-4358-afe0-bacb09a03e5d",
   "metadata": {},
   "outputs": [],
   "source": [
    "test = [1, 10, 100, 2024]"
   ]
  },
  {
   "cell_type": "code",
   "execution_count": 2,
   "id": "2fe6fdf8-d094-4ad1-b264-2d09e2f544da",
   "metadata": {},
   "outputs": [],
   "source": [
    "def next_number(x):\n",
    "    \n",
    "    x = (x ^ (x * 64)) % 16777216 \n",
    "    x = (x ^ (x // 32)) % 16777216\n",
    "    x = (x ^ (x * 2048)) % 16777216\n",
    "\n",
    "    return x\n",
    "\n",
    "\n",
    "def get_number(buyers):\n",
    "\n",
    "    numbers = []\n",
    "    for start in buyers:\n",
    "        \n",
    "        for _ in range(2000):\n",
    "        \n",
    "            start = next_number(start)\n",
    "        \n",
    "        numbers.append(start)\n",
    "\n",
    "    return numbers"
   ]
  },
  {
   "cell_type": "code",
   "execution_count": 3,
   "id": "4c296dc0-e0f4-45b4-8449-0bd0530abf4d",
   "metadata": {},
   "outputs": [],
   "source": [
    "numbers = get_number(test)"
   ]
  },
  {
   "cell_type": "code",
   "execution_count": 4,
   "id": "a4688541-c242-42fc-becb-3e97122b7b06",
   "metadata": {},
   "outputs": [],
   "source": [
    "assert sum(numbers) == 37327623"
   ]
  },
  {
   "cell_type": "markdown",
   "id": "5f62c58f-8445-4cd8-9c06-70c43513f097",
   "metadata": {},
   "source": [
    "## Task"
   ]
  },
  {
   "cell_type": "code",
   "execution_count": 5,
   "id": "140d8f7b-0c45-476a-a66a-0138faef6328",
   "metadata": {},
   "outputs": [],
   "source": [
    "with open(\"../../../advent_of_code_input/2024/day_22/input.txt\", \"r\") as f:\n",
    "    data = f.read()\n",
    "\n",
    "data = data[:-1].split(\"\\n\")\n",
    "data = [int(i) for i in data]"
   ]
  },
  {
   "cell_type": "code",
   "execution_count": 6,
   "id": "e9783143-a687-4e27-b53b-5dd3d7dd548d",
   "metadata": {},
   "outputs": [],
   "source": [
    "numbers = get_number(data)\n",
    "result = sum(numbers)"
   ]
  },
  {
   "cell_type": "code",
   "execution_count": 7,
   "id": "1608aa2c-d547-4b44-944f-67522807f94c",
   "metadata": {},
   "outputs": [
    {
     "data": {
      "text/plain": [
       "15006633487"
      ]
     },
     "execution_count": 7,
     "metadata": {},
     "output_type": "execute_result"
    }
   ],
   "source": [
    "result"
   ]
  },
  {
   "cell_type": "markdown",
   "id": "15174143-7453-48ba-b8c2-f20b70056ad5",
   "metadata": {},
   "source": [
    "## Part 2"
   ]
  },
  {
   "cell_type": "markdown",
   "id": "ec5088b8-fdd0-4982-8781-72a025b6c462",
   "metadata": {},
   "source": [
    "#### Test"
   ]
  },
  {
   "cell_type": "code",
   "execution_count": 8,
   "id": "12c9599a-b9e3-4829-807d-16fa83d3d372",
   "metadata": {},
   "outputs": [],
   "source": [
    "test = [1, 2, 3, 2024]"
   ]
  },
  {
   "cell_type": "code",
   "execution_count": 9,
   "id": "f99d1dcf-b64a-4068-92e4-79aa12ae6760",
   "metadata": {},
   "outputs": [],
   "source": [
    "def get_diff(buyers):\n",
    "\n",
    "    numbers = [] \n",
    "    diffs = []\n",
    "    \n",
    "    for start in buyers:\n",
    "    \n",
    "        _numbers = [start%10]\n",
    "        _diffs = []\n",
    "    \n",
    "        for _ in range(2000):\n",
    "        \n",
    "            start = next_number(start)\n",
    "            _numbers.append(start%10)\n",
    "            _diffs.append(_numbers[-1]-_numbers[-2])\n",
    "    \n",
    "        numbers.append(_numbers)\n",
    "        diffs.append(_diffs)\n",
    "        \n",
    "    return numbers, diffs\n",
    "\n",
    "\n",
    "def get_sequence(numbers, diffs):\n",
    "\n",
    "    result = {}\n",
    "\n",
    "    for num, diff in zip(numbers, diffs):\n",
    "        visited = set()\n",
    "        \n",
    "        for i in range(4,len(diff)):\n",
    "            seq = tuple(diff[i-3:i+1])\n",
    "            if seq not in result and seq not in visited:\n",
    "                result[seq] = num[i + 1]\n",
    "            elif seq not in visited:\n",
    "                result[seq] += num[i + 1]\n",
    "            visited.add(seq)\n",
    "\n",
    "    return result"
   ]
  },
  {
   "cell_type": "code",
   "execution_count": 10,
   "id": "a61264aa-1ada-415b-8b74-dd1b76862333",
   "metadata": {},
   "outputs": [],
   "source": [
    "numbers, diffs = get_diff(test)\n",
    "result = get_sequence(numbers, diffs)"
   ]
  },
  {
   "cell_type": "code",
   "execution_count": 11,
   "id": "2f6c63aa-a404-4fa3-9305-14e352b8d6c3",
   "metadata": {},
   "outputs": [],
   "source": [
    "assert max(result.values()) == 23"
   ]
  },
  {
   "cell_type": "markdown",
   "id": "7deb1a43-fb6c-4baf-a859-13b2bebffd22",
   "metadata": {},
   "source": [
    "## Task"
   ]
  },
  {
   "cell_type": "code",
   "execution_count": 12,
   "id": "87abd377-e2b5-4422-ab23-09fa0b0cf192",
   "metadata": {},
   "outputs": [],
   "source": [
    "with open(\"../../../advent_of_code_input/2024/day_22/input.txt\", \"r\") as f:\n",
    "    data = f.read()\n",
    "\n",
    "data = data[:-1].split(\"\\n\")\n",
    "data = [int(i) for i in data]"
   ]
  },
  {
   "cell_type": "code",
   "execution_count": 13,
   "id": "c15f07fb-cdc7-40df-ad74-1ea076abac9b",
   "metadata": {},
   "outputs": [],
   "source": [
    "numbers, diffs = get_diff(data)\n",
    "result = get_sequence(numbers, diffs)"
   ]
  },
  {
   "cell_type": "code",
   "execution_count": 14,
   "id": "8f489910-2883-4945-8e36-44f54bfe4778",
   "metadata": {},
   "outputs": [
    {
     "data": {
      "text/plain": [
       "1710"
      ]
     },
     "execution_count": 14,
     "metadata": {},
     "output_type": "execute_result"
    }
   ],
   "source": [
    "max(result.values())"
   ]
  }
 ],
 "metadata": {
  "kernelspec": {
   "display_name": "Python 3 (ipykernel)",
   "language": "python",
   "name": "python3"
  },
  "language_info": {
   "codemirror_mode": {
    "name": "ipython",
    "version": 3
   },
   "file_extension": ".py",
   "mimetype": "text/x-python",
   "name": "python",
   "nbconvert_exporter": "python",
   "pygments_lexer": "ipython3",
   "version": "3.11.5"
  }
 },
 "nbformat": 4,
 "nbformat_minor": 5
}
