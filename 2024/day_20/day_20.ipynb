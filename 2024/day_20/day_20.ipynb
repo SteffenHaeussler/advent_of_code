{
 "cells": [
  {
   "cell_type": "code",
   "execution_count": 1,
   "id": "912d908a-1f80-467a-a299-66c41402298a",
   "metadata": {},
   "outputs": [],
   "source": [
    "import heapq"
   ]
  },
  {
   "cell_type": "markdown",
   "id": "0fcd164b-2941-4331-8ec0-ec9abd667b2c",
   "metadata": {},
   "source": [
    "solution copy & paste from [here](https://www.reddit.com/r/adventofcode/comments/1hicdtb/comment/m2yhkwv/?utm_source=share&utm_medium=web3x&utm_name=web3xcss&utm_term=1&utm_content=share_button)"
   ]
  },
  {
   "cell_type": "markdown",
   "id": "471b2ae6-91d8-4d40-ad6e-7db9bc156f2d",
   "metadata": {},
   "source": [
    "## Day 20"
   ]
  },
  {
   "cell_type": "code",
   "execution_count": 2,
   "id": "60d85330-e6af-445b-8e4b-2e00136e7444",
   "metadata": {},
   "outputs": [],
   "source": [
    "directions = [(-1, 0), (1, 0), (0, -1), (0, 1)]"
   ]
  },
  {
   "cell_type": "markdown",
   "id": "5b51460f-db5b-407e-86bd-3dd416a7c1a8",
   "metadata": {},
   "source": [
    "### Part 1"
   ]
  },
  {
   "cell_type": "markdown",
   "id": "6f4d44ad-18eb-4d23-9f8b-400646f87953",
   "metadata": {},
   "source": [
    "#### Test"
   ]
  },
  {
   "cell_type": "code",
   "execution_count": 3,
   "id": "ce944b0f-4eac-4aea-82d1-fba44b11834d",
   "metadata": {},
   "outputs": [],
   "source": [
    "test = \"\"\"###############\n",
    "#...#...#.....#\n",
    "#.#.#.#.#.###.#\n",
    "#S#...#.#.#...#\n",
    "#######.#.#.###\n",
    "#######.#.#...#\n",
    "#######.#.###.#\n",
    "###..E#...#...#\n",
    "###.#######.###\n",
    "#...###...#...#\n",
    "#.#####.#.###.#\n",
    "#.#...#.#.#...#\n",
    "#.#.#.#.#.#.###\n",
    "#...#...#...###\n",
    "###############\"\"\"\n",
    "\n",
    "test = test.split(\"\\n\")"
   ]
  },
  {
   "cell_type": "code",
   "execution_count": 4,
   "id": "65316e7c-e83b-4ade-8014-d5f299f24b5f",
   "metadata": {},
   "outputs": [],
   "source": [
    "def get_start(grid):\n",
    "    start = []\n",
    "    end = []\n",
    "    walls = set()\n",
    "\n",
    "    for row in range(len(grid)):\n",
    "        for col in range(len(grid[0])):\n",
    "            if grid[row][col] == \"S\":\n",
    "                start.extend((row,col))\n",
    "            if grid[row][col] == \"E\":\n",
    "                end.extend((row,col))                \n",
    "            if grid[row][col] == \"#\":\n",
    "                walls.add((row, col))\n",
    "\n",
    "    return tuple(start), tuple(end), walls"
   ]
  },
  {
   "cell_type": "code",
   "execution_count": 5,
   "id": "3f2307f7-0ea0-4e58-b0df-c7ab23bdf2ee",
   "metadata": {},
   "outputs": [],
   "source": [
    "def manhattan_distance(p1, p2):\n",
    "    return abs(p1[0] - p2[0]) + abs(p1[1] - p2[1])\n",
    "\n",
    "\n",
    "def sum_points(p1, p2):\n",
    "    return (p1[0] + p2[0], p1[1] + p2[1])\n",
    "\n",
    "\n",
    "def neighbours(p1):\n",
    "    return [sum_points(p1, direction) for direction in directions]\n",
    "\n",
    "\n",
    "def valid_neighbours(position, walls):\n",
    "    return [\n",
    "        neighbour\n",
    "        for neighbour in neighbours(position)\n",
    "        if not neighbour in walls\n",
    "    ]\n",
    "\n",
    "\n",
    "def get_shortest_path(start, end, walls):\n",
    "    queue = [(0, start)]\n",
    "    path = []\n",
    "    visited = set()\n",
    "    \n",
    "    while True:\n",
    "        steps, position = heapq.heappop(queue)\n",
    "        neighbours_to_check = valid_neighbours(position, walls)\n",
    "        \n",
    "        for neighbour in neighbours_to_check:\n",
    "        \n",
    "            if neighbour in visited:\n",
    "                continue\n",
    "            \n",
    "            path.append(neighbour)\n",
    "            visited.add(neighbour)\n",
    "            \n",
    "            if neighbour == end:\n",
    "                return path\n",
    "            \n",
    "            heapq.heappush(queue, (steps + 1, neighbour))\n",
    "\n",
    "\n",
    "def saved_steps(path, steps):\n",
    "\n",
    "    count = {}\n",
    "    \n",
    "    for index, position in enumerate(path):\n",
    "        \n",
    "        difference = 99\n",
    "        for other_position in path[index + 100:]:\n",
    "        \n",
    "            difference += 1\n",
    "            distance = manhattan_distance(position, other_position)\n",
    "                        \n",
    "            steps_gained = difference - distance\n",
    "            \n",
    "            if distance <= steps:\n",
    "                count[steps_gained] = count.get(steps_gained,0)+1\n",
    "\n",
    "    return count"
   ]
  },
  {
   "cell_type": "code",
   "execution_count": 6,
   "id": "2b8fd0d5-fcf7-4543-80d8-1cb23ae394ff",
   "metadata": {},
   "outputs": [],
   "source": [
    "start, end, walls = get_start(test)\n",
    "shortest_path = get_shortest_path(start, end, walls)\n",
    "result = saved_steps(shortest_path, 2)"
   ]
  },
  {
   "cell_type": "code",
   "execution_count": 7,
   "id": "e02cde9a-c42b-4e47-b574-766783f0cd0d",
   "metadata": {},
   "outputs": [],
   "source": [
    "result = sum([v for k,v in result.items() if k >= 100])"
   ]
  },
  {
   "cell_type": "code",
   "execution_count": 8,
   "id": "5149121f-82bc-48bc-bc36-231b97b7c4e9",
   "metadata": {},
   "outputs": [],
   "source": [
    "assert result == 0"
   ]
  },
  {
   "cell_type": "markdown",
   "id": "5f62c58f-8445-4cd8-9c06-70c43513f097",
   "metadata": {},
   "source": [
    "## Task"
   ]
  },
  {
   "cell_type": "code",
   "execution_count": 9,
   "id": "140d8f7b-0c45-476a-a66a-0138faef6328",
   "metadata": {},
   "outputs": [],
   "source": [
    "with open(\"../../../advent_of_code_input/2024/day_20/input.txt\", \"r\") as f:\n",
    "    data = f.read()\n",
    "\n",
    "data = data[:-1].split(\"\\n\")"
   ]
  },
  {
   "cell_type": "code",
   "execution_count": 10,
   "id": "628fd772-3545-4ffe-bd7e-d34408850b18",
   "metadata": {},
   "outputs": [],
   "source": [
    "start, end, walls = get_start(data)\n",
    "shortest_path = get_shortest_path(start, end, walls)\n",
    "result = saved_steps(shortest_path, 2)"
   ]
  },
  {
   "cell_type": "code",
   "execution_count": 11,
   "id": "45b55f5f-5af5-48d1-8e5f-0ca4d25a7346",
   "metadata": {},
   "outputs": [
    {
     "data": {
      "text/plain": [
       "1296"
      ]
     },
     "execution_count": 11,
     "metadata": {},
     "output_type": "execute_result"
    }
   ],
   "source": [
    "result = sum([v for k,v in result.items() if k >= 100])\n",
    "result"
   ]
  },
  {
   "cell_type": "markdown",
   "id": "15174143-7453-48ba-b8c2-f20b70056ad5",
   "metadata": {},
   "source": [
    "## Part 2"
   ]
  },
  {
   "cell_type": "markdown",
   "id": "ec5088b8-fdd0-4982-8781-72a025b6c462",
   "metadata": {},
   "source": [
    "#### Test"
   ]
  },
  {
   "cell_type": "code",
   "execution_count": 12,
   "id": "fd9ae039-570e-495e-8c22-e0badb444c9e",
   "metadata": {},
   "outputs": [],
   "source": [
    "test = \"\"\"###############\n",
    "#...#...#.....#\n",
    "#.#.#.#.#.###.#\n",
    "#S#...#.#.#...#\n",
    "#######.#.#.###\n",
    "#######.#.#...#\n",
    "#######.#.###.#\n",
    "###..E#...#...#\n",
    "###.#######.###\n",
    "#...###...#...#\n",
    "#.#####.#.###.#\n",
    "#.#...#.#.#...#\n",
    "#.#.#.#.#.#.###\n",
    "#...#...#...###\n",
    "###############\"\"\"\n",
    "\n",
    "test = test.split(\"\\n\")"
   ]
  },
  {
   "cell_type": "code",
   "execution_count": 13,
   "id": "07caa7cc-fe81-43be-9a8f-849b9049bdee",
   "metadata": {},
   "outputs": [],
   "source": [
    "start, end, walls = get_start(test)\n",
    "shortest_path = get_shortest_path(start, end, walls)\n",
    "result = saved_steps(shortest_path, 20)"
   ]
  },
  {
   "cell_type": "code",
   "execution_count": 14,
   "id": "f273dc1d-88cf-4261-845b-d4479ef9e60f",
   "metadata": {},
   "outputs": [],
   "source": [
    "result = sum([v for k,v in result.items() if k >= 100])"
   ]
  },
  {
   "cell_type": "code",
   "execution_count": 15,
   "id": "2f6c63aa-a404-4fa3-9305-14e352b8d6c3",
   "metadata": {},
   "outputs": [],
   "source": [
    "assert result == 0"
   ]
  },
  {
   "cell_type": "markdown",
   "id": "7deb1a43-fb6c-4baf-a859-13b2bebffd22",
   "metadata": {},
   "source": [
    "## Task"
   ]
  },
  {
   "cell_type": "code",
   "execution_count": 16,
   "id": "87abd377-e2b5-4422-ab23-09fa0b0cf192",
   "metadata": {},
   "outputs": [],
   "source": [
    "with open(\"../../../advent_of_code_input/2024/day_20/input.txt\", \"r\") as f:\n",
    "    data = f.read()\n",
    "\n",
    "data = data[:-1].split(\"\\n\")"
   ]
  },
  {
   "cell_type": "code",
   "execution_count": 17,
   "id": "c89c810c-4f0e-42d0-b068-a8dc7ff9ddaa",
   "metadata": {},
   "outputs": [],
   "source": [
    "start, end, walls = get_start(data)\n",
    "shortest_path = get_shortest_path(start, end, walls)\n",
    "result = saved_steps(shortest_path, 20)"
   ]
  },
  {
   "cell_type": "code",
   "execution_count": 18,
   "id": "1f1ed6a2-cbd6-46e2-978e-2d10ef6e8853",
   "metadata": {},
   "outputs": [
    {
     "data": {
      "text/plain": [
       "977665"
      ]
     },
     "execution_count": 18,
     "metadata": {},
     "output_type": "execute_result"
    }
   ],
   "source": [
    "result = sum([v for k,v in result.items() if k >= 100])\n",
    "result"
   ]
  }
 ],
 "metadata": {
  "kernelspec": {
   "display_name": "Python 3 (ipykernel)",
   "language": "python",
   "name": "python3"
  },
  "language_info": {
   "codemirror_mode": {
    "name": "ipython",
    "version": 3
   },
   "file_extension": ".py",
   "mimetype": "text/x-python",
   "name": "python",
   "nbconvert_exporter": "python",
   "pygments_lexer": "ipython3",
   "version": "3.11.5"
  }
 },
 "nbformat": 4,
 "nbformat_minor": 5
}
