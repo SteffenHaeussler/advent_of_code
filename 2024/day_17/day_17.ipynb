{
 "cells": [
  {
   "cell_type": "markdown",
   "id": "471b2ae6-91d8-4d40-ad6e-7db9bc156f2d",
   "metadata": {},
   "source": [
    "## Day 17"
   ]
  },
  {
   "cell_type": "markdown",
   "id": "5b51460f-db5b-407e-86bd-3dd416a7c1a8",
   "metadata": {},
   "source": [
    "### Part 1"
   ]
  },
  {
   "cell_type": "markdown",
   "id": "6f4d44ad-18eb-4d23-9f8b-400646f87953",
   "metadata": {},
   "source": [
    "#### Test"
   ]
  },
  {
   "cell_type": "code",
   "execution_count": 1,
   "id": "ce944b0f-4eac-4aea-82d1-fba44b11834d",
   "metadata": {},
   "outputs": [],
   "source": [
    "test = \"\"\"Register A: 729\n",
    "Register B: 0\n",
    "Register C: 0\n",
    "\n",
    "Program: 0,1,5,4,3,0\"\"\"\n",
    "\n",
    "test = test.split(\"\\n\")"
   ]
  },
  {
   "cell_type": "code",
   "execution_count": 2,
   "id": "f4d0999e-9c1d-4f53-a618-0c3a94ebd3d9",
   "metadata": {},
   "outputs": [],
   "source": [
    "A, B, C = int(test[0].split(\": \")[1]), int(test[1].split(\": \")[1]), int(test[2].split(\": \")[1])\n",
    "program = test[-1].split(\": \")[1].split(\",\")"
   ]
  },
  {
   "cell_type": "code",
   "execution_count": 3,
   "id": "5206ff85-a400-4fc1-8f1f-dff7c8fb880a",
   "metadata": {},
   "outputs": [],
   "source": [
    "def operate(A, B, C, program):\n",
    "    i = 1\n",
    "\n",
    "    outputs = []\n",
    "    set_pointer = False\n",
    "    \n",
    "    while i < len(program):\n",
    "\n",
    "        opcode = program[i-1]\n",
    "        operand = program[i]\n",
    "    \n",
    "        if operand == 4:\n",
    "            operand = A\n",
    "        elif operand == 5:\n",
    "            operand = B\n",
    "        elif operand == 6:\n",
    "            operand = C\n",
    "\n",
    "        if opcode == 0:\n",
    "            A = A//(2**operand)\n",
    "    \n",
    "        elif opcode == 1:\n",
    "            B = B ^ operand\n",
    "    \n",
    "        elif opcode == 2:\n",
    "            B = operand % 8\n",
    "    \n",
    "        elif opcode == 3:\n",
    "            if A != 0:\n",
    "                i = operand+1\n",
    "                continue\n",
    "    \n",
    "        elif opcode == 4:\n",
    "            B = B ^ C\n",
    "    \n",
    "        elif opcode == 5:\n",
    "            outputs.append(str(operand % 8))\n",
    "    \n",
    "        elif opcode == 6:\n",
    "            B = A//(2**operand)\n",
    "    \n",
    "        elif opcode == 7:\n",
    "            C = A//(2**operand)\n",
    "    \n",
    "        i += 2\n",
    "\n",
    "    return A, B, C, \",\".join(outputs)"
   ]
  },
  {
   "cell_type": "code",
   "execution_count": 4,
   "id": "2b543bda-3631-4d7b-aeb6-693df0b41e21",
   "metadata": {},
   "outputs": [],
   "source": [
    "A, B, C = 0, 0, 9\n",
    "program = [2,6]\n",
    "\n",
    "A, B, C, outputs = operate(A,B,C, program)\n",
    "\n",
    "assert B == 1"
   ]
  },
  {
   "cell_type": "code",
   "execution_count": 5,
   "id": "67ea1e5f-2301-474a-a201-b57e3dc651de",
   "metadata": {},
   "outputs": [],
   "source": [
    "A, B, C = 10, 0, 0\n",
    "program = [5,0,5,1,5,4]\n",
    "\n",
    "A, B, C, outputs = operate(A,B,C, program)\n",
    "\n",
    "assert outputs == \"0,1,2\""
   ]
  },
  {
   "cell_type": "code",
   "execution_count": 6,
   "id": "9c77d1a9-708c-4412-9a90-28863afc6579",
   "metadata": {},
   "outputs": [],
   "source": [
    "A, B, C = 2024, 0, 0\n",
    "program = [0,1,5,4,3,0]\n",
    "\n",
    "A, B, C, outputs = operate(A,B,C, program)\n",
    "\n",
    "assert outputs == \"4,2,5,6,7,7,7,7,3,1,0\""
   ]
  },
  {
   "cell_type": "code",
   "execution_count": 7,
   "id": "be9fa9f7-5ddd-4a3b-aea6-dcccbb0fd22f",
   "metadata": {},
   "outputs": [],
   "source": [
    "A, B, C = 0, 29, 0\n",
    "program = [1,7]\n",
    "\n",
    "A, B, C, outputs = operate(A,B,C, program)\n",
    "\n",
    "assert B == 26"
   ]
  },
  {
   "cell_type": "code",
   "execution_count": 8,
   "id": "98e2f045-f497-4884-9624-7930ed6ffcf7",
   "metadata": {},
   "outputs": [],
   "source": [
    "A, B, C = 0, 2024, 43690\n",
    "program = [4,0]\n",
    "\n",
    "A, B, C, outputs = operate(A,B,C, program)\n",
    "\n",
    "assert B == 44354"
   ]
  },
  {
   "cell_type": "code",
   "execution_count": 9,
   "id": "df843708-f482-4e80-95c8-476b53e346eb",
   "metadata": {},
   "outputs": [],
   "source": [
    "A, B, C = int(test[0].split(\": \")[1]), int(test[1].split(\": \")[1]), int(test[2].split(\": \")[1])\n",
    "program = test[-1].split(\": \")[1].split(\",\")\n",
    "program = [int(i) for i in program]"
   ]
  },
  {
   "cell_type": "code",
   "execution_count": 10,
   "id": "aacbf732-1f3b-4863-ad08-ea710ab17ea3",
   "metadata": {},
   "outputs": [],
   "source": [
    "A, B, C, outputs = operate(A,B,C, program)\n",
    "\n",
    "assert outputs == \"4,6,3,5,6,3,5,2,1,0\""
   ]
  },
  {
   "cell_type": "markdown",
   "id": "5f62c58f-8445-4cd8-9c06-70c43513f097",
   "metadata": {},
   "source": [
    "## Task"
   ]
  },
  {
   "cell_type": "code",
   "execution_count": 17,
   "id": "140d8f7b-0c45-476a-a66a-0138faef6328",
   "metadata": {},
   "outputs": [],
   "source": [
    "with open(\"../../../advent_of_code_input/2024/day_17/input.txt\", \"r\") as f:\n",
    "    data = f.read()\n",
    "\n",
    "data = data[:-1].split(\"\\n\")"
   ]
  },
  {
   "cell_type": "code",
   "execution_count": 18,
   "id": "6fc0103b-9a33-4521-a605-1520be32d52f",
   "metadata": {},
   "outputs": [
    {
     "data": {
      "text/plain": [
       "['Register A: 35200350',\n",
       " 'Register B: 0',\n",
       " 'Register C: 0',\n",
       " '',\n",
       " 'Program: 2,4,1,2,7,5,4,7,1,3,5,5,0,3,3,0']"
      ]
     },
     "execution_count": 18,
     "metadata": {},
     "output_type": "execute_result"
    }
   ],
   "source": [
    "data"
   ]
  },
  {
   "cell_type": "code",
   "execution_count": 19,
   "id": "0fb6da6a-cede-4b66-a2bf-f0d51e687f7e",
   "metadata": {},
   "outputs": [],
   "source": [
    "A, B, C = int(data[0].split(\": \")[1]), int(data[1].split(\": \")[1]), int(data[2].split(\": \")[1])\n",
    "program = data[-1].split(\": \")[1].split(\",\")\n",
    "program = [int(i) for i in program]"
   ]
  },
  {
   "cell_type": "code",
   "execution_count": 24,
   "id": "6b064553-5504-4e8a-8860-06d86422b181",
   "metadata": {},
   "outputs": [],
   "source": [
    "A, B, C, outputs = operate(A,B,C, program)"
   ]
  },
  {
   "cell_type": "code",
   "execution_count": 25,
   "id": "1608aa2c-d547-4b44-944f-67522807f94c",
   "metadata": {},
   "outputs": [
    {
     "data": {
      "text/plain": [
       "'2,7,4,7,2,1,7,5,1'"
      ]
     },
     "execution_count": 25,
     "metadata": {},
     "output_type": "execute_result"
    }
   ],
   "source": [
    "outputs"
   ]
  },
  {
   "cell_type": "markdown",
   "id": "15174143-7453-48ba-b8c2-f20b70056ad5",
   "metadata": {},
   "source": [
    "## Part 2"
   ]
  },
  {
   "cell_type": "markdown",
   "id": "ec5088b8-fdd0-4982-8781-72a025b6c462",
   "metadata": {},
   "source": [
    "#### Test"
   ]
  },
  {
   "cell_type": "code",
   "execution_count": 67,
   "id": "fd9ae039-570e-495e-8c22-e0badb444c9e",
   "metadata": {},
   "outputs": [],
   "source": [
    "test = \"\"\"Register A: 2024\n",
    "Register B: 0\n",
    "Register C: 0\n",
    "\n",
    "Program: 0,3,5,4,3,0\"\"\"\n",
    "\n",
    "test = test.split(\"\\n\")"
   ]
  },
  {
   "cell_type": "code",
   "execution_count": 68,
   "id": "df3bc631-21b3-48cf-8911-5264872cf597",
   "metadata": {},
   "outputs": [],
   "source": [
    "A, B, C = int(test[0].split(\": \")[1]), int(test[1].split(\": \")[1]), int(test[2].split(\": \")[1])\n",
    "program = test[-1].split(\": \")[1].split(\",\")\n",
    "program_input = [int(i) for i in program]"
   ]
  },
  {
   "cell_type": "code",
   "execution_count": 69,
   "id": "f3b1e79f-9f6c-42ff-a711-04835ca851c2",
   "metadata": {},
   "outputs": [],
   "source": [
    "A = 0\n",
    "outputs = \"\"\n",
    "while outputs != \",\".join(program):\n",
    "    _, _, _, outputs = operate(A,B,C, program_input)\n",
    "    A += 1"
   ]
  },
  {
   "cell_type": "code",
   "execution_count": 70,
   "id": "5f446aff-220f-4426-8447-e4b64a81bc69",
   "metadata": {},
   "outputs": [],
   "source": [
    "assert A == 117441"
   ]
  },
  {
   "cell_type": "markdown",
   "id": "7deb1a43-fb6c-4baf-a859-13b2bebffd22",
   "metadata": {},
   "source": [
    "## Task"
   ]
  },
  {
   "cell_type": "code",
   "execution_count": 71,
   "id": "87abd377-e2b5-4422-ab23-09fa0b0cf192",
   "metadata": {},
   "outputs": [],
   "source": [
    "with open(\"../../../advent_of_code_input/2024/day_17/input.txt\", \"r\") as f:\n",
    "    data = f.read()\n",
    "\n",
    "data = data[:-1].split(\"\\n\")"
   ]
  },
  {
   "cell_type": "code",
   "execution_count": 72,
   "id": "c89c810c-4f0e-42d0-b068-a8dc7ff9ddaa",
   "metadata": {},
   "outputs": [],
   "source": [
    "A, B, C = int(data[0].split(\": \")[1]), int(data[1].split(\": \")[1]), int(data[2].split(\": \")[1])\n",
    "program = data[-1].split(\": \")[1].split(\",\")\n",
    "program_input = [int(i) for i in program]"
   ]
  },
  {
   "cell_type": "code",
   "execution_count": 81,
   "id": "f41b2704-653e-45df-9b1b-ad9e247aca3f",
   "metadata": {},
   "outputs": [
    {
     "ename": "KeyboardInterrupt",
     "evalue": "",
     "output_type": "error",
     "traceback": [
      "\u001b[0;31m---------------------------------------------------------------------------\u001b[0m",
      "\u001b[0;31mKeyboardInterrupt\u001b[0m                         Traceback (most recent call last)",
      "Cell \u001b[0;32mIn[81], line 4\u001b[0m\n\u001b[1;32m      2\u001b[0m outputs \u001b[38;5;241m=\u001b[39m \u001b[38;5;124m\"\u001b[39m\u001b[38;5;124m\"\u001b[39m\n\u001b[1;32m      3\u001b[0m \u001b[38;5;28;01mwhile\u001b[39;00m outputs \u001b[38;5;241m!=\u001b[39m \u001b[38;5;124m\"\u001b[39m\u001b[38;5;124m,\u001b[39m\u001b[38;5;124m\"\u001b[39m\u001b[38;5;241m.\u001b[39mjoin(program):\n\u001b[0;32m----> 4\u001b[0m     _, _, _, outputs \u001b[38;5;241m=\u001b[39m operate(A,B,C, program_input)\n\u001b[1;32m      5\u001b[0m     A \u001b[38;5;241m+\u001b[39m\u001b[38;5;241m=\u001b[39m \u001b[38;5;241m1\u001b[39m\n",
      "Cell \u001b[0;32mIn[3], line 7\u001b[0m, in \u001b[0;36moperate\u001b[0;34m(A, B, C, program)\u001b[0m\n\u001b[1;32m      4\u001b[0m outputs \u001b[38;5;241m=\u001b[39m []\n\u001b[1;32m      5\u001b[0m set_pointer \u001b[38;5;241m=\u001b[39m \u001b[38;5;28;01mFalse\u001b[39;00m\n\u001b[0;32m----> 7\u001b[0m \u001b[38;5;28;01mwhile\u001b[39;00m i \u001b[38;5;241m<\u001b[39m \u001b[38;5;28mlen\u001b[39m(program):\n\u001b[1;32m      9\u001b[0m     opcode \u001b[38;5;241m=\u001b[39m program[i\u001b[38;5;241m-\u001b[39m\u001b[38;5;241m1\u001b[39m]\n\u001b[1;32m     10\u001b[0m     operand \u001b[38;5;241m=\u001b[39m program[i]\n",
      "\u001b[0;31mKeyboardInterrupt\u001b[0m: "
     ]
    }
   ],
   "source": [
    "A = 8_993_916_084\n",
    "outputs = \"\"\n",
    "while outputs != \",\".join(program):\n",
    "    _, _, _, outputs = operate(A,B,C, program_input)\n",
    "    A += 1"
   ]
  },
  {
   "cell_type": "code",
   "execution_count": 82,
   "id": "71449350-3f45-46ea-8388-bbf4c759775d",
   "metadata": {},
   "outputs": [
    {
     "data": {
      "text/plain": [
       "8993916084"
      ]
     },
     "execution_count": 82,
     "metadata": {},
     "output_type": "execute_result"
    }
   ],
   "source": [
    "A"
   ]
  },
  {
   "cell_type": "markdown",
   "id": "cd23ccdf-abbc-468e-9779-d49226a09076",
   "metadata": {},
   "source": [
    "Lazy approach - took x hours"
   ]
  },
  {
   "cell_type": "code",
   "execution_count": null,
   "id": "5bd6f2a3-4623-4aa7-9f9e-a5507237e276",
   "metadata": {},
   "outputs": [],
   "source": []
  }
 ],
 "metadata": {
  "kernelspec": {
   "display_name": "Python 3 (ipykernel)",
   "language": "python",
   "name": "python3"
  },
  "language_info": {
   "codemirror_mode": {
    "name": "ipython",
    "version": 3
   },
   "file_extension": ".py",
   "mimetype": "text/x-python",
   "name": "python",
   "nbconvert_exporter": "python",
   "pygments_lexer": "ipython3",
   "version": "3.11.5"
  }
 },
 "nbformat": 4,
 "nbformat_minor": 5
}
