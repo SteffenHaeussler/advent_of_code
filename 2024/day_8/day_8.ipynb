{
 "cells": [
  {
   "cell_type": "markdown",
   "id": "471b2ae6-91d8-4d40-ad6e-7db9bc156f2d",
   "metadata": {},
   "source": [
    "## Day 8"
   ]
  },
  {
   "cell_type": "markdown",
   "id": "5b51460f-db5b-407e-86bd-3dd416a7c1a8",
   "metadata": {},
   "source": [
    "### Part 1"
   ]
  },
  {
   "cell_type": "markdown",
   "id": "6f4d44ad-18eb-4d23-9f8b-400646f87953",
   "metadata": {},
   "source": [
    "#### Test"
   ]
  },
  {
   "cell_type": "code",
   "execution_count": 1,
   "id": "ce944b0f-4eac-4aea-82d1-fba44b11834d",
   "metadata": {},
   "outputs": [],
   "source": [
    "test = \"\"\"............\n",
    "........0...\n",
    ".....0......\n",
    ".......0....\n",
    "....0.......\n",
    "......A.....\n",
    "............\n",
    "............\n",
    "........A...\n",
    ".........A..\n",
    "............\n",
    "............\"\"\""
   ]
  },
  {
   "cell_type": "code",
   "execution_count": 2,
   "id": "cfd871f4-1dc7-4fc7-964b-5cc95d403b3e",
   "metadata": {},
   "outputs": [],
   "source": [
    "test = test.split(\"\\n\")"
   ]
  },
  {
   "cell_type": "code",
   "execution_count": 3,
   "id": "4bd81543-a0d3-4cf4-8155-5e33ce3c2865",
   "metadata": {},
   "outputs": [],
   "source": [
    "def get_antennas(grid):\n",
    "    antennas = set()\n",
    "    for row in grid:\n",
    "        antennas = antennas.union(set(row))\n",
    "    antennas.remove(\".\")\n",
    "    return antennas"
   ]
  },
  {
   "cell_type": "code",
   "execution_count": 4,
   "id": "2fb2a3bc-5aac-46de-b70a-45adaa7ce8b0",
   "metadata": {},
   "outputs": [],
   "source": [
    "def get_locations(grid, antenna):\n",
    "    loc = []\n",
    "    for row in range(len(grid)):\n",
    "        for col in range(len(grid[0])):\n",
    "            if grid[row][col] == antenna:\n",
    "                loc.append((row,col))\n",
    "    return loc"
   ]
  },
  {
   "cell_type": "code",
   "execution_count": 5,
   "id": "966294b7-ce62-43e6-b047-a3d4f201c650",
   "metadata": {},
   "outputs": [],
   "source": [
    "def get_frequencies(antenna):\n",
    "    i = 0\n",
    "    j = 1\n",
    "    n = len(antenna)\n",
    "    \n",
    "    antinode = set()\n",
    "    \n",
    "    while i < n-1:\n",
    "        j = i + 1\n",
    "        while j < n:\n",
    "            d_row = antenna[i][0]-antenna[j][0]\n",
    "            d_col = antenna[i][1]-antenna[j][1]\n",
    "    \n",
    "            antinode.add((antenna[i][0]+d_row, antenna[i][1]+d_col))\n",
    "            antinode.add((antenna[i][0]-d_row, antenna[i][1]-d_col))\n",
    "    \n",
    "            antinode.add((antenna[j][0]+d_row, antenna[j][1]+d_col))\n",
    "            antinode.add((antenna[j][0]-d_row, antenna[j][1]-d_col))\n",
    "\n",
    "            j += 1\n",
    "        i += 1\n",
    "    \n",
    "    antinode = antinode.difference(set(antenna))\n",
    "\n",
    "    return antinode"
   ]
  },
  {
   "cell_type": "code",
   "execution_count": 6,
   "id": "be0628b6-669c-4df6-b4b1-3c5345dccf9e",
   "metadata": {},
   "outputs": [],
   "source": [
    "def filter_antinodes(antinodes, grid):\n",
    "\n",
    "    n_row = len(grid)\n",
    "    n_col = len(grid[0])\n",
    "    result = []\n",
    "\n",
    "    for freqs in antinodes.values():\n",
    "        for freq in freqs:\n",
    "            if (0 <= freq[0] < n_row) and (0 <= freq[1] < n_col):\n",
    "                result.append(freq)\n",
    "\n",
    "    return list(set(result))"
   ]
  },
  {
   "cell_type": "code",
   "execution_count": 7,
   "id": "1c2d9d7f-8f0d-4c96-b08a-c213f28ee57c",
   "metadata": {},
   "outputs": [],
   "source": [
    "locs = {}\n",
    "antinodes = {}\n",
    "antennas = get_antennas(test)\n",
    "\n",
    "for antenna in antennas:\n",
    "    locs[antenna] = get_locations(test, antenna)\n",
    "    antinodes[antenna] = get_frequencies(locs[antenna])\n",
    "result = filter_antinodes(antinodes, test)"
   ]
  },
  {
   "cell_type": "code",
   "execution_count": 8,
   "id": "6a79a305-a19c-4f27-8b92-2fb8029e62f3",
   "metadata": {},
   "outputs": [],
   "source": [
    "assert len(result) == 14"
   ]
  },
  {
   "cell_type": "markdown",
   "id": "5f62c58f-8445-4cd8-9c06-70c43513f097",
   "metadata": {},
   "source": [
    "#### Task"
   ]
  },
  {
   "cell_type": "code",
   "execution_count": 9,
   "id": "7dc9a1c5-ae81-4ebe-bde4-b0268e3cb1e6",
   "metadata": {},
   "outputs": [],
   "source": [
    "with open(\"../../../advent_of_code_input/2024/day_8/input.txt\", \"r\") as f:\n",
    "    data = f.read()"
   ]
  },
  {
   "cell_type": "code",
   "execution_count": 10,
   "id": "0e692e53-e52a-4d4f-9ea5-b299033a5b49",
   "metadata": {},
   "outputs": [],
   "source": [
    "grid = data[:-1].split(\"\\n\")"
   ]
  },
  {
   "cell_type": "code",
   "execution_count": 11,
   "id": "9c30c493-465e-4feb-b188-6f60105a3580",
   "metadata": {},
   "outputs": [],
   "source": [
    "locs = {}\n",
    "antinodes = {}\n",
    "antennas = get_antennas(grid)\n",
    "\n",
    "for antenna in antennas:\n",
    "    locs[antenna] = get_locations(grid, antenna)\n",
    "    antinodes[antenna] = get_frequencies(locs[antenna])\n",
    "result = filter_antinodes(antinodes, grid)"
   ]
  },
  {
   "cell_type": "code",
   "execution_count": 12,
   "id": "f69c352d-f1ab-4582-b25a-5a75b8a902f7",
   "metadata": {},
   "outputs": [
    {
     "data": {
      "text/plain": [
       "359"
      ]
     },
     "execution_count": 12,
     "metadata": {},
     "output_type": "execute_result"
    }
   ],
   "source": [
    "len(result)"
   ]
  },
  {
   "cell_type": "markdown",
   "id": "15174143-7453-48ba-b8c2-f20b70056ad5",
   "metadata": {},
   "source": [
    "## Part 2"
   ]
  },
  {
   "cell_type": "markdown",
   "id": "ec5088b8-fdd0-4982-8781-72a025b6c462",
   "metadata": {},
   "source": [
    "#### Test"
   ]
  },
  {
   "cell_type": "code",
   "execution_count": 13,
   "id": "9a868f39-f5f1-4276-b5b3-91ee58ac7c75",
   "metadata": {},
   "outputs": [],
   "source": [
    "def get_harmonic_frequencies(antenna, grid):\n",
    "    i = 0\n",
    "    j = 1\n",
    "    n = len(antenna)\n",
    "    max_row = len(grid)\n",
    "    max_col = len(grid[0])\n",
    "    \n",
    "    antinode = set()\n",
    "    \n",
    "    while i < n-1:\n",
    "        j = i + 1\n",
    "        while j < n:\n",
    "            d_row = antenna[i][0]-antenna[j][0]\n",
    "            d_col = antenna[i][1]-antenna[j][1]\n",
    "\n",
    "            harmonic_row = abs(max_row // d_row)+1\n",
    "            harmonic_col = abs(max_col // d_col)+1\n",
    "\n",
    "            harmonic = min(harmonic_row,harmonic_col)\n",
    "\n",
    "            for k in range(harmonic+1):\n",
    "    \n",
    "                antinode.add((antenna[i][0]+(k*d_row), antenna[i][1]+(k*d_col)))\n",
    "                antinode.add((antenna[i][0]-(k*d_row), antenna[i][1]-(k*d_col)))\n",
    "        \n",
    "                antinode.add((antenna[j][0]+(k*d_row), antenna[j][1]+(k*d_col)))\n",
    "                antinode.add((antenna[j][0]-(k*d_row), antenna[j][1]-(k*d_col)))\n",
    "\n",
    "            j += 1\n",
    "        i += 1\n",
    "    \n",
    "    return set(antinode)"
   ]
  },
  {
   "cell_type": "code",
   "execution_count": 14,
   "id": "74994a75-061a-4ffc-90a5-831e742d7b9d",
   "metadata": {},
   "outputs": [],
   "source": [
    "test = \"\"\"............\n",
    "........0...\n",
    ".....0......\n",
    ".......0....\n",
    "....0.......\n",
    "......A.....\n",
    "............\n",
    "............\n",
    "........A...\n",
    ".........A..\n",
    "............\n",
    "............\"\"\""
   ]
  },
  {
   "cell_type": "code",
   "execution_count": 15,
   "id": "eddb4ff7-0bb8-4f34-9778-225dbcedbd24",
   "metadata": {},
   "outputs": [],
   "source": [
    "test = test.split(\"\\n\")"
   ]
  },
  {
   "cell_type": "code",
   "execution_count": 16,
   "id": "18580462-7d74-4c89-843e-457724add6ec",
   "metadata": {},
   "outputs": [],
   "source": [
    "locs = {}\n",
    "antinodes = {}\n",
    "antennas = get_antennas(test)\n",
    "\n",
    "for antenna in antennas:\n",
    "    locs[antenna] = get_locations(test, antenna)\n",
    "    antinodes[antenna] = get_harmonic_frequencies(locs[antenna], test)\n",
    "result = filter_antinodes(antinodes, test)"
   ]
  },
  {
   "cell_type": "code",
   "execution_count": 17,
   "id": "5478e6ae-a894-4077-b5b0-a9f6028da20a",
   "metadata": {},
   "outputs": [],
   "source": [
    "result = filter_antinodes(antinodes, test)"
   ]
  },
  {
   "cell_type": "code",
   "execution_count": 18,
   "id": "dc1ffdde-2139-435b-98c1-f7a82667a161",
   "metadata": {},
   "outputs": [],
   "source": [
    "assert len(result) == 34"
   ]
  },
  {
   "cell_type": "markdown",
   "id": "f8fbc5a9-b157-4880-91dd-aa97ec69d1ec",
   "metadata": {},
   "source": [
    "## Task"
   ]
  },
  {
   "cell_type": "code",
   "execution_count": 19,
   "id": "0af2da26-4a52-4da3-bb61-5ae3caf5fb31",
   "metadata": {},
   "outputs": [],
   "source": [
    "with open(\"../../../advent_of_code_input/2024/day_8/input.txt\", \"r\") as f:\n",
    "    data = f.read()"
   ]
  },
  {
   "cell_type": "code",
   "execution_count": 20,
   "id": "c7b337ec-5ec6-450c-89ce-3a164366bd87",
   "metadata": {},
   "outputs": [],
   "source": [
    "grid = data[:-1].split(\"\\n\")"
   ]
  },
  {
   "cell_type": "code",
   "execution_count": 21,
   "id": "97ddde0b-8fb8-49e3-97ce-c391fbd76a15",
   "metadata": {},
   "outputs": [],
   "source": [
    "locs = {}\n",
    "antinodes = {}\n",
    "antennas = get_antennas(grid)\n",
    "\n",
    "for antenna in antennas:\n",
    "    locs[antenna] = get_locations(grid, antenna)\n",
    "    antinodes[antenna] = get_harmonic_frequencies(locs[antenna], grid)\n",
    "result = filter_antinodes(antinodes, grid)"
   ]
  },
  {
   "cell_type": "code",
   "execution_count": 22,
   "id": "13062d73-a26e-4eef-81b2-db0ad51241da",
   "metadata": {},
   "outputs": [
    {
     "data": {
      "text/plain": [
       "1293"
      ]
     },
     "execution_count": 22,
     "metadata": {},
     "output_type": "execute_result"
    }
   ],
   "source": [
    "len(result)"
   ]
  },
  {
   "cell_type": "code",
   "execution_count": null,
   "id": "0250ab73-7cd1-4a46-bb0f-07367586f783",
   "metadata": {},
   "outputs": [],
   "source": []
  }
 ],
 "metadata": {
  "kernelspec": {
   "display_name": "Python 3 (ipykernel)",
   "language": "python",
   "name": "python3"
  },
  "language_info": {
   "codemirror_mode": {
    "name": "ipython",
    "version": 3
   },
   "file_extension": ".py",
   "mimetype": "text/x-python",
   "name": "python",
   "nbconvert_exporter": "python",
   "pygments_lexer": "ipython3",
   "version": "3.11.5"
  }
 },
 "nbformat": 4,
 "nbformat_minor": 5
}
