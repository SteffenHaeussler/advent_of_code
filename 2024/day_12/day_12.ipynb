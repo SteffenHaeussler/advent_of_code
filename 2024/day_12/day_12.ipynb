{
 "cells": [
  {
   "cell_type": "code",
   "execution_count": 12,
   "id": "97172066-dfa0-46b8-a068-803eafe54d52",
   "metadata": {},
   "outputs": [],
   "source": [
    "import numpy as np\n",
    "from scipy.ndimage import label\n",
    "from scipy.signal import convolve2d"
   ]
  },
  {
   "cell_type": "markdown",
   "id": "471b2ae6-91d8-4d40-ad6e-7db9bc156f2d",
   "metadata": {},
   "source": [
    "## Day 12"
   ]
  },
  {
   "cell_type": "markdown",
   "id": "5b51460f-db5b-407e-86bd-3dd416a7c1a8",
   "metadata": {},
   "source": [
    "### Part 1"
   ]
  },
  {
   "cell_type": "markdown",
   "id": "3301cfbe-75a4-4b0b-af2f-d8b8a0920fdd",
   "metadata": {},
   "source": [
    "solution based on [url](https://www.reddit.com/r/adventofcode/comments/1hcdnk0/comment/m1pb0m7/?utm_source=share&utm_medium=web3x&utm_name=web3xcss&utm_term=1&utm_content=share_button)"
   ]
  },
  {
   "cell_type": "markdown",
   "id": "6f4d44ad-18eb-4d23-9f8b-400646f87953",
   "metadata": {},
   "source": [
    "#### Test"
   ]
  },
  {
   "cell_type": "code",
   "execution_count": 53,
   "id": "cb2f4c2b-9fbd-43c6-a658-531ac12e23e9",
   "metadata": {},
   "outputs": [],
   "source": [
    "area_sum = lambda area: abs(area).sum()"
   ]
  },
  {
   "cell_type": "code",
   "execution_count": 64,
   "id": "ce944b0f-4eac-4aea-82d1-fba44b11834d",
   "metadata": {},
   "outputs": [],
   "source": [
    "test = \"\"\"RRRRIICCFF\n",
    "RRRRIICCCF\n",
    "VVRRRCCFFF\n",
    "VVRCCCJFFF\n",
    "VVVVCJJCFE\n",
    "VVIVCCJJEE\n",
    "VVIIICJJEE\n",
    "MIIIIIJJEE\n",
    "MIIISIJEEE\n",
    "MMMISSJEEE\"\"\"\n",
    "test = test.split(\"\\n\")\n",
    "\n",
    "grid = np.array([list(row) for row in test])"
   ]
  },
  {
   "cell_type": "code",
   "execution_count": 73,
   "id": "fd9c045e-f936-4ddc-a18b-cbc4dca9b861",
   "metadata": {},
   "outputs": [],
   "source": [
    "def calculate_perimeters(grid):\n",
    "\n",
    "    result = 0\n",
    "    regions = [label(grid==chr) for chr in np.unique(grid)]\n",
    "    \n",
    "    for area, n_cluster in regions:\n",
    "        for i in range(1,n_cluster+1):\n",
    "            cluster_area = (area == i)\n",
    "    \n",
    "            horizontal = convolve2d(cluster_area, [[1,-1]])\n",
    "            vertical = convolve2d(cluster_area, [[1],[-1]])\n",
    "            result += area_sum(cluster_area) * (area_sum(horizontal)+area_sum(vertical))\n",
    "\n",
    "    return result"
   ]
  },
  {
   "cell_type": "code",
   "execution_count": 66,
   "id": "9a486b41-08aa-4014-a4b2-8afeccc31130",
   "metadata": {},
   "outputs": [],
   "source": [
    "result = calculate_perimeters(grid)"
   ]
  },
  {
   "cell_type": "code",
   "execution_count": 67,
   "id": "b6271af3-b678-411c-a336-90aeea94cd4b",
   "metadata": {},
   "outputs": [],
   "source": [
    "assert result == 1930"
   ]
  },
  {
   "cell_type": "markdown",
   "id": "5f62c58f-8445-4cd8-9c06-70c43513f097",
   "metadata": {},
   "source": [
    "#### Task"
   ]
  },
  {
   "cell_type": "code",
   "execution_count": 68,
   "id": "140d8f7b-0c45-476a-a66a-0138faef6328",
   "metadata": {},
   "outputs": [],
   "source": [
    "with open(\"../../../advent_of_code_input/2024/day_12/input.txt\", \"r\") as f:\n",
    "    data = f.read()\n",
    "\n",
    "data = data[:-1].split(\"\\n\")\n",
    "grid = np.array([list(row) for row in data])"
   ]
  },
  {
   "cell_type": "code",
   "execution_count": 69,
   "id": "d9280223-5768-4fa4-ac7d-7701a13d6ebd",
   "metadata": {},
   "outputs": [],
   "source": [
    "result = calculate_perimeters(grid)"
   ]
  },
  {
   "cell_type": "code",
   "execution_count": 70,
   "id": "1e49b07b-c192-49a9-98da-cc3235633827",
   "metadata": {},
   "outputs": [
    {
     "data": {
      "text/plain": [
       "1370258"
      ]
     },
     "execution_count": 70,
     "metadata": {},
     "output_type": "execute_result"
    }
   ],
   "source": [
    "result"
   ]
  },
  {
   "cell_type": "markdown",
   "id": "15174143-7453-48ba-b8c2-f20b70056ad5",
   "metadata": {},
   "source": [
    "## Part 2"
   ]
  },
  {
   "cell_type": "code",
   "execution_count": 72,
   "id": "abffe1bf-c044-44cf-ad26-1d6b284d3b37",
   "metadata": {},
   "outputs": [],
   "source": [
    "test = \"\"\"AAAAAA\n",
    "AAABBA\n",
    "AAABBA\n",
    "ABBAAA\n",
    "ABBAAA\n",
    "AAAAAA\"\"\"\n",
    "test = test.split(\"\\n\")\n",
    "\n",
    "grid = np.array([list(row) for row in test])"
   ]
  },
  {
   "cell_type": "code",
   "execution_count": 77,
   "id": "4ee42a35-f56d-4ae9-8aa1-45fe74ec7e9c",
   "metadata": {},
   "outputs": [],
   "source": [
    "def calculate_sides(grid):\n",
    "\n",
    "    result = 0\n",
    "    regions = [label(grid==chr) for chr in np.unique(grid)]\n",
    "    \n",
    "    for area, n_cluster in regions:\n",
    "        for i in range(1,n_cluster+1):\n",
    "            cluster_area = (area == i)\n",
    "    \n",
    "            sides = convolve2d(cluster_area, [[1,-1],[-1,1]])\n",
    "            result += area_sum(cluster_area) * (area_sum(sides))\n",
    "\n",
    "    return result"
   ]
  },
  {
   "cell_type": "code",
   "execution_count": 78,
   "id": "a7349abb-4837-428d-be4e-85d22a3bb6fc",
   "metadata": {},
   "outputs": [],
   "source": [
    "result = calculate_sides(grid)"
   ]
  },
  {
   "cell_type": "code",
   "execution_count": 79,
   "id": "4ac13ea5-42f3-4ba8-955d-153aba9d7eab",
   "metadata": {},
   "outputs": [],
   "source": [
    "assert result == 368"
   ]
  },
  {
   "cell_type": "markdown",
   "id": "7deb1a43-fb6c-4baf-a859-13b2bebffd22",
   "metadata": {},
   "source": [
    "## Task"
   ]
  },
  {
   "cell_type": "code",
   "execution_count": 80,
   "id": "87abd377-e2b5-4422-ab23-09fa0b0cf192",
   "metadata": {},
   "outputs": [],
   "source": [
    "with open(\"../../../advent_of_code_input/2024/day_12/input.txt\", \"r\") as f:\n",
    "    data = f.read()\n",
    "\n",
    "data = data[:-1].split(\"\\n\")\n",
    "grid = np.array([list(row) for row in data])"
   ]
  },
  {
   "cell_type": "code",
   "execution_count": 81,
   "id": "6d383c58-036b-4241-b417-9a77e18907ca",
   "metadata": {},
   "outputs": [],
   "source": [
    "result = calculate_sides(grid)"
   ]
  },
  {
   "cell_type": "code",
   "execution_count": 82,
   "id": "dec4e347-a630-4774-9c31-23d414cba554",
   "metadata": {},
   "outputs": [
    {
     "data": {
      "text/plain": [
       "805814"
      ]
     },
     "execution_count": 82,
     "metadata": {},
     "output_type": "execute_result"
    }
   ],
   "source": [
    "result"
   ]
  }
 ],
 "metadata": {
  "kernelspec": {
   "display_name": "Python 3 (ipykernel)",
   "language": "python",
   "name": "python3"
  },
  "language_info": {
   "codemirror_mode": {
    "name": "ipython",
    "version": 3
   },
   "file_extension": ".py",
   "mimetype": "text/x-python",
   "name": "python",
   "nbconvert_exporter": "python",
   "pygments_lexer": "ipython3",
   "version": "3.11.5"
  }
 },
 "nbformat": 4,
 "nbformat_minor": 5
}
