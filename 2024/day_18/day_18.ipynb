{
 "cells": [
  {
   "cell_type": "code",
   "execution_count": 1,
   "id": "9f2832b9-53ca-41d8-a417-6543830662bd",
   "metadata": {},
   "outputs": [],
   "source": [
    "from collections import deque"
   ]
  },
  {
   "cell_type": "markdown",
   "id": "471b2ae6-91d8-4d40-ad6e-7db9bc156f2d",
   "metadata": {},
   "source": [
    "## Day 18"
   ]
  },
  {
   "cell_type": "markdown",
   "id": "5b51460f-db5b-407e-86bd-3dd416a7c1a8",
   "metadata": {},
   "source": [
    "### Part 1"
   ]
  },
  {
   "cell_type": "markdown",
   "id": "6f4d44ad-18eb-4d23-9f8b-400646f87953",
   "metadata": {},
   "source": [
    "#### Test"
   ]
  },
  {
   "cell_type": "code",
   "execution_count": 2,
   "id": "ce944b0f-4eac-4aea-82d1-fba44b11834d",
   "metadata": {},
   "outputs": [],
   "source": [
    "test = \"\"\"5,4\n",
    "4,2\n",
    "4,5\n",
    "3,0\n",
    "2,1\n",
    "6,3\n",
    "2,4\n",
    "1,5\n",
    "0,6\n",
    "3,3\n",
    "2,6\n",
    "5,1\n",
    "1,2\n",
    "5,5\n",
    "2,5\n",
    "6,5\n",
    "1,4\n",
    "0,4\n",
    "6,4\n",
    "1,1\n",
    "6,1\n",
    "1,0\n",
    "0,5\n",
    "1,6\n",
    "2,0\"\"\"\n",
    "\n",
    "test = test.split(\"\\n\")\n",
    "test = [i.split(\",\") for i in test]\n",
    "test = [tuple([int(j) for j in i]) for i in test]"
   ]
  },
  {
   "cell_type": "code",
   "execution_count": 3,
   "id": "a9440ccb-0283-4429-aa6f-ee4940ebd2c3",
   "metadata": {},
   "outputs": [],
   "source": [
    "directions = [(1,0),(-1,0),(0,1),(0,-1)]"
   ]
  },
  {
   "cell_type": "code",
   "execution_count": 4,
   "id": "09054aa6-e9b8-4b58-8032-14ed5cb0c014",
   "metadata": {},
   "outputs": [],
   "source": [
    "def find_path(grid_size, blocks):\n",
    "\n",
    "    start = (0, 0)\n",
    "    end = (grid_size, grid_size)\n",
    "    \n",
    "    steps = []\n",
    "    queue = deque([(start, 0)])\n",
    "    visited = set()\n",
    "    \n",
    "    while queue:\n",
    "        \n",
    "        pos, step = queue.popleft()\n",
    "    \n",
    "        if pos == end:\n",
    "            steps.append(step)\n",
    "            break\n",
    "        \n",
    "        if pos in visited:\n",
    "            continue\n",
    "    \n",
    "        visited.add(pos)\n",
    "    \n",
    "        for d_row, d_col in directions:\n",
    "    \n",
    "            next_row, next_col = pos[0] + d_row, pos[1] + d_col\n",
    "    \n",
    "            if (next_row, next_col) in blocks:\n",
    "                continue\n",
    "    \n",
    "            if (0<= next_row <= grid_size) and (0<= next_col <= grid_size):\n",
    "                queue.append([(next_row, next_col), step+1])\n",
    "\n",
    "    return min(steps) if steps else 0"
   ]
  },
  {
   "cell_type": "code",
   "execution_count": 5,
   "id": "8bd4f8e9-075d-4682-bf70-2d28f9092bd2",
   "metadata": {},
   "outputs": [],
   "source": [
    "grid_size = 6\n",
    "blocks = set(test[:12])\n",
    "result = find_path(grid_size, blocks)"
   ]
  },
  {
   "cell_type": "code",
   "execution_count": 6,
   "id": "6c48b473-61ea-4146-9713-c4573bc856a0",
   "metadata": {},
   "outputs": [],
   "source": [
    "assert result == 22"
   ]
  },
  {
   "cell_type": "markdown",
   "id": "5f62c58f-8445-4cd8-9c06-70c43513f097",
   "metadata": {},
   "source": [
    "## Task"
   ]
  },
  {
   "cell_type": "code",
   "execution_count": 7,
   "id": "140d8f7b-0c45-476a-a66a-0138faef6328",
   "metadata": {},
   "outputs": [],
   "source": [
    "with open(\"../../../advent_of_code_input/2024/day_18/input.txt\", \"r\") as f:\n",
    "    data = f.read()\n",
    "\n",
    "data = data[:-1].split(\"\\n\")\n",
    "data = [i.split(\",\") for i in data]\n",
    "data = [tuple([int(j) for j in i]) for i in data]"
   ]
  },
  {
   "cell_type": "code",
   "execution_count": 8,
   "id": "25a4d566-efcb-47a8-992c-2f66f480b693",
   "metadata": {},
   "outputs": [],
   "source": [
    "grid_size = 70\n",
    "blocks = set(data[:1024])\n",
    "result = find_path(grid_size, blocks)"
   ]
  },
  {
   "cell_type": "code",
   "execution_count": 9,
   "id": "1608aa2c-d547-4b44-944f-67522807f94c",
   "metadata": {},
   "outputs": [
    {
     "data": {
      "text/plain": [
       "288"
      ]
     },
     "execution_count": 9,
     "metadata": {},
     "output_type": "execute_result"
    }
   ],
   "source": [
    "result"
   ]
  },
  {
   "cell_type": "markdown",
   "id": "15174143-7453-48ba-b8c2-f20b70056ad5",
   "metadata": {},
   "source": [
    "## Part 2"
   ]
  },
  {
   "cell_type": "markdown",
   "id": "ec5088b8-fdd0-4982-8781-72a025b6c462",
   "metadata": {},
   "source": [
    "#### Test"
   ]
  },
  {
   "cell_type": "code",
   "execution_count": 10,
   "id": "fd9ae039-570e-495e-8c22-e0badb444c9e",
   "metadata": {},
   "outputs": [],
   "source": [
    "test = \"\"\"5,4\n",
    "4,2\n",
    "4,5\n",
    "3,0\n",
    "2,1\n",
    "6,3\n",
    "2,4\n",
    "1,5\n",
    "0,6\n",
    "3,3\n",
    "2,6\n",
    "5,1\n",
    "1,2\n",
    "5,5\n",
    "2,5\n",
    "6,5\n",
    "1,4\n",
    "0,4\n",
    "6,4\n",
    "1,1\n",
    "6,1\n",
    "1,0\n",
    "0,5\n",
    "1,6\n",
    "2,0\"\"\"\n",
    "\n",
    "test = test.split(\"\\n\")\n",
    "test = [i.split(\",\") for i in test]\n",
    "test = [tuple([int(j) for j in i]) for i in test]"
   ]
  },
  {
   "cell_type": "code",
   "execution_count": 11,
   "id": "ff049185-f0d5-49c9-923d-6b072af478b8",
   "metadata": {},
   "outputs": [],
   "source": [
    "grid_size = 6\n",
    "start_idx = 12\n",
    "result = 22\n",
    "while result != 0:\n",
    "    start_idx += 1\n",
    "    \n",
    "    blocks = set(test[:start_idx])\n",
    "    result = find_path(grid_size, blocks)\n",
    "\n",
    "result = test[start_idx-1]\n",
    "\n",
    "assert result == (6,1)"
   ]
  },
  {
   "cell_type": "markdown",
   "id": "7deb1a43-fb6c-4baf-a859-13b2bebffd22",
   "metadata": {},
   "source": [
    "## Task"
   ]
  },
  {
   "cell_type": "code",
   "execution_count": 12,
   "id": "87abd377-e2b5-4422-ab23-09fa0b0cf192",
   "metadata": {},
   "outputs": [],
   "source": [
    "with open(\"../../../advent_of_code_input/2024/day_18/input.txt\", \"r\") as f:\n",
    "    data = f.read()\n",
    "\n",
    "data = data[:-1].split(\"\\n\")\n",
    "data = [i.split(\",\") for i in data]\n",
    "data = [tuple([int(j) for j in i]) for i in data]"
   ]
  },
  {
   "cell_type": "code",
   "execution_count": 13,
   "id": "c89c810c-4f0e-42d0-b068-a8dc7ff9ddaa",
   "metadata": {},
   "outputs": [],
   "source": [
    "grid_size = 70\n",
    "start_idx = 1024\n",
    "result = 288\n",
    "while result != 0:\n",
    "    start_idx += 1\n",
    "    \n",
    "    blocks = set(data[:start_idx])\n",
    "    result = find_path(grid_size, blocks)\n",
    "\n",
    "result = data[start_idx-1]"
   ]
  },
  {
   "cell_type": "code",
   "execution_count": 14,
   "id": "1f1ed6a2-cbd6-46e2-978e-2d10ef6e8853",
   "metadata": {},
   "outputs": [
    {
     "data": {
      "text/plain": [
       "(52, 5)"
      ]
     },
     "execution_count": 14,
     "metadata": {},
     "output_type": "execute_result"
    }
   ],
   "source": [
    "result"
   ]
  },
  {
   "cell_type": "markdown",
   "id": "2bee5272-9d30-42ab-8ebf-57a927e2fad5",
   "metadata": {},
   "source": [
    "Lazy approach"
   ]
  }
 ],
 "metadata": {
  "kernelspec": {
   "display_name": "Python 3 (ipykernel)",
   "language": "python",
   "name": "python3"
  },
  "language_info": {
   "codemirror_mode": {
    "name": "ipython",
    "version": 3
   },
   "file_extension": ".py",
   "mimetype": "text/x-python",
   "name": "python",
   "nbconvert_exporter": "python",
   "pygments_lexer": "ipython3",
   "version": "3.11.5"
  }
 },
 "nbformat": 4,
 "nbformat_minor": 5
}
