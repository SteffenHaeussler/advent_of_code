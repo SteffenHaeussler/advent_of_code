{
 "cells": [
  {
   "cell_type": "markdown",
   "id": "471b2ae6-91d8-4d40-ad6e-7db9bc156f2d",
   "metadata": {},
   "source": [
    "## Day 24"
   ]
  },
  {
   "cell_type": "markdown",
   "id": "5b51460f-db5b-407e-86bd-3dd416a7c1a8",
   "metadata": {},
   "source": [
    "### Part 1"
   ]
  },
  {
   "cell_type": "markdown",
   "id": "6f4d44ad-18eb-4d23-9f8b-400646f87953",
   "metadata": {},
   "source": [
    "#### Test"
   ]
  },
  {
   "cell_type": "code",
   "execution_count": 1,
   "id": "9078dd67-bff8-4536-b404-a77f6f71e92a",
   "metadata": {},
   "outputs": [],
   "source": [
    "test = \"\"\"x00: 1\n",
    "x01: 0\n",
    "x02: 1\n",
    "x03: 1\n",
    "x04: 0\n",
    "y00: 1\n",
    "y01: 1\n",
    "y02: 1\n",
    "y03: 1\n",
    "y04: 1\n",
    "\n",
    "ntg XOR fgs -> mjb\n",
    "y02 OR x01 -> tnw\n",
    "kwq OR kpj -> z05\n",
    "x00 OR x03 -> fst\n",
    "tgd XOR rvg -> z01\n",
    "vdt OR tnw -> bfw\n",
    "bfw AND frj -> z10\n",
    "ffh OR nrd -> bqk\n",
    "y00 AND y03 -> djm\n",
    "y03 OR y00 -> psh\n",
    "bqk OR frj -> z08\n",
    "tnw OR fst -> frj\n",
    "gnj AND tgd -> z11\n",
    "bfw XOR mjb -> z00\n",
    "x03 OR x00 -> vdt\n",
    "gnj AND wpb -> z02\n",
    "x04 AND y00 -> kjc\n",
    "djm OR pbm -> qhw\n",
    "nrd AND vdt -> hwm\n",
    "kjc AND fst -> rvg\n",
    "y04 OR y02 -> fgs\n",
    "y01 AND x02 -> pbm\n",
    "ntg OR kjc -> kwq\n",
    "psh XOR fgs -> tgd\n",
    "qhw XOR tgd -> z09\n",
    "pbm OR djm -> kpj\n",
    "x03 XOR y03 -> ffh\n",
    "x00 XOR y04 -> ntg\n",
    "bfw OR bqk -> z06\n",
    "nrd XOR fgs -> wpb\n",
    "frj XOR qhw -> z04\n",
    "bqk OR frj -> z07\n",
    "y03 OR x01 -> nrd\n",
    "hwm AND bqk -> z03\n",
    "tgd XOR rvg -> z12\n",
    "tnw OR pbm -> gnj\"\"\""
   ]
  },
  {
   "cell_type": "code",
   "execution_count": 2,
   "id": "356006aa-1dbc-4fd3-85aa-0906983eb1ef",
   "metadata": {},
   "outputs": [],
   "source": [
    "nodes, gates = test.split(\"\\n\\n\")\n",
    "gates = gates.replace(\"AND\", \"&\")\n",
    "gates = gates.replace(\"XOR\", \"!=\")\n",
    "gates = gates.replace(\"OR\", \"|\")\n",
    "\n",
    "nodes = nodes.split(\"\\n\") \n",
    "\n",
    "nodes = [i.split(\":\") for i in nodes]\n",
    "nodes = {i[0]: int(i[1].strip()) for i in nodes}\n",
    "\n",
    "for k,v in nodes.items():\n",
    "    gates = gates.replace(k, str(v))\n",
    "    \n",
    "gates = gates.split(\"\\n\") \n",
    "\n",
    "gates = [i.split(\"->\") for i in gates]\n",
    "gates = {i[1].strip(): i[0].strip().lower() for i in gates}"
   ]
  },
  {
   "cell_type": "code",
   "execution_count": 3,
   "id": "cc1058dc-7088-4605-9656-ede446992f10",
   "metadata": {},
   "outputs": [],
   "source": [
    "def update_nodes(nodes, gates):\n",
    "    new_gates = {}\n",
    "    for k,v in gates.items():\n",
    "    \n",
    "        try:\n",
    "            nodes[k] = int(eval(v))\n",
    "        except:\n",
    "            new_gates[k] = v\n",
    "    return nodes, new_gates\n",
    "\n",
    "def update_gates(nodes, gates):\n",
    "    new_gates = {}\n",
    "\n",
    "    for k, v in gates.items():\n",
    "        for kk, vv in nodes.items():\n",
    "            v = v.replace(kk, str(vv))\n",
    "\n",
    "        new_gates[k] = v\n",
    "\n",
    "    return new_gates"
   ]
  },
  {
   "cell_type": "code",
   "execution_count": 4,
   "id": "365ee153-eec9-426d-91e9-8cf5f333dbaa",
   "metadata": {},
   "outputs": [],
   "source": [
    "while gates:\n",
    "    \n",
    "    nodes, gates = update_nodes(nodes, gates)\n",
    "    gates = update_gates(nodes, gates)"
   ]
  },
  {
   "cell_type": "code",
   "execution_count": 5,
   "id": "191371ae-4de4-49a4-a035-fed8ddb2554d",
   "metadata": {},
   "outputs": [],
   "source": [
    "result = \"\"\n",
    "for k, v in sorted(nodes.items()):\n",
    "    if k[0] == \"z\":\n",
    "        result = str(v) + result\n",
    "\n",
    "result = int(result, 2)"
   ]
  },
  {
   "cell_type": "code",
   "execution_count": 6,
   "id": "6ef28e74-fa1e-45cd-aba4-bb754f7a6218",
   "metadata": {},
   "outputs": [],
   "source": [
    "assert result == 2024"
   ]
  },
  {
   "cell_type": "markdown",
   "id": "5f62c58f-8445-4cd8-9c06-70c43513f097",
   "metadata": {},
   "source": [
    "## Task"
   ]
  },
  {
   "cell_type": "code",
   "execution_count": 72,
   "id": "140d8f7b-0c45-476a-a66a-0138faef6328",
   "metadata": {},
   "outputs": [],
   "source": [
    "with open(\"../../../advent_of_code_input/2024/day_24/input.txt\", \"r\") as f:\n",
    "    data = f.read()\n",
    "\n",
    "nodes, gates = data[:-1].split(\"\\n\\n\")\n",
    "gates = gates.replace(\"AND\", \"&\")\n",
    "gates = gates.replace(\"XOR\", \"!=\")\n",
    "gates = gates.replace(\"OR\", \"|\")\n",
    "\n",
    "nodes = nodes.split(\"\\n\") \n",
    "\n",
    "nodes = [i.split(\":\") for i in nodes]\n",
    "nodes = {i[0]: int(i[1].strip()) for i in nodes}\n",
    "\n",
    "for k,v in nodes.items():\n",
    "    gates = gates.replace(k, str(v))\n",
    "    \n",
    "gates = gates.split(\"\\n\") \n",
    "\n",
    "gates = [i.split(\"->\") for i in gates]\n",
    "gates = {i[1].strip(): i[0].strip().lower() for i in gates}"
   ]
  },
  {
   "cell_type": "code",
   "execution_count": 73,
   "id": "25a4d566-efcb-47a8-992c-2f66f480b693",
   "metadata": {},
   "outputs": [],
   "source": [
    "while gates:\n",
    "    \n",
    "    nodes, gates = update_nodes(nodes, gates)\n",
    "    gates = update_gates(nodes, gates)"
   ]
  },
  {
   "cell_type": "code",
   "execution_count": 74,
   "id": "9bb07875-618d-40d8-bb9c-911069f13881",
   "metadata": {},
   "outputs": [],
   "source": [
    "# del nodes[\"z2\"]\n",
    "# nodes[\"z21\"] = 0"
   ]
  },
  {
   "cell_type": "code",
   "execution_count": 75,
   "id": "1608aa2c-d547-4b44-944f-67522807f94c",
   "metadata": {},
   "outputs": [],
   "source": [
    "result = \"\"\n",
    "for k, v in sorted(nodes.items()):\n",
    "    if k[0] == \"z\":\n",
    "        result = str(v) + result\n",
    "\n",
    "result = int(result, 2)"
   ]
  },
  {
   "cell_type": "code",
   "execution_count": 76,
   "id": "736ecb27-ee53-4720-8ae8-6b345b900604",
   "metadata": {},
   "outputs": [
    {
     "data": {
      "text/plain": [
       "55920211035878"
      ]
     },
     "execution_count": 76,
     "metadata": {},
     "output_type": "execute_result"
    }
   ],
   "source": [
    "result"
   ]
  },
  {
   "cell_type": "markdown",
   "id": "15174143-7453-48ba-b8c2-f20b70056ad5",
   "metadata": {},
   "source": [
    "## Part 2"
   ]
  },
  {
   "cell_type": "markdown",
   "id": "ec5088b8-fdd0-4982-8781-72a025b6c462",
   "metadata": {},
   "source": [
    "#### Test"
   ]
  },
  {
   "cell_type": "code",
   "execution_count": 77,
   "id": "fd9ae039-570e-495e-8c22-e0badb444c9e",
   "metadata": {},
   "outputs": [],
   "source": [
    "test = \"\"\"x00: 0\n",
    "x01: 1\n",
    "x02: 0\n",
    "x03: 1\n",
    "x04: 0\n",
    "x05: 1\n",
    "y00: 0\n",
    "y01: 0\n",
    "y02: 1\n",
    "y03: 1\n",
    "y04: 0\n",
    "y05: 1\n",
    "\n",
    "x00 AND y00 -> z05\n",
    "x01 AND y01 -> z02\n",
    "x02 AND y02 -> z01\n",
    "x03 AND y03 -> z03\n",
    "x04 AND y04 -> z04\n",
    "x05 AND y05 -> z00\"\"\""
   ]
  },
  {
   "cell_type": "code",
   "execution_count": 78,
   "id": "25748d4d-27c0-4085-bee5-064deccc0777",
   "metadata": {},
   "outputs": [],
   "source": [
    "nodes, gates = test.split(\"\\n\\n\")\n",
    "gates = gates.replace(\"AND\", \"&\")\n",
    "gates = gates.replace(\"XOR\", \"!=\")\n",
    "gates = gates.replace(\"OR\", \"|\")\n",
    "\n",
    "nodes = nodes.split(\"\\n\") \n",
    "\n",
    "nodes = [i.split(\":\") for i in nodes]\n",
    "nodes = {i[0]: int(i[1].strip()) for i in nodes}\n",
    "\n",
    "for k,v in nodes.items():\n",
    "    gates = gates.replace(k, str(v))\n",
    "    \n",
    "gates = gates.split(\"\\n\") \n",
    "\n",
    "gates = [i.split(\"->\") for i in gates]\n",
    "gates = {i[1].strip(): i[0].strip().lower() for i in gates}"
   ]
  },
  {
   "cell_type": "code",
   "execution_count": 79,
   "id": "9bf0a7ae-09d5-4555-a2c5-4a527a5bd456",
   "metadata": {},
   "outputs": [
    {
     "data": {
      "text/plain": [
       "{'z05': '0 & 0',\n",
       " 'z02': '1 & 0',\n",
       " 'z01': '0 & 1',\n",
       " 'z03': '1 & 1',\n",
       " 'z04': '0 & 0',\n",
       " 'z00': '1 & 1'}"
      ]
     },
     "execution_count": 79,
     "metadata": {},
     "output_type": "execute_result"
    }
   ],
   "source": [
    "gates"
   ]
  },
  {
   "cell_type": "markdown",
   "id": "b9b9d9ec-8519-40f8-8887-4ce5d2e902bf",
   "metadata": {},
   "source": [
    "</br>z00 -> 1 # goal: 0\n",
    "</br>z01 -> 0 # goal: 0\n",
    "</br>z02 -> 0 # goal: 0\n",
    "</br>z03 -> 1 # goal: 1\n",
    "</br>z04 -> 0 # goal: 1"
   ]
  },
  {
   "cell_type": "markdown",
   "id": "f8a4e2ba-76df-4071-8b1e-1338285e78e4",
   "metadata": {},
   "source": [
    "swap:\n",
    "z00 -> z04 and z01 and z02"
   ]
  },
  {
   "cell_type": "code",
   "execution_count": 80,
   "id": "12c00f1e-bc0f-4981-a2fe-720befb285d2",
   "metadata": {},
   "outputs": [
    {
     "data": {
      "text/plain": [
       "{'x00': 0,\n",
       " 'x01': 1,\n",
       " 'x02': 0,\n",
       " 'x03': 1,\n",
       " 'x04': 0,\n",
       " 'x05': 1,\n",
       " 'y00': 0,\n",
       " 'y01': 0,\n",
       " 'y02': 1,\n",
       " 'y03': 1,\n",
       " 'y04': 0,\n",
       " 'y05': 1}"
      ]
     },
     "execution_count": 80,
     "metadata": {},
     "output_type": "execute_result"
    }
   ],
   "source": [
    "nodes"
   ]
  },
  {
   "cell_type": "markdown",
   "id": "7deb1a43-fb6c-4baf-a859-13b2bebffd22",
   "metadata": {},
   "source": [
    "## Task"
   ]
  },
  {
   "cell_type": "code",
   "execution_count": 81,
   "id": "87abd377-e2b5-4422-ab23-09fa0b0cf192",
   "metadata": {},
   "outputs": [],
   "source": [
    "with open(\"../../../advent_of_code_input/2024/day_24/input.txt\", \"r\") as f:\n",
    "    data = f.read()\n",
    "\n",
    "nodes, gates = data[:-1].split(\"\\n\\n\")\n",
    "gates = gates.replace(\"AND\", \"&\")\n",
    "gates = gates.replace(\"XOR\", \"!=\")\n",
    "gates = gates.replace(\"OR\", \"|\")\n",
    "\n",
    "nodes = nodes.split(\"\\n\") \n",
    "\n",
    "nodes = [i.split(\":\") for i in nodes]\n",
    "nodes = {i[0]: int(i[1].strip()) for i in nodes}\n",
    "\n",
    "for k,v in nodes.items():\n",
    "    gates = gates.replace(k, str(v))\n",
    "    \n",
    "gates = gates.split(\"\\n\") \n",
    "\n",
    "gates = [i.split(\"->\") for i in gates]\n",
    "gates = {i[1].strip(): i[0].strip().lower() for i in gates}"
   ]
  },
  {
   "cell_type": "code",
   "execution_count": 123,
   "id": "e068e21d-b400-4577-8272-4e1af7c38291",
   "metadata": {},
   "outputs": [
    {
     "name": "stdout",
     "output_type": "stream",
     "text": [
      "1 != 1\n",
      "kjh != kkc\n",
      "jpt != jvk\n",
      "wcj != dnk\n",
      "gwg != ggg\n"
     ]
    }
   ],
   "source": [
    "print(gates[\"z00\"]) # 0\n",
    "print(gates[\"z01\"]) # 0 != 1\n",
    "print(gates[\"z02\"]) # 0 != 1\n",
    "print(gates[\"z03\"]) # 0 != 0\n",
    "print(gates[\"z04\"]) # 1 != 1\n",
    "# print(gates[\"z05\"]) # ? != ?"
   ]
  },
  {
   "cell_type": "code",
   "execution_count": 121,
   "id": "c89c810c-4f0e-42d0-b068-a8dc7ff9ddaa",
   "metadata": {},
   "outputs": [
    {
     "name": "stdout",
     "output_type": "stream",
     "text": [
      "npn | jjv\n",
      "0 != 1\n",
      "nvs | nnt\n",
      "kfr | wjq\n"
     ]
    }
   ],
   "source": [
    "# print(gates[\"kjh\"])\n",
    "# print(gates[\"kkc\"])\n",
    "\n",
    "print(gates[\"jpt\"]) # 1 | 0\n",
    "# print(gates[\"jvk\"])\n",
    "\n",
    "print(gates[\"wcj\"]) # 0 | 0\n",
    "# print(gates[\"dnk\"])\n",
    "print(gates[\"gwg\"]) # 1 | 1\n",
    "# print(gates[\"ggg\"])\n"
   ]
  },
  {
   "cell_type": "code",
   "execution_count": 102,
   "id": "f866fa27-2081-4f37-8bd9-95ac4168fa54",
   "metadata": {},
   "outputs": [
    {
     "name": "stdout",
     "output_type": "stream",
     "text": [
      "kjh & kkc\n",
      "jvk & jpt\n",
      "dnk & wcj\n"
     ]
    }
   ],
   "source": [
    "# print(gates[\"npn\"])\n",
    "print(gates[\"jjv\"]) # 0 & 1\n",
    "\n",
    "# print(gates[\"nvs\"])\n",
    "print(gates[\"nnt\"]) # 1 & 0\n",
    "\n",
    "# print(gates[\"kfr\"])\n",
    "print(gates[\"wjq\"]) # 0 & 0"
   ]
  },
  {
   "cell_type": "code",
   "execution_count": 105,
   "id": "7ad69c7e-b071-4d40-a370-93fb1601684e",
   "metadata": {},
   "outputs": [
    {
     "name": "stdout",
     "output_type": "stream",
     "text": [
      "npn | jjv\n",
      "nvs | nnt\n"
     ]
    }
   ],
   "source": [
    "# print(gates[\"kjh\"])\n",
    "# print(gates[\"kkc\"])\n",
    "\n",
    "# print(gates[\"jvk\"])\n",
    "print(gates[\"jpt\"]) # 1 | 0\n",
    "\n",
    "# print(gates[\"dnk\"]) \n",
    "print(gates[\"wcj\"]) # 0 | 0"
   ]
  },
  {
   "cell_type": "code",
   "execution_count": 109,
   "id": "40bdef96-3298-4cd4-9edf-a9d640654052",
   "metadata": {},
   "outputs": [
    {
     "name": "stdout",
     "output_type": "stream",
     "text": [
      "kjh & kkc\n",
      "jvk & jpt\n"
     ]
    }
   ],
   "source": [
    "# print(gates[\"npn\"])\n",
    "print(gates[\"jjv\"]) # 0 & 1\n",
    "\n",
    "# print(gates[\"nvs\"]) # 0 & 1\n",
    "print(gates[\"nnt\"])"
   ]
  },
  {
   "cell_type": "code",
   "execution_count": 111,
   "id": "67b3e09b-2402-42b3-8fb1-3cd5ec1a2349",
   "metadata": {},
   "outputs": [
    {
     "name": "stdout",
     "output_type": "stream",
     "text": [
      "npn | jjv\n"
     ]
    }
   ],
   "source": [
    "# print(gates[\"kjh\"]) # 0\n",
    "# print(gates[\"kkc\"])\n",
    "\n",
    "# print(gates[\"jvk\"])\n",
    "print(gates[\"jpt\"]) # 1 | 0"
   ]
  },
  {
   "cell_type": "code",
   "execution_count": 113,
   "id": "eb3509f5-a307-473f-a120-497445061b32",
   "metadata": {},
   "outputs": [
    {
     "name": "stdout",
     "output_type": "stream",
     "text": [
      "kjh & kkc\n"
     ]
    }
   ],
   "source": [
    "# print(gates[\"npn\"])\n",
    "print(gates[\"jjv\"]) # 0 & 1"
   ]
  },
  {
   "cell_type": "code",
   "execution_count": 114,
   "id": "ff758d44-1b27-4e9c-b749-767d2a13f5af",
   "metadata": {},
   "outputs": [
    {
     "name": "stdout",
     "output_type": "stream",
     "text": [
      "0 != 0\n",
      "1 & 1\n"
     ]
    }
   ],
   "source": [
    "print(gates[\"kjh\"])\n",
    "print(gates[\"kkc\"])"
   ]
  },
  {
   "cell_type": "code",
   "execution_count": 117,
   "id": "3ecdb252-9126-4f98-83b6-41f2e30e6e69",
   "metadata": {},
   "outputs": [
    {
     "data": {
      "text/plain": [
       "0"
      ]
     },
     "execution_count": 117,
     "metadata": {},
     "output_type": "execute_result"
    }
   ],
   "source": [
    "0 | 0"
   ]
  },
  {
   "cell_type": "code",
   "execution_count": null,
   "id": "a764a5bb-ead5-42b5-8844-c24ef817fcfd",
   "metadata": {},
   "outputs": [],
   "source": []
  }
 ],
 "metadata": {
  "kernelspec": {
   "display_name": "Python 3 (ipykernel)",
   "language": "python",
   "name": "python3"
  },
  "language_info": {
   "codemirror_mode": {
    "name": "ipython",
    "version": 3
   },
   "file_extension": ".py",
   "mimetype": "text/x-python",
   "name": "python",
   "nbconvert_exporter": "python",
   "pygments_lexer": "ipython3",
   "version": "3.11.5"
  }
 },
 "nbformat": 4,
 "nbformat_minor": 5
}
