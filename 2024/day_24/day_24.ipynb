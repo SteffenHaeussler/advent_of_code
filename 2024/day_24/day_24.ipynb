{
 "cells": [
  {
   "cell_type": "markdown",
   "id": "471b2ae6-91d8-4d40-ad6e-7db9bc156f2d",
   "metadata": {},
   "source": [
    "## Day 24"
   ]
  },
  {
   "cell_type": "markdown",
   "id": "5b51460f-db5b-407e-86bd-3dd416a7c1a8",
   "metadata": {},
   "source": [
    "### Part 1"
   ]
  },
  {
   "cell_type": "markdown",
   "id": "6f4d44ad-18eb-4d23-9f8b-400646f87953",
   "metadata": {},
   "source": [
    "#### Test"
   ]
  },
  {
   "cell_type": "code",
   "execution_count": 1,
   "id": "9078dd67-bff8-4536-b404-a77f6f71e92a",
   "metadata": {},
   "outputs": [],
   "source": [
    "test = \"\"\"x00: 1\n",
    "x01: 0\n",
    "x02: 1\n",
    "x03: 1\n",
    "x04: 0\n",
    "y00: 1\n",
    "y01: 1\n",
    "y02: 1\n",
    "y03: 1\n",
    "y04: 1\n",
    "\n",
    "ntg XOR fgs -> mjb\n",
    "y02 OR x01 -> tnw\n",
    "kwq OR kpj -> z05\n",
    "x00 OR x03 -> fst\n",
    "tgd XOR rvg -> z01\n",
    "vdt OR tnw -> bfw\n",
    "bfw AND frj -> z10\n",
    "ffh OR nrd -> bqk\n",
    "y00 AND y03 -> djm\n",
    "y03 OR y00 -> psh\n",
    "bqk OR frj -> z08\n",
    "tnw OR fst -> frj\n",
    "gnj AND tgd -> z11\n",
    "bfw XOR mjb -> z00\n",
    "x03 OR x00 -> vdt\n",
    "gnj AND wpb -> z02\n",
    "x04 AND y00 -> kjc\n",
    "djm OR pbm -> qhw\n",
    "nrd AND vdt -> hwm\n",
    "kjc AND fst -> rvg\n",
    "y04 OR y02 -> fgs\n",
    "y01 AND x02 -> pbm\n",
    "ntg OR kjc -> kwq\n",
    "psh XOR fgs -> tgd\n",
    "qhw XOR tgd -> z09\n",
    "pbm OR djm -> kpj\n",
    "x03 XOR y03 -> ffh\n",
    "x00 XOR y04 -> ntg\n",
    "bfw OR bqk -> z06\n",
    "nrd XOR fgs -> wpb\n",
    "frj XOR qhw -> z04\n",
    "bqk OR frj -> z07\n",
    "y03 OR x01 -> nrd\n",
    "hwm AND bqk -> z03\n",
    "tgd XOR rvg -> z12\n",
    "tnw OR pbm -> gnj\"\"\""
   ]
  },
  {
   "cell_type": "code",
   "execution_count": 2,
   "id": "356006aa-1dbc-4fd3-85aa-0906983eb1ef",
   "metadata": {},
   "outputs": [],
   "source": [
    "nodes, gates = test.split(\"\\n\\n\")\n",
    "gates = gates.replace(\"AND\", \"&\")\n",
    "gates = gates.replace(\"XOR\", \"!=\")\n",
    "gates = gates.replace(\"OR\", \"|\")\n",
    "\n",
    "nodes = nodes.split(\"\\n\") \n",
    "\n",
    "nodes = [i.split(\":\") for i in nodes]\n",
    "nodes = {i[0]: int(i[1].strip()) for i in nodes}\n",
    "\n",
    "for k,v in nodes.items():\n",
    "    gates = gates.replace(k, str(v))\n",
    "    \n",
    "gates = gates.split(\"\\n\") \n",
    "\n",
    "gates = [i.split(\"->\") for i in gates]\n",
    "gates = {i[1].strip(): i[0].strip().lower() for i in gates}"
   ]
  },
  {
   "cell_type": "code",
   "execution_count": 3,
   "id": "cc1058dc-7088-4605-9656-ede446992f10",
   "metadata": {},
   "outputs": [],
   "source": [
    "def update_nodes(nodes, gates):\n",
    "    new_gates = {}\n",
    "    for k,v in gates.items():\n",
    "    \n",
    "        try:\n",
    "            nodes[k] = int(eval(v))\n",
    "        except:\n",
    "            new_gates[k] = v\n",
    "    return nodes, new_gates\n",
    "\n",
    "def update_gates(nodes, gates):\n",
    "    new_gates = {}\n",
    "\n",
    "    for k, v in gates.items():\n",
    "        for kk, vv in nodes.items():\n",
    "            v = v.replace(kk, str(vv))\n",
    "\n",
    "        new_gates[k] = v\n",
    "\n",
    "    return new_gates"
   ]
  },
  {
   "cell_type": "code",
   "execution_count": 4,
   "id": "365ee153-eec9-426d-91e9-8cf5f333dbaa",
   "metadata": {},
   "outputs": [],
   "source": [
    "while gates:\n",
    "    \n",
    "    nodes, gates = update_nodes(nodes, gates)\n",
    "    gates = update_gates(nodes, gates)"
   ]
  },
  {
   "cell_type": "code",
   "execution_count": 5,
   "id": "191371ae-4de4-49a4-a035-fed8ddb2554d",
   "metadata": {},
   "outputs": [],
   "source": [
    "result = \"\"\n",
    "for k, v in sorted(nodes.items()):\n",
    "    if k[0] == \"z\":\n",
    "        result = str(v) + result\n",
    "\n",
    "result = int(result, 2)"
   ]
  },
  {
   "cell_type": "code",
   "execution_count": 6,
   "id": "6ef28e74-fa1e-45cd-aba4-bb754f7a6218",
   "metadata": {},
   "outputs": [],
   "source": [
    "assert result == 2024"
   ]
  },
  {
   "cell_type": "markdown",
   "id": "5f62c58f-8445-4cd8-9c06-70c43513f097",
   "metadata": {},
   "source": [
    "## Task"
   ]
  },
  {
   "cell_type": "code",
   "execution_count": 7,
   "id": "140d8f7b-0c45-476a-a66a-0138faef6328",
   "metadata": {},
   "outputs": [],
   "source": [
    "with open(\"../../../advent_of_code_input/2024/day_24/input.txt\", \"r\") as f:\n",
    "    data = f.read()\n",
    "\n",
    "nodes, gates = data[:-1].split(\"\\n\\n\")\n",
    "gates = gates.replace(\"AND\", \"&\")\n",
    "gates = gates.replace(\"XOR\", \"!=\")\n",
    "gates = gates.replace(\"OR\", \"|\")\n",
    "\n",
    "nodes = nodes.split(\"\\n\") \n",
    "\n",
    "nodes = [i.split(\":\") for i in nodes]\n",
    "nodes = {i[0]: int(i[1].strip()) for i in nodes}\n",
    "\n",
    "for k,v in nodes.items():\n",
    "    gates = gates.replace(k, str(v))\n",
    "    \n",
    "gates = gates.split(\"\\n\") \n",
    "\n",
    "gates = [i.split(\"->\") for i in gates]\n",
    "gates = {i[1].strip(): i[0].strip().lower() for i in gates}"
   ]
  },
  {
   "cell_type": "code",
   "execution_count": 8,
   "id": "25a4d566-efcb-47a8-992c-2f66f480b693",
   "metadata": {},
   "outputs": [],
   "source": [
    "while gates:\n",
    "    \n",
    "    nodes, gates = update_nodes(nodes, gates)\n",
    "    gates = update_gates(nodes, gates)"
   ]
  },
  {
   "cell_type": "code",
   "execution_count": 9,
   "id": "1608aa2c-d547-4b44-944f-67522807f94c",
   "metadata": {},
   "outputs": [],
   "source": [
    "result = \"\"\n",
    "for k, v in sorted(nodes.items()):\n",
    "    if k[0] == \"z\":\n",
    "        result = str(v) + result\n",
    "\n",
    "result = int(result, 2)"
   ]
  },
  {
   "cell_type": "code",
   "execution_count": 10,
   "id": "736ecb27-ee53-4720-8ae8-6b345b900604",
   "metadata": {},
   "outputs": [
    {
     "data": {
      "text/plain": [
       "55920211035878"
      ]
     },
     "execution_count": 10,
     "metadata": {},
     "output_type": "execute_result"
    }
   ],
   "source": [
    "result"
   ]
  },
  {
   "cell_type": "markdown",
   "id": "15174143-7453-48ba-b8c2-f20b70056ad5",
   "metadata": {},
   "source": [
    "## Part 2"
   ]
  },
  {
   "cell_type": "markdown",
   "id": "ec5088b8-fdd0-4982-8781-72a025b6c462",
   "metadata": {},
   "source": [
    "impossible to solve for me. i [copy & pasted this solution](https://www.reddit.com/r/adventofcode/comments/1hl698z/comment/m3l1rbe/), in the hope i will understand it some day."
   ]
  },
  {
   "cell_type": "markdown",
   "id": "7deb1a43-fb6c-4baf-a859-13b2bebffd22",
   "metadata": {},
   "source": [
    "## Task"
   ]
  },
  {
   "cell_type": "code",
   "execution_count": 11,
   "id": "87abd377-e2b5-4422-ab23-09fa0b0cf192",
   "metadata": {},
   "outputs": [],
   "source": [
    "with open(\"../../../advent_of_code_input/2024/day_24/input.txt\", \"r\") as f:\n",
    "    data = f.read()\n",
    "\n",
    "nodes, gates = data[:-1].split(\"\\n\\n\")    \n",
    "gates = gates.split(\"\\n\") "
   ]
  },
  {
   "cell_type": "code",
   "execution_count": 12,
   "id": "3785695e-092b-43fb-b545-d4618371839e",
   "metadata": {},
   "outputs": [],
   "source": [
    "def find_gate(x_wire: str, y_wire: str, gate_type: str, configurations: list[str]):\n",
    "    sub_str_a = f'{x_wire} {gate_type} {y_wire} -> '\n",
    "    sub_str_b = f'{y_wire} {gate_type} {x_wire} -> '\n",
    "\n",
    "    for config in configurations:\n",
    "        if (sub_str_a in config) or (sub_str_b in config):\n",
    "            return config.split(' -> ')[-1]\n",
    "\n",
    "\n",
    "def swap_output_wires(wire_a: str, wire_b: str, configurations: list[str]):\n",
    "    new_configurations = []\n",
    "\n",
    "    for config in configurations:\n",
    "        input_wires, output_wire = config.split(' -> ')\n",
    "\n",
    "        if output_wire == wire_a:\n",
    "            new_configurations.append(' -> '.join([input_wires] + [wire_b]))\n",
    "        \n",
    "        elif output_wire == wire_b:\n",
    "            new_configurations.append(' -> '.join([input_wires] + [wire_a]))\n",
    "        \n",
    "        else:\n",
    "            new_configurations.append(' -> '.join([input_wires] + [output_wire]))\n",
    "\n",
    "    return new_configurations\n",
    "\n",
    "\n",
    "def check_parallel_adders(configurations):\n",
    "    current_carry_wire = None\n",
    "    swaps = []\n",
    "    bit = 0\n",
    "\n",
    "    while True:\n",
    "        x_wire = f'x{bit:02d}'\n",
    "        y_wire = f'y{bit:02d}'\n",
    "        z_wire = f'z{bit:02d}'\n",
    "\n",
    "        if bit==0:\n",
    "            current_carry_wire = find_gate(x_wire, y_wire, 'AND', configurations)\n",
    "        else:\n",
    "            ab_xor_gate = find_gate(x_wire, y_wire, 'XOR', configurations)\n",
    "            ab_and_gate = find_gate(x_wire, y_wire, 'AND', configurations)\n",
    "\n",
    "            cin_ab_xor_gate = find_gate(ab_xor_gate, current_carry_wire, 'XOR', configurations)\n",
    "            if cin_ab_xor_gate is None:\n",
    "                swaps.append(ab_xor_gate)\n",
    "                swaps.append(ab_and_gate)\n",
    "                configurations = swap_output_wires(ab_xor_gate, ab_and_gate, configurations)\n",
    "                bit = 0\n",
    "                continue\n",
    "            \n",
    "            if cin_ab_xor_gate != z_wire:\n",
    "                swaps.append(cin_ab_xor_gate)\n",
    "                swaps.append(z_wire)\n",
    "                configurations = swap_output_wires(cin_ab_xor_gate, z_wire, configurations)\n",
    "                bit = 0\n",
    "                continue\n",
    "\n",
    "            cin_ab_and_gate = find_gate(ab_xor_gate, current_carry_wire, 'AND', configurations)\n",
    "            \n",
    "            carry_wire = find_gate(ab_and_gate, cin_ab_and_gate, 'OR', configurations)\n",
    "            current_carry_wire = carry_wire\n",
    "        \n",
    "        bit += 1\n",
    "        if bit >= 45:\n",
    "            break\n",
    "    \n",
    "    return swaps"
   ]
  },
  {
   "cell_type": "code",
   "execution_count": 13,
   "id": "ce1d9d79-a64c-4ac1-988b-8ce15904e41c",
   "metadata": {},
   "outputs": [],
   "source": [
    "swaps = check_parallel_adders(gates)\n",
    "result = ','.join(sorted(swaps))"
   ]
  },
  {
   "cell_type": "code",
   "execution_count": 14,
   "id": "ac7c3db1-3541-4886-8a67-d74384f8db95",
   "metadata": {},
   "outputs": [
    {
     "data": {
      "text/plain": [
       "'btb,cmv,mwp,rdg,rmj,z17,z23,z30'"
      ]
     },
     "execution_count": 14,
     "metadata": {},
     "output_type": "execute_result"
    }
   ],
   "source": [
    "result"
   ]
  }
 ],
 "metadata": {
  "kernelspec": {
   "display_name": "Python 3 (ipykernel)",
   "language": "python",
   "name": "python3"
  },
  "language_info": {
   "codemirror_mode": {
    "name": "ipython",
    "version": 3
   },
   "file_extension": ".py",
   "mimetype": "text/x-python",
   "name": "python",
   "nbconvert_exporter": "python",
   "pygments_lexer": "ipython3",
   "version": "3.11.5"
  }
 },
 "nbformat": 4,
 "nbformat_minor": 5
}
