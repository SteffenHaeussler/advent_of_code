{
 "cells": [
  {
   "cell_type": "code",
   "execution_count": 1,
   "id": "54986085-b6ba-46a6-802a-724bfa12bd8d",
   "metadata": {},
   "outputs": [],
   "source": [
    "import re\n",
    "\n",
    "import numpy as np"
   ]
  },
  {
   "cell_type": "markdown",
   "id": "471b2ae6-91d8-4d40-ad6e-7db9bc156f2d",
   "metadata": {},
   "source": [
    "## Day 13"
   ]
  },
  {
   "cell_type": "markdown",
   "id": "5b51460f-db5b-407e-86bd-3dd416a7c1a8",
   "metadata": {},
   "source": [
    "### Part 1"
   ]
  },
  {
   "cell_type": "markdown",
   "id": "6f4d44ad-18eb-4d23-9f8b-400646f87953",
   "metadata": {},
   "source": [
    "#### Test"
   ]
  },
  {
   "cell_type": "code",
   "execution_count": 2,
   "id": "ce944b0f-4eac-4aea-82d1-fba44b11834d",
   "metadata": {},
   "outputs": [],
   "source": [
    "test = \"\"\"Button A: X+94, Y+34\n",
    "Button B: X+22, Y+67\n",
    "Prize: X=8400, Y=5400\n",
    "\n",
    "Button A: X+26, Y+66\n",
    "Button B: X+67, Y+21\n",
    "Prize: X=12748, Y=12176\n",
    "\n",
    "Button A: X+17, Y+86\n",
    "Button B: X+84, Y+37\n",
    "Prize: X=7870, Y=6450\n",
    "\n",
    "Button A: X+69, Y+23\n",
    "Button B: X+27, Y+71\n",
    "Prize: X=18641, Y=10279\"\"\"\n",
    "\n",
    "test = test.split(\"\\n\\n\")"
   ]
  },
  {
   "cell_type": "code",
   "execution_count": 3,
   "id": "cdafb27b-54b8-4a98-aad1-c2c0640f88a6",
   "metadata": {},
   "outputs": [],
   "source": [
    "def get_numbers(text):\n",
    "    lst = []\n",
    "\n",
    "    for i in text:\n",
    "        pattern = r'-?\\d+'\n",
    "    \n",
    "        numbers = re.findall(pattern, i)\n",
    "        integers = list(map(int, numbers))\n",
    "\n",
    "        lst.append(integers)\n",
    "\n",
    "    return lst"
   ]
  },
  {
   "cell_type": "code",
   "execution_count": 19,
   "id": "11047b69-4cc8-45b3-8e38-fa01a92f040e",
   "metadata": {},
   "outputs": [],
   "source": [
    "def solve_equation(data, correction=False):\n",
    "\n",
    "    solution = []\n",
    "    \n",
    "    \n",
    "    for x1, x2, y1, y2, X, Y in data:\n",
    "        if correction:\n",
    "            X += 10000000000000\n",
    "            Y += 10000000000000\n",
    "        \n",
    "        denum = x1*y2-y1*x2\n",
    "    \n",
    "        A = (X*y2 - y1*Y)/denum \n",
    "        B = (x1*Y - X*x2)/denum \n",
    "    \n",
    "        if A.is_integer() and B.is_integer():\n",
    "            solution.append([A,B])\n",
    "        else:\n",
    "            solution.append([0,0])\n",
    "\n",
    "    return solution"
   ]
  },
  {
   "cell_type": "markdown",
   "id": "e91b84ce-6de5-4135-932e-2546e0461b25",
   "metadata": {},
   "source": [
    "Solve equation is better, the matrix multiplication suffers from a proper detection for integers and the round is not the best approach."
   ]
  },
  {
   "cell_type": "code",
   "execution_count": 72,
   "id": "1e1a9332-ef8a-4921-8378-aea04c65af4a",
   "metadata": {},
   "outputs": [],
   "source": [
    "def solve_matrix(data, correction=False):\n",
    "    \n",
    "    solution = []\n",
    "\n",
    "    for x1, x2, y1, y2, X, Y in data:\n",
    "        if correction:\n",
    "            X += 10000000000000\n",
    "            Y += 10000000000000\n",
    "\n",
    "        A = np.array([x1, x2, y1, y2]).reshape(2,2).T\n",
    "        B = np.array([X,Y])\n",
    "        X = np.linalg.inv(A).dot(B)\n",
    "\n",
    "        X = X.tolist()\n",
    "\n",
    "        if round(X[0], 3).is_integer() and round(X[1], 3).is_integer():\n",
    "            \n",
    "            solution.append([int(round(i)) for i in X])\n",
    "        else:\n",
    "            solution.append([0,0])\n",
    "    \n",
    "    return solution"
   ]
  },
  {
   "cell_type": "code",
   "execution_count": 54,
   "id": "582ace89-2ed7-401b-92cf-7426d8927cdb",
   "metadata": {},
   "outputs": [],
   "source": [
    "result = 0\n",
    "\n",
    "data = get_numbers(test)\n",
    "results = solve_matrix(data)\n",
    "\n",
    "for a,b in results:\n",
    "\n",
    "    result += 3*a + b"
   ]
  },
  {
   "cell_type": "code",
   "execution_count": 55,
   "id": "ea5f8ff8-2861-481a-83ed-6fa8d2451ea2",
   "metadata": {},
   "outputs": [],
   "source": [
    "assert result == 480"
   ]
  },
  {
   "cell_type": "markdown",
   "id": "5f62c58f-8445-4cd8-9c06-70c43513f097",
   "metadata": {},
   "source": [
    "## Task"
   ]
  },
  {
   "cell_type": "code",
   "execution_count": 56,
   "id": "140d8f7b-0c45-476a-a66a-0138faef6328",
   "metadata": {},
   "outputs": [],
   "source": [
    "with open(\"../../../advent_of_code_input/2024/day_13/input.txt\", \"r\") as f:\n",
    "    data = f.read()\n",
    "\n",
    "data = data.split(\"\\n\\n\")\n"
   ]
  },
  {
   "cell_type": "code",
   "execution_count": 57,
   "id": "0fb6da6a-cede-4b66-a2bf-f0d51e687f7e",
   "metadata": {},
   "outputs": [],
   "source": [
    "result = 0\n",
    "\n",
    "_data = get_numbers(data)\n",
    "results = solve_matrix(_data)\n",
    "\n",
    "for a,b in results:\n",
    "\n",
    "    result += 3*a + b"
   ]
  },
  {
   "cell_type": "code",
   "execution_count": 58,
   "id": "f495e304-d0a3-4d87-9c51-01903ac37713",
   "metadata": {},
   "outputs": [
    {
     "data": {
      "text/plain": [
       "28887"
      ]
     },
     "execution_count": 58,
     "metadata": {},
     "output_type": "execute_result"
    }
   ],
   "source": [
    "result"
   ]
  },
  {
   "cell_type": "markdown",
   "id": "15174143-7453-48ba-b8c2-f20b70056ad5",
   "metadata": {},
   "source": [
    "## Part 2"
   ]
  },
  {
   "cell_type": "markdown",
   "id": "ec5088b8-fdd0-4982-8781-72a025b6c462",
   "metadata": {},
   "source": [
    "#### Test"
   ]
  },
  {
   "cell_type": "code",
   "execution_count": 59,
   "id": "b43d4c97-f26d-4d40-9f04-f098f31bffb0",
   "metadata": {},
   "outputs": [],
   "source": [
    "test = \"\"\"Button A: X+94, Y+34\n",
    "Button B: X+22, Y+67\n",
    "Prize: X=8400, Y=5400\n",
    "\n",
    "Button A: X+26, Y+66\n",
    "Button B: X+67, Y+21\n",
    "Prize: X=12748, Y=12176\n",
    "\n",
    "Button A: X+17, Y+86\n",
    "Button B: X+84, Y+37\n",
    "Prize: X=7870, Y=6450\n",
    "\n",
    "Button A: X+69, Y+23\n",
    "Button B: X+27, Y+71\n",
    "Prize: X=18641, Y=10279\"\"\"\n",
    "\n",
    "test = test.split(\"\\n\\n\")"
   ]
  },
  {
   "cell_type": "code",
   "execution_count": 60,
   "id": "328bd84a-aa45-4716-ac92-7acc44a00913",
   "metadata": {},
   "outputs": [],
   "source": [
    "result = 0\n",
    "\n",
    "data = get_numbers(test)\n",
    "results = solve_equation(data, correction=True)\n",
    "\n",
    "for a,b in results:\n",
    "\n",
    "    result += 3*a + b"
   ]
  },
  {
   "cell_type": "code",
   "execution_count": 61,
   "id": "a812683d-7fff-4449-ab05-abf6307ed7d7",
   "metadata": {},
   "outputs": [
    {
     "data": {
      "text/plain": [
       "[[0, 0],\n",
       " [118679050709.0, 103199174542.0],\n",
       " [0, 0],\n",
       " [102851800151.0, 107526881786.0]]"
      ]
     },
     "execution_count": 61,
     "metadata": {},
     "output_type": "execute_result"
    }
   ],
   "source": [
    "results"
   ]
  },
  {
   "cell_type": "code",
   "execution_count": 62,
   "id": "758c2ed2-80c7-4395-b16f-ec3b966070fa",
   "metadata": {},
   "outputs": [],
   "source": [
    "result = 0\n",
    "\n",
    "data = get_numbers(test)\n",
    "results = solve_matrix(data, correction=True)\n",
    "\n",
    "for a,b in results:\n",
    "\n",
    "    result += 3*a + b"
   ]
  },
  {
   "cell_type": "markdown",
   "id": "7deb1a43-fb6c-4baf-a859-13b2bebffd22",
   "metadata": {},
   "source": [
    "## Task"
   ]
  },
  {
   "cell_type": "code",
   "execution_count": 73,
   "id": "87abd377-e2b5-4422-ab23-09fa0b0cf192",
   "metadata": {},
   "outputs": [],
   "source": [
    "with open(\"../../../advent_of_code_input/2024/day_13/input.txt\", \"r\") as f:\n",
    "    data = f.read()\n",
    "\n",
    "data = data.split(\"\\n\\n\")"
   ]
  },
  {
   "cell_type": "code",
   "execution_count": 74,
   "id": "470678ef-56ad-4e3e-910b-013303a7b8dd",
   "metadata": {},
   "outputs": [],
   "source": [
    "result = 0\n",
    "\n",
    "data = get_numbers(data)\n",
    "results = solve_matrix(data, correction=True)\n",
    "\n",
    "for a,b in results:\n",
    "\n",
    "    result += 3*a + b"
   ]
  },
  {
   "cell_type": "code",
   "execution_count": 75,
   "id": "91a63f17-549c-414e-a35a-0ff7dd22cb84",
   "metadata": {},
   "outputs": [
    {
     "data": {
      "text/plain": [
       "96979582619758"
      ]
     },
     "execution_count": 75,
     "metadata": {},
     "output_type": "execute_result"
    }
   ],
   "source": [
    "result"
   ]
  },
  {
   "cell_type": "code",
   "execution_count": null,
   "id": "c89c810c-4f0e-42d0-b068-a8dc7ff9ddaa",
   "metadata": {},
   "outputs": [],
   "source": []
  }
 ],
 "metadata": {
  "kernelspec": {
   "display_name": "Python 3 (ipykernel)",
   "language": "python",
   "name": "python3"
  },
  "language_info": {
   "codemirror_mode": {
    "name": "ipython",
    "version": 3
   },
   "file_extension": ".py",
   "mimetype": "text/x-python",
   "name": "python",
   "nbconvert_exporter": "python",
   "pygments_lexer": "ipython3",
   "version": "3.11.5"
  }
 },
 "nbformat": 4,
 "nbformat_minor": 5
}
