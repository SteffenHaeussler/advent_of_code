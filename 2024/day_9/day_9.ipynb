{
 "cells": [
  {
   "cell_type": "markdown",
   "id": "471b2ae6-91d8-4d40-ad6e-7db9bc156f2d",
   "metadata": {},
   "source": [
    "## Day 9"
   ]
  },
  {
   "cell_type": "markdown",
   "id": "5b51460f-db5b-407e-86bd-3dd416a7c1a8",
   "metadata": {},
   "source": [
    "### Part 1"
   ]
  },
  {
   "cell_type": "markdown",
   "id": "6f4d44ad-18eb-4d23-9f8b-400646f87953",
   "metadata": {},
   "source": [
    "#### Test"
   ]
  },
  {
   "cell_type": "code",
   "execution_count": 1,
   "id": "ce944b0f-4eac-4aea-82d1-fba44b11834d",
   "metadata": {},
   "outputs": [],
   "source": [
    "test = \"\"\"2333133121414131402\"\"\""
   ]
  },
  {
   "cell_type": "code",
   "execution_count": 2,
   "id": "14b4a335-3102-413e-a345-ae7067af93cc",
   "metadata": {},
   "outputs": [],
   "source": [
    "def convert_to_disk_map(lst):\n",
    "    new_lst = []\n",
    "    \n",
    "    _id = 0\n",
    "    \n",
    "    for i, chr in enumerate(lst):\n",
    "    \n",
    "        if i % 2 == 0:\n",
    "            new_lst.extend([str(_id)]*int(chr))\n",
    "            _id += 1\n",
    "        else:\n",
    "            new_lst.extend([\".\"] * int(chr))\n",
    "    return new_lst    "
   ]
  },
  {
   "cell_type": "code",
   "execution_count": 3,
   "id": "ace97e2b-2ef2-4fce-900a-83ae4df7487e",
   "metadata": {},
   "outputs": [],
   "source": [
    "def fill_blanks(lst):\n",
    "\n",
    "    new = []\n",
    "    \n",
    "    p1 = 0\n",
    "    p2 = len(lst)-1\n",
    "\n",
    "    visited = set()\n",
    "    \n",
    "    while p1 < len(lst) and p2 >= 0 and p1 not in visited and p2 not in visited:\n",
    "    \n",
    "        if lst[p1] == \".\":\n",
    "    \n",
    "            while lst[p2] == \".\":\n",
    "                \n",
    "                p2 -= 1\n",
    "    \n",
    "            new.append(lst[p2])\n",
    "            visited.add(p2)\n",
    "            p2 -= 1\n",
    "    \n",
    "        else:\n",
    "            new.append(lst[p1])\n",
    "            visited.add(p1)\n",
    "    \n",
    "        p1 += 1\n",
    "\n",
    "    return new"
   ]
  },
  {
   "cell_type": "code",
   "execution_count": 4,
   "id": "b06d877d-b597-4b7a-acbc-90a0d35404b0",
   "metadata": {},
   "outputs": [],
   "source": [
    "disk_map = convert_to_disk_map(test)\n",
    "assert \"\".join(disk_map) == \"00...111...2...333.44.5555.6666.777.888899\"\n",
    "\n",
    "filled_disk_map = fill_blanks(disk_map)\n",
    "assert \"\".join(filled_disk_map) + (\".\" * (len(disk_map)- len(filled_disk_map))) == \"0099811188827773336446555566..............\""
   ]
  },
  {
   "cell_type": "code",
   "execution_count": 5,
   "id": "20a3b0fd-6a34-4115-8784-cc2daed389ac",
   "metadata": {},
   "outputs": [],
   "source": [
    "result = 0\n",
    "for n, chr in enumerate(filled_disk_map):\n",
    "    result += int(chr) * n"
   ]
  },
  {
   "cell_type": "code",
   "execution_count": 6,
   "id": "6d913a61-ec28-4e1d-85d0-37d0c21f2f5a",
   "metadata": {},
   "outputs": [],
   "source": [
    "assert result == 1928"
   ]
  },
  {
   "cell_type": "markdown",
   "id": "5f62c58f-8445-4cd8-9c06-70c43513f097",
   "metadata": {},
   "source": [
    "#### Task"
   ]
  },
  {
   "cell_type": "code",
   "execution_count": 7,
   "id": "140d8f7b-0c45-476a-a66a-0138faef6328",
   "metadata": {},
   "outputs": [],
   "source": [
    "with open(\"../../../advent_of_code_input/2024/day_9/input.txt\", \"r\") as f:\n",
    "    data = f.read()\n",
    "\n",
    "data = data.split(\"\\n\")[0]"
   ]
  },
  {
   "cell_type": "code",
   "execution_count": 8,
   "id": "d9280223-5768-4fa4-ac7d-7701a13d6ebd",
   "metadata": {},
   "outputs": [],
   "source": [
    "disk_map = convert_to_disk_map(data)\n",
    "filled_disk_map = fill_blanks(disk_map)"
   ]
  },
  {
   "cell_type": "code",
   "execution_count": 9,
   "id": "829109b1-8719-4a3a-a826-7766a51e7862",
   "metadata": {},
   "outputs": [],
   "source": [
    "result = 0\n",
    "\n",
    "for n, chr in enumerate(filled_disk_map):\n",
    "    result += int(chr) * n"
   ]
  },
  {
   "cell_type": "code",
   "execution_count": 10,
   "id": "ae148e3d-5b26-4e25-916d-f70c3e296586",
   "metadata": {},
   "outputs": [
    {
     "data": {
      "text/plain": [
       "6356833654075"
      ]
     },
     "execution_count": 10,
     "metadata": {},
     "output_type": "execute_result"
    }
   ],
   "source": [
    "result"
   ]
  },
  {
   "cell_type": "markdown",
   "id": "15174143-7453-48ba-b8c2-f20b70056ad5",
   "metadata": {},
   "source": [
    "## Part 2"
   ]
  },
  {
   "cell_type": "markdown",
   "id": "ec5088b8-fdd0-4982-8781-72a025b6c462",
   "metadata": {},
   "source": [
    "#### Test"
   ]
  },
  {
   "cell_type": "code",
   "execution_count": 11,
   "id": "b43d4c97-f26d-4d40-9f04-f098f31bffb0",
   "metadata": {},
   "outputs": [],
   "source": [
    "test = \"\"\"2333133121414131402\"\"\""
   ]
  },
  {
   "cell_type": "code",
   "execution_count": 12,
   "id": "2f36dcb1-2908-4e12-9431-84537147789a",
   "metadata": {},
   "outputs": [],
   "source": [
    "def convert_to_disk_map_2(lst):\n",
    "    new_lst = []\n",
    "    \n",
    "    _id = 0\n",
    "    \n",
    "    for i, chr in enumerate(lst):\n",
    "    \n",
    "        if i % 2 == 0:\n",
    "            new_lst.append([str(_id)]*int(chr))\n",
    "            _id += 1\n",
    "        else:\n",
    "            new_lst.append([\".\"] * int(chr))\n",
    "\n",
    "    new_lst = [i for i in new_lst if i]\n",
    "    return new_lst    "
   ]
  },
  {
   "cell_type": "code",
   "execution_count": 15,
   "id": "24b667cc-36f9-42ee-b607-ea866b964f61",
   "metadata": {},
   "outputs": [],
   "source": [
    "def fill_segments(disk_map):\n",
    "    \n",
    "    p2 = len(disk_map)-1\n",
    "    \n",
    "    while p2 >= 0:\n",
    "        p1 = 0\n",
    "    \n",
    "        temp_p2 = \"\".join(disk_map[p2])\n",
    "    \n",
    "        if \".\" not in temp_p2:\n",
    "            n_seq_int = len(disk_map[p2])\n",
    "        \n",
    "            while (p1 < len(disk_map)-1) and (p1 < p2):\n",
    "    \n",
    "                temp_p1 = \"\".join(disk_map[p1])\n",
    "                \n",
    "                if \".\" in temp_p1:\n",
    "        \n",
    "                    n_seq_dot = temp_p1.count(\".\")\n",
    "                    \n",
    "                    if n_seq_int <= n_seq_dot:\n",
    "                        \n",
    "                        temp = disk_map[p1]\n",
    "                        temp2 = disk_map[p2]\n",
    "    \n",
    "                        for i in range(n_seq_int):\n",
    "                            for j in range(len(temp)):\n",
    "                                if temp[j]==\".\":\n",
    "                                    temp[j] = temp2[0]\n",
    "                                    break             \n",
    "                                    \n",
    "                        temp2 = [\".\"] * n_seq_int\n",
    "        \n",
    "                        disk_map[p1] = temp\n",
    "                        disk_map[p2] = temp2\n",
    "    \n",
    "                        temp_p2 = \"\".join(disk_map[p2])\n",
    "    \n",
    "                        if \".\" not in temp_p2:\n",
    "                            continue\n",
    "    \n",
    "                p1 += 1\n",
    "    \n",
    "        p2 -= 1\n",
    "\n",
    "    return [j for i in disk_map for j in i]"
   ]
  },
  {
   "cell_type": "code",
   "execution_count": 16,
   "id": "83c262d7-a82c-494d-9795-40101fd5634c",
   "metadata": {},
   "outputs": [],
   "source": [
    "disk_map = convert_to_disk_map_2(test)\n",
    "unfolded_disk_map = fill_segments(disk_map)\n",
    "\n",
    "assert \"\".join(unfolded_disk_map) == \"00992111777.44.333....5555.6666.....8888..\""
   ]
  },
  {
   "cell_type": "code",
   "execution_count": 17,
   "id": "dd534a9f-442d-4de0-b809-ab6947b69f6f",
   "metadata": {},
   "outputs": [],
   "source": [
    "result = 0\n",
    "\n",
    "for n, chr in enumerate(unfolded_disk_map):\n",
    "    \n",
    "    if chr == \".\":\n",
    "        continue\n",
    "    result += int(chr) * n"
   ]
  },
  {
   "cell_type": "code",
   "execution_count": 18,
   "id": "4cb97838-dba7-4938-83a3-eca6b97ca209",
   "metadata": {},
   "outputs": [],
   "source": [
    "assert result == 2858"
   ]
  },
  {
   "cell_type": "markdown",
   "id": "13191db8-b2d1-45ab-b758-3a67cc24b1b2",
   "metadata": {},
   "source": [
    "## Task"
   ]
  },
  {
   "cell_type": "code",
   "execution_count": 19,
   "id": "d04c8e8c-8efc-4f83-b9a7-c68f4ca23f49",
   "metadata": {},
   "outputs": [],
   "source": [
    "with open(\"../../../advent_of_code_input/2024/day_9/input.txt\", \"r\") as f:\n",
    "    data = f.read()\n",
    "\n",
    "data = data.split(\"\\n\")[0]"
   ]
  },
  {
   "cell_type": "code",
   "execution_count": 20,
   "id": "f749f778-9029-405b-a04c-8c17ea39f95c",
   "metadata": {},
   "outputs": [],
   "source": [
    "disk_map = convert_to_disk_map_2(data)\n",
    "unfolded_disk_map = fill_segments(disk_map)"
   ]
  },
  {
   "cell_type": "code",
   "execution_count": 21,
   "id": "700d5c66-1d74-499d-b2d9-1847c0347ab5",
   "metadata": {},
   "outputs": [],
   "source": [
    "result = 0\n",
    "\n",
    "for n, chr in enumerate(unfolded_disk_map):\n",
    "    \n",
    "    if chr == \".\":\n",
    "        continue\n",
    "    result += int(chr) * n"
   ]
  },
  {
   "cell_type": "code",
   "execution_count": 22,
   "id": "1422fd1f-97bf-4c12-a3d5-ec9fbb84ec81",
   "metadata": {},
   "outputs": [
    {
     "data": {
      "text/plain": [
       "6389911791746"
      ]
     },
     "execution_count": 22,
     "metadata": {},
     "output_type": "execute_result"
    }
   ],
   "source": [
    "result"
   ]
  }
 ],
 "metadata": {
  "kernelspec": {
   "display_name": "Python 3 (ipykernel)",
   "language": "python",
   "name": "python3"
  },
  "language_info": {
   "codemirror_mode": {
    "name": "ipython",
    "version": 3
   },
   "file_extension": ".py",
   "mimetype": "text/x-python",
   "name": "python",
   "nbconvert_exporter": "python",
   "pygments_lexer": "ipython3",
   "version": "3.11.5"
  }
 },
 "nbformat": 4,
 "nbformat_minor": 5
}
