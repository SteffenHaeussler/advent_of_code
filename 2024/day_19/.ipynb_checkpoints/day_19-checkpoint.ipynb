{
 "cells": [
  {
   "cell_type": "markdown",
   "id": "471b2ae6-91d8-4d40-ad6e-7db9bc156f2d",
   "metadata": {},
   "source": [
    "## Day 19"
   ]
  },
  {
   "cell_type": "markdown",
   "id": "5b51460f-db5b-407e-86bd-3dd416a7c1a8",
   "metadata": {},
   "source": [
    "### Part 1"
   ]
  },
  {
   "cell_type": "markdown",
   "id": "6f4d44ad-18eb-4d23-9f8b-400646f87953",
   "metadata": {},
   "source": [
    "#### Test"
   ]
  },
  {
   "cell_type": "code",
   "execution_count": 41,
   "id": "ce944b0f-4eac-4aea-82d1-fba44b11834d",
   "metadata": {},
   "outputs": [],
   "source": [
    "test = \"\"\"r, wr, b, g, bwu, rb, gb, br\n",
    "\n",
    "brwrr\n",
    "bggr\n",
    "gbbr\n",
    "rrbgbr\n",
    "ubwu\n",
    "bwurrg\n",
    "brgr\n",
    "bbrgwb\"\"\"\n",
    "\n",
    "test = test.split(\"\\n\\n\")\n",
    "\n",
    "\n",
    "pattern = test[0].split(\", \")\n",
    "combinations = test[1].split(\"\\n\")"
   ]
  },
  {
   "cell_type": "code",
   "execution_count": 42,
   "id": "559c1e92-0d04-4163-a7ed-f60399ee7ff7",
   "metadata": {},
   "outputs": [],
   "source": [
    "def check_substring(pattern, target):\n",
    "    temp = []\n",
    "    for i in pattern:\n",
    "        if target.startswith(i):\n",
    "            temp.append((i, target[len(i):]))\n",
    "\n",
    "    return temp"
   ]
  },
  {
   "cell_type": "code",
   "execution_count": 43,
   "id": "865fb180-db06-4bfa-8a3a-c6caf2f66cbf",
   "metadata": {},
   "outputs": [],
   "source": [
    "def check_towelstripe(pattern, target):\n",
    "    \n",
    "    queue = check_substring(pattern, target)\n",
    "\n",
    "    while queue:\n",
    "        candidate, sub_target = queue.pop()\n",
    "    \n",
    "        if candidate == target:\n",
    "            return True\n",
    "    \n",
    "        new_q = check_substring(pattern, sub_target)\n",
    "        for i, j in new_q:\n",
    "            queue.append((candidate+i, j))\n",
    "\n",
    "    return False"
   ]
  },
  {
   "cell_type": "code",
   "execution_count": 44,
   "id": "91fb09c3-1f1c-484d-bce7-2722d2e5df14",
   "metadata": {},
   "outputs": [
    {
     "ename": "TypeError",
     "evalue": "unhashable type: 'list'",
     "output_type": "error",
     "traceback": [
      "\u001b[0;31m---------------------------------------------------------------------------\u001b[0m",
      "\u001b[0;31mTypeError\u001b[0m                                 Traceback (most recent call last)",
      "Cell \u001b[0;32mIn[44], line 4\u001b[0m\n\u001b[1;32m      1\u001b[0m results \u001b[38;5;241m=\u001b[39m []\n\u001b[1;32m      3\u001b[0m \u001b[38;5;28;01mfor\u001b[39;00m combination \u001b[38;5;129;01min\u001b[39;00m combinations:\n\u001b[0;32m----> 4\u001b[0m     results\u001b[38;5;241m.\u001b[39mappend(check_towelstripe(pattern, combination))\n",
      "Cell \u001b[0;32mIn[43], line 3\u001b[0m, in \u001b[0;36mcheck_towelstripe\u001b[0;34m(pattern, target)\u001b[0m\n\u001b[1;32m      1\u001b[0m \u001b[38;5;28;01mdef\u001b[39;00m \u001b[38;5;21mcheck_towelstripe\u001b[39m(pattern, target):\n\u001b[0;32m----> 3\u001b[0m     queue \u001b[38;5;241m=\u001b[39m check_substring(pattern, target)\n\u001b[1;32m      5\u001b[0m     \u001b[38;5;28;01mwhile\u001b[39;00m queue:\n\u001b[1;32m      6\u001b[0m         candidate, sub_target \u001b[38;5;241m=\u001b[39m queue\u001b[38;5;241m.\u001b[39mpop()\n",
      "\u001b[0;31mTypeError\u001b[0m: unhashable type: 'list'"
     ]
    }
   ],
   "source": [
    "results = []\n",
    "\n",
    "for combination in combinations:\n",
    "    results.append(check_towelstripe(pattern, combination))"
   ]
  },
  {
   "cell_type": "code",
   "execution_count": 27,
   "id": "6c48b473-61ea-4146-9713-c4573bc856a0",
   "metadata": {},
   "outputs": [],
   "source": [
    "assert sum(results) == 6"
   ]
  },
  {
   "cell_type": "markdown",
   "id": "5f62c58f-8445-4cd8-9c06-70c43513f097",
   "metadata": {},
   "source": [
    "## Task"
   ]
  },
  {
   "cell_type": "code",
   "execution_count": 28,
   "id": "140d8f7b-0c45-476a-a66a-0138faef6328",
   "metadata": {},
   "outputs": [],
   "source": [
    "with open(\"../../../advent_of_code_input/2024/day_19/input.txt\", \"r\") as f:\n",
    "    data = f.read()\n",
    "\n",
    "data = data[:-1].split(\"\\n\\n\")\n",
    "\n",
    "\n",
    "pattern = data[0].split(\", \")\n",
    "combinations = data[1].split(\"\\n\")"
   ]
  },
  {
   "cell_type": "code",
   "execution_count": 29,
   "id": "25a4d566-efcb-47a8-992c-2f66f480b693",
   "metadata": {},
   "outputs": [],
   "source": [
    "results = []\n",
    "\n",
    "for combination in combinations:\n",
    "    results.append(check_towelstripe(pattern, combination))"
   ]
  },
  {
   "cell_type": "code",
   "execution_count": 30,
   "id": "1608aa2c-d547-4b44-944f-67522807f94c",
   "metadata": {},
   "outputs": [
    {
     "data": {
      "text/plain": [
       "363"
      ]
     },
     "execution_count": 30,
     "metadata": {},
     "output_type": "execute_result"
    }
   ],
   "source": [
    "sum(results)"
   ]
  },
  {
   "cell_type": "markdown",
   "id": "15174143-7453-48ba-b8c2-f20b70056ad5",
   "metadata": {},
   "source": [
    "## Part 2"
   ]
  },
  {
   "cell_type": "markdown",
   "id": "ec5088b8-fdd0-4982-8781-72a025b6c462",
   "metadata": {},
   "source": [
    "#### Test"
   ]
  },
  {
   "cell_type": "code",
   "execution_count": 31,
   "id": "fd9ae039-570e-495e-8c22-e0badb444c9e",
   "metadata": {},
   "outputs": [],
   "source": [
    "test = \"\"\"r, wr, b, g, bwu, rb, gb, br\n",
    "\n",
    "brwrr\n",
    "bggr\n",
    "gbbr\n",
    "rrbgbr\n",
    "ubwu\n",
    "bwurrg\n",
    "brgr\n",
    "bbrgwb\"\"\"\n",
    "\n",
    "test = test.split(\"\\n\\n\")\n",
    "\n",
    "\n",
    "pattern = test[0].split(\", \")\n",
    "combinations = test[1].split(\"\\n\")"
   ]
  },
  {
   "cell_type": "code",
   "execution_count": 32,
   "id": "07caa7cc-fe81-43be-9a8f-849b9049bdee",
   "metadata": {},
   "outputs": [],
   "source": [
    "def get_towelstripe(pattern, target):\n",
    "\n",
    "    result = []\n",
    "    queue = check_substring(pattern, target)\n",
    "\n",
    "    while queue:\n",
    "        candidate, sub_target = queue.pop()\n",
    "    \n",
    "        if candidate == target:\n",
    "            result.append(candidate)\n",
    "    \n",
    "        new_q = check_substring(pattern, sub_target)\n",
    "        for i, j in new_q:\n",
    "            queue.append((candidate+i, j))\n",
    "\n",
    "    return result"
   ]
  },
  {
   "cell_type": "code",
   "execution_count": 33,
   "id": "ff049185-f0d5-49c9-923d-6b072af478b8",
   "metadata": {},
   "outputs": [],
   "source": [
    "results = []\n",
    "\n",
    "for combination in combinations:\n",
    "    results.append(get_towelstripe(pattern, combination))"
   ]
  },
  {
   "cell_type": "code",
   "execution_count": 34,
   "id": "ba37f46b-6c45-49da-aa34-40d171fc1167",
   "metadata": {},
   "outputs": [],
   "source": [
    "result = 0\n",
    "for i in results:\n",
    "    result += len(i)"
   ]
  },
  {
   "cell_type": "code",
   "execution_count": 35,
   "id": "2f6c63aa-a404-4fa3-9305-14e352b8d6c3",
   "metadata": {},
   "outputs": [],
   "source": [
    "assert result == 16"
   ]
  },
  {
   "cell_type": "markdown",
   "id": "7deb1a43-fb6c-4baf-a859-13b2bebffd22",
   "metadata": {},
   "source": [
    "## Task"
   ]
  },
  {
   "cell_type": "code",
   "execution_count": 36,
   "id": "87abd377-e2b5-4422-ab23-09fa0b0cf192",
   "metadata": {},
   "outputs": [],
   "source": [
    "with open(\"../../../advent_of_code_input/2024/day_19/input.txt\", \"r\") as f:\n",
    "    data = f.read()\n",
    "\n",
    "data = data[:-1].split(\"\\n\\n\")\n",
    "\n",
    "\n",
    "pattern = data[0].split(\", \")\n",
    "combinations = data[1].split(\"\\n\")"
   ]
  },
  {
   "cell_type": "code",
   "execution_count": 37,
   "id": "c89c810c-4f0e-42d0-b068-a8dc7ff9ddaa",
   "metadata": {},
   "outputs": [
    {
     "ename": "KeyboardInterrupt",
     "evalue": "",
     "output_type": "error",
     "traceback": [
      "\u001b[0;31m---------------------------------------------------------------------------\u001b[0m",
      "\u001b[0;31mKeyboardInterrupt\u001b[0m                         Traceback (most recent call last)",
      "Cell \u001b[0;32mIn[37], line 4\u001b[0m\n\u001b[1;32m      1\u001b[0m results \u001b[38;5;241m=\u001b[39m []\n\u001b[1;32m      3\u001b[0m \u001b[38;5;28;01mfor\u001b[39;00m n, combination \u001b[38;5;129;01min\u001b[39;00m \u001b[38;5;28menumerate\u001b[39m(combinations):\n\u001b[0;32m----> 4\u001b[0m     results\u001b[38;5;241m.\u001b[39mappend(get_towelstripe(pattern, combination))\n\u001b[1;32m      5\u001b[0m     \u001b[38;5;28mprint\u001b[39m(n)\n",
      "Cell \u001b[0;32mIn[32], line 12\u001b[0m, in \u001b[0;36mget_towelstripe\u001b[0;34m(pattern, target)\u001b[0m\n\u001b[1;32m      9\u001b[0m \u001b[38;5;28;01mif\u001b[39;00m candidate \u001b[38;5;241m==\u001b[39m target:\n\u001b[1;32m     10\u001b[0m     result\u001b[38;5;241m.\u001b[39mappend(candidate)\n\u001b[0;32m---> 12\u001b[0m new_q \u001b[38;5;241m=\u001b[39m check_substring(pattern, sub_target)\n\u001b[1;32m     13\u001b[0m \u001b[38;5;28;01mfor\u001b[39;00m i, j \u001b[38;5;129;01min\u001b[39;00m new_q:\n\u001b[1;32m     14\u001b[0m     queue\u001b[38;5;241m.\u001b[39mappend((candidate\u001b[38;5;241m+\u001b[39mi, j))\n",
      "Cell \u001b[0;32mIn[24], line 4\u001b[0m, in \u001b[0;36mcheck_substring\u001b[0;34m(pattern, target)\u001b[0m\n\u001b[1;32m      2\u001b[0m temp \u001b[38;5;241m=\u001b[39m []\n\u001b[1;32m      3\u001b[0m \u001b[38;5;28;01mfor\u001b[39;00m i \u001b[38;5;129;01min\u001b[39;00m pattern:\n\u001b[0;32m----> 4\u001b[0m     \u001b[38;5;28;01mif\u001b[39;00m target\u001b[38;5;241m.\u001b[39mstartswith(i):\n\u001b[1;32m      5\u001b[0m         temp\u001b[38;5;241m.\u001b[39mappend((i, target[\u001b[38;5;28mlen\u001b[39m(i):]))\n\u001b[1;32m      7\u001b[0m \u001b[38;5;28;01mreturn\u001b[39;00m temp\n",
      "\u001b[0;31mKeyboardInterrupt\u001b[0m: "
     ]
    }
   ],
   "source": [
    "results = []\n",
    "\n",
    "for n, combination in enumerate(combinations):\n",
    "    results.append(get_towelstripe(pattern, combination))\n",
    "    print(n)"
   ]
  },
  {
   "cell_type": "code",
   "execution_count": null,
   "id": "1f1ed6a2-cbd6-46e2-978e-2d10ef6e8853",
   "metadata": {},
   "outputs": [],
   "source": [
    "result = 0\n",
    "for i in results:\n",
    "    result += len(i)"
   ]
  },
  {
   "cell_type": "code",
   "execution_count": null,
   "id": "9ba53922-85c9-41c0-934f-4e3b288fee43",
   "metadata": {},
   "outputs": [],
   "source": [
    "result"
   ]
  },
  {
   "cell_type": "code",
   "execution_count": null,
   "id": "f9ca5c0d-5e64-49b6-b4e4-2b7457855e40",
   "metadata": {},
   "outputs": [],
   "source": []
  }
 ],
 "metadata": {
  "kernelspec": {
   "display_name": "Python 3 (ipykernel)",
   "language": "python",
   "name": "python3"
  },
  "language_info": {
   "codemirror_mode": {
    "name": "ipython",
    "version": 3
   },
   "file_extension": ".py",
   "mimetype": "text/x-python",
   "name": "python",
   "nbconvert_exporter": "python",
   "pygments_lexer": "ipython3",
   "version": "3.11.5"
  }
 },
 "nbformat": 4,
 "nbformat_minor": 5
}
