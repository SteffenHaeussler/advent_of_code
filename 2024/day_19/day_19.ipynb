{
 "cells": [
  {
   "cell_type": "code",
   "execution_count": 1,
   "id": "808ba0bd-13a6-4f65-8b60-6c9fd4e78e96",
   "metadata": {},
   "outputs": [],
   "source": [
    "import functools\n",
    "import gc"
   ]
  },
  {
   "cell_type": "markdown",
   "id": "471b2ae6-91d8-4d40-ad6e-7db9bc156f2d",
   "metadata": {},
   "source": [
    "## Day 19"
   ]
  },
  {
   "cell_type": "markdown",
   "id": "5b51460f-db5b-407e-86bd-3dd416a7c1a8",
   "metadata": {},
   "source": [
    "### Part 1"
   ]
  },
  {
   "cell_type": "markdown",
   "id": "6f4d44ad-18eb-4d23-9f8b-400646f87953",
   "metadata": {},
   "source": [
    "#### Test"
   ]
  },
  {
   "cell_type": "code",
   "execution_count": 2,
   "id": "ce944b0f-4eac-4aea-82d1-fba44b11834d",
   "metadata": {},
   "outputs": [],
   "source": [
    "test = \"\"\"r, wr, b, g, bwu, rb, gb, br\n",
    "\n",
    "brwrr\n",
    "bggr\n",
    "gbbr\n",
    "rrbgbr\n",
    "ubwu\n",
    "bwurrg\n",
    "brgr\n",
    "bbrgwb\"\"\"\n",
    "\n",
    "test = test.split(\"\\n\\n\")\n",
    "\n",
    "\n",
    "pattern = test[0].split(\", \")\n",
    "combinations = test[1].split(\"\\n\")"
   ]
  },
  {
   "cell_type": "code",
   "execution_count": 3,
   "id": "559c1e92-0d04-4163-a7ed-f60399ee7ff7",
   "metadata": {},
   "outputs": [],
   "source": [
    "def check_substring(pattern, target):\n",
    "    temp = []\n",
    "    for i in pattern:\n",
    "        if target.startswith(i):\n",
    "            temp.append((i, target[len(i):]))\n",
    "\n",
    "    return temp"
   ]
  },
  {
   "cell_type": "code",
   "execution_count": 4,
   "id": "865fb180-db06-4bfa-8a3a-c6caf2f66cbf",
   "metadata": {},
   "outputs": [],
   "source": [
    "def check_towelstripe(pattern, target):\n",
    "    \n",
    "    queue = check_substring(pattern, target)\n",
    "\n",
    "    while queue:\n",
    "        candidate, sub_target = queue.pop()\n",
    "    \n",
    "        if candidate == target:\n",
    "            return True\n",
    "    \n",
    "        new_q = check_substring(pattern, sub_target)\n",
    "        for i, j in new_q:\n",
    "            queue.append((candidate+i, j))\n",
    "\n",
    "    return False"
   ]
  },
  {
   "cell_type": "code",
   "execution_count": 5,
   "id": "91fb09c3-1f1c-484d-bce7-2722d2e5df14",
   "metadata": {},
   "outputs": [],
   "source": [
    "results = []\n",
    "\n",
    "for combination in combinations:\n",
    "    results.append(check_towelstripe(pattern, combination))"
   ]
  },
  {
   "cell_type": "code",
   "execution_count": 6,
   "id": "6c48b473-61ea-4146-9713-c4573bc856a0",
   "metadata": {},
   "outputs": [],
   "source": [
    "assert sum(results) == 6"
   ]
  },
  {
   "cell_type": "markdown",
   "id": "5f62c58f-8445-4cd8-9c06-70c43513f097",
   "metadata": {},
   "source": [
    "## Task"
   ]
  },
  {
   "cell_type": "code",
   "execution_count": 7,
   "id": "140d8f7b-0c45-476a-a66a-0138faef6328",
   "metadata": {},
   "outputs": [],
   "source": [
    "with open(\"../../../advent_of_code_input/2024/day_19/input.txt\", \"r\") as f:\n",
    "    data = f.read()\n",
    "\n",
    "data = data[:-1].split(\"\\n\\n\")\n",
    "\n",
    "\n",
    "pattern = data[0].split(\", \")\n",
    "combinations = data[1].split(\"\\n\")"
   ]
  },
  {
   "cell_type": "code",
   "execution_count": 8,
   "id": "25a4d566-efcb-47a8-992c-2f66f480b693",
   "metadata": {},
   "outputs": [],
   "source": [
    "results = []\n",
    "\n",
    "for combination in combinations:\n",
    "    results.append(check_towelstripe(pattern, combination))"
   ]
  },
  {
   "cell_type": "code",
   "execution_count": 9,
   "id": "1608aa2c-d547-4b44-944f-67522807f94c",
   "metadata": {},
   "outputs": [
    {
     "data": {
      "text/plain": [
       "363"
      ]
     },
     "execution_count": 9,
     "metadata": {},
     "output_type": "execute_result"
    }
   ],
   "source": [
    "sum(results)"
   ]
  },
  {
   "cell_type": "markdown",
   "id": "15174143-7453-48ba-b8c2-f20b70056ad5",
   "metadata": {},
   "source": [
    "## Part 2"
   ]
  },
  {
   "cell_type": "markdown",
   "id": "ec5088b8-fdd0-4982-8781-72a025b6c462",
   "metadata": {},
   "source": [
    "#### Test"
   ]
  },
  {
   "cell_type": "code",
   "execution_count": 36,
   "id": "f41581ca-29c0-476c-97cf-bda85f9e1b64",
   "metadata": {},
   "outputs": [],
   "source": [
    "gc.collect()\n",
    "wrappers = [\n",
    "    a for a in gc.get_objects() \n",
    "    if isinstance(a, functools._lru_cache_wrapper)]\n",
    "\n",
    "for wrapper in wrappers:\n",
    "    wrapper.cache_clear()"
   ]
  },
  {
   "cell_type": "code",
   "execution_count": 37,
   "id": "fd9ae039-570e-495e-8c22-e0badb444c9e",
   "metadata": {},
   "outputs": [],
   "source": [
    "test = \"\"\"r, wr, b, g, bwu, rb, gb, br\n",
    "\n",
    "brwrr\n",
    "bggr\n",
    "gbbr\n",
    "rrbgbr\n",
    "ubwu\n",
    "bwurrg\n",
    "brgr\n",
    "bbrgwb\"\"\"\n",
    "\n",
    "test = test.split(\"\\n\\n\")\n",
    "\n",
    "\n",
    "pattern = test[0].split(\", \")\n",
    "combinations = test[1].split(\"\\n\")"
   ]
  },
  {
   "cell_type": "code",
   "execution_count": 38,
   "id": "f77e2549-0363-49c7-ae0c-a45bd2d2f525",
   "metadata": {},
   "outputs": [],
   "source": [
    "@functools.lru_cache\n",
    "def count(d):\n",
    "    return d == '' or sum(count(d.removeprefix(p))\n",
    "        for p in pattern if d.startswith(p))"
   ]
  },
  {
   "cell_type": "code",
   "execution_count": 39,
   "id": "19110b16-3b0d-4df3-a4ef-7789a32aa3c1",
   "metadata": {},
   "outputs": [],
   "source": [
    "result = list(map(int,map(count, combinations)))"
   ]
  },
  {
   "cell_type": "code",
   "execution_count": 40,
   "id": "2f6c63aa-a404-4fa3-9305-14e352b8d6c3",
   "metadata": {},
   "outputs": [],
   "source": [
    "assert sum(result) == 16"
   ]
  },
  {
   "cell_type": "markdown",
   "id": "7deb1a43-fb6c-4baf-a859-13b2bebffd22",
   "metadata": {},
   "source": [
    "## Task"
   ]
  },
  {
   "cell_type": "markdown",
   "id": "d469efa5-3448-453e-b3ce-e7e1b6a3698c",
   "metadata": {},
   "source": [
    "follow this [solution](https://www.reddit.com/r/adventofcode/comments/1hhlb8g/comment/m2s56mc/?utm_source=share&utm_medium=web3x&utm_name=web3xcss&utm_term=1&utm_content=share_button)"
   ]
  },
  {
   "cell_type": "code",
   "execution_count": 45,
   "id": "87abd377-e2b5-4422-ab23-09fa0b0cf192",
   "metadata": {},
   "outputs": [],
   "source": [
    "with open(\"../../../advent_of_code_input/2024/day_19/input.txt\", \"r\") as f:\n",
    "    data = f.read()\n",
    "\n",
    "data = data[:-1].split(\"\\n\\n\")\n",
    "\n",
    "pattern = data[0].split(\", \")\n",
    "combinations = data[1].split(\"\\n\")"
   ]
  },
  {
   "cell_type": "code",
   "execution_count": 46,
   "id": "8fdc66eb-1f99-4d19-9688-769f9487c7a5",
   "metadata": {},
   "outputs": [],
   "source": [
    "for wrapper in wrappers:\n",
    "    wrapper.cache_clear()"
   ]
  },
  {
   "cell_type": "code",
   "execution_count": 47,
   "id": "1dc8c39e-e3fa-4870-bceb-6e2efb306d8d",
   "metadata": {},
   "outputs": [],
   "source": [
    "result = list(map(int,map(count, combinations)))"
   ]
  },
  {
   "cell_type": "code",
   "execution_count": 48,
   "id": "116010d2-7790-4bfd-8e2a-e77d0350cd8f",
   "metadata": {},
   "outputs": [
    {
     "data": {
      "text/plain": [
       "642535800868438"
      ]
     },
     "execution_count": 48,
     "metadata": {},
     "output_type": "execute_result"
    }
   ],
   "source": [
    "sum(result)"
   ]
  }
 ],
 "metadata": {
  "kernelspec": {
   "display_name": "Python 3 (ipykernel)",
   "language": "python",
   "name": "python3"
  },
  "language_info": {
   "codemirror_mode": {
    "name": "ipython",
    "version": 3
   },
   "file_extension": ".py",
   "mimetype": "text/x-python",
   "name": "python",
   "nbconvert_exporter": "python",
   "pygments_lexer": "ipython3",
   "version": "3.11.5"
  }
 },
 "nbformat": 4,
 "nbformat_minor": 5
}
