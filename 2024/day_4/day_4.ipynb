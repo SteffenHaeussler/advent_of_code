{
 "cells": [
  {
   "cell_type": "markdown",
   "id": "e74d8204-0a74-4ba1-825d-10e757e12c74",
   "metadata": {},
   "source": [
    "## Day 4"
   ]
  },
  {
   "cell_type": "markdown",
   "id": "9202f988-31db-4fb1-91fd-9a6320a7aca6",
   "metadata": {},
   "source": [
    "### Part 1"
   ]
  },
  {
   "cell_type": "markdown",
   "id": "2f344175-9f41-48f8-a1e3-1e079ca250e3",
   "metadata": {},
   "source": [
    "#### Test"
   ]
  },
  {
   "cell_type": "code",
   "execution_count": 1,
   "id": "9dd4052a-a9e6-44f4-944e-191df5255f8a",
   "metadata": {},
   "outputs": [],
   "source": [
    "test = \"\"\"MMMSXXMASM\n",
    "MSAMXMSMSA\n",
    "AMXSXMAAMM\n",
    "MSAMASMSMX\n",
    "XMASAMXAMM\n",
    "XXAMMXXAMA\n",
    "SMSMSASXSS\n",
    "SAXAMASAAA\n",
    "MAMMMXMMMM\n",
    "MXMXAXMASX\"\"\""
   ]
  },
  {
   "cell_type": "code",
   "execution_count": 2,
   "id": "aa9974de-45d2-4300-b481-5e1c919c2df5",
   "metadata": {},
   "outputs": [],
   "source": [
    "grid = test.split(\"\\n\")"
   ]
  },
  {
   "cell_type": "code",
   "execution_count": 3,
   "id": "cbdfedb6-d38e-4c6e-846c-82fe74686101",
   "metadata": {},
   "outputs": [],
   "source": [
    "n_rows = len(grid)\n",
    "n_cols = len(grid[0])\n",
    "word = \"XMAS\"\n",
    "\n",
    "directions = [(-1,-1), (-1,0), (-1,1), (0,-1), (0,1),(1,-1), (1,0), (1,1)]"
   ]
  },
  {
   "cell_type": "code",
   "execution_count": 4,
   "id": "179c5489-c23a-4b82-b86f-ded5efaa4b4e",
   "metadata": {},
   "outputs": [],
   "source": [
    "def find_word(grid, word, row, col, d_row, d_col):\n",
    "\n",
    "    for n_seq in range(len(word)):\n",
    "        n_row = row + n_seq * d_row\n",
    "        n_col =  col + n_seq* d_col\n",
    "        \n",
    "        if (n_row < 0) or (n_col < 0) or (n_row >= len(grid)) or (n_col >= len(grid[0])) or grid[n_row][n_col] != word[n_seq]:\n",
    "            return False\n",
    "\n",
    "    return True\n"
   ]
  },
  {
   "cell_type": "code",
   "execution_count": 5,
   "id": "4b5e2b37-bd32-4279-8084-a68b44f4ba5a",
   "metadata": {},
   "outputs": [],
   "source": [
    "result = 0\n",
    "\n",
    "for n_row in range(n_rows):\n",
    "    for n_col in range(n_cols):\n",
    "        if grid[n_row][n_col] == word[0]:\n",
    "            for d_row, d_col in directions:\n",
    "                result += find_word(grid, word, n_row, n_col, d_row, d_col)"
   ]
  },
  {
   "cell_type": "code",
   "execution_count": 6,
   "id": "22e12ff7-6b48-41b6-99cd-8c4f7bca294b",
   "metadata": {},
   "outputs": [
    {
     "data": {
      "text/plain": [
       "18"
      ]
     },
     "execution_count": 6,
     "metadata": {},
     "output_type": "execute_result"
    }
   ],
   "source": [
    "result"
   ]
  },
  {
   "cell_type": "code",
   "execution_count": 7,
   "id": "a492fab0-e473-4c20-a253-b55ddd368e88",
   "metadata": {},
   "outputs": [],
   "source": [
    "assert result == 18"
   ]
  },
  {
   "cell_type": "markdown",
   "id": "b5409e01-8fd3-4a68-a347-02e7d4743b1a",
   "metadata": {},
   "source": [
    "## Task"
   ]
  },
  {
   "cell_type": "code",
   "execution_count": 8,
   "id": "2f86ac5a-c802-4aa6-9d77-7bcfa1a47deb",
   "metadata": {},
   "outputs": [],
   "source": [
    "with open(\"../../../advent_of_code_input/2024/day_4/input.txt\",\"r\") as f:\n",
    "    data = f.read()"
   ]
  },
  {
   "cell_type": "code",
   "execution_count": 9,
   "id": "2787ce94-a1a8-4ad6-b14c-57c6aec170c1",
   "metadata": {},
   "outputs": [],
   "source": [
    "grid = data.split(\"\\n\")[:-1]"
   ]
  },
  {
   "cell_type": "code",
   "execution_count": 10,
   "id": "32be00e3-5904-4b27-9881-1be7b0e6dc93",
   "metadata": {},
   "outputs": [],
   "source": [
    "n_rows = len(grid)\n",
    "n_cols = len(grid[0])\n",
    "word = \"XMAS\"\n",
    "\n",
    "directions = [(-1,-1), (-1,0), (-1,1), (0,-1), (0,1),(1,-1), (1,0), (1,1)]"
   ]
  },
  {
   "cell_type": "code",
   "execution_count": 11,
   "id": "8c4b9ae8-2e8b-45db-a0c9-e7a2ac1ad266",
   "metadata": {},
   "outputs": [],
   "source": [
    "result = 0\n",
    "\n",
    "for n_row in range(n_rows):\n",
    "    for n_col in range(n_cols):\n",
    "        if grid[n_row][n_col] == word[0]:\n",
    "            for d_row, d_col in directions:\n",
    "                result += find_word(grid, word, n_row, n_col, d_row, d_col)"
   ]
  },
  {
   "cell_type": "code",
   "execution_count": 12,
   "id": "fdf0d04c-97ec-47f1-8725-8eac74d27286",
   "metadata": {},
   "outputs": [
    {
     "data": {
      "text/plain": [
       "2591"
      ]
     },
     "execution_count": 12,
     "metadata": {},
     "output_type": "execute_result"
    }
   ],
   "source": [
    "result"
   ]
  },
  {
   "cell_type": "markdown",
   "id": "2141e6fa-0195-41a8-9770-662beb56461d",
   "metadata": {},
   "source": [
    "## Part 2"
   ]
  },
  {
   "cell_type": "code",
   "execution_count": 13,
   "id": "3e78a21f-e6bd-4ccb-9a55-cd1f32a116e9",
   "metadata": {},
   "outputs": [],
   "source": [
    "test = \"\"\"MMMSXXMASM\n",
    "MSAMXMSMSA\n",
    "AMXSXMAAMM\n",
    "MSAMASMSMX\n",
    "XMASAMXAMM\n",
    "XXAMMXXAMA\n",
    "SMSMSASXSS\n",
    "SAXAMASAAA\n",
    "MAMMMXMMMM\n",
    "MXMXAXMASX\"\"\""
   ]
  },
  {
   "cell_type": "code",
   "execution_count": 14,
   "id": "c888489e-fdd2-4b1f-9235-7eb25de9a1aa",
   "metadata": {},
   "outputs": [],
   "source": [
    "grid = test.split(\"\\n\")"
   ]
  },
  {
   "cell_type": "code",
   "execution_count": 15,
   "id": "13540078-3d98-4cd1-b83b-2fafaae616e2",
   "metadata": {},
   "outputs": [],
   "source": [
    "n_rows = len(grid)\n",
    "n_cols = len(grid[0])\n",
    "word = \"MAS\"\n",
    "\n",
    "result = 0\n",
    "\n",
    "for n_row in range(1,n_rows-1):\n",
    "    for n_col in range(1,n_cols-1):\n",
    "        if grid[n_row][n_col] == word[1]:\n",
    "            if ((grid[n_row-1][n_col-1] == word[0] and grid[n_row+1][n_col+1] == word[2])\n",
    "                 or (grid[n_row-1][n_col-1] == word[2] and grid[n_row+1][n_col+1] == word[0])):\n",
    "                \n",
    "                if ((grid[n_row+1][n_col-1] == word[0] and grid[n_row-1][n_col+1] == word[2])\\\n",
    "                    or (grid[n_row+1][n_col-1] == word[2] and grid[n_row-1][n_col+1] == word[0])):\n",
    "                    \n",
    "                    result += 1\n"
   ]
  },
  {
   "cell_type": "code",
   "execution_count": 16,
   "id": "5fdd6873-2fbf-43e2-b6b9-bfec2ca4195e",
   "metadata": {},
   "outputs": [
    {
     "data": {
      "text/plain": [
       "9"
      ]
     },
     "execution_count": 16,
     "metadata": {},
     "output_type": "execute_result"
    }
   ],
   "source": [
    "result"
   ]
  },
  {
   "cell_type": "code",
   "execution_count": 17,
   "id": "a0a5a0af-b914-4642-8313-0c84ae1f7ecc",
   "metadata": {},
   "outputs": [],
   "source": [
    "assert result == 9"
   ]
  },
  {
   "cell_type": "code",
   "execution_count": 18,
   "id": "3a5bb845-9e39-430d-8e5b-e329bbeda183",
   "metadata": {},
   "outputs": [],
   "source": [
    "with open(\"../../../advent_of_code_input/2024/day_4/input.txt\",\"r\") as f:\n",
    "    data = f.read()"
   ]
  },
  {
   "cell_type": "code",
   "execution_count": 19,
   "id": "93d06542-a121-431d-9c21-da150b020152",
   "metadata": {},
   "outputs": [],
   "source": [
    "grid = data.split(\"\\n\")[:-1]"
   ]
  },
  {
   "cell_type": "code",
   "execution_count": 20,
   "id": "6a482db4-68be-406a-bbb9-4e0c4be4a294",
   "metadata": {},
   "outputs": [],
   "source": [
    "n_rows = len(grid)\n",
    "n_cols = len(grid[0])\n",
    "word = \"MAS\"\n",
    "\n",
    "result = 0\n",
    "\n",
    "for n_row in range(1,n_rows-1):\n",
    "    for n_col in range(1,n_cols-1):\n",
    "        if grid[n_row][n_col] == word[1]:\n",
    "            if ((grid[n_row-1][n_col-1] == word[0] and grid[n_row+1][n_col+1] == word[2])\n",
    "                 or (grid[n_row-1][n_col-1] == word[2] and grid[n_row+1][n_col+1] == word[0])):\n",
    "                \n",
    "                if ((grid[n_row+1][n_col-1] == word[0] and grid[n_row-1][n_col+1] == word[2])\\\n",
    "                    or (grid[n_row+1][n_col-1] == word[2] and grid[n_row-1][n_col+1] == word[0])):\n",
    "                    \n",
    "                    result += 1"
   ]
  },
  {
   "cell_type": "code",
   "execution_count": 21,
   "id": "6c58218d-2c1e-4b37-80aa-15348d3e79b1",
   "metadata": {},
   "outputs": [
    {
     "data": {
      "text/plain": [
       "1880"
      ]
     },
     "execution_count": 21,
     "metadata": {},
     "output_type": "execute_result"
    }
   ],
   "source": [
    "result"
   ]
  }
 ],
 "metadata": {
  "kernelspec": {
   "display_name": "Python 3 (ipykernel)",
   "language": "python",
   "name": "python3"
  },
  "language_info": {
   "codemirror_mode": {
    "name": "ipython",
    "version": 3
   },
   "file_extension": ".py",
   "mimetype": "text/x-python",
   "name": "python",
   "nbconvert_exporter": "python",
   "pygments_lexer": "ipython3",
   "version": "3.11.5"
  }
 },
 "nbformat": 4,
 "nbformat_minor": 5
}
