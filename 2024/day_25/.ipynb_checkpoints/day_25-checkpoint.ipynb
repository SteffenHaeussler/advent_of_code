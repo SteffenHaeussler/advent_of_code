{
 "cells": [
  {
   "cell_type": "markdown",
   "id": "471b2ae6-91d8-4d40-ad6e-7db9bc156f2d",
   "metadata": {},
   "source": [
    "## Day 25"
   ]
  },
  {
   "cell_type": "markdown",
   "id": "5b51460f-db5b-407e-86bd-3dd416a7c1a8",
   "metadata": {},
   "source": [
    "### Part 1"
   ]
  },
  {
   "cell_type": "markdown",
   "id": "6f4d44ad-18eb-4d23-9f8b-400646f87953",
   "metadata": {},
   "source": [
    "#### Test"
   ]
  },
  {
   "cell_type": "code",
   "execution_count": 5,
   "id": "9078dd67-bff8-4536-b404-a77f6f71e92a",
   "metadata": {},
   "outputs": [],
   "source": [
    "test = \"\"\"#####\n",
    ".####\n",
    ".####\n",
    ".####\n",
    ".#.#.\n",
    ".#...\n",
    ".....\n",
    "\n",
    "#####\n",
    "##.##\n",
    ".#.##\n",
    "...##\n",
    "...#.\n",
    "...#.\n",
    ".....\n",
    "\n",
    ".....\n",
    "#....\n",
    "#....\n",
    "#...#\n",
    "#.#.#\n",
    "#.###\n",
    "#####\n",
    "\n",
    ".....\n",
    ".....\n",
    "#.#..\n",
    "###..\n",
    "###.#\n",
    "###.#\n",
    "#####\n",
    "\n",
    ".....\n",
    ".....\n",
    ".....\n",
    "#....\n",
    "#.#..\n",
    "#.#.#\n",
    "#####\"\"\"\n",
    "test = test.split(\"\\n\\n\")\n",
    "test = [i.split(\"\\n\") for i in test]"
   ]
  },
  {
   "cell_type": "code",
   "execution_count": 18,
   "id": "1ad0d7d5-5f7b-4b21-af46-a6ae613d3e6d",
   "metadata": {},
   "outputs": [],
   "source": [
    "def count(item):\n",
    "\n",
    "    cnt = {i: 0 for i in range(5)}\n",
    "\n",
    "    for line in item:\n",
    "        for n, i in enumerate(line):\n",
    "            if i == \"#\":\n",
    "                cnt[n] += 1\n",
    "\n",
    "    return list(cnt.values())"
   ]
  },
  {
   "cell_type": "code",
   "execution_count": 19,
   "id": "a85d4275-393d-4813-b2e2-085b379b05fb",
   "metadata": {},
   "outputs": [],
   "source": [
    "def counter(items):\n",
    "\n",
    "    locks = []\n",
    "    keys = []\n",
    "\n",
    "    for item in items:\n",
    "\n",
    "        if \"#\" in item[0]:\n",
    "            cnt = count(item[1:])\n",
    "            locks.append(cnt)\n",
    "        else:\n",
    "            cnt = count(item[:-1])\n",
    "            keys.append(cnt)\n",
    "\n",
    "    return locks, keys"
   ]
  },
  {
   "cell_type": "code",
   "execution_count": 31,
   "id": "0acd2ebd-1baa-4ca2-b4f5-e37600184520",
   "metadata": {},
   "outputs": [],
   "source": [
    "def test_keys(locks, keys):\n",
    "\n",
    "    result = 0\n",
    "    \n",
    "    for lock in locks:\n",
    "        for key in keys:\n",
    "            if all([i+j <=5 for i,j in zip(lock, key)]):\n",
    "                result += 1\n",
    "\n",
    "    return result"
   ]
  },
  {
   "cell_type": "code",
   "execution_count": 32,
   "id": "f2658135-a4ed-466b-a169-836f422072fc",
   "metadata": {},
   "outputs": [],
   "source": [
    "locks, keys = counter(test)\n",
    "result = test_keys(locks, keys)"
   ]
  },
  {
   "cell_type": "code",
   "execution_count": 33,
   "id": "6ef28e74-fa1e-45cd-aba4-bb754f7a6218",
   "metadata": {},
   "outputs": [],
   "source": [
    "assert result == 3"
   ]
  },
  {
   "cell_type": "markdown",
   "id": "5f62c58f-8445-4cd8-9c06-70c43513f097",
   "metadata": {},
   "source": [
    "## Task"
   ]
  },
  {
   "cell_type": "code",
   "execution_count": 34,
   "id": "140d8f7b-0c45-476a-a66a-0138faef6328",
   "metadata": {},
   "outputs": [],
   "source": [
    "with open(\"../../../advent_of_code_input/2024/day_25/input.txt\", \"r\") as f:\n",
    "    data = f.read()\n",
    "\n",
    "data = data[:-1].split(\"\\n\\n\")\n",
    "data = [i.split(\"\\n\") for i in data]"
   ]
  },
  {
   "cell_type": "code",
   "execution_count": 37,
   "id": "25a4d566-efcb-47a8-992c-2f66f480b693",
   "metadata": {},
   "outputs": [],
   "source": [
    "locks, keys = counter(data)\n",
    "result = test_keys(locks, keys)"
   ]
  },
  {
   "cell_type": "code",
   "execution_count": 38,
   "id": "1608aa2c-d547-4b44-944f-67522807f94c",
   "metadata": {},
   "outputs": [
    {
     "data": {
      "text/plain": [
       "3090"
      ]
     },
     "execution_count": 38,
     "metadata": {},
     "output_type": "execute_result"
    }
   ],
   "source": [
    "result"
   ]
  },
  {
   "cell_type": "markdown",
   "id": "e21014b9-d972-4613-b0b4-e14931678ce6",
   "metadata": {},
   "source": [
    "## Part 2"
   ]
  },
  {
   "cell_type": "markdown",
   "id": "7ee1d4d6-0010-492d-9d4f-8b08f8701c95",
   "metadata": {},
   "source": [
    "⭐"
   ]
  }
 ],
 "metadata": {
  "kernelspec": {
   "display_name": "Python 3 (ipykernel)",
   "language": "python",
   "name": "python3"
  },
  "language_info": {
   "codemirror_mode": {
    "name": "ipython",
    "version": 3
   },
   "file_extension": ".py",
   "mimetype": "text/x-python",
   "name": "python",
   "nbconvert_exporter": "python",
   "pygments_lexer": "ipython3",
   "version": "3.11.5"
  }
 },
 "nbformat": 4,
 "nbformat_minor": 5
}
