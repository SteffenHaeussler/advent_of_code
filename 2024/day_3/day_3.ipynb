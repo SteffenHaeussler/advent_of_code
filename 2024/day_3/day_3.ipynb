{
 "cells": [
  {
   "cell_type": "code",
   "execution_count": 1,
   "id": "8cf96dd8-bf3a-4317-9bff-113f26653606",
   "metadata": {},
   "outputs": [],
   "source": [
    "import re"
   ]
  },
  {
   "cell_type": "markdown",
   "id": "efebdb90-dd61-4dc3-b425-8a068fcaa55c",
   "metadata": {},
   "source": [
    "## Day 3"
   ]
  },
  {
   "cell_type": "markdown",
   "id": "84c675cf-5cd9-4a8b-a7b5-851fe1658af5",
   "metadata": {},
   "source": [
    "## Part 1"
   ]
  },
  {
   "cell_type": "code",
   "execution_count": 2,
   "id": "b961db83-0c8a-49c6-b367-7c3c032b229d",
   "metadata": {},
   "outputs": [],
   "source": [
    "def find_numbers(text, clean=False):\n",
    "    result = []\n",
    "\n",
    "    if clean:\n",
    "        text = re.sub(r'don\\'t\\(\\).*?do\\(\\)', \"\", text, flags=re.DOTALL)\n",
    "\n",
    "    matches = re.findall(r\"mul\\(\\d+,\\d+\\)\", text, flags=re.DOTALL)\n",
    "    \n",
    "    for match in matches:\n",
    "        int_1, int_2 = re.findall(r'\\d+', str(match))\n",
    "        result.append(int(int_1)*int(int_2))\n",
    "\n",
    "    return result"
   ]
  },
  {
   "cell_type": "markdown",
   "id": "e2a53c16-ef6a-4f15-84e1-99555b48a331",
   "metadata": {},
   "source": [
    "### Test"
   ]
  },
  {
   "cell_type": "code",
   "execution_count": 3,
   "id": "3c0dd3fd-4f18-43e8-abf0-d10f7feaf924",
   "metadata": {},
   "outputs": [],
   "source": [
    "test = \"xmul(2,4)%&mul[3,7]!@^do_not_mul(5,5)+mul(32,64]then(mul(11,8)mul(8,5))\""
   ]
  },
  {
   "cell_type": "code",
   "execution_count": 4,
   "id": "65fe21aa-5a18-44a3-94e7-5d06203a40b2",
   "metadata": {},
   "outputs": [],
   "source": [
    "result = find_numbers(test)"
   ]
  },
  {
   "cell_type": "code",
   "execution_count": 5,
   "id": "888e3ce3-d6e9-45cf-81ea-c22db917b9d8",
   "metadata": {},
   "outputs": [],
   "source": [
    "assert sum(result) == 161"
   ]
  },
  {
   "cell_type": "markdown",
   "id": "b63b073d-11fa-4dca-a6a7-c85ed82a4c35",
   "metadata": {},
   "source": [
    "### Problem"
   ]
  },
  {
   "cell_type": "code",
   "execution_count": 6,
   "id": "1fcdd6b7-9a51-4c90-a6c0-0c071870373f",
   "metadata": {},
   "outputs": [],
   "source": [
    "with open(\"../../../advent_of_code_input/2024/day_3/input.txt\", \"r\") as f:\n",
    "    text = f.read()"
   ]
  },
  {
   "cell_type": "code",
   "execution_count": 7,
   "id": "fce9ab11-4639-4c52-aed1-21d568547f3b",
   "metadata": {},
   "outputs": [],
   "source": [
    "result = find_numbers(text)"
   ]
  },
  {
   "cell_type": "code",
   "execution_count": 8,
   "id": "38f18cd6-96ef-4ec4-8dbf-723f9f8ffdf6",
   "metadata": {},
   "outputs": [
    {
     "data": {
      "text/plain": [
       "173529487"
      ]
     },
     "execution_count": 8,
     "metadata": {},
     "output_type": "execute_result"
    }
   ],
   "source": [
    "sum(result)"
   ]
  },
  {
   "cell_type": "markdown",
   "id": "3c821bb7-6afb-4cf4-aa99-e0d53dfcaf40",
   "metadata": {},
   "source": [
    "## Part 2"
   ]
  },
  {
   "cell_type": "markdown",
   "id": "186e7a54-a1cb-4203-9c57-2643ab0446a1",
   "metadata": {},
   "source": [
    "### Test"
   ]
  },
  {
   "cell_type": "code",
   "execution_count": 9,
   "id": "0073d834-4d0d-40fe-b0f4-34072c491875",
   "metadata": {},
   "outputs": [],
   "source": [
    "test = \"xmul(2,4)&mul[3,7]!^don't()_mul(5,5)+mul(32,64](mul(11,8)undo()?mul(8,5))\""
   ]
  },
  {
   "cell_type": "code",
   "execution_count": 10,
   "id": "20eb96c8-1818-4ddc-8c4f-6dd6f843bb0d",
   "metadata": {},
   "outputs": [],
   "source": [
    "result = find_numbers(test, True)"
   ]
  },
  {
   "cell_type": "code",
   "execution_count": 11,
   "id": "60db984d-d682-4f7a-a3d3-3f95be1f4a62",
   "metadata": {},
   "outputs": [],
   "source": [
    "assert sum(result) == 48"
   ]
  },
  {
   "cell_type": "markdown",
   "id": "67e1b509-537c-46f0-9ac8-317228e716b5",
   "metadata": {},
   "source": [
    "## Problem"
   ]
  },
  {
   "cell_type": "code",
   "execution_count": 12,
   "id": "7e749718-ba26-44b3-99cf-118e483292d0",
   "metadata": {},
   "outputs": [],
   "source": [
    "with open(\"../../../advent_of_code_input/2024/day_3/input.txt\", \"r\") as f:\n",
    "    text = f.read()"
   ]
  },
  {
   "cell_type": "code",
   "execution_count": 13,
   "id": "26b09a5c-d78c-4a9b-8658-c04563faf802",
   "metadata": {},
   "outputs": [],
   "source": [
    "result = find_numbers(text, True)"
   ]
  },
  {
   "cell_type": "code",
   "execution_count": 14,
   "id": "a10989bc-1a06-40f2-bf47-4ec6d48cf5b5",
   "metadata": {},
   "outputs": [
    {
     "data": {
      "text/plain": [
       "99532691"
      ]
     },
     "execution_count": 14,
     "metadata": {},
     "output_type": "execute_result"
    }
   ],
   "source": [
    "sum(result)"
   ]
  }
 ],
 "metadata": {
  "kernelspec": {
   "display_name": "Python 3 (ipykernel)",
   "language": "python",
   "name": "python3"
  },
  "language_info": {
   "codemirror_mode": {
    "name": "ipython",
    "version": 3
   },
   "file_extension": ".py",
   "mimetype": "text/x-python",
   "name": "python",
   "nbconvert_exporter": "python",
   "pygments_lexer": "ipython3",
   "version": "3.11.5"
  }
 },
 "nbformat": 4,
 "nbformat_minor": 5
}
