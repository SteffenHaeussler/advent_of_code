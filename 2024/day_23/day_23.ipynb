{
 "cells": [
  {
   "cell_type": "code",
   "execution_count": 1,
   "id": "c562a19d-fe30-4067-9f1d-4eb961e74a12",
   "metadata": {},
   "outputs": [],
   "source": [
    "from collections import defaultdict"
   ]
  },
  {
   "cell_type": "markdown",
   "id": "471b2ae6-91d8-4d40-ad6e-7db9bc156f2d",
   "metadata": {},
   "source": [
    "## Day 23"
   ]
  },
  {
   "cell_type": "markdown",
   "id": "5b51460f-db5b-407e-86bd-3dd416a7c1a8",
   "metadata": {},
   "source": [
    "### Part 1"
   ]
  },
  {
   "cell_type": "markdown",
   "id": "6f4d44ad-18eb-4d23-9f8b-400646f87953",
   "metadata": {},
   "source": [
    "#### Test"
   ]
  },
  {
   "cell_type": "code",
   "execution_count": 2,
   "id": "ce944b0f-4eac-4aea-82d1-fba44b11834d",
   "metadata": {},
   "outputs": [],
   "source": [
    "test = \"\"\"kh-tc\n",
    "qp-kh\n",
    "de-cg\n",
    "ka-co\n",
    "yn-aq\n",
    "qp-ub\n",
    "cg-tb\n",
    "vc-aq\n",
    "tb-ka\n",
    "wh-tc\n",
    "yn-cg\n",
    "kh-ub\n",
    "ta-co\n",
    "de-co\n",
    "tc-td\n",
    "tb-wq\n",
    "wh-td\n",
    "ta-ka\n",
    "td-qp\n",
    "aq-cg\n",
    "wq-ub\n",
    "ub-vc\n",
    "de-ta\n",
    "wq-aq\n",
    "wq-vc\n",
    "wh-yn\n",
    "ka-de\n",
    "kh-ta\n",
    "co-tc\n",
    "wh-qp\n",
    "tb-vc\n",
    "td-yn\"\"\"\n",
    "\n",
    "test = test.split(\"\\n\")\n",
    "test =[i.split(\"-\") for i in test]\n",
    "\n",
    "G= defaultdict(list)\n",
    "for i,j in test:\n",
    "    G[i].append(j)\n",
    "    G[j].append(i)"
   ]
  },
  {
   "cell_type": "code",
   "execution_count": 3,
   "id": "2e5944d6-722a-4122-bc72-0b93f37a3127",
   "metadata": {},
   "outputs": [],
   "source": [
    "def get_triplets(G):\n",
    "    triplets = set()\n",
    "\n",
    "    queue = []\n",
    "    \n",
    "    for start in G.keys():\n",
    "        queue.append([start, 0, []])\n",
    "\n",
    "\n",
    "    while queue:\n",
    "    \n",
    "        current, step, path = queue.pop()\n",
    "\n",
    "        if step == 3 and current == path[0]:\n",
    "            triplets.add(frozenset(path))\n",
    "            continue\n",
    "        if step > 3:\n",
    "            continue\n",
    "        if current in path:\n",
    "            continue\n",
    "    \n",
    "        path.append(current)\n",
    "        \n",
    "        for node in G[current]:\n",
    "            queue.append([node, step+1, path.copy()])\n",
    "\n",
    "    return triplets"
   ]
  },
  {
   "cell_type": "code",
   "execution_count": 4,
   "id": "b74ce4dc-5441-4cf3-a3b2-8c5f30c8dc27",
   "metadata": {},
   "outputs": [],
   "source": [
    "def count(triplets):\n",
    "    \n",
    "    cnt = 0 \n",
    "    for i in triplets:\n",
    "        temp = \"\".join(j[0] for j in i)\n",
    "        if \"t\" in temp:\n",
    "            cnt+=1\n",
    "\n",
    "    return cnt"
   ]
  },
  {
   "cell_type": "code",
   "execution_count": 5,
   "id": "34860677-5ab6-49ac-90c9-027b0d5a0c8d",
   "metadata": {},
   "outputs": [],
   "source": [
    "triplets = get_triplets(G)\n",
    "result = count(triplets)"
   ]
  },
  {
   "cell_type": "code",
   "execution_count": 6,
   "id": "6c48b473-61ea-4146-9713-c4573bc856a0",
   "metadata": {},
   "outputs": [],
   "source": [
    "assert result == 7"
   ]
  },
  {
   "cell_type": "markdown",
   "id": "5f62c58f-8445-4cd8-9c06-70c43513f097",
   "metadata": {},
   "source": [
    "## Task"
   ]
  },
  {
   "cell_type": "code",
   "execution_count": 7,
   "id": "140d8f7b-0c45-476a-a66a-0138faef6328",
   "metadata": {},
   "outputs": [],
   "source": [
    "with open(\"../../../advent_of_code_input/2024/day_23/input.txt\", \"r\") as f:\n",
    "    data = f.read()\n",
    "\n",
    "data = data[:-1].split(\"\\n\")\n",
    "data =[i.split(\"-\") for i in data]\n",
    "\n",
    "G= defaultdict(list)\n",
    "for i,j in data:\n",
    "    G[i].append(j)\n",
    "    G[j].append(i)"
   ]
  },
  {
   "cell_type": "code",
   "execution_count": 8,
   "id": "25a4d566-efcb-47a8-992c-2f66f480b693",
   "metadata": {},
   "outputs": [],
   "source": [
    "triplets = get_triplets(G)\n",
    "result = count(triplets)"
   ]
  },
  {
   "cell_type": "code",
   "execution_count": 9,
   "id": "1608aa2c-d547-4b44-944f-67522807f94c",
   "metadata": {},
   "outputs": [
    {
     "data": {
      "text/plain": [
       "1238"
      ]
     },
     "execution_count": 9,
     "metadata": {},
     "output_type": "execute_result"
    }
   ],
   "source": [
    "result"
   ]
  },
  {
   "cell_type": "markdown",
   "id": "15174143-7453-48ba-b8c2-f20b70056ad5",
   "metadata": {},
   "source": [
    "## Part 2"
   ]
  },
  {
   "cell_type": "markdown",
   "id": "ec5088b8-fdd0-4982-8781-72a025b6c462",
   "metadata": {},
   "source": [
    "#### Test"
   ]
  },
  {
   "cell_type": "code",
   "execution_count": 10,
   "id": "fd9ae039-570e-495e-8c22-e0badb444c9e",
   "metadata": {},
   "outputs": [],
   "source": [
    "test = \"\"\"kh-tc\n",
    "qp-kh\n",
    "de-cg\n",
    "ka-co\n",
    "yn-aq\n",
    "qp-ub\n",
    "cg-tb\n",
    "vc-aq\n",
    "tb-ka\n",
    "wh-tc\n",
    "yn-cg\n",
    "kh-ub\n",
    "ta-co\n",
    "de-co\n",
    "tc-td\n",
    "tb-wq\n",
    "wh-td\n",
    "ta-ka\n",
    "td-qp\n",
    "aq-cg\n",
    "wq-ub\n",
    "ub-vc\n",
    "de-ta\n",
    "wq-aq\n",
    "wq-vc\n",
    "wh-yn\n",
    "ka-de\n",
    "kh-ta\n",
    "co-tc\n",
    "wh-qp\n",
    "tb-vc\n",
    "td-yn\"\"\"\n",
    "\n",
    "test = test.split(\"\\n\")\n",
    "test =[i.split(\"-\") for i in test]\n",
    "\n",
    "G= defaultdict(list)\n",
    "for i,j in test:\n",
    "    G[i].append(j)\n",
    "    G[j].append(i)"
   ]
  },
  {
   "cell_type": "code",
   "execution_count": 11,
   "id": "25748d4d-27c0-4085-bee5-064deccc0777",
   "metadata": {},
   "outputs": [],
   "source": [
    "def get_candidates(triplets):\n",
    "\n",
    "    candidates = set()\n",
    "    \n",
    "    for t1, t2, t3 in triplets:\n",
    "\n",
    "        t1 = set(G[t1]+[t1])\n",
    "        t2 = set(G[t2]+[t2])\n",
    "        t3 = set(G[t3]+[t3])\n",
    "        \n",
    "        temp = t1.intersection(t2).intersection(t3)\n",
    "        if temp:\n",
    "            candidates.add(frozenset(temp))\n",
    "\n",
    "    candidates = [set(i) for i in candidates]\n",
    "\n",
    "    return candidates"
   ]
  },
  {
   "cell_type": "code",
   "execution_count": 12,
   "id": "4550c5db-e588-4ff6-8364-687a526c3a0b",
   "metadata": {},
   "outputs": [],
   "source": [
    "def filter_candidates(G, candidates):\n",
    "    filtered = []\n",
    "    \n",
    "    for _list in candidates:\n",
    "        _elem = []\n",
    "        for i in _list:\n",
    "            _elem.append(set(G[i]+[i]))\n",
    "\n",
    "        u = set.intersection(*_elem)\n",
    "        filtered.append(u)\n",
    "\n",
    "    return filtered"
   ]
  },
  {
   "cell_type": "code",
   "execution_count": 13,
   "id": "ba37f46b-6c45-49da-aa34-40d171fc1167",
   "metadata": {},
   "outputs": [],
   "source": [
    "triplets = get_triplets(G)\n",
    "triplets = [set(i) for i in triplets]\n",
    "candidates = get_candidates(triplets)\n",
    "filtered = filter_candidates(G, candidates)\n",
    "longest = max(filtered, key=len)"
   ]
  },
  {
   "cell_type": "code",
   "execution_count": 14,
   "id": "4ea3703b-98a7-44ce-bcc7-1deb14b18723",
   "metadata": {},
   "outputs": [],
   "source": [
    "result = \",\".join(sorted(longest))"
   ]
  },
  {
   "cell_type": "code",
   "execution_count": 15,
   "id": "2f6c63aa-a404-4fa3-9305-14e352b8d6c3",
   "metadata": {},
   "outputs": [],
   "source": [
    "assert result == \"co,de,ka,ta\""
   ]
  },
  {
   "cell_type": "markdown",
   "id": "7deb1a43-fb6c-4baf-a859-13b2bebffd22",
   "metadata": {},
   "source": [
    "## Task"
   ]
  },
  {
   "cell_type": "code",
   "execution_count": 16,
   "id": "87abd377-e2b5-4422-ab23-09fa0b0cf192",
   "metadata": {},
   "outputs": [],
   "source": [
    "with open(\"../../../advent_of_code_input/2024/day_23/input.txt\", \"r\") as f:\n",
    "    data = f.read()\n",
    "\n",
    "data = data[:-1].split(\"\\n\")\n",
    "data =[i.split(\"-\") for i in data]\n",
    "\n",
    "G= defaultdict(list)\n",
    "for i,j in data:\n",
    "    G[i].append(j)\n",
    "    G[j].append(i)"
   ]
  },
  {
   "cell_type": "code",
   "execution_count": 17,
   "id": "c89c810c-4f0e-42d0-b068-a8dc7ff9ddaa",
   "metadata": {},
   "outputs": [],
   "source": [
    "triplets = get_triplets(G)\n",
    "triplets = [set(i) for i in triplets]\n",
    "candidates = get_candidates(triplets)\n",
    "filtered = filter_candidates(G, candidates)\n",
    "longest = max(filtered, key=len)"
   ]
  },
  {
   "cell_type": "code",
   "execution_count": 18,
   "id": "7ad69c7e-b071-4d40-a370-93fb1601684e",
   "metadata": {},
   "outputs": [],
   "source": [
    "result = \",\".join(sorted(longest))"
   ]
  },
  {
   "cell_type": "code",
   "execution_count": 19,
   "id": "40bdef96-3298-4cd4-9edf-a9d640654052",
   "metadata": {},
   "outputs": [
    {
     "data": {
      "text/plain": [
       "'bg,bl,ch,fn,fv,gd,jn,kk,lk,pv,rr,tb,vw'"
      ]
     },
     "execution_count": 19,
     "metadata": {},
     "output_type": "execute_result"
    }
   ],
   "source": [
    "result"
   ]
  },
  {
   "cell_type": "code",
   "execution_count": null,
   "id": "67b3e09b-2402-42b3-8fb1-3cd5ec1a2349",
   "metadata": {},
   "outputs": [],
   "source": []
  }
 ],
 "metadata": {
  "kernelspec": {
   "display_name": "Python 3 (ipykernel)",
   "language": "python",
   "name": "python3"
  },
  "language_info": {
   "codemirror_mode": {
    "name": "ipython",
    "version": 3
   },
   "file_extension": ".py",
   "mimetype": "text/x-python",
   "name": "python",
   "nbconvert_exporter": "python",
   "pygments_lexer": "ipython3",
   "version": "3.11.5"
  }
 },
 "nbformat": 4,
 "nbformat_minor": 5
}
