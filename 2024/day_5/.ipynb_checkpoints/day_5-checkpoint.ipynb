{
 "cells": [
  {
   "cell_type": "code",
   "execution_count": 1,
   "id": "abda358f-e6ab-45c2-9e8d-e4f1ddae53b4",
   "metadata": {},
   "outputs": [],
   "source": [
    "from collections import defaultdict"
   ]
  },
  {
   "cell_type": "markdown",
   "id": "c1089057-dea1-41cd-9d59-acbb1483ee63",
   "metadata": {},
   "source": [
    "## Day 5"
   ]
  },
  {
   "cell_type": "markdown",
   "id": "7d52a547-c841-4122-b697-f0f847265254",
   "metadata": {},
   "source": [
    "### part 1"
   ]
  },
  {
   "cell_type": "markdown",
   "id": "6f9cf284-019f-44fe-aba0-4816b9447a3d",
   "metadata": {},
   "source": [
    "##### Test"
   ]
  },
  {
   "cell_type": "code",
   "execution_count": 2,
   "id": "c9585b99-654b-4ca9-b9db-2e234b41ddcd",
   "metadata": {},
   "outputs": [],
   "source": [
    "test = \"\"\"47|53\n",
    "97|13\n",
    "97|61\n",
    "97|47\n",
    "75|29\n",
    "61|13\n",
    "75|53\n",
    "29|13\n",
    "97|29\n",
    "53|29\n",
    "61|53\n",
    "97|53\n",
    "61|29\n",
    "47|13\n",
    "75|47\n",
    "97|75\n",
    "47|61\n",
    "75|61\n",
    "47|29\n",
    "75|13\n",
    "53|13\n",
    "\n",
    "75,47,61,53,29\n",
    "97,61,53,29,13\n",
    "75,29,13\n",
    "75,97,47,61,53\n",
    "61,13,29\n",
    "97,13,75,29,47\"\"\""
   ]
  },
  {
   "cell_type": "code",
   "execution_count": 3,
   "id": "d2cf652c-7fdb-4690-acf1-19f5e5b7a874",
   "metadata": {},
   "outputs": [],
   "source": [
    "ordering, pages = test.split(\"\\n\\n\")\n",
    "\n",
    "ordering = [i.split('|') for i in ordering.split(\"\\n\")]\n",
    "pages = [i.split(',') for i in pages.split(\"\\n\")]\n",
    "\n",
    "ordering = [[int(j) for j in i] for i in ordering]\n",
    "pages = [[int(j) for j in i] for i in pages]\n",
    "\n",
    "\n",
    "G = defaultdict(list)\n",
    "\n",
    "for k, v in ordering:\n",
    "    G[k].append(v)"
   ]
  },
  {
   "cell_type": "code",
   "execution_count": 4,
   "id": "d34fbfd2-5c6b-4e45-ade3-b30ce60567dd",
   "metadata": {},
   "outputs": [],
   "source": [
    "def check_order(G, pages):\n",
    "    n = len(pages)\n",
    "    \n",
    "    for i in range(1, n):\n",
    "        \n",
    "        prev_page = pages[i-1]\n",
    "        page = pages[i]\n",
    "        \n",
    "        if page not in G[prev_page]:\n",
    "            return False, i\n",
    "    \n",
    "    return True, n//2"
   ]
  },
  {
   "cell_type": "code",
   "execution_count": 5,
   "id": "b6c7cdd4-0035-47c9-bf98-95c83a42656b",
   "metadata": {},
   "outputs": [],
   "source": [
    "result = []\n",
    "\n",
    "for page in pages:\n",
    "\n",
    "    is_correct, n = check_order(G, page)\n",
    "    if is_correct:\n",
    "        result.append(page[n])"
   ]
  },
  {
   "cell_type": "code",
   "execution_count": 6,
   "id": "28e9a612-5501-49b5-889a-4e540caac96e",
   "metadata": {},
   "outputs": [],
   "source": [
    "result = sum(result)"
   ]
  },
  {
   "cell_type": "code",
   "execution_count": 7,
   "id": "3c19fc5e-c693-46a8-8a74-c8b470202ef4",
   "metadata": {},
   "outputs": [],
   "source": [
    "assert result == 143"
   ]
  },
  {
   "cell_type": "markdown",
   "id": "4c2e9bc9-5dd5-4f41-aa0c-d02fe96d85bc",
   "metadata": {},
   "source": [
    "## part 1"
   ]
  },
  {
   "cell_type": "code",
   "execution_count": 8,
   "id": "8a6e55ad-793a-4afd-bd0e-cae072757c2c",
   "metadata": {},
   "outputs": [],
   "source": [
    "with open(\"../../../advent_of_code_input/2024/day_5/input.txt\", \"r\") as f:\n",
    "    data = f.read()"
   ]
  },
  {
   "cell_type": "code",
   "execution_count": 9,
   "id": "f24c591d-4cbc-406c-be6e-87c39787298d",
   "metadata": {},
   "outputs": [],
   "source": [
    "ordering, pages = data[:-1].split(\"\\n\\n\")\n",
    "\n",
    "ordering = [i.split('|') for i in ordering.split(\"\\n\")]\n",
    "pages = [i.split(',') for i in pages.split(\"\\n\")]\n",
    "\n",
    "ordering = [[int(j) for j in i] for i in ordering]\n",
    "pages = [[int(j) for j in i] for i in pages]"
   ]
  },
  {
   "cell_type": "code",
   "execution_count": 10,
   "id": "15798e91-af79-485c-918e-7befcad077f3",
   "metadata": {},
   "outputs": [],
   "source": [
    "G = defaultdict(list)\n",
    "\n",
    "for k, v in ordering:\n",
    "    G[k].append(v)"
   ]
  },
  {
   "cell_type": "code",
   "execution_count": 11,
   "id": "d6a4fe63-3852-4884-8c84-96cbe7c95e7d",
   "metadata": {},
   "outputs": [],
   "source": [
    "result = []\n",
    "\n",
    "for page in pages:\n",
    "\n",
    "    is_correct, n = check_order(G, page)\n",
    "    if is_correct:\n",
    "        result.append(page[n])"
   ]
  },
  {
   "cell_type": "code",
   "execution_count": 12,
   "id": "25ef5257-7e5b-4662-9014-d774dd891223",
   "metadata": {},
   "outputs": [
    {
     "name": "stdout",
     "output_type": "stream",
     "text": [
      "5955\n"
     ]
    }
   ],
   "source": [
    "result = sum(result)\n",
    "print(result)"
   ]
  },
  {
   "cell_type": "markdown",
   "id": "787eb4af-bc91-4483-b892-103dc1a08ba2",
   "metadata": {},
   "source": [
    "## Part 2"
   ]
  },
  {
   "cell_type": "markdown",
   "id": "7250185e-60fe-4d36-bbaa-ef5279e32063",
   "metadata": {},
   "source": [
    "### test"
   ]
  },
  {
   "cell_type": "code",
   "execution_count": 13,
   "id": "95fb310e-5142-4932-99b3-b8a8150e8050",
   "metadata": {},
   "outputs": [],
   "source": [
    "test = \"\"\"47|53\n",
    "97|13\n",
    "97|61\n",
    "97|47\n",
    "75|29\n",
    "61|13\n",
    "75|53\n",
    "29|13\n",
    "97|29\n",
    "53|29\n",
    "61|53\n",
    "97|53\n",
    "61|29\n",
    "47|13\n",
    "75|47\n",
    "97|75\n",
    "47|61\n",
    "75|61\n",
    "47|29\n",
    "75|13\n",
    "53|13\n",
    "\n",
    "75,47,61,53,29\n",
    "97,61,53,29,13\n",
    "75,29,13\n",
    "75,97,47,61,53\n",
    "61,13,29\n",
    "97,13,75,29,47\"\"\""
   ]
  },
  {
   "cell_type": "code",
   "execution_count": 14,
   "id": "db0bc96f-4b42-442e-8b13-d625e14b634a",
   "metadata": {},
   "outputs": [],
   "source": [
    "ordering, pages = test.split(\"\\n\\n\")\n",
    "\n",
    "ordering = [i.split('|') for i in ordering.split(\"\\n\")]\n",
    "pages = [i.split(',') for i in pages.split(\"\\n\")]\n",
    "\n",
    "ordering = [[int(j) for j in i] for i in ordering]\n",
    "pages = [[int(j) for j in i] for i in pages]\n",
    "\n",
    "\n",
    "G = defaultdict(list)\n",
    "\n",
    "for k, v in ordering:\n",
    "    G[k].append(v)"
   ]
  },
  {
   "cell_type": "code",
   "execution_count": 15,
   "id": "08ae3ca2-aa90-4717-a27d-6a94e58222c4",
   "metadata": {},
   "outputs": [],
   "source": [
    "result = []\n",
    "is_changed = False\n",
    "\n",
    "for page in pages:\n",
    "\n",
    "    is_changes = False\n",
    "    is_correct, idx = check_order(G, page)\n",
    "    \n",
    "    while not is_correct:\n",
    "        is_changed = True\n",
    "        \n",
    "        page[idx], page[idx-1] = page[idx-1], page[idx]\n",
    "        is_correct, idx = check_order(G, page)\n",
    "\n",
    "    if is_changed:\n",
    "        result.append(page[idx])"
   ]
  },
  {
   "cell_type": "code",
   "execution_count": 16,
   "id": "27e9465f-a198-44bf-bece-51646a1b911b",
   "metadata": {},
   "outputs": [],
   "source": [
    "assert sum(result) == 123"
   ]
  },
  {
   "cell_type": "markdown",
   "id": "1f41f4be-ebff-46e6-a9f2-9c4f74d29c4d",
   "metadata": {},
   "source": [
    "### Part 2"
   ]
  },
  {
   "cell_type": "code",
   "execution_count": 17,
   "id": "55a21a3f-b3a3-4519-8c60-8f9446be7457",
   "metadata": {},
   "outputs": [],
   "source": [
    "with open(\"../../../advent_of_code_input/2024/day_5/input.txt\", \"r\") as f:\n",
    "    data = f.read()"
   ]
  },
  {
   "cell_type": "code",
   "execution_count": 18,
   "id": "c1d92c02-5408-4811-9857-c870efc2e52a",
   "metadata": {},
   "outputs": [],
   "source": [
    "ordering, pages = data[:-1].split(\"\\n\\n\")\n",
    "\n",
    "ordering = [i.split('|') for i in ordering.split(\"\\n\")]\n",
    "pages = [i.split(',') for i in pages.split(\"\\n\")]\n",
    "\n",
    "ordering = [[int(j) for j in i] for i in ordering]\n",
    "pages = [[int(j) for j in i] for i in pages]"
   ]
  },
  {
   "cell_type": "code",
   "execution_count": 19,
   "id": "b652ff20-01b8-4328-b26c-4d95fd2e97a0",
   "metadata": {},
   "outputs": [],
   "source": [
    "G = defaultdict(list)\n",
    "\n",
    "for k, v in ordering:\n",
    "    G[k].append(v)"
   ]
  },
  {
   "cell_type": "code",
   "execution_count": 20,
   "id": "8680acb1-cc83-4866-959c-8f992c80c0f4",
   "metadata": {},
   "outputs": [],
   "source": [
    "result = []\n",
    "is_changed = False\n",
    "\n",
    "for page in pages:\n",
    "\n",
    "    is_changed = False\n",
    "    is_correct, idx = check_order(G, page)\n",
    "    \n",
    "    while not is_correct:\n",
    "        is_changed = True\n",
    "        \n",
    "        page[idx], page[idx-1] = page[idx-1], page[idx]\n",
    "        is_correct, idx = check_order(G, page)\n",
    "\n",
    "    if is_changed:\n",
    "        result.append(page[idx])"
   ]
  },
  {
   "cell_type": "code",
   "execution_count": 21,
   "id": "1efd80bc-216e-4cc3-ad33-ae141fee7f67",
   "metadata": {},
   "outputs": [
    {
     "data": {
      "text/plain": [
       "4030"
      ]
     },
     "execution_count": 21,
     "metadata": {},
     "output_type": "execute_result"
    }
   ],
   "source": [
    "sum(result) "
   ]
  }
 ],
 "metadata": {
  "kernelspec": {
   "display_name": "Python 3 (ipykernel)",
   "language": "python",
   "name": "python3"
  },
  "language_info": {
   "codemirror_mode": {
    "name": "ipython",
    "version": 3
   },
   "file_extension": ".py",
   "mimetype": "text/x-python",
   "name": "python",
   "nbconvert_exporter": "python",
   "pygments_lexer": "ipython3",
   "version": "3.11.5"
  }
 },
 "nbformat": 4,
 "nbformat_minor": 5
}
