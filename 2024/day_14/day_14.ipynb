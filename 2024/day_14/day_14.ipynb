{
 "cells": [
  {
   "cell_type": "code",
   "execution_count": 1,
   "id": "c384249a-0ae6-4e17-951d-8d81d463dc9a",
   "metadata": {},
   "outputs": [],
   "source": [
    "import re\n",
    "\n",
    "import numpy as np"
   ]
  },
  {
   "cell_type": "markdown",
   "id": "471b2ae6-91d8-4d40-ad6e-7db9bc156f2d",
   "metadata": {},
   "source": [
    "## Day 14"
   ]
  },
  {
   "cell_type": "markdown",
   "id": "5b51460f-db5b-407e-86bd-3dd416a7c1a8",
   "metadata": {},
   "source": [
    "### Part 1"
   ]
  },
  {
   "cell_type": "markdown",
   "id": "6f4d44ad-18eb-4d23-9f8b-400646f87953",
   "metadata": {},
   "source": [
    "#### Test"
   ]
  },
  {
   "cell_type": "code",
   "execution_count": 2,
   "id": "ce944b0f-4eac-4aea-82d1-fba44b11834d",
   "metadata": {},
   "outputs": [],
   "source": [
    "test = \"\"\"p=0,4 v=3,-3\n",
    "p=6,3 v=-1,-3\n",
    "p=10,3 v=-1,2\n",
    "p=2,0 v=2,-1\n",
    "p=0,0 v=1,3\n",
    "p=3,0 v=-2,-2\n",
    "p=7,6 v=-1,-3\n",
    "p=3,0 v=-1,-2\n",
    "p=9,3 v=2,3\n",
    "p=7,3 v=-1,2\n",
    "p=2,4 v=2,-3\n",
    "p=9,5 v=-3,-3\"\"\"\n",
    "\n",
    "test = test.split(\"\\n\")\n",
    "test = [re.findall(r\"(-?\\d+)\", i) for i in test]\n",
    "test = [[int(j) for j in i] for i in test]"
   ]
  },
  {
   "cell_type": "code",
   "execution_count": 3,
   "id": "a549a43e-147d-4ff4-b789-ae1af24c3696",
   "metadata": {},
   "outputs": [],
   "source": [
    "n_row = 11\n",
    "n_col = 7\n",
    "\n",
    "steps = 100"
   ]
  },
  {
   "cell_type": "code",
   "execution_count": 4,
   "id": "39260ffa-8d0c-453c-8400-6e448b61066c",
   "metadata": {},
   "outputs": [],
   "source": [
    "def get_postion(data, steps, n_row, n_col):\n",
    "    x, y, v_x, v_y = data\n",
    "    return ((x + v_x*steps)%n_row, (y + v_y*steps)%n_col) "
   ]
  },
  {
   "cell_type": "code",
   "execution_count": 5,
   "id": "031fee6a-368f-443f-9539-98312d83ed7d",
   "metadata": {},
   "outputs": [],
   "source": [
    "def get_quadrant(positions, n_row, n_col):\n",
    "    \n",
    "    q1, q2, q3, q4 = 0, 0, 0, 0\n",
    "\n",
    "    mid_row = (n_row//2)\n",
    "    mid_col = (n_col//2)\n",
    "\n",
    "    for row, col in positions:\n",
    "        if (row < mid_row) and (col < mid_col):\n",
    "            q1 += 1\n",
    "        elif (row < mid_row) and (col > mid_col):\n",
    "            q3 += 1\n",
    "        elif (row > mid_row) and (col < mid_col):\n",
    "            q2 += 1\n",
    "        elif (row > mid_row) and (col > mid_col):\n",
    "            q4 += 1\n",
    "        else:\n",
    "            pass\n",
    "\n",
    "    return q1 * q2 * q3 * q4"
   ]
  },
  {
   "cell_type": "code",
   "execution_count": 6,
   "id": "19060f4c-2cff-4cbf-9b48-19d4d435cc97",
   "metadata": {},
   "outputs": [],
   "source": [
    "positions = [get_postion(i, steps, n_row, n_col) for i in test]\n",
    "result = get_quadrant(positions, n_row, n_col)"
   ]
  },
  {
   "cell_type": "code",
   "execution_count": 7,
   "id": "2ce97edd-30d3-48d5-ac52-779d11faa97b",
   "metadata": {},
   "outputs": [],
   "source": [
    "assert result == 12"
   ]
  },
  {
   "cell_type": "markdown",
   "id": "5f62c58f-8445-4cd8-9c06-70c43513f097",
   "metadata": {},
   "source": [
    "#### Task"
   ]
  },
  {
   "cell_type": "code",
   "execution_count": 8,
   "id": "140d8f7b-0c45-476a-a66a-0138faef6328",
   "metadata": {},
   "outputs": [],
   "source": [
    "with open(\"../../../advent_of_code_input/2024/day_14/input.txt\", \"r\") as f:\n",
    "    data = f.read()\n",
    "\n",
    "data = data[:-1].split(\"\\n\")\n",
    "data = [re.findall(r\"(-?\\d+)\", i) for i in data]\n",
    "data = [[int(j) for j in i] for i in data]"
   ]
  },
  {
   "cell_type": "code",
   "execution_count": 9,
   "id": "d9280223-5768-4fa4-ac7d-7701a13d6ebd",
   "metadata": {},
   "outputs": [],
   "source": [
    "n_row = 101\n",
    "n_col = 103\n",
    "\n",
    "steps = 100"
   ]
  },
  {
   "cell_type": "code",
   "execution_count": 10,
   "id": "37f00ffc-f1d4-41fa-9bcd-ddee5313346e",
   "metadata": {},
   "outputs": [],
   "source": [
    "positions = [get_postion(i, steps, n_row, n_col) for i in data]\n",
    "result = get_quadrant(positions, n_row, n_col)"
   ]
  },
  {
   "cell_type": "code",
   "execution_count": 11,
   "id": "1e49b07b-c192-49a9-98da-cc3235633827",
   "metadata": {},
   "outputs": [
    {
     "data": {
      "text/plain": [
       "229868730"
      ]
     },
     "execution_count": 11,
     "metadata": {},
     "output_type": "execute_result"
    }
   ],
   "source": [
    "result"
   ]
  },
  {
   "cell_type": "markdown",
   "id": "15174143-7453-48ba-b8c2-f20b70056ad5",
   "metadata": {},
   "source": [
    "## Part 2"
   ]
  },
  {
   "cell_type": "markdown",
   "id": "762bc037-eb7e-41ab-aa37-33f3cc5e8d5f",
   "metadata": {},
   "source": [
    "followed solution [Chinese Remainder Theorem](https://www.reddit.com/r/adventofcode/comments/1hdvhvu/comment/m1zws1g/?utm_source=share&utm_medium=web3x&utm_name=web3xcss&utm_term=1&utm_content=share_button) and a better explanation [here](https://www.reddit.com/r/adventofcode/comments/1he0asr/2024_day_14_part_2_why_have_fun_with_image/)"
   ]
  },
  {
   "cell_type": "markdown",
   "id": "7deb1a43-fb6c-4baf-a859-13b2bebffd22",
   "metadata": {},
   "source": [
    "## Task"
   ]
  },
  {
   "cell_type": "code",
   "execution_count": 12,
   "id": "21286b36-014e-48eb-ac89-79d95f057428",
   "metadata": {},
   "outputs": [],
   "source": [
    "with open(\"../../../advent_of_code_input/2024/day_14/input.txt\", \"r\") as f:\n",
    "    data = f.read()\n",
    "\n",
    "data = data[:-1].split(\"\\n\")\n",
    "data = [re.findall(r\"(-?\\d+)\", i) for i in data]\n",
    "data = [[int(j) for j in i] for i in data]"
   ]
  },
  {
   "cell_type": "code",
   "execution_count": 13,
   "id": "5cbdedcb-a0ad-4845-98ac-8b93b940d29e",
   "metadata": {},
   "outputs": [],
   "source": [
    "n_row = 101\n",
    "n_col = 103"
   ]
  },
  {
   "cell_type": "code",
   "execution_count": 14,
   "id": "abffe1bf-c044-44cf-ad26-1d6b284d3b37",
   "metadata": {},
   "outputs": [],
   "source": [
    "bx, bxvar, by, byvar = 0, 10*100, 0, 10*1000\n",
    "\n",
    "for steps in range(max(n_row, n_col)):\n",
    "    xs, ys = zip(*[get_postion(i, steps, n_row, n_col) for i in data])\n",
    "    if (xvar := np.var(xs)) < bxvar: \n",
    "        bx, bxvar = steps, xvar\n",
    "    \n",
    "    if (yvar := np.var(ys)) < byvar: \n",
    "        by, byvar = steps, yvar\n",
    "\n",
    "result = bx+((pow(n_row, -1, n_col)*(by-bx)) % n_col)*n_row"
   ]
  },
  {
   "cell_type": "code",
   "execution_count": 15,
   "id": "affd0ed7-810a-4bac-9c71-fe3cc8bf57b5",
   "metadata": {},
   "outputs": [
    {
     "data": {
      "text/plain": [
       "7861"
      ]
     },
     "execution_count": 15,
     "metadata": {},
     "output_type": "execute_result"
    }
   ],
   "source": [
    "result"
   ]
  }
 ],
 "metadata": {
  "kernelspec": {
   "display_name": "Python 3 (ipykernel)",
   "language": "python",
   "name": "python3"
  },
  "language_info": {
   "codemirror_mode": {
    "name": "ipython",
    "version": 3
   },
   "file_extension": ".py",
   "mimetype": "text/x-python",
   "name": "python",
   "nbconvert_exporter": "python",
   "pygments_lexer": "ipython3",
   "version": "3.11.5"
  }
 },
 "nbformat": 4,
 "nbformat_minor": 5
}
