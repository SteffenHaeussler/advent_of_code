{
 "cells": [
  {
   "cell_type": "code",
   "execution_count": 1,
   "id": "abe5be59-7da6-457b-9e30-e7a8f19c8e2e",
   "metadata": {},
   "outputs": [],
   "source": [
    "from collections import defaultdict"
   ]
  },
  {
   "cell_type": "markdown",
   "id": "471b2ae6-91d8-4d40-ad6e-7db9bc156f2d",
   "metadata": {},
   "source": [
    "## Day 6"
   ]
  },
  {
   "cell_type": "markdown",
   "id": "5b51460f-db5b-407e-86bd-3dd416a7c1a8",
   "metadata": {},
   "source": [
    "### Part 1"
   ]
  },
  {
   "cell_type": "markdown",
   "id": "6f4d44ad-18eb-4d23-9f8b-400646f87953",
   "metadata": {},
   "source": [
    "#### Test"
   ]
  },
  {
   "cell_type": "code",
   "execution_count": 2,
   "id": "ce944b0f-4eac-4aea-82d1-fba44b11834d",
   "metadata": {},
   "outputs": [],
   "source": [
    "test = \"\"\"....#.....\n",
    ".........#\n",
    "..........\n",
    "..#.......\n",
    ".......#..\n",
    "..........\n",
    ".#..^.....\n",
    "........#.\n",
    "#.........\n",
    "......#...\"\"\""
   ]
  },
  {
   "cell_type": "code",
   "execution_count": 3,
   "id": "cfd871f4-1dc7-4fc7-964b-5cc95d403b3e",
   "metadata": {},
   "outputs": [],
   "source": [
    "grid = test.split(\"\\n\")"
   ]
  },
  {
   "cell_type": "code",
   "execution_count": 4,
   "id": "75bdfe4c-8c6d-4702-a124-b79f68d33b54",
   "metadata": {},
   "outputs": [
    {
     "data": {
      "text/plain": [
       "['....#.....',\n",
       " '.........#',\n",
       " '..........',\n",
       " '..#.......',\n",
       " '.......#..',\n",
       " '..........',\n",
       " '.#..^.....',\n",
       " '........#.',\n",
       " '#.........',\n",
       " '......#...']"
      ]
     },
     "execution_count": 4,
     "metadata": {},
     "output_type": "execute_result"
    }
   ],
   "source": [
    "grid"
   ]
  },
  {
   "cell_type": "code",
   "execution_count": 5,
   "id": "d0067da8-8e98-4670-a762-b94c738dd0f2",
   "metadata": {},
   "outputs": [],
   "source": [
    "mapping = {\"<\": [0, -1], \">\": [0,1], \"^\": [-1,0], \"v\": [1,0]}\n",
    "\n",
    "rotate = {\"<\": \"^\", \">\": \"v\", \"^\": \">\", \"v\": \"<\"}\n",
    "\n",
    "def get_start(grid):\n",
    "    start_row, start_col = None, None\n",
    "    direction = None\n",
    "    for row in range(len(grid)):\n",
    "        for col in range(len(grid[0])):\n",
    "            if (grid[row][col] != \".\") and (grid[row][col] != \"#\"):\n",
    "                start_row = row\n",
    "                start_col = col\n",
    "                direction = grid[row][col]\n",
    "\n",
    "\n",
    "\n",
    "    return start_row, start_col, direction"
   ]
  },
  {
   "cell_type": "code",
   "execution_count": 13,
   "id": "61e22476-9096-4d57-bde7-fde38999d0a7",
   "metadata": {},
   "outputs": [],
   "source": [
    "current_row, current_col, direction_symbol = get_start(grid)\n",
    "direction = mapping[direction_symbol]"
   ]
  },
  {
   "cell_type": "code",
   "execution_count": 14,
   "id": "94895fe7-8a70-478f-a9d6-836dcb8fa692",
   "metadata": {},
   "outputs": [],
   "source": [
    "visited = set([(current_row, current_col)])\n",
    "next_row = current_row + direction[0]\n",
    "next_col = current_col + direction[1]\n",
    "\n",
    "while True:  \n",
    "\n",
    "    next_row = current_row + direction[0]\n",
    "    next_col = current_col + direction[1]\n",
    "\n",
    "    if (next_row < 0) or (next_row >= len(grid)) or (next_col < 0) or (next_col >= len(grid[0])):\n",
    "        break\n",
    "\n",
    "    if grid[next_row][next_col] == \"#\":\n",
    "        new_symbol = rotate[direction_symbol]\n",
    "        direction = mapping[new_symbol]\n",
    "        direction_symbol = new_symbol\n",
    "        continue\n",
    "\n",
    "    current_row = next_row\n",
    "    current_col = next_col\n",
    "    visited.add((current_row, current_col))"
   ]
  },
  {
   "cell_type": "code",
   "execution_count": 15,
   "id": "bbae3540-4ffb-4c95-a399-ebf039ef4884",
   "metadata": {},
   "outputs": [],
   "source": [
    "result = len(visited)"
   ]
  },
  {
   "cell_type": "code",
   "execution_count": 16,
   "id": "0569bfbf-e003-4609-bcf6-280096c0ea13",
   "metadata": {},
   "outputs": [],
   "source": [
    "assert result == 41"
   ]
  },
  {
   "cell_type": "code",
   "execution_count": 17,
   "id": "3e2b8734-d85e-4864-904c-3f49c5ac4450",
   "metadata": {},
   "outputs": [
    {
     "data": {
      "text/plain": [
       "41"
      ]
     },
     "execution_count": 17,
     "metadata": {},
     "output_type": "execute_result"
    }
   ],
   "source": [
    "len(visited)"
   ]
  },
  {
   "cell_type": "markdown",
   "id": "5f62c58f-8445-4cd8-9c06-70c43513f097",
   "metadata": {},
   "source": [
    "#### Task"
   ]
  },
  {
   "cell_type": "code",
   "execution_count": 18,
   "id": "7dc9a1c5-ae81-4ebe-bde4-b0268e3cb1e6",
   "metadata": {},
   "outputs": [],
   "source": [
    "with open(\"../../../advent_of_code_input/2024/day_6/input.txt\", \"r\") as f:\n",
    "    data = f.read()"
   ]
  },
  {
   "cell_type": "code",
   "execution_count": 19,
   "id": "0e692e53-e52a-4d4f-9ea5-b299033a5b49",
   "metadata": {},
   "outputs": [],
   "source": [
    "grid = data[:-1].split(\"\\n\")"
   ]
  },
  {
   "cell_type": "code",
   "execution_count": 20,
   "id": "2e44040c-0c58-4d86-a234-25d6ca58f930",
   "metadata": {},
   "outputs": [],
   "source": [
    "current_row, current_col, direction_symbol = get_start(grid)\n",
    "direction = mapping[direction_symbol]"
   ]
  },
  {
   "cell_type": "code",
   "execution_count": 23,
   "id": "2bbc0614-2980-464d-88f4-6e4798ebc819",
   "metadata": {},
   "outputs": [],
   "source": [
    "visited = set([(current_row, current_col)])\n",
    "next_row = current_row + direction[0]\n",
    "next_col = current_col + direction[1]\n",
    "\n",
    "while True:  \n",
    "\n",
    "    next_row = current_row + direction[0]\n",
    "    next_col = current_col + direction[1]\n",
    "\n",
    "    if (next_row < 0) or (next_row >= len(grid)) or (next_col < 0) or (next_col >= len(grid[0])):\n",
    "        break\n",
    "\n",
    "    if grid[next_row][next_col] == \"#\":\n",
    "        new_symbol = rotate[direction_symbol]\n",
    "        direction = mapping[new_symbol]\n",
    "        direction_symbol = new_symbol\n",
    "        continue\n",
    "\n",
    "    current_row = next_row\n",
    "    current_col = next_col\n",
    "    visited.add((current_row, current_col))"
   ]
  },
  {
   "cell_type": "code",
   "execution_count": 24,
   "id": "d79fcd97-bf0d-4275-951c-6613c8b5085f",
   "metadata": {},
   "outputs": [],
   "source": [
    "result = len(visited)"
   ]
  },
  {
   "cell_type": "code",
   "execution_count": 25,
   "id": "9c30c493-465e-4feb-b188-6f60105a3580",
   "metadata": {},
   "outputs": [
    {
     "data": {
      "text/plain": [
       "5531"
      ]
     },
     "execution_count": 25,
     "metadata": {},
     "output_type": "execute_result"
    }
   ],
   "source": [
    "result"
   ]
  },
  {
   "cell_type": "markdown",
   "id": "15174143-7453-48ba-b8c2-f20b70056ad5",
   "metadata": {},
   "source": [
    "## Part 2"
   ]
  },
  {
   "cell_type": "markdown",
   "id": "3b576a71-ce5b-43fe-b977-a9766c7f01b7",
   "metadata": {},
   "source": [
    "missing"
   ]
  },
  {
   "cell_type": "markdown",
   "id": "ec5088b8-fdd0-4982-8781-72a025b6c462",
   "metadata": {},
   "source": [
    "#### Test"
   ]
  },
  {
   "cell_type": "code",
   "execution_count": 49,
   "id": "74994a75-061a-4ffc-90a5-831e742d7b9d",
   "metadata": {},
   "outputs": [],
   "source": [
    "test = \"\"\"....#.....\n",
    ".........#\n",
    "..........\n",
    "..#.......\n",
    ".......#..\n",
    "..........\n",
    ".#..^.....\n",
    "........#.\n",
    "#.........\n",
    "......#...\"\"\""
   ]
  },
  {
   "cell_type": "code",
   "execution_count": 65,
   "id": "eddb4ff7-0bb8-4f34-9778-225dbcedbd24",
   "metadata": {},
   "outputs": [],
   "source": [
    "grid = test.split(\"\\n\")"
   ]
  },
  {
   "cell_type": "code",
   "execution_count": 72,
   "id": "0ab8d1ef-5e7c-4243-959a-15b9f63d2b7f",
   "metadata": {},
   "outputs": [],
   "source": []
  },
  {
   "cell_type": "code",
   "execution_count": 80,
   "id": "94d00354-3a64-499b-ad7d-8e7256f5d658",
   "metadata": {},
   "outputs": [],
   "source": [
    "current_row, current_col, direction_symbol = get_start(grid)\n",
    "direction = mapping[direction_symbol]\n",
    "\n",
    "visited = set([(current_row, current_col)])\n",
    "next_row = current_row + direction[0]\n",
    "next_col = current_col + direction[1]\n",
    "\n",
    "candidates = []\n",
    "\n",
    "while True:  \n",
    "\n",
    "    next_row = current_row + direction[0]\n",
    "    next_col = current_col + direction[1]\n",
    "    \n",
    "    if (next_row, next_col) in visited:\n",
    "        candidates.append((next_row, next_col))\n",
    "    \n",
    "    if (next_row < 0) or (next_row >= len(grid)) or (next_col < 0) or (next_col >= len(grid[0])):\n",
    "        break\n",
    "\n",
    "    if grid[next_row][next_col] == \"#\":\n",
    "        new_symbol = rotate[direction_symbol]\n",
    "        direction = mapping[new_symbol]\n",
    "        direction_symbol = new_symbol\n",
    "        continue\n",
    "\n",
    "    current_row = next_row\n",
    "    current_col = next_col\n",
    "    visited.add((current_row, current_col))\n",
    "\n",
    "\n"
   ]
  },
  {
   "cell_type": "code",
   "execution_count": 81,
   "id": "23847053-3293-40ba-b408-d2fbedfb4fd3",
   "metadata": {},
   "outputs": [
    {
     "data": {
      "text/plain": [
       "{(4, 4), (6, 4), (6, 6), (7, 6)}"
      ]
     },
     "execution_count": 81,
     "metadata": {},
     "output_type": "execute_result"
    }
   ],
   "source": [
    "set(candidates)"
   ]
  },
  {
   "cell_type": "code",
   "execution_count": null,
   "id": "025c24bb-c9b3-4af6-af6d-ad354cda9c35",
   "metadata": {},
   "outputs": [],
   "source": [
    "assert result == 6"
   ]
  }
 ],
 "metadata": {
  "kernelspec": {
   "display_name": "Python 3 (ipykernel)",
   "language": "python",
   "name": "python3"
  },
  "language_info": {
   "codemirror_mode": {
    "name": "ipython",
    "version": 3
   },
   "file_extension": ".py",
   "mimetype": "text/x-python",
   "name": "python",
   "nbconvert_exporter": "python",
   "pygments_lexer": "ipython3",
   "version": "3.11.5"
  }
 },
 "nbformat": 4,
 "nbformat_minor": 5
}
