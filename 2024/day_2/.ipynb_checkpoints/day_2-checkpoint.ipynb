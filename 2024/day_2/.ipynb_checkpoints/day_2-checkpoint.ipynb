{
 "cells": [
  {
   "cell_type": "markdown",
   "id": "adfaa0f1-0fcf-4db7-af72-2905b3fca162",
   "metadata": {},
   "source": [
    "## Day 2"
   ]
  },
  {
   "cell_type": "code",
   "execution_count": 1,
   "id": "1587a3ba-5676-4db9-9b31-88f7a01ca83d",
   "metadata": {},
   "outputs": [],
   "source": [
    "test = \"\"\"7 6 4 2 1\n",
    "1 2 7 8 9\n",
    "9 7 6 2 1\n",
    "1 3 2 4 5\n",
    "8 6 4 4 1\n",
    "1 3 6 7 9\"\"\""
   ]
  },
  {
   "cell_type": "code",
   "execution_count": 2,
   "id": "6c96092d-a378-4b25-93f4-c3e23b4b3bfa",
   "metadata": {},
   "outputs": [],
   "source": [
    "test = [[int(j) for j in i.split(\" \")] for i in test.split(\"\\n\")]"
   ]
  },
  {
   "cell_type": "code",
   "execution_count": 17,
   "id": "de0cb439-3eb8-4b95-bae1-3a3c8cbafbef",
   "metadata": {},
   "outputs": [],
   "source": [
    "def is_save(lst):\n",
    "    condition = None\n",
    "    for i in range(1, len(lst)):\n",
    "        \n",
    "        \n",
    "        diff = lst[i] - lst[i-1]\n",
    "    \n",
    "        if abs(diff) > 3:\n",
    "            return False\n",
    "\n",
    "        if abs(diff) <= 0:\n",
    "            return False\n",
    "\n",
    "        if not condition:\n",
    "            if diff > 0:\n",
    "                condition = \"increasing\"\n",
    "            else:\n",
    "                condition = \"decreasing\"\n",
    "                \n",
    "        if diff > 0 and condition == \"decreasing\":\n",
    "            return False\n",
    "        elif diff < 0 and condition == \"increasing\":\n",
    "            return False\n",
    "    \n",
    "    return True"
   ]
  },
  {
   "cell_type": "code",
   "execution_count": 22,
   "id": "4802f08b-5f49-4785-b7f5-d9082245d093",
   "metadata": {},
   "outputs": [
    {
     "name": "stdout",
     "output_type": "stream",
     "text": [
      "2\n"
     ]
    }
   ],
   "source": [
    "result = [is_save(i) for i in test]\n",
    "result = sum(result)\n",
    "print(result)"
   ]
  },
  {
   "cell_type": "code",
   "execution_count": 23,
   "id": "41d486ca-2d88-4dd6-88e3-9435aaf632b7",
   "metadata": {},
   "outputs": [],
   "source": [
    "assert result == 2"
   ]
  },
  {
   "cell_type": "markdown",
   "id": "71c8171d-827b-44f5-a029-3b9f264a7316",
   "metadata": {},
   "source": [
    "## Part 1"
   ]
  },
  {
   "cell_type": "code",
   "execution_count": 24,
   "id": "9481b6c5-6403-4e45-a091-ddd54a73483b",
   "metadata": {},
   "outputs": [],
   "source": [
    "with open(\"../../../advent_of_code_input/2024/day_2/input.txt\", \"r\") as f:\n",
    "    day_2 = f.read()"
   ]
  },
  {
   "cell_type": "code",
   "execution_count": 27,
   "id": "b7c32697-b4ff-4ec4-9c93-0bad869e2147",
   "metadata": {},
   "outputs": [],
   "source": [
    "day_2 = [[int(j) for j in i.split(\" \")] for i in day_2.split(\"\\n\")[:-1]]"
   ]
  },
  {
   "cell_type": "code",
   "execution_count": 29,
   "id": "7515e687-0a10-411a-a78e-fb2fc6400d98",
   "metadata": {},
   "outputs": [
    {
     "name": "stdout",
     "output_type": "stream",
     "text": [
      "549\n"
     ]
    }
   ],
   "source": [
    "result = [is_save(i) for i in day_2]\n",
    "result = sum(result)\n",
    "print(result)"
   ]
  },
  {
   "cell_type": "markdown",
   "id": "50e55494-e9e6-4723-b4b8-88236d7a2f76",
   "metadata": {},
   "source": [
    "## Part 2"
   ]
  },
  {
   "cell_type": "markdown",
   "id": "ef1fc66d-53d1-48ac-9c22-2b86e0205e1d",
   "metadata": {},
   "source": [
    "### test"
   ]
  },
  {
   "cell_type": "code",
   "execution_count": 42,
   "id": "f23162df-e321-4043-b654-687781dbe170",
   "metadata": {},
   "outputs": [],
   "source": [
    "result = []\n",
    "\n",
    "for i in test:\n",
    "\n",
    "    temp = [is_save(i[:n]+i[(n+1):]) for n in range(len(i))]\n",
    "\n",
    "    if sum(temp) >= 1:\n",
    "        result.append(True)\n",
    "    else:\n",
    "        result.append(False)"
   ]
  },
  {
   "cell_type": "code",
   "execution_count": 43,
   "id": "8f57a2be-e395-46af-a8c4-6c1175eca7ad",
   "metadata": {},
   "outputs": [
    {
     "name": "stdout",
     "output_type": "stream",
     "text": [
      "4\n"
     ]
    }
   ],
   "source": [
    "result = sum(result)\n",
    "print(result)"
   ]
  },
  {
   "cell_type": "code",
   "execution_count": 44,
   "id": "d193b193-2854-4a2c-a11b-76c62a097da5",
   "metadata": {},
   "outputs": [],
   "source": [
    "assert result == 4"
   ]
  },
  {
   "cell_type": "code",
   "execution_count": 45,
   "id": "a57bc71c-4c43-4136-9c19-c19bfba139a5",
   "metadata": {},
   "outputs": [],
   "source": [
    "with open(\"../../../advent_of_code_input/2024/day_2/input.txt\", \"r\") as f:\n",
    "    day_2 = f.read()"
   ]
  },
  {
   "cell_type": "code",
   "execution_count": 46,
   "id": "5db82ac9-873e-4346-a6ad-e85b5d9b2808",
   "metadata": {},
   "outputs": [],
   "source": [
    "day_2 = [[int(j) for j in i.split(\" \")] for i in day_2.split(\"\\n\")[:-1]]"
   ]
  },
  {
   "cell_type": "code",
   "execution_count": 48,
   "id": "b5da81e8-c265-4cc0-aba3-6009c7736897",
   "metadata": {},
   "outputs": [],
   "source": [
    "result = []\n",
    "\n",
    "for i in day_2:\n",
    "\n",
    "    temp = [is_save(i[:n]+i[(n+1):]) for n in range(len(i))]\n",
    "\n",
    "    if sum(temp) >= 1:\n",
    "        result.append(True)\n",
    "    else:\n",
    "        result.append(False)"
   ]
  },
  {
   "cell_type": "code",
   "execution_count": 49,
   "id": "627c7951-9c13-42fa-9b32-cb27b1e4b003",
   "metadata": {},
   "outputs": [
    {
     "name": "stdout",
     "output_type": "stream",
     "text": [
      "589\n"
     ]
    }
   ],
   "source": [
    "result = sum(result)\n",
    "print(result)"
   ]
  },
  {
   "cell_type": "code",
   "execution_count": null,
   "id": "39e386d1-fc08-42fa-b502-40f0df9bea54",
   "metadata": {},
   "outputs": [],
   "source": []
  }
 ],
 "metadata": {
  "kernelspec": {
   "display_name": "Python 3 (ipykernel)",
   "language": "python",
   "name": "python3"
  },
  "language_info": {
   "codemirror_mode": {
    "name": "ipython",
    "version": 3
   },
   "file_extension": ".py",
   "mimetype": "text/x-python",
   "name": "python",
   "nbconvert_exporter": "python",
   "pygments_lexer": "ipython3",
   "version": "3.11.5"
  }
 },
 "nbformat": 4,
 "nbformat_minor": 5
}
