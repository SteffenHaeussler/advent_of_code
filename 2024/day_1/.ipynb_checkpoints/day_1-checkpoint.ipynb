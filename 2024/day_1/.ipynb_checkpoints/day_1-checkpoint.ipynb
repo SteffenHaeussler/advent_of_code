{
 "cells": [
  {
   "cell_type": "markdown",
   "id": "c03f8395-cf49-40b5-9320-b13584d28bbb",
   "metadata": {},
   "source": [
    "## Day 1"
   ]
  },
  {
   "cell_type": "markdown",
   "id": "ab3b848f-c685-4664-9105-683480945450",
   "metadata": {},
   "source": [
    "### Test"
   ]
  },
  {
   "cell_type": "code",
   "execution_count": 128,
   "id": "4189a6ad-b2e3-4604-ad5d-dc1265053602",
   "metadata": {},
   "outputs": [],
   "source": [
    "test = \"\"\"3   4\n",
    "4   3\n",
    "2   5\n",
    "1   3\n",
    "3   9\n",
    "3   3\n",
    "\"\"\""
   ]
  },
  {
   "cell_type": "code",
   "execution_count": 129,
   "id": "9bf1689a-e4d5-4fcd-b124-9a4aa549cc57",
   "metadata": {},
   "outputs": [],
   "source": [
    "test = test.split(\"\\n\")[:-1]\n",
    "test = [i.split(\"   \") for i in test]\n",
    "\n",
    "list_1 = []\n",
    "list_2 = []\n",
    "\n",
    "for i,j in test:\n",
    "    list_1.append(int(i))\n",
    "    list_2.append(int(j))"
   ]
  },
  {
   "cell_type": "code",
   "execution_count": 130,
   "id": "eae3c42a-cc96-43d2-aa54-971643edf0dd",
   "metadata": {},
   "outputs": [],
   "source": [
    "list_1 = sorted(list_1)\n",
    "list_2 = sorted(list_2)"
   ]
  },
  {
   "cell_type": "code",
   "execution_count": 131,
   "id": "8eae2cea-ef44-4ef3-ba2b-c376574d9a0f",
   "metadata": {},
   "outputs": [],
   "source": [
    "distance = 0\n",
    "\n",
    "for i,j in zip(list_1, list_2):\n",
    "    distance += abs(i-j)"
   ]
  },
  {
   "cell_type": "code",
   "execution_count": 132,
   "id": "9bf5db9d-834a-456b-8979-2d35a32a2ee5",
   "metadata": {},
   "outputs": [],
   "source": [
    "distance = abs(sum(list_1)-sum(list_2))"
   ]
  },
  {
   "cell_type": "code",
   "execution_count": 133,
   "id": "afc45c5c-1bf1-45bf-97e8-1952c1aff61f",
   "metadata": {},
   "outputs": [],
   "source": [
    "assert distance == 11"
   ]
  },
  {
   "cell_type": "markdown",
   "id": "ddb05f18-315b-4275-8b19-d048a2a76db8",
   "metadata": {},
   "source": [
    "## Part 1"
   ]
  },
  {
   "cell_type": "code",
   "execution_count": 106,
   "id": "aa79a3e7-443e-464b-b58d-ed1a27df65da",
   "metadata": {},
   "outputs": [],
   "source": [
    "with open(\"../../../advent_of_code_input/2024/day_1/input.txt\", \"r\") as f:\n",
    "    data = f.read()"
   ]
  },
  {
   "cell_type": "code",
   "execution_count": 107,
   "id": "aacbcb4a-8ab0-4821-996d-bdec6841c537",
   "metadata": {},
   "outputs": [],
   "source": [
    "data = data.split(\"\\n\")[:-1]\n",
    "data = [i.split(\"   \") for i in data]\n",
    "\n",
    "list_1 = []\n",
    "list_2 = []\n",
    "\n",
    "for i,j in data:\n",
    "    list_1.append(int(i))\n",
    "    list_2.append(int(j))"
   ]
  },
  {
   "cell_type": "code",
   "execution_count": 126,
   "id": "173ef8c7-e731-4b50-9b30-96c73c1d3e15",
   "metadata": {},
   "outputs": [],
   "source": [
    "distance = 0\n",
    "\n",
    "for i,j in zip(sorted(list_1), sorted(list_2)):\n",
    "    distance += abs(i-j)"
   ]
  },
  {
   "cell_type": "code",
   "execution_count": 127,
   "id": "c28c407c-108f-4684-bb13-d684e310d0bf",
   "metadata": {},
   "outputs": [
    {
     "data": {
      "text/plain": [
       "765748"
      ]
     },
     "execution_count": 127,
     "metadata": {},
     "output_type": "execute_result"
    }
   ],
   "source": [
    "distance"
   ]
  },
  {
   "cell_type": "markdown",
   "id": "5802d117-28f3-428c-bb88-e5113254b0b2",
   "metadata": {},
   "source": [
    "## Part 2"
   ]
  },
  {
   "cell_type": "markdown",
   "id": "befe9a3f-3375-4ecc-8b48-618c114fda41",
   "metadata": {},
   "source": [
    "### Test"
   ]
  },
  {
   "cell_type": "code",
   "execution_count": 134,
   "id": "88a88a33-937c-4e5a-b092-41e2813356c8",
   "metadata": {},
   "outputs": [],
   "source": [
    "test = \"\"\"3   4\n",
    "4   3\n",
    "2   5\n",
    "1   3\n",
    "3   9\n",
    "3   3\n",
    "\"\"\""
   ]
  },
  {
   "cell_type": "code",
   "execution_count": 135,
   "id": "94bc27f8-9f1e-40ee-a4b1-2de1408804e7",
   "metadata": {},
   "outputs": [],
   "source": [
    "test = test.split(\"\\n\")[:-1]\n",
    "test = [i.split(\"   \") for i in test]\n",
    "\n",
    "list_1 = []\n",
    "list_2 = []\n",
    "\n",
    "for i,j in test:\n",
    "    list_1.append(int(i))\n",
    "    list_2.append(int(j))"
   ]
  },
  {
   "cell_type": "code",
   "execution_count": 136,
   "id": "2d9c06b8-365c-46dd-b1a8-bf0a59a5b9e8",
   "metadata": {},
   "outputs": [],
   "source": [
    "counter = {}\n",
    "\n",
    "for i in list_2:\n",
    "    counter[i] = counter.get(i,0)+1"
   ]
  },
  {
   "cell_type": "code",
   "execution_count": 137,
   "id": "48fbf4d1-72d6-4432-ac53-5f9903f4da81",
   "metadata": {},
   "outputs": [],
   "source": [
    "similiarity = 0\n",
    "\n",
    "for i in list_1:\n",
    "\n",
    "    multiplier = counter.get(i,0)\n",
    "    similiarity += multiplier*i"
   ]
  },
  {
   "cell_type": "code",
   "execution_count": 138,
   "id": "aa912063-2e7e-43f0-a94b-b698ca953bd5",
   "metadata": {},
   "outputs": [],
   "source": [
    "assert similiarity == 31"
   ]
  },
  {
   "cell_type": "code",
   "execution_count": 139,
   "id": "a722c6cf-b739-437c-8683-149169846e41",
   "metadata": {},
   "outputs": [],
   "source": [
    "with open(\"../../../advent_of_code_input/2024/day_1/input.txt\", \"r\") as f:\n",
    "    data = f.read()"
   ]
  },
  {
   "cell_type": "code",
   "execution_count": 140,
   "id": "f70a3ea5-a0a4-497b-897a-ced89b77bdfb",
   "metadata": {},
   "outputs": [],
   "source": [
    "data = data.split(\"\\n\")[:-1]\n",
    "data = [i.split(\"   \") for i in data]\n",
    "\n",
    "list_1 = []\n",
    "list_2 = []\n",
    "\n",
    "for i,j in data:\n",
    "    list_1.append(int(i))\n",
    "    list_2.append(int(j))"
   ]
  },
  {
   "cell_type": "code",
   "execution_count": 141,
   "id": "42a8f014-266d-4ab2-aa72-83ea3d47569f",
   "metadata": {},
   "outputs": [],
   "source": [
    "counter = {}\n",
    "\n",
    "for i in list_2:\n",
    "    counter[i] = counter.get(i,0)+1"
   ]
  },
  {
   "cell_type": "code",
   "execution_count": 142,
   "id": "1d97a85e-a1d3-4da7-ae24-0a87f944d3c6",
   "metadata": {},
   "outputs": [],
   "source": [
    "similiarity = 0\n",
    "\n",
    "for i in list_1:\n",
    "\n",
    "    multiplier = counter.get(i,0)\n",
    "    similiarity += multiplier*i"
   ]
  },
  {
   "cell_type": "code",
   "execution_count": 143,
   "id": "b5b7e0ce-5871-4880-bbc6-35d837a7a339",
   "metadata": {},
   "outputs": [
    {
     "data": {
      "text/plain": [
       "27732508"
      ]
     },
     "execution_count": 143,
     "metadata": {},
     "output_type": "execute_result"
    }
   ],
   "source": [
    "similiarity"
   ]
  },
  {
   "cell_type": "code",
   "execution_count": null,
   "id": "6a29356f-552f-4a36-97c7-7d2ca529d1c1",
   "metadata": {},
   "outputs": [],
   "source": []
  }
 ],
 "metadata": {
  "kernelspec": {
   "display_name": "Python 3 (ipykernel)",
   "language": "python",
   "name": "python3"
  },
  "language_info": {
   "codemirror_mode": {
    "name": "ipython",
    "version": 3
   },
   "file_extension": ".py",
   "mimetype": "text/x-python",
   "name": "python",
   "nbconvert_exporter": "python",
   "pygments_lexer": "ipython3",
   "version": "3.11.5"
  }
 },
 "nbformat": 4,
 "nbformat_minor": 5
}
