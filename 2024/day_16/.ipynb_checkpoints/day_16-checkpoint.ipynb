{
 "cells": [
  {
   "cell_type": "code",
   "execution_count": 1,
   "id": "f9cae198-6f0b-4e11-bf69-d3c33033944c",
   "metadata": {},
   "outputs": [],
   "source": [
    "from collections import deque"
   ]
  },
  {
   "cell_type": "markdown",
   "id": "471b2ae6-91d8-4d40-ad6e-7db9bc156f2d",
   "metadata": {},
   "source": [
    "## Day 16"
   ]
  },
  {
   "cell_type": "markdown",
   "id": "5b51460f-db5b-407e-86bd-3dd416a7c1a8",
   "metadata": {},
   "source": [
    "### Part 1"
   ]
  },
  {
   "cell_type": "markdown",
   "id": "6f4d44ad-18eb-4d23-9f8b-400646f87953",
   "metadata": {},
   "source": [
    "#### Test"
   ]
  },
  {
   "cell_type": "code",
   "execution_count": 2,
   "id": "ce944b0f-4eac-4aea-82d1-fba44b11834d",
   "metadata": {},
   "outputs": [],
   "source": [
    "test = \"\"\"###############\n",
    "#.......#....E#\n",
    "#.#.###.#.###.#\n",
    "#.....#.#...#.#\n",
    "#.###.#####.#.#\n",
    "#.#.#.......#.#\n",
    "#.#.#####.###.#\n",
    "#...........#.#\n",
    "###.#.#####.#.#\n",
    "#...#.....#.#.#\n",
    "#.#.#.###.#.#.#\n",
    "#.....#...#.#.#\n",
    "#.###.#.#.#.#.#\n",
    "#S..#.....#...#\n",
    "###############\"\"\"\n",
    "\n",
    "test = test.split(\"\\n\")"
   ]
  },
  {
   "cell_type": "code",
   "execution_count": 3,
   "id": "2edc7e8c-d00f-4418-a179-ce2fef3036e7",
   "metadata": {},
   "outputs": [
    {
     "data": {
      "text/plain": [
       "['###############',\n",
       " '#.......#....E#',\n",
       " '#.#.###.#.###.#',\n",
       " '#.....#.#...#.#',\n",
       " '#.###.#####.#.#',\n",
       " '#.#.#.......#.#',\n",
       " '#.#.#####.###.#',\n",
       " '#...........#.#',\n",
       " '###.#.#####.#.#',\n",
       " '#...#.....#.#.#',\n",
       " '#.#.#.###.#.#.#',\n",
       " '#.....#...#.#.#',\n",
       " '#.###.#.#.#.#.#',\n",
       " '#S..#.....#...#',\n",
       " '###############']"
      ]
     },
     "execution_count": 3,
     "metadata": {},
     "output_type": "execute_result"
    }
   ],
   "source": [
    "test"
   ]
  },
  {
   "cell_type": "code",
   "execution_count": 4,
   "id": "0c36e2da-afa5-4788-b9bd-0f535f3ee2ab",
   "metadata": {},
   "outputs": [],
   "source": [
    "directions = [(1,0),(0,1),(-1,0),(0,-1)]"
   ]
  },
  {
   "cell_type": "code",
   "execution_count": 5,
   "id": "cdafb27b-54b8-4a98-aad1-c2c0640f88a6",
   "metadata": {},
   "outputs": [],
   "source": [
    "def get_start(grid):\n",
    "    start = []\n",
    "    end = []\n",
    "\n",
    "    for row in range(len(grid)):\n",
    "        for col in range(len(grid[0])):\n",
    "            if grid[row][col] == \"S\":\n",
    "                start.extend([row,col])\n",
    "            if grid[row][col] == \"E\":\n",
    "                end.extend([row,col])                \n",
    "\n",
    "    return tuple(start), tuple(end)"
   ]
  },
  {
   "cell_type": "code",
   "execution_count": 6,
   "id": "ae713625-8f91-42ae-9ce4-eb2d321049a4",
   "metadata": {},
   "outputs": [],
   "source": [
    "def get_race_points(grid):\n",
    "\n",
    "    start, end = get_start(grid)\n",
    "\n",
    "    best_points = {}\n",
    "    \n",
    "    q = deque([[start, (0,1), 0]])\n",
    "    \n",
    "    while q:\n",
    "        pos, c_dir, points = q.popleft()\n",
    "\n",
    "        if points >= best_points.get(pos, float(\"inf\")):\n",
    "            continue\n",
    "\n",
    "        best_points[pos] = points\n",
    "        \n",
    "        for d_dir in directions:\n",
    "            next_row, next_col = pos[0]+d_dir[0], pos[1]+d_dir[1]\n",
    "\n",
    "            if (0 <= next_row < len(grid)) and (0 <= next_col < len(grid[0])) and (grid[next_row][next_col] != \"#\"):\n",
    "            \n",
    "                if c_dir == d_dir:\n",
    "                    update_points = points + 1\n",
    "                else:\n",
    "                    update_points = points + 1001    \n",
    "        \n",
    "                q.append([(next_row, next_col), d_dir, update_points])\n",
    "\n",
    "    return best_points[tuple(end)]"
   ]
  },
  {
   "cell_type": "code",
   "execution_count": 7,
   "id": "0d0cd850-c04d-44f4-ba4d-1875be385dbb",
   "metadata": {},
   "outputs": [],
   "source": [
    "result = get_race_points(test)"
   ]
  },
  {
   "cell_type": "code",
   "execution_count": 8,
   "id": "f15dd6da-e999-485d-bfbd-a0773dfd34b2",
   "metadata": {},
   "outputs": [],
   "source": [
    "assert result == 7036"
   ]
  },
  {
   "cell_type": "code",
   "execution_count": 9,
   "id": "a5a3c90c-76fe-4f4e-bed4-e016d5b42f0a",
   "metadata": {},
   "outputs": [],
   "source": [
    "test2 = \"\"\"#################\n",
    "#...#...#...#..E#\n",
    "#.#.#.#.#.#.#.#.#\n",
    "#.#.#.#...#...#.#\n",
    "#.#.#.#.###.#.#.#\n",
    "#...#.#.#.....#.#\n",
    "#.#.#.#.#.#####.#\n",
    "#.#...#.#.#.....#\n",
    "#.#.#####.#.###.#\n",
    "#.#.#.......#...#\n",
    "#.#.###.#####.###\n",
    "#.#.#...#.....#.#\n",
    "#.#.#.#####.###.#\n",
    "#.#.#.........#.#\n",
    "#.#.#.#########.#\n",
    "#S#.............#\n",
    "#################\"\"\"\n",
    "\n",
    "test2 = test2.split(\"\\n\")"
   ]
  },
  {
   "cell_type": "code",
   "execution_count": 10,
   "id": "9cd0505c-2f6f-486f-a727-2cd5b5a70e1b",
   "metadata": {},
   "outputs": [],
   "source": [
    "result = get_race_points(test2)"
   ]
  },
  {
   "cell_type": "code",
   "execution_count": 11,
   "id": "7cfc5854-f038-40d5-b58c-884b3a8a68ce",
   "metadata": {},
   "outputs": [],
   "source": [
    "assert result == 11048"
   ]
  },
  {
   "cell_type": "markdown",
   "id": "5f62c58f-8445-4cd8-9c06-70c43513f097",
   "metadata": {},
   "source": [
    "## Task"
   ]
  },
  {
   "cell_type": "code",
   "execution_count": 12,
   "id": "140d8f7b-0c45-476a-a66a-0138faef6328",
   "metadata": {},
   "outputs": [],
   "source": [
    "with open(\"../../../advent_of_code_input/2024/day_16/input.txt\", \"r\") as f:\n",
    "    data = f.read()\n",
    "\n",
    "data = data[:-1].split(\"\\n\")"
   ]
  },
  {
   "cell_type": "code",
   "execution_count": 13,
   "id": "0fb6da6a-cede-4b66-a2bf-f0d51e687f7e",
   "metadata": {},
   "outputs": [],
   "source": [
    "result = get_race_points(data)"
   ]
  },
  {
   "cell_type": "code",
   "execution_count": 14,
   "id": "6b064553-5504-4e8a-8860-06d86422b181",
   "metadata": {},
   "outputs": [
    {
     "data": {
      "text/plain": [
       "94436"
      ]
     },
     "execution_count": 14,
     "metadata": {},
     "output_type": "execute_result"
    }
   ],
   "source": [
    "result"
   ]
  },
  {
   "cell_type": "markdown",
   "id": "15174143-7453-48ba-b8c2-f20b70056ad5",
   "metadata": {},
   "source": [
    "## Part 2"
   ]
  },
  {
   "cell_type": "markdown",
   "id": "ec5088b8-fdd0-4982-8781-72a025b6c462",
   "metadata": {},
   "source": [
    "#### Test"
   ]
  },
  {
   "cell_type": "code",
   "execution_count": 15,
   "id": "fd9ae039-570e-495e-8c22-e0badb444c9e",
   "metadata": {},
   "outputs": [],
   "source": [
    "test = \"\"\"###############\n",
    "#.......#....E#\n",
    "#.#.###.#.###.#\n",
    "#.....#.#...#.#\n",
    "#.###.#####.#.#\n",
    "#.#.#.......#.#\n",
    "#.#.#####.###.#\n",
    "#...........#.#\n",
    "###.#.#####.#.#\n",
    "#...#.....#.#.#\n",
    "#.#.#.###.#.#.#\n",
    "#.....#...#.#.#\n",
    "#.###.#.#.#.#.#\n",
    "#S..#.....#...#\n",
    "###############\"\"\"\n",
    "\n",
    "test = test.split(\"\\n\")"
   ]
  },
  {
   "cell_type": "code",
   "execution_count": 16,
   "id": "09c90908-c77c-4307-9ed9-b5e475770b57",
   "metadata": {},
   "outputs": [],
   "source": [
    "def get_seats(grid):\n",
    "    start, end = get_start(grid)\n",
    "\n",
    "    q = deque([(start, (0,1), 0, [])])\n",
    "    best_points = {}\n",
    "    best_point = float(\"inf\")\n",
    "    best_seats = {}\n",
    "\n",
    "    while q:\n",
    "        pos, c_dir, points, path = q.popleft()\n",
    "\n",
    "        if pos == end:\n",
    "            if points <= best_point:\n",
    "                best_point = points\n",
    "                if best_point not in best_seats:\n",
    "                    best_seats[best_point] = set()\n",
    "                best_seats[best_point].update(path)\n",
    "\n",
    "        if best_points.get((pos, c_dir), float(\"inf\")) < points:\n",
    "            continue\n",
    "\n",
    "        best_points[(pos, c_dir)] = points\n",
    "\n",
    "        for d_dir in directions:\n",
    "            next_row, next_col = pos[0] + d_dir[0], pos[1] + d_dir[1]\n",
    "            if (\n",
    "                0 <= next_row < len(grid)\n",
    "                and 0 <= next_col < len(grid[0])\n",
    "                and grid[next_row][next_col] != \"#\"\n",
    "            ):\n",
    "                            \n",
    "                if c_dir == d_dir:\n",
    "                    update_points = points + 1\n",
    "                else:\n",
    "                    update_points = points + 1001    \n",
    "\n",
    "                q.append([(next_row, next_col), d_dir, update_points, path + [pos]])\n",
    "    \n",
    "\n",
    "    return len(best_seats[best_point]) + 1"
   ]
  },
  {
   "cell_type": "code",
   "execution_count": 17,
   "id": "7d4c9cd4-c677-4af7-aabb-201659511640",
   "metadata": {},
   "outputs": [],
   "source": [
    "result = get_seats(test)"
   ]
  },
  {
   "cell_type": "code",
   "execution_count": 18,
   "id": "9f96c71c-b3c6-4b18-9bd7-f05e695ec9fc",
   "metadata": {},
   "outputs": [],
   "source": [
    "assert result == 45"
   ]
  },
  {
   "cell_type": "code",
   "execution_count": 19,
   "id": "0fd51c9a-7a0c-4987-8b3e-cafb3404135a",
   "metadata": {},
   "outputs": [],
   "source": [
    "test2 = \"\"\"#################\n",
    "#...#...#...#..E#\n",
    "#.#.#.#.#.#.#.#.#\n",
    "#.#.#.#...#...#.#\n",
    "#.#.#.#.###.#.#.#\n",
    "#...#.#.#.....#.#\n",
    "#.#.#.#.#.#####.#\n",
    "#.#...#.#.#.....#\n",
    "#.#.#####.#.###.#\n",
    "#.#.#.......#...#\n",
    "#.#.###.#####.###\n",
    "#.#.#...#.....#.#\n",
    "#.#.#.#####.###.#\n",
    "#.#.#.........#.#\n",
    "#.#.#.#########.#\n",
    "#S#.............#\n",
    "#################\"\"\"\n",
    "\n",
    "test2 = test2.split(\"\\n\")"
   ]
  },
  {
   "cell_type": "code",
   "execution_count": 20,
   "id": "7b7e5cbe-903e-4b74-bc16-9f37f534f04d",
   "metadata": {},
   "outputs": [],
   "source": [
    "result = get_seats(test2)"
   ]
  },
  {
   "cell_type": "code",
   "execution_count": 21,
   "id": "80b824d9-ed08-48d2-8ae1-b4540cf080f5",
   "metadata": {},
   "outputs": [],
   "source": [
    "assert result == 64"
   ]
  },
  {
   "cell_type": "markdown",
   "id": "7deb1a43-fb6c-4baf-a859-13b2bebffd22",
   "metadata": {},
   "source": [
    "## Task"
   ]
  },
  {
   "cell_type": "code",
   "execution_count": 22,
   "id": "87abd377-e2b5-4422-ab23-09fa0b0cf192",
   "metadata": {},
   "outputs": [],
   "source": [
    "with open(\"../../../advent_of_code_input/2024/day_16/input.txt\", \"r\") as f:\n",
    "    data = f.read()\n",
    "\n",
    "data = data[:-1].split(\"\\n\")"
   ]
  },
  {
   "cell_type": "code",
   "execution_count": 23,
   "id": "c89c810c-4f0e-42d0-b068-a8dc7ff9ddaa",
   "metadata": {},
   "outputs": [],
   "source": [
    "result = get_seats(data)"
   ]
  },
  {
   "cell_type": "code",
   "execution_count": 24,
   "id": "f41b2704-653e-45df-9b1b-ad9e247aca3f",
   "metadata": {},
   "outputs": [
    {
     "data": {
      "text/plain": [
       "481"
      ]
     },
     "execution_count": 24,
     "metadata": {},
     "output_type": "execute_result"
    }
   ],
   "source": [
    "result\n"
   ]
  }
 ],
 "metadata": {
  "kernelspec": {
   "display_name": "Python 3 (ipykernel)",
   "language": "python",
   "name": "python3"
  },
  "language_info": {
   "codemirror_mode": {
    "name": "ipython",
    "version": 3
   },
   "file_extension": ".py",
   "mimetype": "text/x-python",
   "name": "python",
   "nbconvert_exporter": "python",
   "pygments_lexer": "ipython3",
   "version": "3.11.5"
  }
 },
 "nbformat": 4,
 "nbformat_minor": 5
}
