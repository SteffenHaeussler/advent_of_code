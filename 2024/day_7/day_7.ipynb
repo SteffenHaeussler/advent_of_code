{
 "cells": [
  {
   "cell_type": "code",
   "execution_count": 1,
   "id": "abe5be59-7da6-457b-9e30-e7a8f19c8e2e",
   "metadata": {},
   "outputs": [],
   "source": [
    "from operator import add, mul\n",
    "import re"
   ]
  },
  {
   "cell_type": "markdown",
   "id": "471b2ae6-91d8-4d40-ad6e-7db9bc156f2d",
   "metadata": {},
   "source": [
    "## Day 7"
   ]
  },
  {
   "cell_type": "markdown",
   "id": "5b51460f-db5b-407e-86bd-3dd416a7c1a8",
   "metadata": {},
   "source": [
    "### Part 1"
   ]
  },
  {
   "cell_type": "markdown",
   "id": "6f4d44ad-18eb-4d23-9f8b-400646f87953",
   "metadata": {},
   "source": [
    "#### Test"
   ]
  },
  {
   "cell_type": "code",
   "execution_count": 2,
   "id": "ce944b0f-4eac-4aea-82d1-fba44b11834d",
   "metadata": {},
   "outputs": [],
   "source": [
    "test = \"\"\"190: 10 19\n",
    "3267: 81 40 27\n",
    "83: 17 5\n",
    "156: 15 6\n",
    "7290: 6 8 6 15\n",
    "161011: 16 10 13\n",
    "192: 17 8 14\n",
    "21037: 9 7 18 13\n",
    "292: 11 6 16 20\"\"\""
   ]
  },
  {
   "cell_type": "code",
   "execution_count": 3,
   "id": "cfd871f4-1dc7-4fc7-964b-5cc95d403b3e",
   "metadata": {},
   "outputs": [],
   "source": [
    "test = test.split(\"\\n\")\n",
    "test = [list(map(int,re.findall(r'\\d+', i))) for i in test]"
   ]
  },
  {
   "cell_type": "code",
   "execution_count": 4,
   "id": "bbae3540-4ffb-4c95-a399-ebf039ef4884",
   "metadata": {},
   "outputs": [],
   "source": [
    "def solve(nums, ops):\n",
    "    if len(nums) == 2:\n",
    "        return nums[0] == nums[1]\n",
    "\n",
    "    total, a, b, *rest = nums\n",
    "    for op in ops:\n",
    "        if solve([total, op(a, b)] + rest, ops):\n",
    "            return total\n",
    "    return 0"
   ]
  },
  {
   "cell_type": "code",
   "execution_count": 5,
   "id": "58012bab-317c-4748-abb0-0c6ce166d75b",
   "metadata": {},
   "outputs": [],
   "source": [
    "result = [solve(nums, [add, mul]) for nums in test]"
   ]
  },
  {
   "cell_type": "code",
   "execution_count": 6,
   "id": "0569bfbf-e003-4609-bcf6-280096c0ea13",
   "metadata": {},
   "outputs": [],
   "source": [
    "assert sum(result) == 3749"
   ]
  },
  {
   "cell_type": "markdown",
   "id": "5f62c58f-8445-4cd8-9c06-70c43513f097",
   "metadata": {},
   "source": [
    "#### Task"
   ]
  },
  {
   "cell_type": "code",
   "execution_count": 7,
   "id": "7dc9a1c5-ae81-4ebe-bde4-b0268e3cb1e6",
   "metadata": {},
   "outputs": [],
   "source": [
    "with open(\"../../../advent_of_code_input/2024/day_7/input.txt\", \"r\") as f:\n",
    "    data = f.read()"
   ]
  },
  {
   "cell_type": "code",
   "execution_count": 8,
   "id": "0e692e53-e52a-4d4f-9ea5-b299033a5b49",
   "metadata": {},
   "outputs": [],
   "source": [
    "data = data[:-1].split(\"\\n\")\n",
    "data = [list(map(int,re.findall(r'\\d+', i))) for i in data]"
   ]
  },
  {
   "cell_type": "code",
   "execution_count": 9,
   "id": "d79fcd97-bf0d-4275-951c-6613c8b5085f",
   "metadata": {},
   "outputs": [],
   "source": [
    "result = [solve(nums, [add, mul]) for nums in data]"
   ]
  },
  {
   "cell_type": "code",
   "execution_count": 10,
   "id": "9c30c493-465e-4feb-b188-6f60105a3580",
   "metadata": {},
   "outputs": [
    {
     "data": {
      "text/plain": [
       "2501605301465"
      ]
     },
     "execution_count": 10,
     "metadata": {},
     "output_type": "execute_result"
    }
   ],
   "source": [
    "sum(result)"
   ]
  },
  {
   "cell_type": "markdown",
   "id": "15174143-7453-48ba-b8c2-f20b70056ad5",
   "metadata": {},
   "source": [
    "## Part 2"
   ]
  },
  {
   "cell_type": "markdown",
   "id": "ec5088b8-fdd0-4982-8781-72a025b6c462",
   "metadata": {},
   "source": [
    "#### Test"
   ]
  },
  {
   "cell_type": "code",
   "execution_count": 11,
   "id": "74994a75-061a-4ffc-90a5-831e742d7b9d",
   "metadata": {},
   "outputs": [],
   "source": [
    "test = \"\"\"190: 10 19\n",
    "3267: 81 40 27\n",
    "83: 17 5\n",
    "156: 15 6\n",
    "7290: 6 8 6 15\n",
    "161011: 16 10 13\n",
    "192: 17 8 14\n",
    "21037: 9 7 18 13\n",
    "292: 11 6 16 20\"\"\""
   ]
  },
  {
   "cell_type": "code",
   "execution_count": 12,
   "id": "eddb4ff7-0bb8-4f34-9778-225dbcedbd24",
   "metadata": {},
   "outputs": [],
   "source": [
    "test = test.split(\"\\n\")\n",
    "test = [list(map(int,re.findall(r'\\d+', i))) for i in test]"
   ]
  },
  {
   "cell_type": "code",
   "execution_count": 13,
   "id": "18580462-7d74-4c89-843e-457724add6ec",
   "metadata": {},
   "outputs": [],
   "source": [
    "def cat(x,y):\n",
    "    return int(str(x)+str(y))"
   ]
  },
  {
   "cell_type": "code",
   "execution_count": 14,
   "id": "0ab8d1ef-5e7c-4243-959a-15b9f63d2b7f",
   "metadata": {},
   "outputs": [],
   "source": [
    "result = [solve(nums, [add, mul, cat]) for nums in test]"
   ]
  },
  {
   "cell_type": "code",
   "execution_count": 15,
   "id": "dc1ffdde-2139-435b-98c1-f7a82667a161",
   "metadata": {},
   "outputs": [],
   "source": [
    "assert sum(result) == 11387"
   ]
  },
  {
   "cell_type": "markdown",
   "id": "f8fbc5a9-b157-4880-91dd-aa97ec69d1ec",
   "metadata": {},
   "source": [
    "## Task"
   ]
  },
  {
   "cell_type": "code",
   "execution_count": 16,
   "id": "0af2da26-4a52-4da3-bb61-5ae3caf5fb31",
   "metadata": {},
   "outputs": [],
   "source": [
    "with open(\"../../../advent_of_code_input/2024/day_7/input.txt\", \"r\") as f:\n",
    "    data = f.read()"
   ]
  },
  {
   "cell_type": "code",
   "execution_count": 17,
   "id": "c7b337ec-5ec6-450c-89ce-3a164366bd87",
   "metadata": {},
   "outputs": [],
   "source": [
    "data = data[:-1].split(\"\\n\")\n",
    "data = [list(map(int,re.findall(r'\\d+', i))) for i in data]"
   ]
  },
  {
   "cell_type": "code",
   "execution_count": 18,
   "id": "97ddde0b-8fb8-49e3-97ce-c391fbd76a15",
   "metadata": {},
   "outputs": [],
   "source": [
    "result = [solve(nums, [add, mul, cat]) for nums in data]"
   ]
  },
  {
   "cell_type": "code",
   "execution_count": 19,
   "id": "13062d73-a26e-4eef-81b2-db0ad51241da",
   "metadata": {},
   "outputs": [
    {
     "data": {
      "text/plain": [
       "44841372855953"
      ]
     },
     "execution_count": 19,
     "metadata": {},
     "output_type": "execute_result"
    }
   ],
   "source": [
    "sum(result)"
   ]
  },
  {
   "cell_type": "code",
   "execution_count": null,
   "id": "0250ab73-7cd1-4a46-bb0f-07367586f783",
   "metadata": {},
   "outputs": [],
   "source": []
  }
 ],
 "metadata": {
  "kernelspec": {
   "display_name": "Python 3 (ipykernel)",
   "language": "python",
   "name": "python3"
  },
  "language_info": {
   "codemirror_mode": {
    "name": "ipython",
    "version": 3
   },
   "file_extension": ".py",
   "mimetype": "text/x-python",
   "name": "python",
   "nbconvert_exporter": "python",
   "pygments_lexer": "ipython3",
   "version": "3.11.5"
  }
 },
 "nbformat": 4,
 "nbformat_minor": 5
}
