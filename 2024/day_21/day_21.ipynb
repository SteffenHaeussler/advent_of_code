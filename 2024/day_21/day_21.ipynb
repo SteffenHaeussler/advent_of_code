{
 "cells": [
  {
   "cell_type": "code",
   "execution_count": 1,
   "id": "052a714e-b388-4cad-86c1-b985a57957ef",
   "metadata": {},
   "outputs": [],
   "source": [
    "from collections import Counter"
   ]
  },
  {
   "cell_type": "markdown",
   "id": "b11a7f2c-f57d-4fbe-9f7f-ed1de3c44a21",
   "metadata": {},
   "source": [
    "following this solution [here](https://www.reddit.com/r/adventofcode/comments/1hj2odw/comment/m33uf55/?utm_source=share&utm_medium=web3x&utm_name=web3xcss&utm_term=1&utm_content=share_button)"
   ]
  },
  {
   "cell_type": "markdown",
   "id": "471b2ae6-91d8-4d40-ad6e-7db9bc156f2d",
   "metadata": {},
   "source": [
    "## Day 21"
   ]
  },
  {
   "cell_type": "markdown",
   "id": "5b51460f-db5b-407e-86bd-3dd416a7c1a8",
   "metadata": {},
   "source": [
    "### Part 1"
   ]
  },
  {
   "cell_type": "markdown",
   "id": "6f4d44ad-18eb-4d23-9f8b-400646f87953",
   "metadata": {},
   "source": [
    "#### Test"
   ]
  },
  {
   "cell_type": "code",
   "execution_count": 2,
   "id": "7a643b23-1564-432c-a5c4-921d903c8292",
   "metadata": {},
   "outputs": [],
   "source": [
    "keys = {c: (i % 3, i // 3) for i, c in enumerate(\"789456123 0A\")}\n",
    "direction = {chr: (i % 3, i // 3) for i, chr in enumerate(\" ^A<v>\")}"
   ]
  },
  {
   "cell_type": "code",
   "execution_count": 3,
   "id": "ce944b0f-4eac-4aea-82d1-fba44b11834d",
   "metadata": {},
   "outputs": [],
   "source": [
    "test = \"\"\"029A\n",
    "980A\n",
    "179A\n",
    "456A\n",
    "379A\"\"\"\n",
    "\n",
    "test = test.split(\"\\n\")"
   ]
  },
  {
   "cell_type": "code",
   "execution_count": 4,
   "id": "816c7484-5bb5-4eea-ba97-58d6c81a5907",
   "metadata": {},
   "outputs": [],
   "source": [
    "def get_steps(keys, code, n=1):\n",
    "    cnt = Counter()\n",
    "\n",
    "    cur_x, cur_y = keys[\"A\"]\n",
    "    bx, by = keys[\" \"]\n",
    "    for c in code:\n",
    "        new_x, new_y = keys[c]\n",
    "        flag = new_x == bx and cur_y == by or new_y == by and cur_x == bx\n",
    "        cnt[(new_x - cur_x, new_y - cur_y, flag)] += n\n",
    "        cur_x, cur_y = new_x, new_y\n",
    "\n",
    "    return cnt\n",
    "\n",
    "def get_results(codes, n_robots):\n",
    "    result = 0\n",
    "    for code in codes:\n",
    "        steps = get_steps(keys, code)\n",
    "        for _ in range(n_robots + 1):\n",
    "            steps = sum((get_steps(direction, (\"<\" * -x + \"v\" * y + \"^\" * -y + \">\" * x)[:: -1 if flag else 1] + \"A\", value) for (x, y, flag), value in steps.items()), Counter())\n",
    "        result += steps.total() * int(code[:3])\n",
    "    return result"
   ]
  },
  {
   "cell_type": "code",
   "execution_count": 5,
   "id": "a47cb3f9-767f-452c-a0dd-6e1a559506a9",
   "metadata": {},
   "outputs": [],
   "source": [
    "result = get_results(test, 2)"
   ]
  },
  {
   "cell_type": "code",
   "execution_count": 6,
   "id": "6c48b473-61ea-4146-9713-c4573bc856a0",
   "metadata": {},
   "outputs": [],
   "source": [
    "assert result == 126384"
   ]
  },
  {
   "cell_type": "code",
   "execution_count": 7,
   "id": "9f6eae76-3c23-45d3-91d5-6cc56be793c2",
   "metadata": {},
   "outputs": [
    {
     "name": "stdout",
     "output_type": "stream",
     "text": [
      "126384\n"
     ]
    }
   ],
   "source": [
    "\n",
    "keyp = {c: (i % 3, i // 3) for i, c in enumerate(\"789456123 0A\")}\n",
    "dirp = {c: (i % 3, i // 3) for i, c in enumerate(\" ^A<v>\")}\n",
    "\n",
    "\n",
    "def steps(G, s, i=1):\n",
    "    px, py = G[\"A\"]\n",
    "    bx, by = G[\" \"]\n",
    "    res = Counter()\n",
    "    for c in s:\n",
    "        npx, npy = G[c]\n",
    "        f = npx == bx and py == by or npy == by and px == bx\n",
    "        res[(npx - px, npy - py, f)] += i\n",
    "        px, py = npx, npy\n",
    "    return res\n",
    "\n",
    "\n",
    "def go(n):\n",
    "    r = 0\n",
    "    for code in test:\n",
    "        res = steps(keyp, code)\n",
    "        for _ in range(n + 1):\n",
    "            res = sum((steps(dirp, (\"<\" * -x + \"v\" * y + \"^\" * -y + \">\" * x)[:: -1 if f else 1] + \"A\", res[(x, y, f)]) for x, y, f in res), Counter())\n",
    "        r += res.total() * int(code[:3])\n",
    "    return r\n",
    "\n",
    "\n",
    "print(go(2))\n"
   ]
  },
  {
   "cell_type": "markdown",
   "id": "5f62c58f-8445-4cd8-9c06-70c43513f097",
   "metadata": {},
   "source": [
    "## Task"
   ]
  },
  {
   "cell_type": "code",
   "execution_count": 8,
   "id": "140d8f7b-0c45-476a-a66a-0138faef6328",
   "metadata": {},
   "outputs": [],
   "source": [
    "with open(\"../../../advent_of_code_input/2024/day_21/input.txt\", \"r\") as f:\n",
    "    data = f.read()\n",
    "\n",
    "data = data[:-1].split(\"\\n\")"
   ]
  },
  {
   "cell_type": "code",
   "execution_count": 9,
   "id": "25a4d566-efcb-47a8-992c-2f66f480b693",
   "metadata": {},
   "outputs": [],
   "source": [
    "result = get_results(data, 2)"
   ]
  },
  {
   "cell_type": "code",
   "execution_count": 10,
   "id": "1608aa2c-d547-4b44-944f-67522807f94c",
   "metadata": {},
   "outputs": [
    {
     "data": {
      "text/plain": [
       "219254"
      ]
     },
     "execution_count": 10,
     "metadata": {},
     "output_type": "execute_result"
    }
   ],
   "source": [
    "result"
   ]
  },
  {
   "cell_type": "markdown",
   "id": "15174143-7453-48ba-b8c2-f20b70056ad5",
   "metadata": {},
   "source": [
    "## Part 2"
   ]
  },
  {
   "cell_type": "markdown",
   "id": "ec5088b8-fdd0-4982-8781-72a025b6c462",
   "metadata": {},
   "source": [
    "#### Test"
   ]
  },
  {
   "cell_type": "code",
   "execution_count": 11,
   "id": "fd9ae039-570e-495e-8c22-e0badb444c9e",
   "metadata": {},
   "outputs": [],
   "source": [
    "test = \"\"\"029A\n",
    "980A\n",
    "179A\n",
    "456A\n",
    "379A\"\"\"\n",
    "\n",
    "test = test.split(\"\\n\")"
   ]
  },
  {
   "cell_type": "code",
   "execution_count": 12,
   "id": "07caa7cc-fe81-43be-9a8f-849b9049bdee",
   "metadata": {},
   "outputs": [],
   "source": [
    "result = get_results(test, 25)"
   ]
  },
  {
   "cell_type": "code",
   "execution_count": 13,
   "id": "ff049185-f0d5-49c9-923d-6b072af478b8",
   "metadata": {},
   "outputs": [
    {
     "data": {
      "text/plain": [
       "154115708116294"
      ]
     },
     "execution_count": 13,
     "metadata": {},
     "output_type": "execute_result"
    }
   ],
   "source": [
    "result"
   ]
  },
  {
   "cell_type": "markdown",
   "id": "7deb1a43-fb6c-4baf-a859-13b2bebffd22",
   "metadata": {},
   "source": [
    "## Task"
   ]
  },
  {
   "cell_type": "code",
   "execution_count": 14,
   "id": "87abd377-e2b5-4422-ab23-09fa0b0cf192",
   "metadata": {},
   "outputs": [],
   "source": [
    "with open(\"../../../advent_of_code_input/2024/day_21/input.txt\", \"r\") as f:\n",
    "    data = f.read()\n",
    "\n",
    "data = data[:-1].split(\"\\n\")"
   ]
  },
  {
   "cell_type": "code",
   "execution_count": 15,
   "id": "c89c810c-4f0e-42d0-b068-a8dc7ff9ddaa",
   "metadata": {},
   "outputs": [],
   "source": [
    "result = get_results(data, 25)"
   ]
  },
  {
   "cell_type": "code",
   "execution_count": 16,
   "id": "1f1ed6a2-cbd6-46e2-978e-2d10ef6e8853",
   "metadata": {},
   "outputs": [
    {
     "data": {
      "text/plain": [
       "264518225304496"
      ]
     },
     "execution_count": 16,
     "metadata": {},
     "output_type": "execute_result"
    }
   ],
   "source": [
    "result"
   ]
  }
 ],
 "metadata": {
  "kernelspec": {
   "display_name": "Python 3 (ipykernel)",
   "language": "python",
   "name": "python3"
  },
  "language_info": {
   "codemirror_mode": {
    "name": "ipython",
    "version": 3
   },
   "file_extension": ".py",
   "mimetype": "text/x-python",
   "name": "python",
   "nbconvert_exporter": "python",
   "pygments_lexer": "ipython3",
   "version": "3.11.5"
  }
 },
 "nbformat": 4,
 "nbformat_minor": 5
}
