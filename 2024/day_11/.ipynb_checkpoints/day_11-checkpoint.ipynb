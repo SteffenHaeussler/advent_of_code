{
 "cells": [
  {
   "cell_type": "code",
   "execution_count": 1,
   "id": "56efcc01-4c31-4f0e-838a-72b97871c672",
   "metadata": {},
   "outputs": [],
   "source": [
    "from collections import Counter"
   ]
  },
  {
   "cell_type": "markdown",
   "id": "471b2ae6-91d8-4d40-ad6e-7db9bc156f2d",
   "metadata": {},
   "source": [
    "## Day 11"
   ]
  },
  {
   "cell_type": "markdown",
   "id": "5b51460f-db5b-407e-86bd-3dd416a7c1a8",
   "metadata": {},
   "source": [
    "### Part 1"
   ]
  },
  {
   "cell_type": "markdown",
   "id": "6f4d44ad-18eb-4d23-9f8b-400646f87953",
   "metadata": {},
   "source": [
    "#### Test"
   ]
  },
  {
   "cell_type": "code",
   "execution_count": 2,
   "id": "ce944b0f-4eac-4aea-82d1-fba44b11834d",
   "metadata": {},
   "outputs": [],
   "source": [
    "test = \"\"\"125 17\"\"\"\n",
    "test = test.split(\" \")"
   ]
  },
  {
   "cell_type": "code",
   "execution_count": 3,
   "id": "661ffcf3-9bcf-42df-a1ad-d5f033fc3405",
   "metadata": {},
   "outputs": [],
   "source": [
    "def apply_rules(lst):\n",
    "    \n",
    "    new  = []\n",
    "    \n",
    "    for x in lst:\n",
    "\n",
    "        if x == \"0\":\n",
    "            new.append(\"1\")\n",
    "            continue\n",
    "\n",
    "        elif len(x) % 2 == 0:\n",
    "            split = len(x)//2\n",
    "            x_l, x_r = x[:split], x[split:]\n",
    "\n",
    "            x_r = str(int(x_r))\n",
    "\n",
    "            new.append(x_l)\n",
    "            new.append(x_r)\n",
    "    \n",
    "        else:\n",
    "    \n",
    "            x = str(int(x)*2024)\n",
    "            new.append(x)\n",
    "        \n",
    "    return new"
   ]
  },
  {
   "cell_type": "code",
   "execution_count": 4,
   "id": "94a369b7-9a2a-4a5c-8c1e-3b51601a091e",
   "metadata": {},
   "outputs": [],
   "source": [
    "for _ in range(25):\n",
    "    test = apply_rules(i for i in test)"
   ]
  },
  {
   "cell_type": "code",
   "execution_count": 5,
   "id": "2d1f2b9f-9934-49cc-88d8-338da4691cd7",
   "metadata": {},
   "outputs": [],
   "source": [
    "result = len(test)"
   ]
  },
  {
   "cell_type": "code",
   "execution_count": 6,
   "id": "b6271af3-b678-411c-a336-90aeea94cd4b",
   "metadata": {},
   "outputs": [],
   "source": [
    "assert result == 55312"
   ]
  },
  {
   "cell_type": "markdown",
   "id": "5f62c58f-8445-4cd8-9c06-70c43513f097",
   "metadata": {},
   "source": [
    "#### Task"
   ]
  },
  {
   "cell_type": "code",
   "execution_count": 7,
   "id": "140d8f7b-0c45-476a-a66a-0138faef6328",
   "metadata": {},
   "outputs": [],
   "source": [
    "with open(\"../../../advent_of_code_input/2024/day_11/input.txt\", \"r\") as f:\n",
    "    data = f.read()\n",
    "\n",
    "data = data[:-1].split(\"\\n\")[0]\n",
    "data = data.split(\" \")"
   ]
  },
  {
   "cell_type": "code",
   "execution_count": 8,
   "id": "d9280223-5768-4fa4-ac7d-7701a13d6ebd",
   "metadata": {},
   "outputs": [],
   "source": [
    "for _ in range(25):\n",
    "    data = apply_rules(i for i in data)"
   ]
  },
  {
   "cell_type": "code",
   "execution_count": 9,
   "id": "0fb6da6a-cede-4b66-a2bf-f0d51e687f7e",
   "metadata": {},
   "outputs": [],
   "source": [
    "result = len(data)"
   ]
  },
  {
   "cell_type": "code",
   "execution_count": 10,
   "id": "1e49b07b-c192-49a9-98da-cc3235633827",
   "metadata": {},
   "outputs": [
    {
     "data": {
      "text/plain": [
       "193607"
      ]
     },
     "execution_count": 10,
     "metadata": {},
     "output_type": "execute_result"
    }
   ],
   "source": [
    "result"
   ]
  },
  {
   "cell_type": "markdown",
   "id": "15174143-7453-48ba-b8c2-f20b70056ad5",
   "metadata": {},
   "source": [
    "## Part 2"
   ]
  },
  {
   "cell_type": "code",
   "execution_count": 11,
   "id": "abffe1bf-c044-44cf-ad26-1d6b284d3b37",
   "metadata": {},
   "outputs": [],
   "source": [
    "test = \"\"\"125 17\"\"\"\n",
    "test = test.split(\" \")"
   ]
  },
  {
   "cell_type": "code",
   "execution_count": 12,
   "id": "4ee42a35-f56d-4ae9-8aa1-45fe74ec7e9c",
   "metadata": {},
   "outputs": [],
   "source": [
    "counter = Counter(test)\n",
    "\n",
    "for _ in range(0, 25):\n",
    "    new_results = {}\n",
    "    for number, count in counter.items():\n",
    "        results = apply_rules([number])\n",
    "        for r in results:\n",
    "             new_results[r] = new_results.get(r,0)+count\n",
    "    counter = new_results\n"
   ]
  },
  {
   "cell_type": "code",
   "execution_count": 13,
   "id": "a7349abb-4837-428d-be4e-85d22a3bb6fc",
   "metadata": {},
   "outputs": [],
   "source": [
    "result = 0\n",
    "for _, count in counter.items():\n",
    "    result += count"
   ]
  },
  {
   "cell_type": "code",
   "execution_count": 14,
   "id": "4ac13ea5-42f3-4ba8-955d-153aba9d7eab",
   "metadata": {},
   "outputs": [],
   "source": [
    "assert result == 55312"
   ]
  },
  {
   "cell_type": "markdown",
   "id": "7deb1a43-fb6c-4baf-a859-13b2bebffd22",
   "metadata": {},
   "source": [
    "## Task"
   ]
  },
  {
   "cell_type": "code",
   "execution_count": 15,
   "id": "87abd377-e2b5-4422-ab23-09fa0b0cf192",
   "metadata": {},
   "outputs": [],
   "source": [
    "with open(\"../../../advent_of_code_input/2024/day_11/input.txt\", \"r\") as f:\n",
    "    data = f.read()\n",
    "\n",
    "data = data[:-1].split(\"\\n\")[0]\n",
    "data = data.split(\" \")"
   ]
  },
  {
   "cell_type": "code",
   "execution_count": 16,
   "id": "6d383c58-036b-4241-b417-9a77e18907ca",
   "metadata": {},
   "outputs": [],
   "source": [
    "counter = Counter(data)\n",
    "\n",
    "for _ in range(0, 75):\n",
    "    new_results = {}\n",
    "    for number, count in counter.items():\n",
    "        results = apply_rules([number])\n",
    "        for r in results:\n",
    "             new_results[r] = new_results.get(r,0)+count\n",
    "    counter = new_results"
   ]
  },
  {
   "cell_type": "code",
   "execution_count": 17,
   "id": "e1aad772-5a75-426f-ae69-588fc124c845",
   "metadata": {},
   "outputs": [],
   "source": [
    "result = 0\n",
    "for _, count in counter.items():\n",
    "    result += count"
   ]
  },
  {
   "cell_type": "code",
   "execution_count": 18,
   "id": "dec4e347-a630-4774-9c31-23d414cba554",
   "metadata": {},
   "outputs": [
    {
     "data": {
      "text/plain": [
       "229557103025807"
      ]
     },
     "execution_count": 18,
     "metadata": {},
     "output_type": "execute_result"
    }
   ],
   "source": [
    "result"
   ]
  }
 ],
 "metadata": {
  "kernelspec": {
   "display_name": "Python 3 (ipykernel)",
   "language": "python",
   "name": "python3"
  },
  "language_info": {
   "codemirror_mode": {
    "name": "ipython",
    "version": 3
   },
   "file_extension": ".py",
   "mimetype": "text/x-python",
   "name": "python",
   "nbconvert_exporter": "python",
   "pygments_lexer": "ipython3",
   "version": "3.11.5"
  }
 },
 "nbformat": 4,
 "nbformat_minor": 5
}
