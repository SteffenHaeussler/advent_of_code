{
 "cells": [
  {
   "cell_type": "code",
   "execution_count": 7,
   "id": "7b2aa9c8-e3c9-4e1b-bfd6-a07fb20ad7bc",
   "metadata": {},
   "outputs": [],
   "source": [
    "from collections import deque"
   ]
  },
  {
   "cell_type": "markdown",
   "id": "471b2ae6-91d8-4d40-ad6e-7db9bc156f2d",
   "metadata": {},
   "source": [
    "## Day 9"
   ]
  },
  {
   "cell_type": "markdown",
   "id": "5b51460f-db5b-407e-86bd-3dd416a7c1a8",
   "metadata": {},
   "source": [
    "### Part 1"
   ]
  },
  {
   "cell_type": "markdown",
   "id": "6f4d44ad-18eb-4d23-9f8b-400646f87953",
   "metadata": {},
   "source": [
    "#### Test"
   ]
  },
  {
   "cell_type": "code",
   "execution_count": 99,
   "id": "f6adf40b-6a3f-48b9-bca4-c033fb8395c4",
   "metadata": {},
   "outputs": [],
   "source": [
    "directions = [(1,0), (0,1), (-1,0), (0,-1)]"
   ]
  },
  {
   "cell_type": "code",
   "execution_count": 35,
   "id": "ce944b0f-4eac-4aea-82d1-fba44b11834d",
   "metadata": {},
   "outputs": [],
   "source": [
    "test = \"\"\"89010123\n",
    "78121874\n",
    "87430965\n",
    "96549874\n",
    "45678903\n",
    "32019012\n",
    "01329801\n",
    "10456732\"\"\""
   ]
  },
  {
   "cell_type": "code",
   "execution_count": 36,
   "id": "b4873e2b-472b-4679-a935-abecc91e739f",
   "metadata": {},
   "outputs": [],
   "source": [
    "grid = test.split(\"\\n\")"
   ]
  },
  {
   "cell_type": "code",
   "execution_count": 90,
   "id": "4d375caf-0b30-481f-b81e-bff8d7bf71cf",
   "metadata": {},
   "outputs": [],
   "source": [
    "def get_starting_positions(grid, positon=\"0\"):\n",
    "    start = []\n",
    "    cnt = 0\n",
    "    for row in range(len(grid)):\n",
    "        for col in range(len(grid[0])):\n",
    "            if grid[row][col] == positon:\n",
    "                start.append((row, col, [positon], cnt))\n",
    "                cnt += 1\n",
    "\n",
    "    return start"
   ]
  },
  {
   "cell_type": "code",
   "execution_count": 96,
   "id": "155ddaa4-8e15-4fc0-b885-114592d9ce9e",
   "metadata": {},
   "outputs": [],
   "source": [
    "def get_trails(grid, start):\n",
    "    found = [[] for _ in range(len(start))] \n",
    "\n",
    "\n",
    "    queue = deque(start)\n",
    "    \n",
    "    while queue:\n",
    "    \n",
    "        row, col, value, cnt = queue.popleft()\n",
    "    \n",
    "        if int(value) == 9:\n",
    "            found[cnt].append((row, col, value))\n",
    "    \n",
    "        for drow, dcol in directions:\n",
    "    \n",
    "            next_row = row + drow\n",
    "            next_col = col + dcol\n",
    "    \n",
    "            next_value = int(value) + 1\n",
    "    \n",
    "            if (0 <= next_row < len(grid)) and (0 <= next_col < len(grid[0])) and (grid[next_row][next_col] == str(next_value)):\n",
    "                queue.append((next_row, next_col, next_value, cnt))\n",
    "\n",
    "    return found"
   ]
  },
  {
   "cell_type": "code",
   "execution_count": 97,
   "id": "f99826c5-4044-4b5e-bba1-b1d1c99df357",
   "metadata": {},
   "outputs": [],
   "source": [
    "start = get_starting_positions(grid)"
   ]
  },
  {
   "cell_type": "code",
   "execution_count": 98,
   "id": "c1600564-b4cd-47c8-a415-ffb24aaf0590",
   "metadata": {},
   "outputs": [],
   "source": [
    "assert len(start) == 9"
   ]
  },
  {
   "cell_type": "code",
   "execution_count": 100,
   "id": "772741f2-d984-414d-b0ce-e172f650f0e5",
   "metadata": {},
   "outputs": [],
   "source": [
    "trails = get_trails(grid, start)"
   ]
  },
  {
   "cell_type": "code",
   "execution_count": 101,
   "id": "980d14ed-ccda-417d-9afb-4deb317d7e23",
   "metadata": {},
   "outputs": [],
   "source": [
    "results = []\n",
    "\n",
    "for i in trails:\n",
    "    results.append(len(set(i)))"
   ]
  },
  {
   "cell_type": "code",
   "execution_count": 102,
   "id": "03b26957-3d63-45d2-b3ab-aaa6e9a85c10",
   "metadata": {},
   "outputs": [],
   "source": [
    "assert sum(results) == 36"
   ]
  },
  {
   "cell_type": "markdown",
   "id": "5f62c58f-8445-4cd8-9c06-70c43513f097",
   "metadata": {},
   "source": [
    "#### Task"
   ]
  },
  {
   "cell_type": "code",
   "execution_count": 103,
   "id": "140d8f7b-0c45-476a-a66a-0138faef6328",
   "metadata": {},
   "outputs": [],
   "source": [
    "with open(\"../../../advent_of_code_input/2024/day_10/input.txt\", \"r\") as f:\n",
    "    data = f.read()\n",
    "\n",
    "data = data[:-1].split(\"\\n\")"
   ]
  },
  {
   "cell_type": "code",
   "execution_count": 104,
   "id": "d9280223-5768-4fa4-ac7d-7701a13d6ebd",
   "metadata": {},
   "outputs": [],
   "source": [
    "start = get_starting_positions(data)\n",
    "trails = get_trails(data, start)"
   ]
  },
  {
   "cell_type": "code",
   "execution_count": 105,
   "id": "ae148e3d-5b26-4e25-916d-f70c3e296586",
   "metadata": {},
   "outputs": [],
   "source": [
    "results = []\n",
    "\n",
    "for i in trails:\n",
    "    results.append(len(set(i)))"
   ]
  },
  {
   "cell_type": "code",
   "execution_count": 106,
   "id": "1e49b07b-c192-49a9-98da-cc3235633827",
   "metadata": {},
   "outputs": [
    {
     "data": {
      "text/plain": [
       "430"
      ]
     },
     "execution_count": 106,
     "metadata": {},
     "output_type": "execute_result"
    }
   ],
   "source": [
    "sum(results)"
   ]
  },
  {
   "cell_type": "markdown",
   "id": "15174143-7453-48ba-b8c2-f20b70056ad5",
   "metadata": {},
   "source": [
    "## Part 2"
   ]
  },
  {
   "cell_type": "markdown",
   "id": "ec5088b8-fdd0-4982-8781-72a025b6c462",
   "metadata": {},
   "source": [
    "#### Test"
   ]
  },
  {
   "cell_type": "code",
   "execution_count": 109,
   "id": "b43d4c97-f26d-4d40-9f04-f098f31bffb0",
   "metadata": {},
   "outputs": [],
   "source": [
    "test = \"\"\"89010123\n",
    "78121874\n",
    "87430965\n",
    "96549874\n",
    "45678903\n",
    "32019012\n",
    "01329801\n",
    "10456732\"\"\""
   ]
  },
  {
   "cell_type": "code",
   "execution_count": 110,
   "id": "72fdf55f-755a-4aad-99ef-9a87e77e2bc9",
   "metadata": {},
   "outputs": [],
   "source": [
    "start = get_starting_positions(grid)\n",
    "trails = get_trails(grid, start)"
   ]
  },
  {
   "cell_type": "code",
   "execution_count": 114,
   "id": "bce4da6b-036f-4452-9b59-afda70693766",
   "metadata": {},
   "outputs": [],
   "source": [
    "results = []\n",
    "\n",
    "for i in trails:\n",
    "    results.append(len(i))"
   ]
  },
  {
   "cell_type": "code",
   "execution_count": 116,
   "id": "f708188e-773e-435f-ae77-f9f82db60da6",
   "metadata": {},
   "outputs": [],
   "source": [
    "assert sum(results) == 81"
   ]
  },
  {
   "cell_type": "markdown",
   "id": "7deb1a43-fb6c-4baf-a859-13b2bebffd22",
   "metadata": {},
   "source": [
    "## Task"
   ]
  },
  {
   "cell_type": "code",
   "execution_count": 117,
   "id": "87abd377-e2b5-4422-ab23-09fa0b0cf192",
   "metadata": {},
   "outputs": [],
   "source": [
    "with open(\"../../../advent_of_code_input/2024/day_10/input.txt\", \"r\") as f:\n",
    "    data = f.read()\n",
    "\n",
    "data = data[:-1].split(\"\\n\")"
   ]
  },
  {
   "cell_type": "code",
   "execution_count": 118,
   "id": "6d383c58-036b-4241-b417-9a77e18907ca",
   "metadata": {},
   "outputs": [],
   "source": [
    "start = get_starting_positions(data)\n",
    "trails = get_trails(data, start)"
   ]
  },
  {
   "cell_type": "code",
   "execution_count": 119,
   "id": "e1aad772-5a75-426f-ae69-588fc124c845",
   "metadata": {},
   "outputs": [],
   "source": [
    "results = []\n",
    "\n",
    "for i in trails:\n",
    "    results.append(len(i))"
   ]
  },
  {
   "cell_type": "code",
   "execution_count": 120,
   "id": "dec4e347-a630-4774-9c31-23d414cba554",
   "metadata": {},
   "outputs": [
    {
     "data": {
      "text/plain": [
       "928"
      ]
     },
     "execution_count": 120,
     "metadata": {},
     "output_type": "execute_result"
    }
   ],
   "source": [
    "sum(results)"
   ]
  },
  {
   "cell_type": "code",
   "execution_count": null,
   "id": "a5bafffe-e9fe-4973-a00c-8c066ed51de8",
   "metadata": {},
   "outputs": [],
   "source": []
  }
 ],
 "metadata": {
  "kernelspec": {
   "display_name": "Python 3 (ipykernel)",
   "language": "python",
   "name": "python3"
  },
  "language_info": {
   "codemirror_mode": {
    "name": "ipython",
    "version": 3
   },
   "file_extension": ".py",
   "mimetype": "text/x-python",
   "name": "python",
   "nbconvert_exporter": "python",
   "pygments_lexer": "ipython3",
   "version": "3.11.5"
  }
 },
 "nbformat": 4,
 "nbformat_minor": 5
}
