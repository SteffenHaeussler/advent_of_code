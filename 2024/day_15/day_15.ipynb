{
 "cells": [
  {
   "cell_type": "markdown",
   "id": "471b2ae6-91d8-4d40-ad6e-7db9bc156f2d",
   "metadata": {},
   "source": [
    "## Day 15"
   ]
  },
  {
   "cell_type": "markdown",
   "id": "5b51460f-db5b-407e-86bd-3dd416a7c1a8",
   "metadata": {},
   "source": [
    "### Part 1"
   ]
  },
  {
   "cell_type": "markdown",
   "id": "6f4d44ad-18eb-4d23-9f8b-400646f87953",
   "metadata": {},
   "source": [
    "#### Test"
   ]
  },
  {
   "cell_type": "code",
   "execution_count": 1,
   "id": "cca2c8d1-a5ab-420d-a7ab-32689d6b6e89",
   "metadata": {},
   "outputs": [],
   "source": [
    "directions = {\"<\": (0,-1),\n",
    "              \"v\": (1,0),\n",
    "              \">\": (0,1),\n",
    "              \"^\": (-1,0)}"
   ]
  },
  {
   "cell_type": "code",
   "execution_count": 2,
   "id": "ce944b0f-4eac-4aea-82d1-fba44b11834d",
   "metadata": {},
   "outputs": [],
   "source": [
    "test = \"\"\"##########\n",
    "#..O..O.O#\n",
    "#......O.#\n",
    "#.OO..O.O#\n",
    "#..O@..O.#\n",
    "#O#..O...#\n",
    "#O..O..O.#\n",
    "#.OO.O.OO#\n",
    "#....O...#\n",
    "##########\n",
    "\n",
    "<vv>^<v^>v>^vv^v>v<>v^v<v<^vv<<<^><<><>>v<vvv<>^v^>^<<<><<v<<<v^vv^v>^\n",
    "vvv<<^>^v^^><<>>><>^<<><^vv^^<>vvv<>><^^v>^>vv<>v<<<<v<^v>^<^^>>>^<v<v\n",
    "><>vv>v^v^<>><>>>><^^>vv>v<^^^>>v^v^<^^>v^^>v^<^v>v<>>v^v^<v>v^^<^^vv<\n",
    "<<v<^>>^^^^>>>v^<>vvv^><v<<<>^^^vv^<vvv>^>v<^^^^v<>^>vvvv><>>v^<<^^^^^\n",
    "^><^><>>><>^^<<^^v>>><^<v>^<vv>>v>>>^v><>^v><<<<v>>v<v<v>vvv>^<><<>^><\n",
    "^>><>^v<><^vvv<^^<><v<<<<<><^v<<<><<<^^<v<^^^><^>>^<v^><<<^>>^v<v^v<v^\n",
    ">^>>^v>vv>^<<^v<>><<><<v<<v><>v<^vv<<<>^^v^>^^>>><<^v>>v^v><^^>>^<>vv^\n",
    "<><^^>^^^<><vvvvv^v<v<<>^v<v>v<<^><<><<><<<^^<<<^<<>><<><^^^>^^<>^>v<>\n",
    "^^>vv<^v^v<vv>^<><v<^v>^^^>>>^^vvv^>vvv<>>>^<^>>>>>^<<^v>^vvv<>^<><<v>\n",
    "v^^>>><<^^<>>^v^<v^vv<>v^<<>^<^v^v><^<<<><<^<v><v<>vv>>v><v^<vv<>v^<<^\"\"\"\n",
    "\n",
    "\n",
    "test, instructions = test.split(\"\\n\\n\")\n",
    "test = test.split(\"\\n\")\n",
    "instructions = \"\".join(instructions.split(\"\\n\"))\n",
    "test =[list(i) for i in test]"
   ]
  },
  {
   "cell_type": "code",
   "execution_count": 4,
   "id": "e4c0ec4c-b285-4339-ba91-66a49ccd74ba",
   "metadata": {},
   "outputs": [],
   "source": [
    "def get_start(grid):\n",
    "    \n",
    "    current = ()\n",
    "    for row in range(len(grid)):\n",
    "        for col in range(len(grid[0])):\n",
    "            if grid[row][col] == \"@\":\n",
    "                current = (row, col)\n",
    "                \n",
    "    return current\n",
    "\n",
    "\n",
    "def get_results(grid):\n",
    "\n",
    "    result = 0\n",
    "    \n",
    "    for row in range(len(grid)):\n",
    "        for col in range(len(grid[0])):\n",
    "            if grid[row][col] == \"O\":\n",
    "                result += (col + 100*row)\n",
    "\n",
    "    return result\n",
    "\n",
    "\n",
    "def update_grid(grid, instructions, current):\n",
    "\n",
    "    for inst in instructions:\n",
    "        shift = False\n",
    "        d_row, d_col = directions[inst]\n",
    "    \n",
    "        next_row, next_col = current[0]+d_row, current[1]+d_col\n",
    "    \n",
    "        while grid[next_row][next_col] == \"O\":\n",
    "            next_row += d_row\n",
    "            next_col += d_col\n",
    "            shift = True\n",
    "    \n",
    "        if grid[next_row][next_col] == \".\":\n",
    "            grid[current[0]][current[1]] = \".\"\n",
    "    \n",
    "            if shift:\n",
    "                grid[next_row][next_col] = \"O\"\n",
    "                next_row, next_col = current[0]+d_row, current[1]+d_col\n",
    "    \n",
    "            grid[next_row][next_col] = \"@\"\n",
    "            current = (next_row, next_col)\n",
    "            \n",
    "        elif grid[next_row][next_col] == \"#\":\n",
    "            pass\n",
    "    \n",
    "    return grid"
   ]
  },
  {
   "cell_type": "code",
   "execution_count": 5,
   "id": "25e7012f-df77-4919-b12c-f27b45bac904",
   "metadata": {},
   "outputs": [],
   "source": [
    "current = get_start(test)\n",
    "grid = update_grid(test, instructions, current)\n",
    "result = get_results(grid)"
   ]
  },
  {
   "cell_type": "code",
   "execution_count": 6,
   "id": "5b71bc4f-e18c-4006-916c-34129b2f6dd4",
   "metadata": {},
   "outputs": [],
   "source": [
    "assert result == 10092"
   ]
  },
  {
   "cell_type": "markdown",
   "id": "5f62c58f-8445-4cd8-9c06-70c43513f097",
   "metadata": {},
   "source": [
    "#### Task"
   ]
  },
  {
   "cell_type": "code",
   "execution_count": 7,
   "id": "140d8f7b-0c45-476a-a66a-0138faef6328",
   "metadata": {},
   "outputs": [],
   "source": [
    "with open(\"../../../advent_of_code_input/2024/day_15/input.txt\", \"r\") as f:\n",
    "    data = f.read()\n",
    "\n",
    "data, instructions = data[:-1].split(\"\\n\\n\")\n",
    "data = data.split(\"\\n\")\n",
    "instructions = \"\".join(instructions.split(\"\\n\"))\n",
    "data =[list(i) for i in data]"
   ]
  },
  {
   "cell_type": "code",
   "execution_count": 8,
   "id": "37f00ffc-f1d4-41fa-9bcd-ddee5313346e",
   "metadata": {},
   "outputs": [],
   "source": [
    "current = get_start(data)\n",
    "grid = update_grid(data, instructions, current)\n",
    "result = get_results(grid)"
   ]
  },
  {
   "cell_type": "code",
   "execution_count": 9,
   "id": "1e49b07b-c192-49a9-98da-cc3235633827",
   "metadata": {},
   "outputs": [
    {
     "data": {
      "text/plain": [
       "1456590"
      ]
     },
     "execution_count": 9,
     "metadata": {},
     "output_type": "execute_result"
    }
   ],
   "source": [
    "result"
   ]
  },
  {
   "cell_type": "markdown",
   "id": "15174143-7453-48ba-b8c2-f20b70056ad5",
   "metadata": {},
   "source": [
    "## Part 2"
   ]
  },
  {
   "cell_type": "markdown",
   "id": "e5beab51-8c3b-4308-be44-9739776b6829",
   "metadata": {},
   "source": [
    "solution copy & pasted from [here](https://www.reddit.com/r/adventofcode/comments/1hele8m/comment/m24yt7h/?utm_source=share&utm_medium=web3x&utm_name=web3xcss&utm_term=1&utm_content=share_button)"
   ]
  },
  {
   "cell_type": "markdown",
   "id": "7deb1a43-fb6c-4baf-a859-13b2bebffd22",
   "metadata": {},
   "source": [
    "## Task"
   ]
  },
  {
   "cell_type": "code",
   "execution_count": 88,
   "id": "21286b36-014e-48eb-ac89-79d95f057428",
   "metadata": {},
   "outputs": [],
   "source": [
    "with open(\"../../../advent_of_code_input/2024/day_15/input.txt\", \"r\") as f:\n",
    "    data = f.read()\n",
    "\n",
    "data, instructions = data[:-1].split(\"\\n\\n\")\n",
    "instructions = \"\".join(instructions.split(\"\\n\"))\n",
    "data = data.translate(str.maketrans({'#':'##', '.':'..', 'O':'[]', '@':'@.'}))\n",
    "\n",
    "grid = {i+j*1j:col for j, row in enumerate(data.split())\n",
    "                 for i, col in enumerate(row)}\n",
    "\n",
    "pos, = (pos for pos in grid if grid[pos] == '@')\n",
    "directions = {'<':-1, '>':+1, '^':-1j, 'v':+1j}"
   ]
  },
  {
   "cell_type": "code",
   "execution_count": 89,
   "id": "210b7b1e-2c04-4dfe-84ae-b35715e9487f",
   "metadata": {},
   "outputs": [],
   "source": [
    "def move(pos, dir):\n",
    "    pos += dir\n",
    "    if all([\n",
    "        grid[pos] != '[' or move(pos+1, dir) and move(pos, dir),\n",
    "        grid[pos] != ']' or move(pos-1, dir) and move(pos, dir),\n",
    "        grid[pos] != 'O' or move(pos, dir), grid[pos] != '#']):\n",
    "            \n",
    "            grid[pos], grid[pos-dir] = grid[pos-dir], grid[pos]\n",
    "            return True"
   ]
  },
  {
   "cell_type": "code",
   "execution_count": 90,
   "id": "67febaca-8ebc-423f-86d6-f99092216b08",
   "metadata": {},
   "outputs": [],
   "source": [
    "for inst in instructions:\n",
    "\n",
    "    dir = directions[inst]\n",
    "    copy = grid.copy()\n",
    "\n",
    "    if move(pos, dir): \n",
    "        pos += dir\n",
    "    else: \n",
    "        grid = copy\n",
    "\n",
    "result = sum(pos for pos in grid if grid[pos] in 'O[')\n",
    "result = int(result.real + result.imag*100)"
   ]
  },
  {
   "cell_type": "code",
   "execution_count": 91,
   "id": "a29ddd47-72a1-4f6d-b63e-b152bd39cfb8",
   "metadata": {},
   "outputs": [
    {
     "data": {
      "text/plain": [
       "1489116"
      ]
     },
     "execution_count": 91,
     "metadata": {},
     "output_type": "execute_result"
    }
   ],
   "source": [
    "result"
   ]
  },
  {
   "cell_type": "code",
   "execution_count": null,
   "id": "79316fac-4448-4f82-b392-8f9f0bf97c15",
   "metadata": {},
   "outputs": [],
   "source": []
  }
 ],
 "metadata": {
  "kernelspec": {
   "display_name": "Python 3 (ipykernel)",
   "language": "python",
   "name": "python3"
  },
  "language_info": {
   "codemirror_mode": {
    "name": "ipython",
    "version": 3
   },
   "file_extension": ".py",
   "mimetype": "text/x-python",
   "name": "python",
   "nbconvert_exporter": "python",
   "pygments_lexer": "ipython3",
   "version": "3.11.5"
  }
 },
 "nbformat": 4,
 "nbformat_minor": 5
}
